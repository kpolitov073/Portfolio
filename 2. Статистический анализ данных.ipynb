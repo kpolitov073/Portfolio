{
 "cells": [
  {
   "cell_type": "markdown",
   "id": "2752cdab",
   "metadata": {},
   "source": [
    "# Статистический анализ данных сервиса аренды самокатов"
   ]
  },
  {
   "cell_type": "markdown",
   "id": "b5bd20d0",
   "metadata": {},
   "source": [
    "В данном проекте  выполнен статистический анализ данных популярного сервиса аренды самокатов GoFast\n",
    "\n",
    "Имеются следующие исходные данные:\n",
    "- датасет с информацией о пользователях;\n",
    "- датасет с информацией о поездках;\n",
    "- информация о стоимости подписки, старта аренды и минуты аренды.\n",
    "\n",
    "Необходимо проверить гипотезы, предложенные продакт-менеджерами.\n",
    "\n",
    "Работа будет проведена в несколько шагов.\n",
    "Шаг 1. Загрузка данных\n",
    "- считать файлы, сохранить в датафреймы;\n",
    "- вывести первые строки каждого набора данных, изучить общую информацию о каждом датафрейме\n",
    "\n",
    "Шаг 2. Предобработка Данных\n",
    "- привести столбец date к типу даты pandas\n",
    "- создать новый столбец с номером месяца на основе столбца date\n",
    "- проверка пропусков и дубликатов, обработка (при наличии)\n",
    "\n",
    "Шаг 3. Исследовательский анализ данных\n",
    "- описание и визуализация частоты встречаемости городов\n",
    "- описание и визуализация соотношения пользователей с подпиской и без подписки\n",
    "- описание и визуализация возраста пользователей\n",
    "- описание и визуализация расстояния, корое пользователь преодолел за одну поездку\n",
    "- описание продолжительности поездок\n",
    "\n",
    "Шаг 4. Объединение данных\n",
    "- объединение данных о пользователях, поездках и подписках в один датафрейм методом merge()\n",
    "- создание датафреймов с данными о пользователях с подпиской и без нее\n",
    "- визуализация информации о расстоянии и времени поездок для пользователей обеих категорий\n",
    "\n",
    "Шаг 5. Подсчёт выручки\n",
    "- создание датафрейма с агрегированными данными о поездках на основе датафрейма с объединёнными данными\n",
    "- добавление столбца с помесячной выручкой, которую принёс каждый пользователь\n",
    "\n",
    "Шаг 6. Проверка гипотез\n",
    "- тратят ли пользователи с подпиской больше времени на поездки?\n",
    "- среднее расстояние, которое проезжают пользователи с подпиской за одну поездку, не превышает 3130 метров?\n",
    "- помесячная выручка от пользователей с подпиской по месяцам выше, чем выручка от пользователей без подписки\n",
    "- определение теста для проверки гипотезы количества обращений после обновления серверов"
   ]
  },
  {
   "cell_type": "markdown",
   "id": "90fbc390",
   "metadata": {},
   "source": [
    "## Загрузка данных"
   ]
  },
  {
   "cell_type": "code",
   "execution_count": 1,
   "id": "3b9813db",
   "metadata": {},
   "outputs": [],
   "source": [
    "import pandas as pd\n",
    "import numpy as np\n",
    "from scipy import stats as st\n",
    "import matplotlib.pyplot as plt"
   ]
  },
  {
   "cell_type": "code",
   "execution_count": 2,
   "id": "e8a1fffc",
   "metadata": {
    "scrolled": true
   },
   "outputs": [
    {
     "data": {
      "text/html": [
       "<div>\n",
       "<style scoped>\n",
       "    .dataframe tbody tr th:only-of-type {\n",
       "        vertical-align: middle;\n",
       "    }\n",
       "\n",
       "    .dataframe tbody tr th {\n",
       "        vertical-align: top;\n",
       "    }\n",
       "\n",
       "    .dataframe thead th {\n",
       "        text-align: right;\n",
       "    }\n",
       "</style>\n",
       "<table border=\"1\" class=\"dataframe\">\n",
       "  <thead>\n",
       "    <tr style=\"text-align: right;\">\n",
       "      <th></th>\n",
       "      <th>user_id</th>\n",
       "      <th>name</th>\n",
       "      <th>age</th>\n",
       "      <th>city</th>\n",
       "      <th>subscription_type</th>\n",
       "    </tr>\n",
       "  </thead>\n",
       "  <tbody>\n",
       "    <tr>\n",
       "      <th>0</th>\n",
       "      <td>1</td>\n",
       "      <td>Кира</td>\n",
       "      <td>22</td>\n",
       "      <td>Тюмень</td>\n",
       "      <td>ultra</td>\n",
       "    </tr>\n",
       "    <tr>\n",
       "      <th>1</th>\n",
       "      <td>2</td>\n",
       "      <td>Станислав</td>\n",
       "      <td>31</td>\n",
       "      <td>Омск</td>\n",
       "      <td>ultra</td>\n",
       "    </tr>\n",
       "    <tr>\n",
       "      <th>2</th>\n",
       "      <td>3</td>\n",
       "      <td>Алексей</td>\n",
       "      <td>20</td>\n",
       "      <td>Москва</td>\n",
       "      <td>ultra</td>\n",
       "    </tr>\n",
       "    <tr>\n",
       "      <th>3</th>\n",
       "      <td>4</td>\n",
       "      <td>Константин</td>\n",
       "      <td>26</td>\n",
       "      <td>Ростов-на-Дону</td>\n",
       "      <td>ultra</td>\n",
       "    </tr>\n",
       "    <tr>\n",
       "      <th>4</th>\n",
       "      <td>5</td>\n",
       "      <td>Адель</td>\n",
       "      <td>28</td>\n",
       "      <td>Омск</td>\n",
       "      <td>ultra</td>\n",
       "    </tr>\n",
       "  </tbody>\n",
       "</table>\n",
       "</div>"
      ],
      "text/plain": [
       "   user_id        name  age            city subscription_type\n",
       "0        1        Кира   22          Тюмень             ultra\n",
       "1        2   Станислав   31            Омск             ultra\n",
       "2        3     Алексей   20          Москва             ultra\n",
       "3        4  Константин   26  Ростов-на-Дону             ultra\n",
       "4        5       Адель   28            Омск             ultra"
      ]
     },
     "metadata": {},
     "output_type": "display_data"
    },
    {
     "data": {
      "text/html": [
       "<div>\n",
       "<style scoped>\n",
       "    .dataframe tbody tr th:only-of-type {\n",
       "        vertical-align: middle;\n",
       "    }\n",
       "\n",
       "    .dataframe tbody tr th {\n",
       "        vertical-align: top;\n",
       "    }\n",
       "\n",
       "    .dataframe thead th {\n",
       "        text-align: right;\n",
       "    }\n",
       "</style>\n",
       "<table border=\"1\" class=\"dataframe\">\n",
       "  <thead>\n",
       "    <tr style=\"text-align: right;\">\n",
       "      <th></th>\n",
       "      <th>user_id</th>\n",
       "      <th>distance</th>\n",
       "      <th>duration</th>\n",
       "      <th>date</th>\n",
       "    </tr>\n",
       "  </thead>\n",
       "  <tbody>\n",
       "    <tr>\n",
       "      <th>0</th>\n",
       "      <td>1</td>\n",
       "      <td>4409.919140</td>\n",
       "      <td>25.599769</td>\n",
       "      <td>2021-01-01</td>\n",
       "    </tr>\n",
       "    <tr>\n",
       "      <th>1</th>\n",
       "      <td>1</td>\n",
       "      <td>2617.592153</td>\n",
       "      <td>15.816871</td>\n",
       "      <td>2021-01-18</td>\n",
       "    </tr>\n",
       "    <tr>\n",
       "      <th>2</th>\n",
       "      <td>1</td>\n",
       "      <td>754.159807</td>\n",
       "      <td>6.232113</td>\n",
       "      <td>2021-04-20</td>\n",
       "    </tr>\n",
       "    <tr>\n",
       "      <th>3</th>\n",
       "      <td>1</td>\n",
       "      <td>2694.783254</td>\n",
       "      <td>18.511000</td>\n",
       "      <td>2021-08-11</td>\n",
       "    </tr>\n",
       "    <tr>\n",
       "      <th>4</th>\n",
       "      <td>1</td>\n",
       "      <td>4028.687306</td>\n",
       "      <td>26.265803</td>\n",
       "      <td>2021-08-28</td>\n",
       "    </tr>\n",
       "  </tbody>\n",
       "</table>\n",
       "</div>"
      ],
      "text/plain": [
       "   user_id     distance   duration        date\n",
       "0        1  4409.919140  25.599769  2021-01-01\n",
       "1        1  2617.592153  15.816871  2021-01-18\n",
       "2        1   754.159807   6.232113  2021-04-20\n",
       "3        1  2694.783254  18.511000  2021-08-11\n",
       "4        1  4028.687306  26.265803  2021-08-28"
      ]
     },
     "metadata": {},
     "output_type": "display_data"
    },
    {
     "data": {
      "text/html": [
       "<div>\n",
       "<style scoped>\n",
       "    .dataframe tbody tr th:only-of-type {\n",
       "        vertical-align: middle;\n",
       "    }\n",
       "\n",
       "    .dataframe tbody tr th {\n",
       "        vertical-align: top;\n",
       "    }\n",
       "\n",
       "    .dataframe thead th {\n",
       "        text-align: right;\n",
       "    }\n",
       "</style>\n",
       "<table border=\"1\" class=\"dataframe\">\n",
       "  <thead>\n",
       "    <tr style=\"text-align: right;\">\n",
       "      <th></th>\n",
       "      <th>subscription_type</th>\n",
       "      <th>minute_price</th>\n",
       "      <th>start_ride_price</th>\n",
       "      <th>subscription_fee</th>\n",
       "    </tr>\n",
       "  </thead>\n",
       "  <tbody>\n",
       "    <tr>\n",
       "      <th>0</th>\n",
       "      <td>free</td>\n",
       "      <td>8</td>\n",
       "      <td>50</td>\n",
       "      <td>0</td>\n",
       "    </tr>\n",
       "    <tr>\n",
       "      <th>1</th>\n",
       "      <td>ultra</td>\n",
       "      <td>6</td>\n",
       "      <td>0</td>\n",
       "      <td>199</td>\n",
       "    </tr>\n",
       "  </tbody>\n",
       "</table>\n",
       "</div>"
      ],
      "text/plain": [
       "  subscription_type  minute_price  start_ride_price  subscription_fee\n",
       "0              free             8                50                 0\n",
       "1             ultra             6                 0               199"
      ]
     },
     "metadata": {},
     "output_type": "display_data"
    }
   ],
   "source": [
    "#Загрузим данные и просмотрим верхние 5 строк каждого датафрейма\n",
    "users = pd.read_csv('/datasets/users_go.csv')\n",
    "rides = pd.read_csv('/datasets/rides_go.csv')\n",
    "subscriptions = pd.read_csv('/datasets/subscriptions_go.csv')\n",
    "display (users.head(5))\n",
    "display (rides.head(5))\n",
    "display (subscriptions.head(5))"
   ]
  },
  {
   "cell_type": "code",
   "execution_count": 3,
   "id": "6e0cb20f",
   "metadata": {},
   "outputs": [
    {
     "name": "stdout",
     "output_type": "stream",
     "text": [
      "<class 'pandas.core.frame.DataFrame'>\n",
      "RangeIndex: 1565 entries, 0 to 1564\n",
      "Data columns (total 5 columns):\n",
      " #   Column             Non-Null Count  Dtype \n",
      "---  ------             --------------  ----- \n",
      " 0   user_id            1565 non-null   int64 \n",
      " 1   name               1565 non-null   object\n",
      " 2   age                1565 non-null   int64 \n",
      " 3   city               1565 non-null   object\n",
      " 4   subscription_type  1565 non-null   object\n",
      "dtypes: int64(2), object(3)\n",
      "memory usage: 61.3+ KB\n"
     ]
    },
    {
     "data": {
      "text/plain": [
       "None"
      ]
     },
     "metadata": {},
     "output_type": "display_data"
    },
    {
     "name": "stdout",
     "output_type": "stream",
     "text": [
      "<class 'pandas.core.frame.DataFrame'>\n",
      "RangeIndex: 18068 entries, 0 to 18067\n",
      "Data columns (total 4 columns):\n",
      " #   Column    Non-Null Count  Dtype  \n",
      "---  ------    --------------  -----  \n",
      " 0   user_id   18068 non-null  int64  \n",
      " 1   distance  18068 non-null  float64\n",
      " 2   duration  18068 non-null  float64\n",
      " 3   date      18068 non-null  object \n",
      "dtypes: float64(2), int64(1), object(1)\n",
      "memory usage: 564.8+ KB\n"
     ]
    },
    {
     "data": {
      "text/plain": [
       "None"
      ]
     },
     "metadata": {},
     "output_type": "display_data"
    },
    {
     "name": "stdout",
     "output_type": "stream",
     "text": [
      "<class 'pandas.core.frame.DataFrame'>\n",
      "RangeIndex: 2 entries, 0 to 1\n",
      "Data columns (total 4 columns):\n",
      " #   Column             Non-Null Count  Dtype \n",
      "---  ------             --------------  ----- \n",
      " 0   subscription_type  2 non-null      object\n",
      " 1   minute_price       2 non-null      int64 \n",
      " 2   start_ride_price   2 non-null      int64 \n",
      " 3   subscription_fee   2 non-null      int64 \n",
      "dtypes: int64(3), object(1)\n",
      "memory usage: 192.0+ bytes\n"
     ]
    },
    {
     "data": {
      "text/plain": [
       "None"
      ]
     },
     "metadata": {},
     "output_type": "display_data"
    }
   ],
   "source": [
    "#Изучим общие данные о датафреймах\n",
    "display (users.info())\n",
    "display (rides.info())\n",
    "display (subscriptions.info())"
   ]
  },
  {
   "cell_type": "markdown",
   "id": "242cad94",
   "metadata": {},
   "source": [
    "Мы просмотрели верхние строчки и изучили общие данные. Видим, что в датасетах 1565 строчек о пользователях и 18068 строчек о поездках. В следующем шаге мы проверим имеющиеся данные на дубликаты. Пока видим, что данные достаточно полные, количество значений в столбцах одинаково, что указывает на отсутствие пропусков. Столбцы имеют наименование, соответствующее принятому стилю. Типы данных соответствуют значениям, которые имеются в столбцах"
   ]
  },
  {
   "cell_type": "markdown",
   "id": "42f989db",
   "metadata": {},
   "source": [
    "## Предобработка данных"
   ]
  },
  {
   "cell_type": "code",
   "execution_count": 4,
   "id": "966c2bb7",
   "metadata": {},
   "outputs": [
    {
     "data": {
      "text/plain": [
       "0       2021-01-01\n",
       "1       2021-01-18\n",
       "2       2021-04-20\n",
       "3       2021-08-11\n",
       "4       2021-08-28\n",
       "           ...    \n",
       "18063   2021-11-04\n",
       "18064   2021-11-16\n",
       "18065   2021-11-18\n",
       "18066   2021-11-27\n",
       "18067   2021-12-29\n",
       "Name: date, Length: 18068, dtype: datetime64[ns]"
      ]
     },
     "execution_count": 4,
     "metadata": {},
     "output_type": "execute_result"
    }
   ],
   "source": [
    "#Приведем столбец date к типу даты pandas\n",
    "pd.to_datetime(rides['date'], format='%Y-%m-%d')"
   ]
  },
  {
   "cell_type": "code",
   "execution_count": 5,
   "id": "8185940d",
   "metadata": {},
   "outputs": [
    {
     "data": {
      "text/plain": [
       "0        2021-01\n",
       "1        2021-01\n",
       "2        2021-04\n",
       "3        2021-08\n",
       "4        2021-08\n",
       "          ...   \n",
       "18063    2021-11\n",
       "18064    2021-11\n",
       "18065    2021-11\n",
       "18066    2021-11\n",
       "18067    2021-12\n",
       "Name: month, Length: 18068, dtype: period[M]"
      ]
     },
     "execution_count": 5,
     "metadata": {},
     "output_type": "execute_result"
    }
   ],
   "source": [
    "#создадим новый столбец с номером месяца на основе столбца date\n",
    "rides['date'] = rides['date'].astype(\"datetime64[ns]\")\n",
    "rides['month'] = rides['date'].dt.to_period(\"M\")\n",
    "rides['month']"
   ]
  },
  {
   "cell_type": "markdown",
   "id": "aa325274",
   "metadata": {
    "scrolled": true
   },
   "source": [
    "Ранее были изучены данные о датафреймах. В датафреймах во всех столбцах совпадает количество имеющихся записей, что указывает на то, что пропусков нет. Теперь необходимо проверить таблицы на наличие дубликатов"
   ]
  },
  {
   "cell_type": "code",
   "execution_count": 6,
   "id": "e45c2eaa",
   "metadata": {},
   "outputs": [
    {
     "data": {
      "text/plain": [
       "31"
      ]
     },
     "metadata": {},
     "output_type": "display_data"
    },
    {
     "data": {
      "text/plain": [
       "0"
      ]
     },
     "metadata": {},
     "output_type": "display_data"
    }
   ],
   "source": [
    "display(users.duplicated().sum()) #смотрим кол-во дубликатов в таблице с пользователями\n",
    "display(rides.duplicated().sum()) #смотрим кол-во дубликатов в таблице с поездками"
   ]
  },
  {
   "cell_type": "markdown",
   "id": "5dbcec48",
   "metadata": {
    "scrolled": false
   },
   "source": [
    "В таблице с пользователями имеется 31 дубликат. Необходимо удалить повторяющиеся строки"
   ]
  },
  {
   "cell_type": "code",
   "execution_count": 7,
   "id": "d8c73ff5",
   "metadata": {
    "scrolled": true
   },
   "outputs": [
    {
     "name": "stdout",
     "output_type": "stream",
     "text": [
      "<class 'pandas.core.frame.DataFrame'>\n",
      "Int64Index: 1534 entries, 0 to 1533\n",
      "Data columns (total 5 columns):\n",
      " #   Column             Non-Null Count  Dtype \n",
      "---  ------             --------------  ----- \n",
      " 0   user_id            1534 non-null   int64 \n",
      " 1   name               1534 non-null   object\n",
      " 2   age                1534 non-null   int64 \n",
      " 3   city               1534 non-null   object\n",
      " 4   subscription_type  1534 non-null   object\n",
      "dtypes: int64(2), object(3)\n",
      "memory usage: 71.9+ KB\n"
     ]
    }
   ],
   "source": [
    "users = users.drop_duplicates(subset=None, keep='first', inplace=False, ignore_index=False)\n",
    "users.info() # просмотрим сведения об обновленном датафрейме"
   ]
  },
  {
   "cell_type": "markdown",
   "id": "865582ba",
   "metadata": {
    "scrolled": true
   },
   "source": [
    "\n",
    "\n",
    "Мы выполнили предобработку данных. Удалены дубликаты (31 значение), приведен столбец date к типу даты pandas, создан новый столбец с номером месяца. Предобработка окончена, можно переходить к исследовательскому анализу"
   ]
  },
  {
   "cell_type": "markdown",
   "id": "81da974c",
   "metadata": {},
   "source": [
    "## Исследовательский анализ данных"
   ]
  },
  {
   "cell_type": "code",
   "execution_count": 8,
   "id": "f50491f3",
   "metadata": {},
   "outputs": [
    {
     "data": {
      "image/png": "[encoded data removed]",
      "text/plain": [
       "<Figure size 720x432 with 1 Axes>"
      ]
     },
     "metadata": {
      "needs_background": "light"
     },
     "output_type": "display_data"
    },
    {
     "data": {
      "text/plain": [
       "Пятигорск         219\n",
       "Екатеринбург      204\n",
       "Ростов-на-Дону    198\n",
       "Краснодар         193\n",
       "Сочи              189\n",
       "Омск              183\n",
       "Тюмень            180\n",
       "Москва            168\n",
       "Name: city, dtype: int64"
      ]
     },
     "metadata": {},
     "output_type": "display_data"
    }
   ],
   "source": [
    "#построим график для столбца с названием города и посмотрим значения\n",
    "\n",
    "users['city'].value_counts().sort_values(ascending=True).plot(kind='barh', figsize=(10, 6))\n",
    "plt.xlabel('Количество')\n",
    "plt.ylabel('Город')\n",
    "plt.title('Распределение пользователей по городам')  # Добавление заголовка\n",
    "plt.show()\n",
    "\n",
    "display(users['city'].value_counts(ascending=False))"
   ]
  },
  {
   "cell_type": "markdown",
   "id": "66b5ec2c",
   "metadata": {
    "scrolled": true
   },
   "source": [
    "Видим, что больше всего данных о пользователях из Пятигорска, Екатеринбурга, Ростова-на-Дону. Меньше всего - из Москвы. Разброс значений - от 168 до 219"
   ]
  },
  {
   "cell_type": "code",
   "execution_count": 9,
   "id": "5e346370",
   "metadata": {},
   "outputs": [
    {
     "data": {
      "image/png": "[encoded data removed]",
      "text/plain": [
       "<Figure size 576x576 with 1 Axes>"
      ]
     },
     "metadata": {},
     "output_type": "display_data"
    },
    {
     "data": {
      "text/plain": [
       "free     835\n",
       "ultra    699\n",
       "Name: subscription_type, dtype: int64"
      ]
     },
     "metadata": {},
     "output_type": "display_data"
    }
   ],
   "source": [
    "# Построим диаграмму для столбца с типом подписки и посмотрим значения\n",
    "subscription_counts = users['subscription_type'].value_counts()\n",
    "\n",
    "# Создание списка с новыми метками\n",
    "new_labels = ['Пользователи бесплатной версии', 'Пользователи с платной подпиской']\n",
    "\n",
    "# Построение круговой диаграммы с новыми метками\n",
    "plt.figure(figsize=(8, 8))\n",
    "plt.pie(subscription_counts, labels=new_labels, autopct='%1.1f%%')\n",
    "\n",
    "# Добавление заголовка\n",
    "plt.title('Соотношение групп пользователей')\n",
    "\n",
    "# Отображение диаграммы\n",
    "plt.show()\n",
    "display(users['subscription_type'].value_counts(ascending=False))"
   ]
  },
  {
   "cell_type": "markdown",
   "id": "563d5656",
   "metadata": {
    "scrolled": true
   },
   "source": [
    "Видим, что пользователей с платной подпиской меньше: 699 (45,6%) против 835 (54,4%)."
   ]
  },
  {
   "cell_type": "code",
   "execution_count": 10,
   "id": "90991801",
   "metadata": {},
   "outputs": [
    {
     "data": {
      "text/plain": [
       "25    145\n",
       "24    132\n",
       "26    131\n",
       "23    129\n",
       "27    119\n",
       "22    119\n",
       "28    112\n",
       "21     93\n",
       "20     71\n",
       "30     68\n",
       "29     68\n",
       "31     48\n",
       "19     47\n",
       "18     46\n",
       "32     41\n",
       "33     39\n",
       "17     26\n",
       "34     19\n",
       "16     19\n",
       "35     15\n",
       "15     13\n",
       "14      9\n",
       "13      8\n",
       "36      6\n",
       "12      4\n",
       "38      3\n",
       "37      2\n",
       "39      1\n",
       "43      1\n",
       "Name: age, dtype: int64"
      ]
     },
     "metadata": {},
     "output_type": "display_data"
    },
    {
     "data": {
      "image/png": "[encoded data removed]",
      "text/plain": [
       "<Figure size 432x288 with 1 Axes>"
      ]
     },
     "metadata": {
      "needs_background": "light"
     },
     "output_type": "display_data"
    },
    {
     "data": {
      "text/plain": [
       "count    1534.000000\n",
       "mean       24.903520\n",
       "std         4.572367\n",
       "min        12.000000\n",
       "25%        22.000000\n",
       "50%        25.000000\n",
       "75%        28.000000\n",
       "max        43.000000\n",
       "Name: age, dtype: float64"
      ]
     },
     "metadata": {},
     "output_type": "display_data"
    }
   ],
   "source": [
    "#построим гистограммы для столбца с данными о возрасте и посмотрим значения\n",
    "users['age'].hist()\n",
    "display(users['age'].value_counts(ascending=False))\n",
    "plt.xlabel('Возраст')\n",
    "plt.ylabel('Количество пользователей')\n",
    "plt.title('Распределение пользователей по возрасту')\n",
    "\n",
    "plt.show()\n",
    "display(users['age'].describe())"
   ]
  },
  {
   "cell_type": "markdown",
   "id": "66bed176",
   "metadata": {
    "scrolled": true
   },
   "source": [
    "Видим, что больше всего пользователей в возрасте около 25 лет. По графику видно, что основная масса пользователей - люди в возрасте от 20 до 30 лет.\n",
    "Применяя метод decribe(), видим, что медианный возраст - 25 лет, средний - 24.9 года"
   ]
  },
  {
   "cell_type": "code",
   "execution_count": 11,
   "id": "0dc7d618",
   "metadata": {},
   "outputs": [
    {
     "data": {
      "image/png": "[encoded data removed]",
      "text/plain": [
       "<Figure size 1440x360 with 1 Axes>"
      ]
     },
     "metadata": {
      "needs_background": "light"
     },
     "output_type": "display_data"
    }
   ],
   "source": [
    "#построим гистограммы для столбца с дистанцией поездок\n",
    "rides['distance'].hist(bins=20, figsize=(20,5))\n",
    "\n",
    "# Добавление подписей к осям и заголовка\n",
    "plt.xlabel('Дистанция')\n",
    "plt.ylabel('Количество поездок')\n",
    "plt.title('Распределение поездок по длине дистанции')\n",
    "\n",
    "plt.show()"
   ]
  },
  {
   "cell_type": "markdown",
   "id": "680c34d3",
   "metadata": {
    "scrolled": true
   },
   "source": [
    "Видим, что больше всего поездок дистанцией больше 2 тыс. метров, но до 4 тыс. метров."
   ]
  },
  {
   "cell_type": "code",
   "execution_count": 12,
   "id": "a8569e23",
   "metadata": {
    "scrolled": true
   },
   "outputs": [
    {
     "data": {
      "image/png": "[encoded data removed]",
      "text/plain": [
       "<Figure size 1440x360 with 1 Axes>"
      ]
     },
     "metadata": {
      "needs_background": "light"
     },
     "output_type": "display_data"
    }
   ],
   "source": [
    "#построим гистограммы для столбца с длительностью поездок\n",
    "rides['duration'].hist(bins=30, figsize=(20,5))\n",
    "# Добавление подписей к осям и заголовка\n",
    "plt.xlabel('Длительность')\n",
    "plt.ylabel('Количество поездок')\n",
    "plt.title('Распределение поездок по длительности')\n",
    "\n",
    "plt.show()"
   ]
  },
  {
   "cell_type": "markdown",
   "id": "e92ca9c8",
   "metadata": {
    "scrolled": true
   },
   "source": [
    "Видим, что больше всего поездок длительностью от 10 до 25 минут"
   ]
  },
  {
   "cell_type": "markdown",
   "id": "8220b493",
   "metadata": {
    "id": "5766e785"
   },
   "source": [
    "У нас есть странный пик около 0 как на гистограмме длительности, так и на гистограмме дистанции, необходимо рассмотреть на предмет аномалий. Возможно, поездки менее 3 минут - это сбои приложения и пользователь так и не начал поездку, либо подсчет времени/дистанции не был произведен по данной поездке, либо произведен неверно"
   ]
  },
  {
   "cell_type": "code",
   "execution_count": 13,
   "id": "c82d4f4a",
   "metadata": {
    "id": "5766e785",
    "scrolled": true
   },
   "outputs": [
    {
     "data": {
      "text/plain": [
       "count    18068.000000\n",
       "mean        17.805011\n",
       "std          6.091051\n",
       "min          0.500000\n",
       "25%         13.597563\n",
       "50%         17.678395\n",
       "75%         21.724800\n",
       "max         40.823963\n",
       "Name: duration, dtype: float64"
      ]
     },
     "metadata": {},
     "output_type": "display_data"
    },
    {
     "data": {
      "image/png": "[encoded data removed]",
      "text/plain": [
       "<Figure size 576x432 with 1 Axes>"
      ]
     },
     "metadata": {
      "needs_background": "light"
     },
     "output_type": "display_data"
    }
   ],
   "source": [
    "display(rides['duration'].describe())\n",
    "# Построение boxplot\n",
    "plt.figure(figsize=(8, 6))\n",
    "box = plt.boxplot(rides['duration'])\n",
    "\n",
    "# Настройка меток осей и заголовка\n",
    "plt.xlabel('Длительность поездок')\n",
    "plt.title('Boxplot для длительности поездок')\n",
    "\n",
    "# Отображение графика\n",
    "plt.show()"
   ]
  },
  {
   "cell_type": "markdown",
   "id": "d4f896b1",
   "metadata": {
    "id": "5766e785",
    "scrolled": true
   },
   "source": [
    "Если ехать на самокате менее 3 минут, то дистанция будет явно меньше 1000 м. Посмотри сколько строк со значением времени менее 3 минут и дистанцией более 1000 м."
   ]
  },
  {
   "cell_type": "code",
   "execution_count": 14,
   "id": "86085485",
   "metadata": {
    "id": "5766e785",
    "scrolled": true
   },
   "outputs": [
    {
     "data": {
      "text/html": [
       "<div>\n",
       "<style scoped>\n",
       "    .dataframe tbody tr th:only-of-type {\n",
       "        vertical-align: middle;\n",
       "    }\n",
       "\n",
       "    .dataframe tbody tr th {\n",
       "        vertical-align: top;\n",
       "    }\n",
       "\n",
       "    .dataframe thead th {\n",
       "        text-align: right;\n",
       "    }\n",
       "</style>\n",
       "<table border=\"1\" class=\"dataframe\">\n",
       "  <thead>\n",
       "    <tr style=\"text-align: right;\">\n",
       "      <th></th>\n",
       "      <th>user_id</th>\n",
       "      <th>distance</th>\n",
       "      <th>duration</th>\n",
       "      <th>date</th>\n",
       "      <th>month</th>\n",
       "    </tr>\n",
       "  </thead>\n",
       "  <tbody>\n",
       "    <tr>\n",
       "      <th>6531</th>\n",
       "      <td>701</td>\n",
       "      <td>4196.445201</td>\n",
       "      <td>0.5</td>\n",
       "      <td>2021-08-31</td>\n",
       "      <td>2021-08</td>\n",
       "    </tr>\n",
       "    <tr>\n",
       "      <th>6570</th>\n",
       "      <td>704</td>\n",
       "      <td>4830.824371</td>\n",
       "      <td>0.5</td>\n",
       "      <td>2021-10-14</td>\n",
       "      <td>2021-10</td>\n",
       "    </tr>\n",
       "    <tr>\n",
       "      <th>6680</th>\n",
       "      <td>712</td>\n",
       "      <td>4684.004397</td>\n",
       "      <td>0.5</td>\n",
       "      <td>2021-03-04</td>\n",
       "      <td>2021-03</td>\n",
       "    </tr>\n",
       "    <tr>\n",
       "      <th>6695</th>\n",
       "      <td>713</td>\n",
       "      <td>5215.642710</td>\n",
       "      <td>0.5</td>\n",
       "      <td>2021-02-25</td>\n",
       "      <td>2021-02</td>\n",
       "    </tr>\n",
       "    <tr>\n",
       "      <th>6768</th>\n",
       "      <td>718</td>\n",
       "      <td>5197.436649</td>\n",
       "      <td>0.5</td>\n",
       "      <td>2021-02-11</td>\n",
       "      <td>2021-02</td>\n",
       "    </tr>\n",
       "    <tr>\n",
       "      <th>...</th>\n",
       "      <td>...</td>\n",
       "      <td>...</td>\n",
       "      <td>...</td>\n",
       "      <td>...</td>\n",
       "      <td>...</td>\n",
       "    </tr>\n",
       "    <tr>\n",
       "      <th>17004</th>\n",
       "      <td>1460</td>\n",
       "      <td>5531.335845</td>\n",
       "      <td>0.5</td>\n",
       "      <td>2021-01-19</td>\n",
       "      <td>2021-01</td>\n",
       "    </tr>\n",
       "    <tr>\n",
       "      <th>17242</th>\n",
       "      <td>1477</td>\n",
       "      <td>6724.932981</td>\n",
       "      <td>0.5</td>\n",
       "      <td>2021-01-12</td>\n",
       "      <td>2021-01</td>\n",
       "    </tr>\n",
       "    <tr>\n",
       "      <th>17314</th>\n",
       "      <td>1483</td>\n",
       "      <td>4445.481070</td>\n",
       "      <td>0.5</td>\n",
       "      <td>2021-03-06</td>\n",
       "      <td>2021-03</td>\n",
       "    </tr>\n",
       "    <tr>\n",
       "      <th>17505</th>\n",
       "      <td>1496</td>\n",
       "      <td>5722.551787</td>\n",
       "      <td>0.5</td>\n",
       "      <td>2021-02-14</td>\n",
       "      <td>2021-02</td>\n",
       "    </tr>\n",
       "    <tr>\n",
       "      <th>17909</th>\n",
       "      <td>1524</td>\n",
       "      <td>4103.998874</td>\n",
       "      <td>0.5</td>\n",
       "      <td>2021-06-18</td>\n",
       "      <td>2021-06</td>\n",
       "    </tr>\n",
       "  </tbody>\n",
       "</table>\n",
       "<p>95 rows × 5 columns</p>\n",
       "</div>"
      ],
      "text/plain": [
       "       user_id     distance  duration       date    month\n",
       "6531       701  4196.445201       0.5 2021-08-31  2021-08\n",
       "6570       704  4830.824371       0.5 2021-10-14  2021-10\n",
       "6680       712  4684.004397       0.5 2021-03-04  2021-03\n",
       "6695       713  5215.642710       0.5 2021-02-25  2021-02\n",
       "6768       718  5197.436649       0.5 2021-02-11  2021-02\n",
       "...        ...          ...       ...        ...      ...\n",
       "17004     1460  5531.335845       0.5 2021-01-19  2021-01\n",
       "17242     1477  6724.932981       0.5 2021-01-12  2021-01\n",
       "17314     1483  4445.481070       0.5 2021-03-06  2021-03\n",
       "17505     1496  5722.551787       0.5 2021-02-14  2021-02\n",
       "17909     1524  4103.998874       0.5 2021-06-18  2021-06\n",
       "\n",
       "[95 rows x 5 columns]"
      ]
     },
     "execution_count": 14,
     "metadata": {},
     "output_type": "execute_result"
    }
   ],
   "source": [
    "rides[(rides['duration'] < 3) & (rides['distance'] > 1000)]"
   ]
  },
  {
   "cell_type": "markdown",
   "id": "67c7d371",
   "metadata": {
    "id": "5766e785",
    "scrolled": true
   },
   "source": [
    "Ого! 95 строк со странным временем поездки. И все с достаточно большим расстоянием. Возможно была проведена акция с бесплатными минутами"
   ]
  },
  {
   "cell_type": "code",
   "execution_count": 15,
   "id": "6392e4b3",
   "metadata": {
    "id": "5766e785",
    "scrolled": true
   },
   "outputs": [
    {
     "name": "stdout",
     "output_type": "stream",
     "text": [
      "<class 'pandas.core.frame.DataFrame'>\n",
      "RangeIndex: 18068 entries, 0 to 18067\n",
      "Data columns (total 5 columns):\n",
      " #   Column    Non-Null Count  Dtype         \n",
      "---  ------    --------------  -----         \n",
      " 0   user_id   18068 non-null  int64         \n",
      " 1   distance  18068 non-null  float64       \n",
      " 2   duration  18068 non-null  float64       \n",
      " 3   date      18068 non-null  datetime64[ns]\n",
      " 4   month     18068 non-null  period[M]     \n",
      "dtypes: datetime64[ns](1), float64(2), int64(1), period[M](1)\n",
      "memory usage: 705.9 KB\n"
     ]
    }
   ],
   "source": [
    "# Удаление строк, где столбец 'duration' < 3 и столбец 'distance' > 1000\n",
    "#rides = rides.drop(rides[(rides['duration'] < 3) & (rides['distance'] > 1000)].index)\n",
    "\n",
    "rides.info()"
   ]
  },
  {
   "cell_type": "markdown",
   "id": "f68caa3a",
   "metadata": {},
   "source": [
    "## Объединение данных"
   ]
  },
  {
   "cell_type": "code",
   "execution_count": 16,
   "id": "e73ea276",
   "metadata": {
    "scrolled": true
   },
   "outputs": [
    {
     "data": {
      "text/html": [
       "<div>\n",
       "<style scoped>\n",
       "    .dataframe tbody tr th:only-of-type {\n",
       "        vertical-align: middle;\n",
       "    }\n",
       "\n",
       "    .dataframe tbody tr th {\n",
       "        vertical-align: top;\n",
       "    }\n",
       "\n",
       "    .dataframe thead th {\n",
       "        text-align: right;\n",
       "    }\n",
       "</style>\n",
       "<table border=\"1\" class=\"dataframe\">\n",
       "  <thead>\n",
       "    <tr style=\"text-align: right;\">\n",
       "      <th></th>\n",
       "      <th>user_id</th>\n",
       "      <th>name</th>\n",
       "      <th>age</th>\n",
       "      <th>city</th>\n",
       "      <th>subscription_type</th>\n",
       "      <th>distance</th>\n",
       "      <th>duration</th>\n",
       "      <th>date</th>\n",
       "      <th>month</th>\n",
       "      <th>minute_price</th>\n",
       "      <th>start_ride_price</th>\n",
       "      <th>subscription_fee</th>\n",
       "    </tr>\n",
       "  </thead>\n",
       "  <tbody>\n",
       "    <tr>\n",
       "      <th>0</th>\n",
       "      <td>1</td>\n",
       "      <td>Кира</td>\n",
       "      <td>22</td>\n",
       "      <td>Тюмень</td>\n",
       "      <td>ultra</td>\n",
       "      <td>4409.919140</td>\n",
       "      <td>25.599769</td>\n",
       "      <td>2021-01-01</td>\n",
       "      <td>2021-01</td>\n",
       "      <td>6</td>\n",
       "      <td>0</td>\n",
       "      <td>199</td>\n",
       "    </tr>\n",
       "    <tr>\n",
       "      <th>1</th>\n",
       "      <td>1</td>\n",
       "      <td>Кира</td>\n",
       "      <td>22</td>\n",
       "      <td>Тюмень</td>\n",
       "      <td>ultra</td>\n",
       "      <td>2617.592153</td>\n",
       "      <td>15.816871</td>\n",
       "      <td>2021-01-18</td>\n",
       "      <td>2021-01</td>\n",
       "      <td>6</td>\n",
       "      <td>0</td>\n",
       "      <td>199</td>\n",
       "    </tr>\n",
       "    <tr>\n",
       "      <th>2</th>\n",
       "      <td>1</td>\n",
       "      <td>Кира</td>\n",
       "      <td>22</td>\n",
       "      <td>Тюмень</td>\n",
       "      <td>ultra</td>\n",
       "      <td>754.159807</td>\n",
       "      <td>6.232113</td>\n",
       "      <td>2021-04-20</td>\n",
       "      <td>2021-04</td>\n",
       "      <td>6</td>\n",
       "      <td>0</td>\n",
       "      <td>199</td>\n",
       "    </tr>\n",
       "    <tr>\n",
       "      <th>3</th>\n",
       "      <td>1</td>\n",
       "      <td>Кира</td>\n",
       "      <td>22</td>\n",
       "      <td>Тюмень</td>\n",
       "      <td>ultra</td>\n",
       "      <td>2694.783254</td>\n",
       "      <td>18.511000</td>\n",
       "      <td>2021-08-11</td>\n",
       "      <td>2021-08</td>\n",
       "      <td>6</td>\n",
       "      <td>0</td>\n",
       "      <td>199</td>\n",
       "    </tr>\n",
       "    <tr>\n",
       "      <th>4</th>\n",
       "      <td>1</td>\n",
       "      <td>Кира</td>\n",
       "      <td>22</td>\n",
       "      <td>Тюмень</td>\n",
       "      <td>ultra</td>\n",
       "      <td>4028.687306</td>\n",
       "      <td>26.265803</td>\n",
       "      <td>2021-08-28</td>\n",
       "      <td>2021-08</td>\n",
       "      <td>6</td>\n",
       "      <td>0</td>\n",
       "      <td>199</td>\n",
       "    </tr>\n",
       "    <tr>\n",
       "      <th>5</th>\n",
       "      <td>1</td>\n",
       "      <td>Кира</td>\n",
       "      <td>22</td>\n",
       "      <td>Тюмень</td>\n",
       "      <td>ultra</td>\n",
       "      <td>2770.890808</td>\n",
       "      <td>16.650138</td>\n",
       "      <td>2021-10-09</td>\n",
       "      <td>2021-10</td>\n",
       "      <td>6</td>\n",
       "      <td>0</td>\n",
       "      <td>199</td>\n",
       "    </tr>\n",
       "    <tr>\n",
       "      <th>6</th>\n",
       "      <td>1</td>\n",
       "      <td>Кира</td>\n",
       "      <td>22</td>\n",
       "      <td>Тюмень</td>\n",
       "      <td>ultra</td>\n",
       "      <td>3039.020292</td>\n",
       "      <td>14.927879</td>\n",
       "      <td>2021-10-19</td>\n",
       "      <td>2021-10</td>\n",
       "      <td>6</td>\n",
       "      <td>0</td>\n",
       "      <td>199</td>\n",
       "    </tr>\n",
       "    <tr>\n",
       "      <th>7</th>\n",
       "      <td>1</td>\n",
       "      <td>Кира</td>\n",
       "      <td>22</td>\n",
       "      <td>Тюмень</td>\n",
       "      <td>ultra</td>\n",
       "      <td>2842.118050</td>\n",
       "      <td>23.117468</td>\n",
       "      <td>2021-11-06</td>\n",
       "      <td>2021-11</td>\n",
       "      <td>6</td>\n",
       "      <td>0</td>\n",
       "      <td>199</td>\n",
       "    </tr>\n",
       "    <tr>\n",
       "      <th>8</th>\n",
       "      <td>1</td>\n",
       "      <td>Кира</td>\n",
       "      <td>22</td>\n",
       "      <td>Тюмень</td>\n",
       "      <td>ultra</td>\n",
       "      <td>3412.690668</td>\n",
       "      <td>15.238072</td>\n",
       "      <td>2021-11-14</td>\n",
       "      <td>2021-11</td>\n",
       "      <td>6</td>\n",
       "      <td>0</td>\n",
       "      <td>199</td>\n",
       "    </tr>\n",
       "    <tr>\n",
       "      <th>9</th>\n",
       "      <td>1</td>\n",
       "      <td>Кира</td>\n",
       "      <td>22</td>\n",
       "      <td>Тюмень</td>\n",
       "      <td>ultra</td>\n",
       "      <td>748.690645</td>\n",
       "      <td>15.041884</td>\n",
       "      <td>2021-11-22</td>\n",
       "      <td>2021-11</td>\n",
       "      <td>6</td>\n",
       "      <td>0</td>\n",
       "      <td>199</td>\n",
       "    </tr>\n",
       "    <tr>\n",
       "      <th>10</th>\n",
       "      <td>1</td>\n",
       "      <td>Кира</td>\n",
       "      <td>22</td>\n",
       "      <td>Тюмень</td>\n",
       "      <td>ultra</td>\n",
       "      <td>4031.020195</td>\n",
       "      <td>17.674448</td>\n",
       "      <td>2021-12-14</td>\n",
       "      <td>2021-12</td>\n",
       "      <td>6</td>\n",
       "      <td>0</td>\n",
       "      <td>199</td>\n",
       "    </tr>\n",
       "    <tr>\n",
       "      <th>11</th>\n",
       "      <td>1</td>\n",
       "      <td>Кира</td>\n",
       "      <td>22</td>\n",
       "      <td>Тюмень</td>\n",
       "      <td>ultra</td>\n",
       "      <td>2720.609748</td>\n",
       "      <td>9.529463</td>\n",
       "      <td>2021-12-22</td>\n",
       "      <td>2021-12</td>\n",
       "      <td>6</td>\n",
       "      <td>0</td>\n",
       "      <td>199</td>\n",
       "    </tr>\n",
       "    <tr>\n",
       "      <th>12</th>\n",
       "      <td>2</td>\n",
       "      <td>Станислав</td>\n",
       "      <td>31</td>\n",
       "      <td>Омск</td>\n",
       "      <td>ultra</td>\n",
       "      <td>3105.086678</td>\n",
       "      <td>24.307514</td>\n",
       "      <td>2021-03-15</td>\n",
       "      <td>2021-03</td>\n",
       "      <td>6</td>\n",
       "      <td>0</td>\n",
       "      <td>199</td>\n",
       "    </tr>\n",
       "    <tr>\n",
       "      <th>13</th>\n",
       "      <td>2</td>\n",
       "      <td>Станислав</td>\n",
       "      <td>31</td>\n",
       "      <td>Омск</td>\n",
       "      <td>ultra</td>\n",
       "      <td>3053.519401</td>\n",
       "      <td>11.543256</td>\n",
       "      <td>2021-03-18</td>\n",
       "      <td>2021-03</td>\n",
       "      <td>6</td>\n",
       "      <td>0</td>\n",
       "      <td>199</td>\n",
       "    </tr>\n",
       "    <tr>\n",
       "      <th>14</th>\n",
       "      <td>2</td>\n",
       "      <td>Станислав</td>\n",
       "      <td>31</td>\n",
       "      <td>Омск</td>\n",
       "      <td>ultra</td>\n",
       "      <td>4029.116927</td>\n",
       "      <td>25.109188</td>\n",
       "      <td>2021-03-23</td>\n",
       "      <td>2021-03</td>\n",
       "      <td>6</td>\n",
       "      <td>0</td>\n",
       "      <td>199</td>\n",
       "    </tr>\n",
       "    <tr>\n",
       "      <th>15</th>\n",
       "      <td>2</td>\n",
       "      <td>Станислав</td>\n",
       "      <td>31</td>\n",
       "      <td>Омск</td>\n",
       "      <td>ultra</td>\n",
       "      <td>2805.786329</td>\n",
       "      <td>20.652145</td>\n",
       "      <td>2021-04-08</td>\n",
       "      <td>2021-04</td>\n",
       "      <td>6</td>\n",
       "      <td>0</td>\n",
       "      <td>199</td>\n",
       "    </tr>\n",
       "    <tr>\n",
       "      <th>16</th>\n",
       "      <td>2</td>\n",
       "      <td>Станислав</td>\n",
       "      <td>31</td>\n",
       "      <td>Омск</td>\n",
       "      <td>ultra</td>\n",
       "      <td>3358.595495</td>\n",
       "      <td>18.396489</td>\n",
       "      <td>2021-04-13</td>\n",
       "      <td>2021-04</td>\n",
       "      <td>6</td>\n",
       "      <td>0</td>\n",
       "      <td>199</td>\n",
       "    </tr>\n",
       "    <tr>\n",
       "      <th>17</th>\n",
       "      <td>2</td>\n",
       "      <td>Станислав</td>\n",
       "      <td>31</td>\n",
       "      <td>Омск</td>\n",
       "      <td>ultra</td>\n",
       "      <td>3255.338202</td>\n",
       "      <td>13.851127</td>\n",
       "      <td>2021-06-20</td>\n",
       "      <td>2021-06</td>\n",
       "      <td>6</td>\n",
       "      <td>0</td>\n",
       "      <td>199</td>\n",
       "    </tr>\n",
       "    <tr>\n",
       "      <th>18</th>\n",
       "      <td>2</td>\n",
       "      <td>Станислав</td>\n",
       "      <td>31</td>\n",
       "      <td>Омск</td>\n",
       "      <td>ultra</td>\n",
       "      <td>3942.817648</td>\n",
       "      <td>20.142725</td>\n",
       "      <td>2021-07-02</td>\n",
       "      <td>2021-07</td>\n",
       "      <td>6</td>\n",
       "      <td>0</td>\n",
       "      <td>199</td>\n",
       "    </tr>\n",
       "    <tr>\n",
       "      <th>19</th>\n",
       "      <td>2</td>\n",
       "      <td>Станислав</td>\n",
       "      <td>31</td>\n",
       "      <td>Омск</td>\n",
       "      <td>ultra</td>\n",
       "      <td>2837.905316</td>\n",
       "      <td>26.027432</td>\n",
       "      <td>2021-07-18</td>\n",
       "      <td>2021-07</td>\n",
       "      <td>6</td>\n",
       "      <td>0</td>\n",
       "      <td>199</td>\n",
       "    </tr>\n",
       "    <tr>\n",
       "      <th>20</th>\n",
       "      <td>2</td>\n",
       "      <td>Станислав</td>\n",
       "      <td>31</td>\n",
       "      <td>Омск</td>\n",
       "      <td>ultra</td>\n",
       "      <td>923.007439</td>\n",
       "      <td>6.914760</td>\n",
       "      <td>2021-08-03</td>\n",
       "      <td>2021-08</td>\n",
       "      <td>6</td>\n",
       "      <td>0</td>\n",
       "      <td>199</td>\n",
       "    </tr>\n",
       "    <tr>\n",
       "      <th>21</th>\n",
       "      <td>2</td>\n",
       "      <td>Станислав</td>\n",
       "      <td>31</td>\n",
       "      <td>Омск</td>\n",
       "      <td>ultra</td>\n",
       "      <td>2824.636598</td>\n",
       "      <td>18.779128</td>\n",
       "      <td>2021-10-27</td>\n",
       "      <td>2021-10</td>\n",
       "      <td>6</td>\n",
       "      <td>0</td>\n",
       "      <td>199</td>\n",
       "    </tr>\n",
       "    <tr>\n",
       "      <th>22</th>\n",
       "      <td>2</td>\n",
       "      <td>Станислав</td>\n",
       "      <td>31</td>\n",
       "      <td>Омск</td>\n",
       "      <td>ultra</td>\n",
       "      <td>3828.248580</td>\n",
       "      <td>11.920514</td>\n",
       "      <td>2021-12-18</td>\n",
       "      <td>2021-12</td>\n",
       "      <td>6</td>\n",
       "      <td>0</td>\n",
       "      <td>199</td>\n",
       "    </tr>\n",
       "    <tr>\n",
       "      <th>23</th>\n",
       "      <td>3</td>\n",
       "      <td>Алексей</td>\n",
       "      <td>20</td>\n",
       "      <td>Москва</td>\n",
       "      <td>ultra</td>\n",
       "      <td>3061.777147</td>\n",
       "      <td>12.654443</td>\n",
       "      <td>2021-01-31</td>\n",
       "      <td>2021-01</td>\n",
       "      <td>6</td>\n",
       "      <td>0</td>\n",
       "      <td>199</td>\n",
       "    </tr>\n",
       "    <tr>\n",
       "      <th>24</th>\n",
       "      <td>3</td>\n",
       "      <td>Алексей</td>\n",
       "      <td>20</td>\n",
       "      <td>Москва</td>\n",
       "      <td>ultra</td>\n",
       "      <td>2560.495330</td>\n",
       "      <td>16.534984</td>\n",
       "      <td>2021-02-24</td>\n",
       "      <td>2021-02</td>\n",
       "      <td>6</td>\n",
       "      <td>0</td>\n",
       "      <td>199</td>\n",
       "    </tr>\n",
       "    <tr>\n",
       "      <th>25</th>\n",
       "      <td>3</td>\n",
       "      <td>Алексей</td>\n",
       "      <td>20</td>\n",
       "      <td>Москва</td>\n",
       "      <td>ultra</td>\n",
       "      <td>2860.656686</td>\n",
       "      <td>21.033653</td>\n",
       "      <td>2021-02-26</td>\n",
       "      <td>2021-02</td>\n",
       "      <td>6</td>\n",
       "      <td>0</td>\n",
       "      <td>199</td>\n",
       "    </tr>\n",
       "    <tr>\n",
       "      <th>26</th>\n",
       "      <td>3</td>\n",
       "      <td>Алексей</td>\n",
       "      <td>20</td>\n",
       "      <td>Москва</td>\n",
       "      <td>ultra</td>\n",
       "      <td>2956.651632</td>\n",
       "      <td>20.671364</td>\n",
       "      <td>2021-04-12</td>\n",
       "      <td>2021-04</td>\n",
       "      <td>6</td>\n",
       "      <td>0</td>\n",
       "      <td>199</td>\n",
       "    </tr>\n",
       "    <tr>\n",
       "      <th>27</th>\n",
       "      <td>3</td>\n",
       "      <td>Алексей</td>\n",
       "      <td>20</td>\n",
       "      <td>Москва</td>\n",
       "      <td>ultra</td>\n",
       "      <td>2756.975841</td>\n",
       "      <td>18.519025</td>\n",
       "      <td>2021-05-07</td>\n",
       "      <td>2021-05</td>\n",
       "      <td>6</td>\n",
       "      <td>0</td>\n",
       "      <td>199</td>\n",
       "    </tr>\n",
       "    <tr>\n",
       "      <th>28</th>\n",
       "      <td>3</td>\n",
       "      <td>Алексей</td>\n",
       "      <td>20</td>\n",
       "      <td>Москва</td>\n",
       "      <td>ultra</td>\n",
       "      <td>2837.317332</td>\n",
       "      <td>24.476276</td>\n",
       "      <td>2021-05-21</td>\n",
       "      <td>2021-05</td>\n",
       "      <td>6</td>\n",
       "      <td>0</td>\n",
       "      <td>199</td>\n",
       "    </tr>\n",
       "    <tr>\n",
       "      <th>29</th>\n",
       "      <td>3</td>\n",
       "      <td>Алексей</td>\n",
       "      <td>20</td>\n",
       "      <td>Москва</td>\n",
       "      <td>ultra</td>\n",
       "      <td>3469.733745</td>\n",
       "      <td>18.409201</td>\n",
       "      <td>2021-05-22</td>\n",
       "      <td>2021-05</td>\n",
       "      <td>6</td>\n",
       "      <td>0</td>\n",
       "      <td>199</td>\n",
       "    </tr>\n",
       "  </tbody>\n",
       "</table>\n",
       "</div>"
      ],
      "text/plain": [
       "    user_id       name  age    city subscription_type     distance   duration  \\\n",
       "0         1       Кира   22  Тюмень             ultra  4409.919140  25.599769   \n",
       "1         1       Кира   22  Тюмень             ultra  2617.592153  15.816871   \n",
       "2         1       Кира   22  Тюмень             ultra   754.159807   6.232113   \n",
       "3         1       Кира   22  Тюмень             ultra  2694.783254  18.511000   \n",
       "4         1       Кира   22  Тюмень             ultra  4028.687306  26.265803   \n",
       "5         1       Кира   22  Тюмень             ultra  2770.890808  16.650138   \n",
       "6         1       Кира   22  Тюмень             ultra  3039.020292  14.927879   \n",
       "7         1       Кира   22  Тюмень             ultra  2842.118050  23.117468   \n",
       "8         1       Кира   22  Тюмень             ultra  3412.690668  15.238072   \n",
       "9         1       Кира   22  Тюмень             ultra   748.690645  15.041884   \n",
       "10        1       Кира   22  Тюмень             ultra  4031.020195  17.674448   \n",
       "11        1       Кира   22  Тюмень             ultra  2720.609748   9.529463   \n",
       "12        2  Станислав   31    Омск             ultra  3105.086678  24.307514   \n",
       "13        2  Станислав   31    Омск             ultra  3053.519401  11.543256   \n",
       "14        2  Станислав   31    Омск             ultra  4029.116927  25.109188   \n",
       "15        2  Станислав   31    Омск             ultra  2805.786329  20.652145   \n",
       "16        2  Станислав   31    Омск             ultra  3358.595495  18.396489   \n",
       "17        2  Станислав   31    Омск             ultra  3255.338202  13.851127   \n",
       "18        2  Станислав   31    Омск             ultra  3942.817648  20.142725   \n",
       "19        2  Станислав   31    Омск             ultra  2837.905316  26.027432   \n",
       "20        2  Станислав   31    Омск             ultra   923.007439   6.914760   \n",
       "21        2  Станислав   31    Омск             ultra  2824.636598  18.779128   \n",
       "22        2  Станислав   31    Омск             ultra  3828.248580  11.920514   \n",
       "23        3    Алексей   20  Москва             ultra  3061.777147  12.654443   \n",
       "24        3    Алексей   20  Москва             ultra  2560.495330  16.534984   \n",
       "25        3    Алексей   20  Москва             ultra  2860.656686  21.033653   \n",
       "26        3    Алексей   20  Москва             ultra  2956.651632  20.671364   \n",
       "27        3    Алексей   20  Москва             ultra  2756.975841  18.519025   \n",
       "28        3    Алексей   20  Москва             ultra  2837.317332  24.476276   \n",
       "29        3    Алексей   20  Москва             ultra  3469.733745  18.409201   \n",
       "\n",
       "         date    month  minute_price  start_ride_price  subscription_fee  \n",
       "0  2021-01-01  2021-01             6                 0               199  \n",
       "1  2021-01-18  2021-01             6                 0               199  \n",
       "2  2021-04-20  2021-04             6                 0               199  \n",
       "3  2021-08-11  2021-08             6                 0               199  \n",
       "4  2021-08-28  2021-08             6                 0               199  \n",
       "5  2021-10-09  2021-10             6                 0               199  \n",
       "6  2021-10-19  2021-10             6                 0               199  \n",
       "7  2021-11-06  2021-11             6                 0               199  \n",
       "8  2021-11-14  2021-11             6                 0               199  \n",
       "9  2021-11-22  2021-11             6                 0               199  \n",
       "10 2021-12-14  2021-12             6                 0               199  \n",
       "11 2021-12-22  2021-12             6                 0               199  \n",
       "12 2021-03-15  2021-03             6                 0               199  \n",
       "13 2021-03-18  2021-03             6                 0               199  \n",
       "14 2021-03-23  2021-03             6                 0               199  \n",
       "15 2021-04-08  2021-04             6                 0               199  \n",
       "16 2021-04-13  2021-04             6                 0               199  \n",
       "17 2021-06-20  2021-06             6                 0               199  \n",
       "18 2021-07-02  2021-07             6                 0               199  \n",
       "19 2021-07-18  2021-07             6                 0               199  \n",
       "20 2021-08-03  2021-08             6                 0               199  \n",
       "21 2021-10-27  2021-10             6                 0               199  \n",
       "22 2021-12-18  2021-12             6                 0               199  \n",
       "23 2021-01-31  2021-01             6                 0               199  \n",
       "24 2021-02-24  2021-02             6                 0               199  \n",
       "25 2021-02-26  2021-02             6                 0               199  \n",
       "26 2021-04-12  2021-04             6                 0               199  \n",
       "27 2021-05-07  2021-05             6                 0               199  \n",
       "28 2021-05-21  2021-05             6                 0               199  \n",
       "29 2021-05-22  2021-05             6                 0               199  "
      ]
     },
     "metadata": {},
     "output_type": "display_data"
    },
    {
     "name": "stdout",
     "output_type": "stream",
     "text": [
      "<class 'pandas.core.frame.DataFrame'>\n",
      "Int64Index: 18068 entries, 0 to 18067\n",
      "Data columns (total 12 columns):\n",
      " #   Column             Non-Null Count  Dtype         \n",
      "---  ------             --------------  -----         \n",
      " 0   user_id            18068 non-null  int64         \n",
      " 1   name               18068 non-null  object        \n",
      " 2   age                18068 non-null  int64         \n",
      " 3   city               18068 non-null  object        \n",
      " 4   subscription_type  18068 non-null  object        \n",
      " 5   distance           18068 non-null  float64       \n",
      " 6   duration           18068 non-null  float64       \n",
      " 7   date               18068 non-null  datetime64[ns]\n",
      " 8   month              18068 non-null  period[M]     \n",
      " 9   minute_price       18068 non-null  int64         \n",
      " 10  start_ride_price   18068 non-null  int64         \n",
      " 11  subscription_fee   18068 non-null  int64         \n",
      "dtypes: datetime64[ns](1), float64(2), int64(5), object(3), period[M](1)\n",
      "memory usage: 1.8+ MB\n"
     ]
    },
    {
     "data": {
      "text/plain": [
       "None"
      ]
     },
     "metadata": {},
     "output_type": "display_data"
    }
   ],
   "source": [
    "#объединим датафреймы, используя метод merge(), посмотрим 30 строк объединенного датафрейма и информацию о нем\n",
    "users_rides_df = users.merge(rides, on='user_id', how='inner')\n",
    "users_rides_subscriptions_df = users_rides_df.merge(subscriptions, on='subscription_type', how='inner')\n",
    "\n",
    "display(users_rides_subscriptions_df.head(30))\n",
    "display(users_rides_subscriptions_df.info())"
   ]
  },
  {
   "cell_type": "code",
   "execution_count": 17,
   "id": "4c65b330",
   "metadata": {},
   "outputs": [
    {
     "name": "stdout",
     "output_type": "stream",
     "text": [
      "<class 'pandas.core.frame.DataFrame'>\n",
      "RangeIndex: 18068 entries, 0 to 18067\n",
      "Data columns (total 5 columns):\n",
      " #   Column    Non-Null Count  Dtype         \n",
      "---  ------    --------------  -----         \n",
      " 0   user_id   18068 non-null  int64         \n",
      " 1   distance  18068 non-null  float64       \n",
      " 2   duration  18068 non-null  float64       \n",
      " 3   date      18068 non-null  datetime64[ns]\n",
      " 4   month     18068 non-null  period[M]     \n",
      "dtypes: datetime64[ns](1), float64(2), int64(1), period[M](1)\n",
      "memory usage: 705.9 KB\n"
     ]
    },
    {
     "data": {
      "text/plain": [
       "None"
      ]
     },
     "metadata": {},
     "output_type": "display_data"
    },
    {
     "name": "stdout",
     "output_type": "stream",
     "text": [
      "<class 'pandas.core.frame.DataFrame'>\n",
      "Int64Index: 18068 entries, 0 to 18067\n",
      "Data columns (total 12 columns):\n",
      " #   Column             Non-Null Count  Dtype         \n",
      "---  ------             --------------  -----         \n",
      " 0   user_id            18068 non-null  int64         \n",
      " 1   name               18068 non-null  object        \n",
      " 2   age                18068 non-null  int64         \n",
      " 3   city               18068 non-null  object        \n",
      " 4   subscription_type  18068 non-null  object        \n",
      " 5   distance           18068 non-null  float64       \n",
      " 6   duration           18068 non-null  float64       \n",
      " 7   date               18068 non-null  datetime64[ns]\n",
      " 8   month              18068 non-null  period[M]     \n",
      " 9   minute_price       18068 non-null  int64         \n",
      " 10  start_ride_price   18068 non-null  int64         \n",
      " 11  subscription_fee   18068 non-null  int64         \n",
      "dtypes: datetime64[ns](1), float64(2), int64(5), object(3), period[M](1)\n",
      "memory usage: 1.8+ MB\n"
     ]
    },
    {
     "data": {
      "text/plain": [
       "None"
      ]
     },
     "metadata": {},
     "output_type": "display_data"
    },
    {
     "data": {
      "text/html": [
       "<div>\n",
       "<style scoped>\n",
       "    .dataframe tbody tr th:only-of-type {\n",
       "        vertical-align: middle;\n",
       "    }\n",
       "\n",
       "    .dataframe tbody tr th {\n",
       "        vertical-align: top;\n",
       "    }\n",
       "\n",
       "    .dataframe thead th {\n",
       "        text-align: right;\n",
       "    }\n",
       "</style>\n",
       "<table border=\"1\" class=\"dataframe\">\n",
       "  <thead>\n",
       "    <tr style=\"text-align: right;\">\n",
       "      <th></th>\n",
       "      <th>user_id</th>\n",
       "      <th>distance</th>\n",
       "      <th>duration</th>\n",
       "      <th>date</th>\n",
       "      <th>month</th>\n",
       "    </tr>\n",
       "  </thead>\n",
       "  <tbody>\n",
       "    <tr>\n",
       "      <th>0</th>\n",
       "      <td>1</td>\n",
       "      <td>4409.919140</td>\n",
       "      <td>25.599769</td>\n",
       "      <td>2021-01-01</td>\n",
       "      <td>2021-01</td>\n",
       "    </tr>\n",
       "    <tr>\n",
       "      <th>1</th>\n",
       "      <td>1</td>\n",
       "      <td>2617.592153</td>\n",
       "      <td>15.816871</td>\n",
       "      <td>2021-01-18</td>\n",
       "      <td>2021-01</td>\n",
       "    </tr>\n",
       "    <tr>\n",
       "      <th>2</th>\n",
       "      <td>1</td>\n",
       "      <td>754.159807</td>\n",
       "      <td>6.232113</td>\n",
       "      <td>2021-04-20</td>\n",
       "      <td>2021-04</td>\n",
       "    </tr>\n",
       "    <tr>\n",
       "      <th>3</th>\n",
       "      <td>1</td>\n",
       "      <td>2694.783254</td>\n",
       "      <td>18.511000</td>\n",
       "      <td>2021-08-11</td>\n",
       "      <td>2021-08</td>\n",
       "    </tr>\n",
       "    <tr>\n",
       "      <th>4</th>\n",
       "      <td>1</td>\n",
       "      <td>4028.687306</td>\n",
       "      <td>26.265803</td>\n",
       "      <td>2021-08-28</td>\n",
       "      <td>2021-08</td>\n",
       "    </tr>\n",
       "    <tr>\n",
       "      <th>5</th>\n",
       "      <td>1</td>\n",
       "      <td>2770.890808</td>\n",
       "      <td>16.650138</td>\n",
       "      <td>2021-10-09</td>\n",
       "      <td>2021-10</td>\n",
       "    </tr>\n",
       "    <tr>\n",
       "      <th>6</th>\n",
       "      <td>1</td>\n",
       "      <td>3039.020292</td>\n",
       "      <td>14.927879</td>\n",
       "      <td>2021-10-19</td>\n",
       "      <td>2021-10</td>\n",
       "    </tr>\n",
       "    <tr>\n",
       "      <th>7</th>\n",
       "      <td>1</td>\n",
       "      <td>2842.118050</td>\n",
       "      <td>23.117468</td>\n",
       "      <td>2021-11-06</td>\n",
       "      <td>2021-11</td>\n",
       "    </tr>\n",
       "    <tr>\n",
       "      <th>8</th>\n",
       "      <td>1</td>\n",
       "      <td>3412.690668</td>\n",
       "      <td>15.238072</td>\n",
       "      <td>2021-11-14</td>\n",
       "      <td>2021-11</td>\n",
       "    </tr>\n",
       "    <tr>\n",
       "      <th>9</th>\n",
       "      <td>1</td>\n",
       "      <td>748.690645</td>\n",
       "      <td>15.041884</td>\n",
       "      <td>2021-11-22</td>\n",
       "      <td>2021-11</td>\n",
       "    </tr>\n",
       "  </tbody>\n",
       "</table>\n",
       "</div>"
      ],
      "text/plain": [
       "   user_id     distance   duration       date    month\n",
       "0        1  4409.919140  25.599769 2021-01-01  2021-01\n",
       "1        1  2617.592153  15.816871 2021-01-18  2021-01\n",
       "2        1   754.159807   6.232113 2021-04-20  2021-04\n",
       "3        1  2694.783254  18.511000 2021-08-11  2021-08\n",
       "4        1  4028.687306  26.265803 2021-08-28  2021-08\n",
       "5        1  2770.890808  16.650138 2021-10-09  2021-10\n",
       "6        1  3039.020292  14.927879 2021-10-19  2021-10\n",
       "7        1  2842.118050  23.117468 2021-11-06  2021-11\n",
       "8        1  3412.690668  15.238072 2021-11-14  2021-11\n",
       "9        1   748.690645  15.041884 2021-11-22  2021-11"
      ]
     },
     "metadata": {},
     "output_type": "display_data"
    },
    {
     "data": {
      "text/html": [
       "<div>\n",
       "<style scoped>\n",
       "    .dataframe tbody tr th:only-of-type {\n",
       "        vertical-align: middle;\n",
       "    }\n",
       "\n",
       "    .dataframe tbody tr th {\n",
       "        vertical-align: top;\n",
       "    }\n",
       "\n",
       "    .dataframe thead th {\n",
       "        text-align: right;\n",
       "    }\n",
       "</style>\n",
       "<table border=\"1\" class=\"dataframe\">\n",
       "  <thead>\n",
       "    <tr style=\"text-align: right;\">\n",
       "      <th></th>\n",
       "      <th>user_id</th>\n",
       "      <th>name</th>\n",
       "      <th>age</th>\n",
       "      <th>city</th>\n",
       "      <th>subscription_type</th>\n",
       "      <th>distance</th>\n",
       "      <th>duration</th>\n",
       "      <th>date</th>\n",
       "      <th>month</th>\n",
       "      <th>minute_price</th>\n",
       "      <th>start_ride_price</th>\n",
       "      <th>subscription_fee</th>\n",
       "    </tr>\n",
       "  </thead>\n",
       "  <tbody>\n",
       "    <tr>\n",
       "      <th>0</th>\n",
       "      <td>1</td>\n",
       "      <td>Кира</td>\n",
       "      <td>22</td>\n",
       "      <td>Тюмень</td>\n",
       "      <td>ultra</td>\n",
       "      <td>4409.919140</td>\n",
       "      <td>25.599769</td>\n",
       "      <td>2021-01-01</td>\n",
       "      <td>2021-01</td>\n",
       "      <td>6</td>\n",
       "      <td>0</td>\n",
       "      <td>199</td>\n",
       "    </tr>\n",
       "    <tr>\n",
       "      <th>1</th>\n",
       "      <td>1</td>\n",
       "      <td>Кира</td>\n",
       "      <td>22</td>\n",
       "      <td>Тюмень</td>\n",
       "      <td>ultra</td>\n",
       "      <td>2617.592153</td>\n",
       "      <td>15.816871</td>\n",
       "      <td>2021-01-18</td>\n",
       "      <td>2021-01</td>\n",
       "      <td>6</td>\n",
       "      <td>0</td>\n",
       "      <td>199</td>\n",
       "    </tr>\n",
       "    <tr>\n",
       "      <th>2</th>\n",
       "      <td>1</td>\n",
       "      <td>Кира</td>\n",
       "      <td>22</td>\n",
       "      <td>Тюмень</td>\n",
       "      <td>ultra</td>\n",
       "      <td>754.159807</td>\n",
       "      <td>6.232113</td>\n",
       "      <td>2021-04-20</td>\n",
       "      <td>2021-04</td>\n",
       "      <td>6</td>\n",
       "      <td>0</td>\n",
       "      <td>199</td>\n",
       "    </tr>\n",
       "    <tr>\n",
       "      <th>3</th>\n",
       "      <td>1</td>\n",
       "      <td>Кира</td>\n",
       "      <td>22</td>\n",
       "      <td>Тюмень</td>\n",
       "      <td>ultra</td>\n",
       "      <td>2694.783254</td>\n",
       "      <td>18.511000</td>\n",
       "      <td>2021-08-11</td>\n",
       "      <td>2021-08</td>\n",
       "      <td>6</td>\n",
       "      <td>0</td>\n",
       "      <td>199</td>\n",
       "    </tr>\n",
       "    <tr>\n",
       "      <th>4</th>\n",
       "      <td>1</td>\n",
       "      <td>Кира</td>\n",
       "      <td>22</td>\n",
       "      <td>Тюмень</td>\n",
       "      <td>ultra</td>\n",
       "      <td>4028.687306</td>\n",
       "      <td>26.265803</td>\n",
       "      <td>2021-08-28</td>\n",
       "      <td>2021-08</td>\n",
       "      <td>6</td>\n",
       "      <td>0</td>\n",
       "      <td>199</td>\n",
       "    </tr>\n",
       "    <tr>\n",
       "      <th>5</th>\n",
       "      <td>1</td>\n",
       "      <td>Кира</td>\n",
       "      <td>22</td>\n",
       "      <td>Тюмень</td>\n",
       "      <td>ultra</td>\n",
       "      <td>2770.890808</td>\n",
       "      <td>16.650138</td>\n",
       "      <td>2021-10-09</td>\n",
       "      <td>2021-10</td>\n",
       "      <td>6</td>\n",
       "      <td>0</td>\n",
       "      <td>199</td>\n",
       "    </tr>\n",
       "    <tr>\n",
       "      <th>6</th>\n",
       "      <td>1</td>\n",
       "      <td>Кира</td>\n",
       "      <td>22</td>\n",
       "      <td>Тюмень</td>\n",
       "      <td>ultra</td>\n",
       "      <td>3039.020292</td>\n",
       "      <td>14.927879</td>\n",
       "      <td>2021-10-19</td>\n",
       "      <td>2021-10</td>\n",
       "      <td>6</td>\n",
       "      <td>0</td>\n",
       "      <td>199</td>\n",
       "    </tr>\n",
       "    <tr>\n",
       "      <th>7</th>\n",
       "      <td>1</td>\n",
       "      <td>Кира</td>\n",
       "      <td>22</td>\n",
       "      <td>Тюмень</td>\n",
       "      <td>ultra</td>\n",
       "      <td>2842.118050</td>\n",
       "      <td>23.117468</td>\n",
       "      <td>2021-11-06</td>\n",
       "      <td>2021-11</td>\n",
       "      <td>6</td>\n",
       "      <td>0</td>\n",
       "      <td>199</td>\n",
       "    </tr>\n",
       "    <tr>\n",
       "      <th>8</th>\n",
       "      <td>1</td>\n",
       "      <td>Кира</td>\n",
       "      <td>22</td>\n",
       "      <td>Тюмень</td>\n",
       "      <td>ultra</td>\n",
       "      <td>3412.690668</td>\n",
       "      <td>15.238072</td>\n",
       "      <td>2021-11-14</td>\n",
       "      <td>2021-11</td>\n",
       "      <td>6</td>\n",
       "      <td>0</td>\n",
       "      <td>199</td>\n",
       "    </tr>\n",
       "    <tr>\n",
       "      <th>9</th>\n",
       "      <td>1</td>\n",
       "      <td>Кира</td>\n",
       "      <td>22</td>\n",
       "      <td>Тюмень</td>\n",
       "      <td>ultra</td>\n",
       "      <td>748.690645</td>\n",
       "      <td>15.041884</td>\n",
       "      <td>2021-11-22</td>\n",
       "      <td>2021-11</td>\n",
       "      <td>6</td>\n",
       "      <td>0</td>\n",
       "      <td>199</td>\n",
       "    </tr>\n",
       "  </tbody>\n",
       "</table>\n",
       "</div>"
      ],
      "text/plain": [
       "   user_id  name  age    city subscription_type     distance   duration  \\\n",
       "0        1  Кира   22  Тюмень             ultra  4409.919140  25.599769   \n",
       "1        1  Кира   22  Тюмень             ultra  2617.592153  15.816871   \n",
       "2        1  Кира   22  Тюмень             ultra   754.159807   6.232113   \n",
       "3        1  Кира   22  Тюмень             ultra  2694.783254  18.511000   \n",
       "4        1  Кира   22  Тюмень             ultra  4028.687306  26.265803   \n",
       "5        1  Кира   22  Тюмень             ultra  2770.890808  16.650138   \n",
       "6        1  Кира   22  Тюмень             ultra  3039.020292  14.927879   \n",
       "7        1  Кира   22  Тюмень             ultra  2842.118050  23.117468   \n",
       "8        1  Кира   22  Тюмень             ultra  3412.690668  15.238072   \n",
       "9        1  Кира   22  Тюмень             ultra   748.690645  15.041884   \n",
       "\n",
       "        date    month  minute_price  start_ride_price  subscription_fee  \n",
       "0 2021-01-01  2021-01             6                 0               199  \n",
       "1 2021-01-18  2021-01             6                 0               199  \n",
       "2 2021-04-20  2021-04             6                 0               199  \n",
       "3 2021-08-11  2021-08             6                 0               199  \n",
       "4 2021-08-28  2021-08             6                 0               199  \n",
       "5 2021-10-09  2021-10             6                 0               199  \n",
       "6 2021-10-19  2021-10             6                 0               199  \n",
       "7 2021-11-06  2021-11             6                 0               199  \n",
       "8 2021-11-14  2021-11             6                 0               199  \n",
       "9 2021-11-22  2021-11             6                 0               199  "
      ]
     },
     "metadata": {},
     "output_type": "display_data"
    }
   ],
   "source": [
    "# Проверим кол-во строк и просмотрим несколько строк, чтобы удостовериться, что не добавлено ничего лишнего, ничего не потеряно\n",
    "#и нет пропусков\n",
    "\n",
    "display(rides.info())\n",
    "display(users_rides_subscriptions_df.info())\n",
    "\n",
    "display(rides.head(10))\n",
    "display(users_rides_subscriptions_df.head(10))"
   ]
  },
  {
   "cell_type": "markdown",
   "id": "dc0c9f73",
   "metadata": {},
   "source": [
    "Количество строк совпадает, пропусков нет. Просмотрели верхние 10 строк, объединение прошло без ошибок"
   ]
  },
  {
   "cell_type": "code",
   "execution_count": 18,
   "id": "86f69057",
   "metadata": {},
   "outputs": [
    {
     "data": {
      "text/html": [
       "<div>\n",
       "<style scoped>\n",
       "    .dataframe tbody tr th:only-of-type {\n",
       "        vertical-align: middle;\n",
       "    }\n",
       "\n",
       "    .dataframe tbody tr th {\n",
       "        vertical-align: top;\n",
       "    }\n",
       "\n",
       "    .dataframe thead th {\n",
       "        text-align: right;\n",
       "    }\n",
       "</style>\n",
       "<table border=\"1\" class=\"dataframe\">\n",
       "  <thead>\n",
       "    <tr style=\"text-align: right;\">\n",
       "      <th></th>\n",
       "      <th>user_id</th>\n",
       "      <th>name</th>\n",
       "      <th>age</th>\n",
       "      <th>city</th>\n",
       "      <th>subscription_type</th>\n",
       "      <th>distance</th>\n",
       "      <th>duration</th>\n",
       "      <th>date</th>\n",
       "      <th>month</th>\n",
       "      <th>minute_price</th>\n",
       "      <th>start_ride_price</th>\n",
       "      <th>subscription_fee</th>\n",
       "    </tr>\n",
       "  </thead>\n",
       "  <tbody>\n",
       "    <tr>\n",
       "      <th>6500</th>\n",
       "      <td>700</td>\n",
       "      <td>Айдар</td>\n",
       "      <td>22</td>\n",
       "      <td>Омск</td>\n",
       "      <td>free</td>\n",
       "      <td>2515.690719</td>\n",
       "      <td>14.944286</td>\n",
       "      <td>2021-01-02</td>\n",
       "      <td>2021-01</td>\n",
       "      <td>8</td>\n",
       "      <td>50</td>\n",
       "      <td>0</td>\n",
       "    </tr>\n",
       "    <tr>\n",
       "      <th>6501</th>\n",
       "      <td>700</td>\n",
       "      <td>Айдар</td>\n",
       "      <td>22</td>\n",
       "      <td>Омск</td>\n",
       "      <td>free</td>\n",
       "      <td>846.932642</td>\n",
       "      <td>16.234663</td>\n",
       "      <td>2021-02-01</td>\n",
       "      <td>2021-02</td>\n",
       "      <td>8</td>\n",
       "      <td>50</td>\n",
       "      <td>0</td>\n",
       "    </tr>\n",
       "    <tr>\n",
       "      <th>6502</th>\n",
       "      <td>700</td>\n",
       "      <td>Айдар</td>\n",
       "      <td>22</td>\n",
       "      <td>Омск</td>\n",
       "      <td>free</td>\n",
       "      <td>4004.434142</td>\n",
       "      <td>20.016628</td>\n",
       "      <td>2021-02-04</td>\n",
       "      <td>2021-02</td>\n",
       "      <td>8</td>\n",
       "      <td>50</td>\n",
       "      <td>0</td>\n",
       "    </tr>\n",
       "    <tr>\n",
       "      <th>6503</th>\n",
       "      <td>700</td>\n",
       "      <td>Айдар</td>\n",
       "      <td>22</td>\n",
       "      <td>Омск</td>\n",
       "      <td>free</td>\n",
       "      <td>1205.911290</td>\n",
       "      <td>9.782872</td>\n",
       "      <td>2021-02-10</td>\n",
       "      <td>2021-02</td>\n",
       "      <td>8</td>\n",
       "      <td>50</td>\n",
       "      <td>0</td>\n",
       "    </tr>\n",
       "    <tr>\n",
       "      <th>6504</th>\n",
       "      <td>700</td>\n",
       "      <td>Айдар</td>\n",
       "      <td>22</td>\n",
       "      <td>Омск</td>\n",
       "      <td>free</td>\n",
       "      <td>3047.379435</td>\n",
       "      <td>17.427673</td>\n",
       "      <td>2021-02-14</td>\n",
       "      <td>2021-02</td>\n",
       "      <td>8</td>\n",
       "      <td>50</td>\n",
       "      <td>0</td>\n",
       "    </tr>\n",
       "    <tr>\n",
       "      <th>6505</th>\n",
       "      <td>700</td>\n",
       "      <td>Айдар</td>\n",
       "      <td>22</td>\n",
       "      <td>Омск</td>\n",
       "      <td>free</td>\n",
       "      <td>4342.002254</td>\n",
       "      <td>22.368009</td>\n",
       "      <td>2021-02-23</td>\n",
       "      <td>2021-02</td>\n",
       "      <td>8</td>\n",
       "      <td>50</td>\n",
       "      <td>0</td>\n",
       "    </tr>\n",
       "    <tr>\n",
       "      <th>6506</th>\n",
       "      <td>700</td>\n",
       "      <td>Айдар</td>\n",
       "      <td>22</td>\n",
       "      <td>Омск</td>\n",
       "      <td>free</td>\n",
       "      <td>3798.334905</td>\n",
       "      <td>18.243756</td>\n",
       "      <td>2021-03-03</td>\n",
       "      <td>2021-03</td>\n",
       "      <td>8</td>\n",
       "      <td>50</td>\n",
       "      <td>0</td>\n",
       "    </tr>\n",
       "    <tr>\n",
       "      <th>6507</th>\n",
       "      <td>700</td>\n",
       "      <td>Айдар</td>\n",
       "      <td>22</td>\n",
       "      <td>Омск</td>\n",
       "      <td>free</td>\n",
       "      <td>2984.551206</td>\n",
       "      <td>15.424899</td>\n",
       "      <td>2021-04-09</td>\n",
       "      <td>2021-04</td>\n",
       "      <td>8</td>\n",
       "      <td>50</td>\n",
       "      <td>0</td>\n",
       "    </tr>\n",
       "    <tr>\n",
       "      <th>6508</th>\n",
       "      <td>700</td>\n",
       "      <td>Айдар</td>\n",
       "      <td>22</td>\n",
       "      <td>Омск</td>\n",
       "      <td>free</td>\n",
       "      <td>3360.107141</td>\n",
       "      <td>16.765497</td>\n",
       "      <td>2021-06-12</td>\n",
       "      <td>2021-06</td>\n",
       "      <td>8</td>\n",
       "      <td>50</td>\n",
       "      <td>0</td>\n",
       "    </tr>\n",
       "    <tr>\n",
       "      <th>6509</th>\n",
       "      <td>700</td>\n",
       "      <td>Айдар</td>\n",
       "      <td>22</td>\n",
       "      <td>Омск</td>\n",
       "      <td>free</td>\n",
       "      <td>2567.543847</td>\n",
       "      <td>11.312160</td>\n",
       "      <td>2021-06-23</td>\n",
       "      <td>2021-06</td>\n",
       "      <td>8</td>\n",
       "      <td>50</td>\n",
       "      <td>0</td>\n",
       "    </tr>\n",
       "  </tbody>\n",
       "</table>\n",
       "</div>"
      ],
      "text/plain": [
       "      user_id   name  age  city subscription_type     distance   duration  \\\n",
       "6500      700  Айдар   22  Омск              free  2515.690719  14.944286   \n",
       "6501      700  Айдар   22  Омск              free   846.932642  16.234663   \n",
       "6502      700  Айдар   22  Омск              free  4004.434142  20.016628   \n",
       "6503      700  Айдар   22  Омск              free  1205.911290   9.782872   \n",
       "6504      700  Айдар   22  Омск              free  3047.379435  17.427673   \n",
       "6505      700  Айдар   22  Омск              free  4342.002254  22.368009   \n",
       "6506      700  Айдар   22  Омск              free  3798.334905  18.243756   \n",
       "6507      700  Айдар   22  Омск              free  2984.551206  15.424899   \n",
       "6508      700  Айдар   22  Омск              free  3360.107141  16.765497   \n",
       "6509      700  Айдар   22  Омск              free  2567.543847  11.312160   \n",
       "\n",
       "           date    month  minute_price  start_ride_price  subscription_fee  \n",
       "6500 2021-01-02  2021-01             8                50                 0  \n",
       "6501 2021-02-01  2021-02             8                50                 0  \n",
       "6502 2021-02-04  2021-02             8                50                 0  \n",
       "6503 2021-02-10  2021-02             8                50                 0  \n",
       "6504 2021-02-14  2021-02             8                50                 0  \n",
       "6505 2021-02-23  2021-02             8                50                 0  \n",
       "6506 2021-03-03  2021-03             8                50                 0  \n",
       "6507 2021-04-09  2021-04             8                50                 0  \n",
       "6508 2021-06-12  2021-06             8                50                 0  \n",
       "6509 2021-06-23  2021-06             8                50                 0  "
      ]
     },
     "metadata": {},
     "output_type": "display_data"
    },
    {
     "name": "stdout",
     "output_type": "stream",
     "text": [
      "<class 'pandas.core.frame.DataFrame'>\n",
      "Int64Index: 11568 entries, 6500 to 18067\n",
      "Data columns (total 12 columns):\n",
      " #   Column             Non-Null Count  Dtype         \n",
      "---  ------             --------------  -----         \n",
      " 0   user_id            11568 non-null  int64         \n",
      " 1   name               11568 non-null  object        \n",
      " 2   age                11568 non-null  int64         \n",
      " 3   city               11568 non-null  object        \n",
      " 4   subscription_type  11568 non-null  object        \n",
      " 5   distance           11568 non-null  float64       \n",
      " 6   duration           11568 non-null  float64       \n",
      " 7   date               11568 non-null  datetime64[ns]\n",
      " 8   month              11568 non-null  period[M]     \n",
      " 9   minute_price       11568 non-null  int64         \n",
      " 10  start_ride_price   11568 non-null  int64         \n",
      " 11  subscription_fee   11568 non-null  int64         \n",
      "dtypes: datetime64[ns](1), float64(2), int64(5), object(3), period[M](1)\n",
      "memory usage: 1.1+ MB\n"
     ]
    },
    {
     "data": {
      "text/plain": [
       "None"
      ]
     },
     "metadata": {},
     "output_type": "display_data"
    },
    {
     "data": {
      "text/html": [
       "<div>\n",
       "<style scoped>\n",
       "    .dataframe tbody tr th:only-of-type {\n",
       "        vertical-align: middle;\n",
       "    }\n",
       "\n",
       "    .dataframe tbody tr th {\n",
       "        vertical-align: top;\n",
       "    }\n",
       "\n",
       "    .dataframe thead th {\n",
       "        text-align: right;\n",
       "    }\n",
       "</style>\n",
       "<table border=\"1\" class=\"dataframe\">\n",
       "  <thead>\n",
       "    <tr style=\"text-align: right;\">\n",
       "      <th></th>\n",
       "      <th>user_id</th>\n",
       "      <th>name</th>\n",
       "      <th>age</th>\n",
       "      <th>city</th>\n",
       "      <th>subscription_type</th>\n",
       "      <th>distance</th>\n",
       "      <th>duration</th>\n",
       "      <th>date</th>\n",
       "      <th>month</th>\n",
       "      <th>minute_price</th>\n",
       "      <th>start_ride_price</th>\n",
       "      <th>subscription_fee</th>\n",
       "    </tr>\n",
       "  </thead>\n",
       "  <tbody>\n",
       "    <tr>\n",
       "      <th>0</th>\n",
       "      <td>1</td>\n",
       "      <td>Кира</td>\n",
       "      <td>22</td>\n",
       "      <td>Тюмень</td>\n",
       "      <td>ultra</td>\n",
       "      <td>4409.919140</td>\n",
       "      <td>25.599769</td>\n",
       "      <td>2021-01-01</td>\n",
       "      <td>2021-01</td>\n",
       "      <td>6</td>\n",
       "      <td>0</td>\n",
       "      <td>199</td>\n",
       "    </tr>\n",
       "    <tr>\n",
       "      <th>1</th>\n",
       "      <td>1</td>\n",
       "      <td>Кира</td>\n",
       "      <td>22</td>\n",
       "      <td>Тюмень</td>\n",
       "      <td>ultra</td>\n",
       "      <td>2617.592153</td>\n",
       "      <td>15.816871</td>\n",
       "      <td>2021-01-18</td>\n",
       "      <td>2021-01</td>\n",
       "      <td>6</td>\n",
       "      <td>0</td>\n",
       "      <td>199</td>\n",
       "    </tr>\n",
       "    <tr>\n",
       "      <th>2</th>\n",
       "      <td>1</td>\n",
       "      <td>Кира</td>\n",
       "      <td>22</td>\n",
       "      <td>Тюмень</td>\n",
       "      <td>ultra</td>\n",
       "      <td>754.159807</td>\n",
       "      <td>6.232113</td>\n",
       "      <td>2021-04-20</td>\n",
       "      <td>2021-04</td>\n",
       "      <td>6</td>\n",
       "      <td>0</td>\n",
       "      <td>199</td>\n",
       "    </tr>\n",
       "    <tr>\n",
       "      <th>3</th>\n",
       "      <td>1</td>\n",
       "      <td>Кира</td>\n",
       "      <td>22</td>\n",
       "      <td>Тюмень</td>\n",
       "      <td>ultra</td>\n",
       "      <td>2694.783254</td>\n",
       "      <td>18.511000</td>\n",
       "      <td>2021-08-11</td>\n",
       "      <td>2021-08</td>\n",
       "      <td>6</td>\n",
       "      <td>0</td>\n",
       "      <td>199</td>\n",
       "    </tr>\n",
       "    <tr>\n",
       "      <th>4</th>\n",
       "      <td>1</td>\n",
       "      <td>Кира</td>\n",
       "      <td>22</td>\n",
       "      <td>Тюмень</td>\n",
       "      <td>ultra</td>\n",
       "      <td>4028.687306</td>\n",
       "      <td>26.265803</td>\n",
       "      <td>2021-08-28</td>\n",
       "      <td>2021-08</td>\n",
       "      <td>6</td>\n",
       "      <td>0</td>\n",
       "      <td>199</td>\n",
       "    </tr>\n",
       "    <tr>\n",
       "      <th>5</th>\n",
       "      <td>1</td>\n",
       "      <td>Кира</td>\n",
       "      <td>22</td>\n",
       "      <td>Тюмень</td>\n",
       "      <td>ultra</td>\n",
       "      <td>2770.890808</td>\n",
       "      <td>16.650138</td>\n",
       "      <td>2021-10-09</td>\n",
       "      <td>2021-10</td>\n",
       "      <td>6</td>\n",
       "      <td>0</td>\n",
       "      <td>199</td>\n",
       "    </tr>\n",
       "    <tr>\n",
       "      <th>6</th>\n",
       "      <td>1</td>\n",
       "      <td>Кира</td>\n",
       "      <td>22</td>\n",
       "      <td>Тюмень</td>\n",
       "      <td>ultra</td>\n",
       "      <td>3039.020292</td>\n",
       "      <td>14.927879</td>\n",
       "      <td>2021-10-19</td>\n",
       "      <td>2021-10</td>\n",
       "      <td>6</td>\n",
       "      <td>0</td>\n",
       "      <td>199</td>\n",
       "    </tr>\n",
       "    <tr>\n",
       "      <th>7</th>\n",
       "      <td>1</td>\n",
       "      <td>Кира</td>\n",
       "      <td>22</td>\n",
       "      <td>Тюмень</td>\n",
       "      <td>ultra</td>\n",
       "      <td>2842.118050</td>\n",
       "      <td>23.117468</td>\n",
       "      <td>2021-11-06</td>\n",
       "      <td>2021-11</td>\n",
       "      <td>6</td>\n",
       "      <td>0</td>\n",
       "      <td>199</td>\n",
       "    </tr>\n",
       "    <tr>\n",
       "      <th>8</th>\n",
       "      <td>1</td>\n",
       "      <td>Кира</td>\n",
       "      <td>22</td>\n",
       "      <td>Тюмень</td>\n",
       "      <td>ultra</td>\n",
       "      <td>3412.690668</td>\n",
       "      <td>15.238072</td>\n",
       "      <td>2021-11-14</td>\n",
       "      <td>2021-11</td>\n",
       "      <td>6</td>\n",
       "      <td>0</td>\n",
       "      <td>199</td>\n",
       "    </tr>\n",
       "    <tr>\n",
       "      <th>9</th>\n",
       "      <td>1</td>\n",
       "      <td>Кира</td>\n",
       "      <td>22</td>\n",
       "      <td>Тюмень</td>\n",
       "      <td>ultra</td>\n",
       "      <td>748.690645</td>\n",
       "      <td>15.041884</td>\n",
       "      <td>2021-11-22</td>\n",
       "      <td>2021-11</td>\n",
       "      <td>6</td>\n",
       "      <td>0</td>\n",
       "      <td>199</td>\n",
       "    </tr>\n",
       "  </tbody>\n",
       "</table>\n",
       "</div>"
      ],
      "text/plain": [
       "   user_id  name  age    city subscription_type     distance   duration  \\\n",
       "0        1  Кира   22  Тюмень             ultra  4409.919140  25.599769   \n",
       "1        1  Кира   22  Тюмень             ultra  2617.592153  15.816871   \n",
       "2        1  Кира   22  Тюмень             ultra   754.159807   6.232113   \n",
       "3        1  Кира   22  Тюмень             ultra  2694.783254  18.511000   \n",
       "4        1  Кира   22  Тюмень             ultra  4028.687306  26.265803   \n",
       "5        1  Кира   22  Тюмень             ultra  2770.890808  16.650138   \n",
       "6        1  Кира   22  Тюмень             ultra  3039.020292  14.927879   \n",
       "7        1  Кира   22  Тюмень             ultra  2842.118050  23.117468   \n",
       "8        1  Кира   22  Тюмень             ultra  3412.690668  15.238072   \n",
       "9        1  Кира   22  Тюмень             ultra   748.690645  15.041884   \n",
       "\n",
       "        date    month  minute_price  start_ride_price  subscription_fee  \n",
       "0 2021-01-01  2021-01             6                 0               199  \n",
       "1 2021-01-18  2021-01             6                 0               199  \n",
       "2 2021-04-20  2021-04             6                 0               199  \n",
       "3 2021-08-11  2021-08             6                 0               199  \n",
       "4 2021-08-28  2021-08             6                 0               199  \n",
       "5 2021-10-09  2021-10             6                 0               199  \n",
       "6 2021-10-19  2021-10             6                 0               199  \n",
       "7 2021-11-06  2021-11             6                 0               199  \n",
       "8 2021-11-14  2021-11             6                 0               199  \n",
       "9 2021-11-22  2021-11             6                 0               199  "
      ]
     },
     "metadata": {},
     "output_type": "display_data"
    },
    {
     "name": "stdout",
     "output_type": "stream",
     "text": [
      "<class 'pandas.core.frame.DataFrame'>\n",
      "Int64Index: 6500 entries, 0 to 6499\n",
      "Data columns (total 12 columns):\n",
      " #   Column             Non-Null Count  Dtype         \n",
      "---  ------             --------------  -----         \n",
      " 0   user_id            6500 non-null   int64         \n",
      " 1   name               6500 non-null   object        \n",
      " 2   age                6500 non-null   int64         \n",
      " 3   city               6500 non-null   object        \n",
      " 4   subscription_type  6500 non-null   object        \n",
      " 5   distance           6500 non-null   float64       \n",
      " 6   duration           6500 non-null   float64       \n",
      " 7   date               6500 non-null   datetime64[ns]\n",
      " 8   month              6500 non-null   period[M]     \n",
      " 9   minute_price       6500 non-null   int64         \n",
      " 10  start_ride_price   6500 non-null   int64         \n",
      " 11  subscription_fee   6500 non-null   int64         \n",
      "dtypes: datetime64[ns](1), float64(2), int64(5), object(3), period[M](1)\n",
      "memory usage: 660.2+ KB\n"
     ]
    },
    {
     "data": {
      "text/plain": [
       "None"
      ]
     },
     "metadata": {},
     "output_type": "display_data"
    }
   ],
   "source": [
    "#создадим отдельные датафреймы для пользователей с платной подпиской и без нее и выведем по 30 строк и просмотри основную информацию\n",
    "df_free = users_rides_subscriptions_df.query('subscription_type == \"free\"')\n",
    "df_ultra = users_rides_subscriptions_df.query('subscription_type == \"ultra\"')\n",
    "\n",
    "display(df_free.head(10))\n",
    "display(df_free.info())\n",
    "display(df_ultra.head(10))\n",
    "display(df_ultra.info())"
   ]
  },
  {
   "cell_type": "code",
   "execution_count": 19,
   "id": "75402fa6",
   "metadata": {},
   "outputs": [
    {
     "data": {
      "image/png": "[encoded data removed]",
      "text/plain": [
       "<Figure size 1440x576 with 1 Axes>"
      ]
     },
     "metadata": {
      "needs_background": "light"
     },
     "output_type": "display_data"
    }
   ],
   "source": [
    "#Визуализируем информацию о расстоянии и времени поездок для пользователей обеих категорий\n",
    "\n",
    "df_free['distance'].hist(figsize=(20, 8), bins=35)\n",
    "plt.xlabel('Дистанция')\n",
    "plt.ylabel('Количество поездок')\n",
    "plt.title('Пользователи без подписки. Распределение поездок по расстоянию')\n",
    "\n",
    "# Отображение гистограмм\n",
    "plt.show()"
   ]
  },
  {
   "cell_type": "code",
   "execution_count": 20,
   "id": "6734737c",
   "metadata": {},
   "outputs": [
    {
     "data": {
      "image/png": "[encoded data removed]",
      "text/plain": [
       "<Figure size 1440x576 with 1 Axes>"
      ]
     },
     "metadata": {
      "needs_background": "light"
     },
     "output_type": "display_data"
    }
   ],
   "source": [
    "#Визуализируем информацию о расстоянии и времени поездок для пользователей обеих категорий\n",
    "\n",
    "df_ultra['distance'].hist(figsize=(20, 8), bins=35)\n",
    "plt.xlabel('Дистанция')\n",
    "plt.ylabel('Количество поездок')\n",
    "plt.title('Пользователи с платной подпиской. Распределение поездок по расстоянию')\n",
    "\n",
    "# Отображение гистограмм\n",
    "plt.show()"
   ]
  },
  {
   "cell_type": "code",
   "execution_count": 21,
   "id": "75795e8a",
   "metadata": {
    "scrolled": true
   },
   "outputs": [
    {
     "data": {
      "image/png": "[encoded data removed]",
      "text/plain": [
       "<Figure size 1440x576 with 1 Axes>"
      ]
     },
     "metadata": {
      "needs_background": "light"
     },
     "output_type": "display_data"
    }
   ],
   "source": [
    "# Создание нового графика\n",
    "plt.figure(figsize=(20, 8))\n",
    "\n",
    "# Построение первой гистограммы\n",
    "df_free['distance'].hist(alpha=0.8, bins=20, label='Пользователи без подписки')\n",
    "\n",
    "# Построение второй гистограммы\n",
    "df_ultra['distance'].hist(alpha=0.8, bins=35, label='Пользователи с платной подпиской')\n",
    "\n",
    "# Добавление подписей к осям и заголовка\n",
    "plt.xlabel('Дистанция')\n",
    "plt.ylabel('Количество поездок')\n",
    "plt.title('Сравнение распределения поездок по расстоянию')\n",
    "\n",
    "# Добавление легенды\n",
    "plt.legend()\n",
    "\n",
    "# Отображение гистограмм\n",
    "plt.show()"
   ]
  },
  {
   "cell_type": "code",
   "execution_count": 22,
   "id": "526e28dc",
   "metadata": {},
   "outputs": [
    {
     "data": {
      "image/png": "[encoded data removed]",
      "text/plain": [
       "<Figure size 1440x576 with 1 Axes>"
      ]
     },
     "metadata": {
      "needs_background": "light"
     },
     "output_type": "display_data"
    }
   ],
   "source": [
    "# Построение гистограммы\n",
    "df_free['duration'].hist(figsize=(20, 8), bins = 35)\n",
    "\n",
    "# Добавление подписей к осям и заголовка\n",
    "plt.xlabel('Длительность')\n",
    "plt.ylabel('Количество поездок')\n",
    "plt.title('Пользователи без подписки. Распределение поездок по длительности')\n",
    "\n",
    "# Отображение гистограммы\n",
    "plt.show()"
   ]
  },
  {
   "cell_type": "code",
   "execution_count": 23,
   "id": "72d402fa",
   "metadata": {},
   "outputs": [
    {
     "data": {
      "image/png": "[encoded data removed]",
      "text/plain": [
       "<Figure size 1440x576 with 1 Axes>"
      ]
     },
     "metadata": {
      "needs_background": "light"
     },
     "output_type": "display_data"
    }
   ],
   "source": [
    "# Построение гистограммы\n",
    "df_ultra['duration'].hist(figsize=(20, 8), bins = 35)\n",
    "\n",
    "# Добавление подписей к осям и заголовка\n",
    "plt.xlabel('Длительность')\n",
    "plt.ylabel('Количество поездок')\n",
    "plt.title('Пользователи с платной подпиской. Распределение поездок по длительности')\n",
    "\n",
    "# Отображение гистограммы\n",
    "plt.show()"
   ]
  },
  {
   "cell_type": "code",
   "execution_count": 24,
   "id": "54fdfc08",
   "metadata": {},
   "outputs": [
    {
     "data": {
      "image/png": "[encoded data removed]",
      "text/plain": [
       "<Figure size 1440x576 with 1 Axes>"
      ]
     },
     "metadata": {
      "needs_background": "light"
     },
     "output_type": "display_data"
    }
   ],
   "source": [
    "# Создание нового графика\n",
    "plt.figure(figsize=(20, 8))\n",
    "\n",
    "# Построение первой гистограммы\n",
    "df_free['duration'].hist(alpha=0.8, bins=35, label='Пользователи без подписки')\n",
    "\n",
    "# Построение второй гистограммы\n",
    "df_ultra['duration'].hist(alpha=0.8, bins=35, label='Пользователи с платной подпиской')\n",
    "\n",
    "# Добавление подписей к осям и заголовка\n",
    "plt.xlabel('Длительность поездки')\n",
    "plt.ylabel('Количество поездок')\n",
    "plt.title('Сравнение распределения поездок по длительности')\n",
    "\n",
    "# Добавление легенды\n",
    "plt.legend()\n",
    "\n",
    "# Отображение гистограмм\n",
    "plt.show()"
   ]
  },
  {
   "cell_type": "markdown",
   "id": "d9c9ccd6",
   "metadata": {
    "scrolled": false
   },
   "source": [
    "Видим, что пользователи без платной подписки чаще используют самокаты на короткие расстояния. И диапазон расстояний шире. Пользователи с платной подпиской пользуются арендой чаще на более длинных поездках, поездок меньше 2000 м у них очень мало.\n",
    "\n",
    "Распределение пользователей по длительности в зависимости от наличия подписки отличается мало. Видим, что синяя гистограмма больше, что объясняется большим числом поездок. В целом в распределении нет больших отличий"
   ]
  },
  {
   "cell_type": "markdown",
   "id": "709740d1",
   "metadata": {},
   "source": [
    "## Подсчёт выручки"
   ]
  },
  {
   "cell_type": "markdown",
   "id": "409b7b54",
   "metadata": {},
   "source": [
    "Выполняем округление продолжительности каждой поездки в каждой строке"
   ]
  },
  {
   "cell_type": "code",
   "execution_count": 25,
   "id": "bec7ed73",
   "metadata": {
    "scrolled": true
   },
   "outputs": [
    {
     "data": {
      "text/html": [
       "<div>\n",
       "<style scoped>\n",
       "    .dataframe tbody tr th:only-of-type {\n",
       "        vertical-align: middle;\n",
       "    }\n",
       "\n",
       "    .dataframe tbody tr th {\n",
       "        vertical-align: top;\n",
       "    }\n",
       "\n",
       "    .dataframe thead th {\n",
       "        text-align: right;\n",
       "    }\n",
       "</style>\n",
       "<table border=\"1\" class=\"dataframe\">\n",
       "  <thead>\n",
       "    <tr style=\"text-align: right;\">\n",
       "      <th></th>\n",
       "      <th>user_id</th>\n",
       "      <th>name</th>\n",
       "      <th>age</th>\n",
       "      <th>city</th>\n",
       "      <th>subscription_type</th>\n",
       "      <th>distance</th>\n",
       "      <th>duration</th>\n",
       "      <th>date</th>\n",
       "      <th>month</th>\n",
       "      <th>minute_price</th>\n",
       "      <th>start_ride_price</th>\n",
       "      <th>subscription_fee</th>\n",
       "    </tr>\n",
       "  </thead>\n",
       "  <tbody>\n",
       "    <tr>\n",
       "      <th>0</th>\n",
       "      <td>1</td>\n",
       "      <td>Кира</td>\n",
       "      <td>22</td>\n",
       "      <td>Тюмень</td>\n",
       "      <td>ultra</td>\n",
       "      <td>4409.919140</td>\n",
       "      <td>26.0</td>\n",
       "      <td>2021-01-01</td>\n",
       "      <td>2021-01</td>\n",
       "      <td>6</td>\n",
       "      <td>0</td>\n",
       "      <td>199</td>\n",
       "    </tr>\n",
       "    <tr>\n",
       "      <th>1</th>\n",
       "      <td>1</td>\n",
       "      <td>Кира</td>\n",
       "      <td>22</td>\n",
       "      <td>Тюмень</td>\n",
       "      <td>ultra</td>\n",
       "      <td>2617.592153</td>\n",
       "      <td>16.0</td>\n",
       "      <td>2021-01-18</td>\n",
       "      <td>2021-01</td>\n",
       "      <td>6</td>\n",
       "      <td>0</td>\n",
       "      <td>199</td>\n",
       "    </tr>\n",
       "    <tr>\n",
       "      <th>2</th>\n",
       "      <td>1</td>\n",
       "      <td>Кира</td>\n",
       "      <td>22</td>\n",
       "      <td>Тюмень</td>\n",
       "      <td>ultra</td>\n",
       "      <td>754.159807</td>\n",
       "      <td>7.0</td>\n",
       "      <td>2021-04-20</td>\n",
       "      <td>2021-04</td>\n",
       "      <td>6</td>\n",
       "      <td>0</td>\n",
       "      <td>199</td>\n",
       "    </tr>\n",
       "    <tr>\n",
       "      <th>3</th>\n",
       "      <td>1</td>\n",
       "      <td>Кира</td>\n",
       "      <td>22</td>\n",
       "      <td>Тюмень</td>\n",
       "      <td>ultra</td>\n",
       "      <td>2694.783254</td>\n",
       "      <td>19.0</td>\n",
       "      <td>2021-08-11</td>\n",
       "      <td>2021-08</td>\n",
       "      <td>6</td>\n",
       "      <td>0</td>\n",
       "      <td>199</td>\n",
       "    </tr>\n",
       "    <tr>\n",
       "      <th>4</th>\n",
       "      <td>1</td>\n",
       "      <td>Кира</td>\n",
       "      <td>22</td>\n",
       "      <td>Тюмень</td>\n",
       "      <td>ultra</td>\n",
       "      <td>4028.687306</td>\n",
       "      <td>27.0</td>\n",
       "      <td>2021-08-28</td>\n",
       "      <td>2021-08</td>\n",
       "      <td>6</td>\n",
       "      <td>0</td>\n",
       "      <td>199</td>\n",
       "    </tr>\n",
       "  </tbody>\n",
       "</table>\n",
       "</div>"
      ],
      "text/plain": [
       "   user_id  name  age    city subscription_type     distance  duration  \\\n",
       "0        1  Кира   22  Тюмень             ultra  4409.919140      26.0   \n",
       "1        1  Кира   22  Тюмень             ultra  2617.592153      16.0   \n",
       "2        1  Кира   22  Тюмень             ultra   754.159807       7.0   \n",
       "3        1  Кира   22  Тюмень             ultra  2694.783254      19.0   \n",
       "4        1  Кира   22  Тюмень             ultra  4028.687306      27.0   \n",
       "\n",
       "        date    month  minute_price  start_ride_price  subscription_fee  \n",
       "0 2021-01-01  2021-01             6                 0               199  \n",
       "1 2021-01-18  2021-01             6                 0               199  \n",
       "2 2021-04-20  2021-04             6                 0               199  \n",
       "3 2021-08-11  2021-08             6                 0               199  \n",
       "4 2021-08-28  2021-08             6                 0               199  "
      ]
     },
     "metadata": {},
     "output_type": "display_data"
    }
   ],
   "source": [
    "# Округлим значение из столбца duration с помощью «потолка»\n",
    "users_rides_subscriptions_df['duration'] = np.ceil(users_rides_subscriptions_df['duration']) \n",
    "display(users_rides_subscriptions_df.head(5))"
   ]
  },
  {
   "cell_type": "markdown",
   "id": "21e1afcd",
   "metadata": {},
   "source": [
    "Сгруппируем по user_id датафреймы с суммарным расстоянием, количеством поездок и суммарным временем. Затем уже выполним агрегацию данных"
   ]
  },
  {
   "cell_type": "code",
   "execution_count": 26,
   "id": "62085c1f",
   "metadata": {},
   "outputs": [
    {
     "data": {
      "text/html": [
       "<div>\n",
       "<style scoped>\n",
       "    .dataframe tbody tr th:only-of-type {\n",
       "        vertical-align: middle;\n",
       "    }\n",
       "\n",
       "    .dataframe tbody tr th {\n",
       "        vertical-align: top;\n",
       "    }\n",
       "\n",
       "    .dataframe thead th {\n",
       "        text-align: right;\n",
       "    }\n",
       "</style>\n",
       "<table border=\"1\" class=\"dataframe\">\n",
       "  <thead>\n",
       "    <tr style=\"text-align: right;\">\n",
       "      <th></th>\n",
       "      <th>subscription_type</th>\n",
       "      <th>total_distance</th>\n",
       "      <th>total_duration</th>\n",
       "      <th>trip_count</th>\n",
       "      <th>minute_price</th>\n",
       "      <th>start_ride_price</th>\n",
       "      <th>subscription_fee</th>\n",
       "    </tr>\n",
       "  </thead>\n",
       "  <tbody>\n",
       "    <tr>\n",
       "      <th>0</th>\n",
       "      <td>ultra</td>\n",
       "      <td>7027.511294</td>\n",
       "      <td>42.0</td>\n",
       "      <td>2</td>\n",
       "      <td>6</td>\n",
       "      <td>0</td>\n",
       "      <td>199</td>\n",
       "    </tr>\n",
       "    <tr>\n",
       "      <th>1</th>\n",
       "      <td>ultra</td>\n",
       "      <td>754.159807</td>\n",
       "      <td>7.0</td>\n",
       "      <td>1</td>\n",
       "      <td>6</td>\n",
       "      <td>0</td>\n",
       "      <td>199</td>\n",
       "    </tr>\n",
       "    <tr>\n",
       "      <th>2</th>\n",
       "      <td>ultra</td>\n",
       "      <td>6723.470560</td>\n",
       "      <td>46.0</td>\n",
       "      <td>2</td>\n",
       "      <td>6</td>\n",
       "      <td>0</td>\n",
       "      <td>199</td>\n",
       "    </tr>\n",
       "    <tr>\n",
       "      <th>3</th>\n",
       "      <td>ultra</td>\n",
       "      <td>5809.911100</td>\n",
       "      <td>32.0</td>\n",
       "      <td>2</td>\n",
       "      <td>6</td>\n",
       "      <td>0</td>\n",
       "      <td>199</td>\n",
       "    </tr>\n",
       "    <tr>\n",
       "      <th>4</th>\n",
       "      <td>ultra</td>\n",
       "      <td>7003.499363</td>\n",
       "      <td>56.0</td>\n",
       "      <td>3</td>\n",
       "      <td>6</td>\n",
       "      <td>0</td>\n",
       "      <td>199</td>\n",
       "    </tr>\n",
       "    <tr>\n",
       "      <th>5</th>\n",
       "      <td>ultra</td>\n",
       "      <td>6751.629942</td>\n",
       "      <td>28.0</td>\n",
       "      <td>2</td>\n",
       "      <td>6</td>\n",
       "      <td>0</td>\n",
       "      <td>199</td>\n",
       "    </tr>\n",
       "    <tr>\n",
       "      <th>6</th>\n",
       "      <td>ultra</td>\n",
       "      <td>10187.723006</td>\n",
       "      <td>63.0</td>\n",
       "      <td>3</td>\n",
       "      <td>6</td>\n",
       "      <td>0</td>\n",
       "      <td>199</td>\n",
       "    </tr>\n",
       "    <tr>\n",
       "      <th>7</th>\n",
       "      <td>ultra</td>\n",
       "      <td>6164.381824</td>\n",
       "      <td>40.0</td>\n",
       "      <td>2</td>\n",
       "      <td>6</td>\n",
       "      <td>0</td>\n",
       "      <td>199</td>\n",
       "    </tr>\n",
       "    <tr>\n",
       "      <th>8</th>\n",
       "      <td>ultra</td>\n",
       "      <td>3255.338202</td>\n",
       "      <td>14.0</td>\n",
       "      <td>1</td>\n",
       "      <td>6</td>\n",
       "      <td>0</td>\n",
       "      <td>199</td>\n",
       "    </tr>\n",
       "    <tr>\n",
       "      <th>9</th>\n",
       "      <td>ultra</td>\n",
       "      <td>6780.722964</td>\n",
       "      <td>48.0</td>\n",
       "      <td>2</td>\n",
       "      <td>6</td>\n",
       "      <td>0</td>\n",
       "      <td>199</td>\n",
       "    </tr>\n",
       "  </tbody>\n",
       "</table>\n",
       "</div>"
      ],
      "text/plain": [
       "  subscription_type  total_distance  total_duration  trip_count  minute_price  \\\n",
       "0             ultra     7027.511294            42.0           2             6   \n",
       "1             ultra      754.159807             7.0           1             6   \n",
       "2             ultra     6723.470560            46.0           2             6   \n",
       "3             ultra     5809.911100            32.0           2             6   \n",
       "4             ultra     7003.499363            56.0           3             6   \n",
       "5             ultra     6751.629942            28.0           2             6   \n",
       "6             ultra    10187.723006            63.0           3             6   \n",
       "7             ultra     6164.381824            40.0           2             6   \n",
       "8             ultra     3255.338202            14.0           1             6   \n",
       "9             ultra     6780.722964            48.0           2             6   \n",
       "\n",
       "   start_ride_price  subscription_fee  \n",
       "0                 0               199  \n",
       "1                 0               199  \n",
       "2                 0               199  \n",
       "3                 0               199  \n",
       "4                 0               199  \n",
       "5                 0               199  \n",
       "6                 0               199  \n",
       "7                 0               199  \n",
       "8                 0               199  \n",
       "9                 0               199  "
      ]
     },
     "metadata": {},
     "output_type": "display_data"
    },
    {
     "name": "stdout",
     "output_type": "stream",
     "text": [
      "<class 'pandas.core.frame.DataFrame'>\n",
      "Int64Index: 11331 entries, 0 to 11330\n",
      "Data columns (total 7 columns):\n",
      " #   Column             Non-Null Count  Dtype  \n",
      "---  ------             --------------  -----  \n",
      " 0   subscription_type  11331 non-null  object \n",
      " 1   total_distance     11331 non-null  float64\n",
      " 2   total_duration     11331 non-null  float64\n",
      " 3   trip_count         11331 non-null  int64  \n",
      " 4   minute_price       11331 non-null  int64  \n",
      " 5   start_ride_price   11331 non-null  int64  \n",
      " 6   subscription_fee   11331 non-null  int64  \n",
      "dtypes: float64(2), int64(4), object(1)\n",
      "memory usage: 708.2+ KB\n"
     ]
    },
    {
     "data": {
      "text/plain": [
       "None"
      ]
     },
     "metadata": {},
     "output_type": "display_data"
    }
   ],
   "source": [
    "# Группировка по пользователю и месяцу\n",
    "grouped = users_rides_subscriptions_df.groupby(['user_id', pd.Grouper(key='date', freq='M')])\n",
    "\n",
    "# Агрегация данных\n",
    "grouped_aggregated = grouped.agg({'subscription_type': 'first', 'distance': 'sum', 'duration': 'sum', 'date': 'count'})\n",
    "\n",
    "# Переименование столбцов\n",
    "grouped_aggregated.rename(columns={'distance': 'total_distance', 'duration': 'total_duration', 'date': 'trip_count'}, inplace=True)\n",
    "\n",
    "#расширим таблицу данными о подписках для дальнейшего подсчета выручки\n",
    "grouped_aggregated = grouped_aggregated.merge(subscriptions, on='subscription_type', how='inner')\n",
    "\n",
    "# просмотрим верхние 25 строк и общую информацию\n",
    "display(grouped_aggregated.head(10))\n",
    "display(grouped_aggregated.info())"
   ]
  },
  {
   "cell_type": "code",
   "execution_count": 27,
   "id": "630b0a2c",
   "metadata": {},
   "outputs": [
    {
     "data": {
      "text/html": [
       "<div>\n",
       "<style scoped>\n",
       "    .dataframe tbody tr th:only-of-type {\n",
       "        vertical-align: middle;\n",
       "    }\n",
       "\n",
       "    .dataframe tbody tr th {\n",
       "        vertical-align: top;\n",
       "    }\n",
       "\n",
       "    .dataframe thead th {\n",
       "        text-align: right;\n",
       "    }\n",
       "</style>\n",
       "<table border=\"1\" class=\"dataframe\">\n",
       "  <thead>\n",
       "    <tr style=\"text-align: right;\">\n",
       "      <th></th>\n",
       "      <th>subscription_type</th>\n",
       "      <th>total_distance</th>\n",
       "      <th>total_duration</th>\n",
       "      <th>trip_count</th>\n",
       "      <th>minute_price</th>\n",
       "      <th>start_ride_price</th>\n",
       "      <th>subscription_fee</th>\n",
       "      <th>revenue</th>\n",
       "    </tr>\n",
       "  </thead>\n",
       "  <tbody>\n",
       "    <tr>\n",
       "      <th>0</th>\n",
       "      <td>ultra</td>\n",
       "      <td>7027.511294</td>\n",
       "      <td>42.0</td>\n",
       "      <td>2</td>\n",
       "      <td>6</td>\n",
       "      <td>0</td>\n",
       "      <td>199</td>\n",
       "      <td>451.0</td>\n",
       "    </tr>\n",
       "    <tr>\n",
       "      <th>1</th>\n",
       "      <td>ultra</td>\n",
       "      <td>754.159807</td>\n",
       "      <td>7.0</td>\n",
       "      <td>1</td>\n",
       "      <td>6</td>\n",
       "      <td>0</td>\n",
       "      <td>199</td>\n",
       "      <td>241.0</td>\n",
       "    </tr>\n",
       "    <tr>\n",
       "      <th>2</th>\n",
       "      <td>ultra</td>\n",
       "      <td>6723.470560</td>\n",
       "      <td>46.0</td>\n",
       "      <td>2</td>\n",
       "      <td>6</td>\n",
       "      <td>0</td>\n",
       "      <td>199</td>\n",
       "      <td>475.0</td>\n",
       "    </tr>\n",
       "    <tr>\n",
       "      <th>3</th>\n",
       "      <td>ultra</td>\n",
       "      <td>5809.911100</td>\n",
       "      <td>32.0</td>\n",
       "      <td>2</td>\n",
       "      <td>6</td>\n",
       "      <td>0</td>\n",
       "      <td>199</td>\n",
       "      <td>391.0</td>\n",
       "    </tr>\n",
       "    <tr>\n",
       "      <th>4</th>\n",
       "      <td>ultra</td>\n",
       "      <td>7003.499363</td>\n",
       "      <td>56.0</td>\n",
       "      <td>3</td>\n",
       "      <td>6</td>\n",
       "      <td>0</td>\n",
       "      <td>199</td>\n",
       "      <td>535.0</td>\n",
       "    </tr>\n",
       "    <tr>\n",
       "      <th>5</th>\n",
       "      <td>ultra</td>\n",
       "      <td>6751.629942</td>\n",
       "      <td>28.0</td>\n",
       "      <td>2</td>\n",
       "      <td>6</td>\n",
       "      <td>0</td>\n",
       "      <td>199</td>\n",
       "      <td>367.0</td>\n",
       "    </tr>\n",
       "    <tr>\n",
       "      <th>6</th>\n",
       "      <td>ultra</td>\n",
       "      <td>10187.723006</td>\n",
       "      <td>63.0</td>\n",
       "      <td>3</td>\n",
       "      <td>6</td>\n",
       "      <td>0</td>\n",
       "      <td>199</td>\n",
       "      <td>577.0</td>\n",
       "    </tr>\n",
       "    <tr>\n",
       "      <th>7</th>\n",
       "      <td>ultra</td>\n",
       "      <td>6164.381824</td>\n",
       "      <td>40.0</td>\n",
       "      <td>2</td>\n",
       "      <td>6</td>\n",
       "      <td>0</td>\n",
       "      <td>199</td>\n",
       "      <td>439.0</td>\n",
       "    </tr>\n",
       "    <tr>\n",
       "      <th>8</th>\n",
       "      <td>ultra</td>\n",
       "      <td>3255.338202</td>\n",
       "      <td>14.0</td>\n",
       "      <td>1</td>\n",
       "      <td>6</td>\n",
       "      <td>0</td>\n",
       "      <td>199</td>\n",
       "      <td>283.0</td>\n",
       "    </tr>\n",
       "    <tr>\n",
       "      <th>9</th>\n",
       "      <td>ultra</td>\n",
       "      <td>6780.722964</td>\n",
       "      <td>48.0</td>\n",
       "      <td>2</td>\n",
       "      <td>6</td>\n",
       "      <td>0</td>\n",
       "      <td>199</td>\n",
       "      <td>487.0</td>\n",
       "    </tr>\n",
       "  </tbody>\n",
       "</table>\n",
       "</div>"
      ],
      "text/plain": [
       "  subscription_type  total_distance  total_duration  trip_count  minute_price  \\\n",
       "0             ultra     7027.511294            42.0           2             6   \n",
       "1             ultra      754.159807             7.0           1             6   \n",
       "2             ultra     6723.470560            46.0           2             6   \n",
       "3             ultra     5809.911100            32.0           2             6   \n",
       "4             ultra     7003.499363            56.0           3             6   \n",
       "5             ultra     6751.629942            28.0           2             6   \n",
       "6             ultra    10187.723006            63.0           3             6   \n",
       "7             ultra     6164.381824            40.0           2             6   \n",
       "8             ultra     3255.338202            14.0           1             6   \n",
       "9             ultra     6780.722964            48.0           2             6   \n",
       "\n",
       "   start_ride_price  subscription_fee  revenue  \n",
       "0                 0               199    451.0  \n",
       "1                 0               199    241.0  \n",
       "2                 0               199    475.0  \n",
       "3                 0               199    391.0  \n",
       "4                 0               199    535.0  \n",
       "5                 0               199    367.0  \n",
       "6                 0               199    577.0  \n",
       "7                 0               199    439.0  \n",
       "8                 0               199    283.0  \n",
       "9                 0               199    487.0  "
      ]
     },
     "metadata": {},
     "output_type": "display_data"
    }
   ],
   "source": [
    "#Добавим столбец с выручкой\n",
    "grouped_aggregated['revenue'] = grouped_aggregated['trip_count']*grouped_aggregated['start_ride_price'] + grouped_aggregated['total_duration']*grouped_aggregated['minute_price'] + grouped_aggregated['subscription_fee']\n",
    "display(grouped_aggregated.head(10))"
   ]
  },
  {
   "cell_type": "code",
   "execution_count": 28,
   "id": "b0d2def8",
   "metadata": {
    "scrolled": true
   },
   "outputs": [
    {
     "data": {
      "text/html": [
       "<div>\n",
       "<style scoped>\n",
       "    .dataframe tbody tr th:only-of-type {\n",
       "        vertical-align: middle;\n",
       "    }\n",
       "\n",
       "    .dataframe tbody tr th {\n",
       "        vertical-align: top;\n",
       "    }\n",
       "\n",
       "    .dataframe thead th {\n",
       "        text-align: right;\n",
       "    }\n",
       "</style>\n",
       "<table border=\"1\" class=\"dataframe\">\n",
       "  <thead>\n",
       "    <tr style=\"text-align: right;\">\n",
       "      <th></th>\n",
       "      <th>subscription_type</th>\n",
       "      <th>total_distance</th>\n",
       "      <th>total_duration</th>\n",
       "      <th>trip_count</th>\n",
       "      <th>minute_price</th>\n",
       "      <th>start_ride_price</th>\n",
       "      <th>subscription_fee</th>\n",
       "      <th>revenue</th>\n",
       "    </tr>\n",
       "  </thead>\n",
       "  <tbody>\n",
       "    <tr>\n",
       "      <th>4533</th>\n",
       "      <td>free</td>\n",
       "      <td>2515.690719</td>\n",
       "      <td>15.0</td>\n",
       "      <td>1</td>\n",
       "      <td>8</td>\n",
       "      <td>50</td>\n",
       "      <td>0</td>\n",
       "      <td>170.0</td>\n",
       "    </tr>\n",
       "    <tr>\n",
       "      <th>4534</th>\n",
       "      <td>free</td>\n",
       "      <td>13446.659764</td>\n",
       "      <td>89.0</td>\n",
       "      <td>5</td>\n",
       "      <td>8</td>\n",
       "      <td>50</td>\n",
       "      <td>0</td>\n",
       "      <td>962.0</td>\n",
       "    </tr>\n",
       "    <tr>\n",
       "      <th>4535</th>\n",
       "      <td>free</td>\n",
       "      <td>3798.334905</td>\n",
       "      <td>19.0</td>\n",
       "      <td>1</td>\n",
       "      <td>8</td>\n",
       "      <td>50</td>\n",
       "      <td>0</td>\n",
       "      <td>202.0</td>\n",
       "    </tr>\n",
       "    <tr>\n",
       "      <th>4536</th>\n",
       "      <td>free</td>\n",
       "      <td>2984.551206</td>\n",
       "      <td>16.0</td>\n",
       "      <td>1</td>\n",
       "      <td>8</td>\n",
       "      <td>50</td>\n",
       "      <td>0</td>\n",
       "      <td>178.0</td>\n",
       "    </tr>\n",
       "    <tr>\n",
       "      <th>4537</th>\n",
       "      <td>free</td>\n",
       "      <td>5927.650988</td>\n",
       "      <td>29.0</td>\n",
       "      <td>2</td>\n",
       "      <td>8</td>\n",
       "      <td>50</td>\n",
       "      <td>0</td>\n",
       "      <td>332.0</td>\n",
       "    </tr>\n",
       "  </tbody>\n",
       "</table>\n",
       "</div>"
      ],
      "text/plain": [
       "     subscription_type  total_distance  total_duration  trip_count  \\\n",
       "4533              free     2515.690719            15.0           1   \n",
       "4534              free    13446.659764            89.0           5   \n",
       "4535              free     3798.334905            19.0           1   \n",
       "4536              free     2984.551206            16.0           1   \n",
       "4537              free     5927.650988            29.0           2   \n",
       "\n",
       "      minute_price  start_ride_price  subscription_fee  revenue  \n",
       "4533             8                50                 0    170.0  \n",
       "4534             8                50                 0    962.0  \n",
       "4535             8                50                 0    202.0  \n",
       "4536             8                50                 0    178.0  \n",
       "4537             8                50                 0    332.0  "
      ]
     },
     "metadata": {},
     "output_type": "display_data"
    },
    {
     "name": "stdout",
     "output_type": "stream",
     "text": [
      "<class 'pandas.core.frame.DataFrame'>\n",
      "Int64Index: 6798 entries, 4533 to 11330\n",
      "Data columns (total 8 columns):\n",
      " #   Column             Non-Null Count  Dtype  \n",
      "---  ------             --------------  -----  \n",
      " 0   subscription_type  6798 non-null   object \n",
      " 1   total_distance     6798 non-null   float64\n",
      " 2   total_duration     6798 non-null   float64\n",
      " 3   trip_count         6798 non-null   int64  \n",
      " 4   minute_price       6798 non-null   int64  \n",
      " 5   start_ride_price   6798 non-null   int64  \n",
      " 6   subscription_fee   6798 non-null   int64  \n",
      " 7   revenue            6798 non-null   float64\n",
      "dtypes: float64(3), int64(4), object(1)\n",
      "memory usage: 478.0+ KB\n"
     ]
    },
    {
     "data": {
      "text/plain": [
       "None"
      ]
     },
     "metadata": {},
     "output_type": "display_data"
    },
    {
     "data": {
      "text/html": [
       "<div>\n",
       "<style scoped>\n",
       "    .dataframe tbody tr th:only-of-type {\n",
       "        vertical-align: middle;\n",
       "    }\n",
       "\n",
       "    .dataframe tbody tr th {\n",
       "        vertical-align: top;\n",
       "    }\n",
       "\n",
       "    .dataframe thead th {\n",
       "        text-align: right;\n",
       "    }\n",
       "</style>\n",
       "<table border=\"1\" class=\"dataframe\">\n",
       "  <thead>\n",
       "    <tr style=\"text-align: right;\">\n",
       "      <th></th>\n",
       "      <th>subscription_type</th>\n",
       "      <th>total_distance</th>\n",
       "      <th>total_duration</th>\n",
       "      <th>trip_count</th>\n",
       "      <th>minute_price</th>\n",
       "      <th>start_ride_price</th>\n",
       "      <th>subscription_fee</th>\n",
       "      <th>revenue</th>\n",
       "    </tr>\n",
       "  </thead>\n",
       "  <tbody>\n",
       "    <tr>\n",
       "      <th>0</th>\n",
       "      <td>ultra</td>\n",
       "      <td>7027.511294</td>\n",
       "      <td>42.0</td>\n",
       "      <td>2</td>\n",
       "      <td>6</td>\n",
       "      <td>0</td>\n",
       "      <td>199</td>\n",
       "      <td>451.0</td>\n",
       "    </tr>\n",
       "    <tr>\n",
       "      <th>1</th>\n",
       "      <td>ultra</td>\n",
       "      <td>754.159807</td>\n",
       "      <td>7.0</td>\n",
       "      <td>1</td>\n",
       "      <td>6</td>\n",
       "      <td>0</td>\n",
       "      <td>199</td>\n",
       "      <td>241.0</td>\n",
       "    </tr>\n",
       "    <tr>\n",
       "      <th>2</th>\n",
       "      <td>ultra</td>\n",
       "      <td>6723.470560</td>\n",
       "      <td>46.0</td>\n",
       "      <td>2</td>\n",
       "      <td>6</td>\n",
       "      <td>0</td>\n",
       "      <td>199</td>\n",
       "      <td>475.0</td>\n",
       "    </tr>\n",
       "    <tr>\n",
       "      <th>3</th>\n",
       "      <td>ultra</td>\n",
       "      <td>5809.911100</td>\n",
       "      <td>32.0</td>\n",
       "      <td>2</td>\n",
       "      <td>6</td>\n",
       "      <td>0</td>\n",
       "      <td>199</td>\n",
       "      <td>391.0</td>\n",
       "    </tr>\n",
       "    <tr>\n",
       "      <th>4</th>\n",
       "      <td>ultra</td>\n",
       "      <td>7003.499363</td>\n",
       "      <td>56.0</td>\n",
       "      <td>3</td>\n",
       "      <td>6</td>\n",
       "      <td>0</td>\n",
       "      <td>199</td>\n",
       "      <td>535.0</td>\n",
       "    </tr>\n",
       "  </tbody>\n",
       "</table>\n",
       "</div>"
      ],
      "text/plain": [
       "  subscription_type  total_distance  total_duration  trip_count  minute_price  \\\n",
       "0             ultra     7027.511294            42.0           2             6   \n",
       "1             ultra      754.159807             7.0           1             6   \n",
       "2             ultra     6723.470560            46.0           2             6   \n",
       "3             ultra     5809.911100            32.0           2             6   \n",
       "4             ultra     7003.499363            56.0           3             6   \n",
       "\n",
       "   start_ride_price  subscription_fee  revenue  \n",
       "0                 0               199    451.0  \n",
       "1                 0               199    241.0  \n",
       "2                 0               199    475.0  \n",
       "3                 0               199    391.0  \n",
       "4                 0               199    535.0  "
      ]
     },
     "metadata": {},
     "output_type": "display_data"
    },
    {
     "name": "stdout",
     "output_type": "stream",
     "text": [
      "<class 'pandas.core.frame.DataFrame'>\n",
      "Int64Index: 4533 entries, 0 to 4532\n",
      "Data columns (total 8 columns):\n",
      " #   Column             Non-Null Count  Dtype  \n",
      "---  ------             --------------  -----  \n",
      " 0   subscription_type  4533 non-null   object \n",
      " 1   total_distance     4533 non-null   float64\n",
      " 2   total_duration     4533 non-null   float64\n",
      " 3   trip_count         4533 non-null   int64  \n",
      " 4   minute_price       4533 non-null   int64  \n",
      " 5   start_ride_price   4533 non-null   int64  \n",
      " 6   subscription_fee   4533 non-null   int64  \n",
      " 7   revenue            4533 non-null   float64\n",
      "dtypes: float64(3), int64(4), object(1)\n",
      "memory usage: 318.7+ KB\n"
     ]
    },
    {
     "data": {
      "text/plain": [
       "None"
      ]
     },
     "metadata": {},
     "output_type": "display_data"
    }
   ],
   "source": [
    "#разделим наш датафрейм на два по типу подписки для дальнейших проверок гипотез\n",
    "agg_free = grouped_aggregated.query('subscription_type == \"free\"')\n",
    "agg_ultra = grouped_aggregated.query('subscription_type == \"ultra\"')\n",
    "\n",
    "display(agg_free.head())\n",
    "display(agg_free.info())\n",
    "display(agg_ultra.head())\n",
    "display(agg_ultra.info())"
   ]
  },
  {
   "cell_type": "markdown",
   "id": "2c519a82",
   "metadata": {},
   "source": [
    "Мы создали датафреймы для пользователей с платной подпиской и без нее, посчитали количество поездок, расстояние, время, выручку за каждый месяц каждого пользователя. Можно переходить к проверке гипотез"
   ]
  },
  {
   "cell_type": "markdown",
   "id": "ae7658e8",
   "metadata": {},
   "source": [
    "## Проверка гипотез"
   ]
  },
  {
   "cell_type": "markdown",
   "id": "5ec414fb",
   "metadata": {},
   "source": [
    "##### Проверка гипотезы \"Тратят ли пользователи с подпиской больше времени на поездки?\"\n",
    "Проведем проверку односторонним T-тестом\n",
    "Нулевая гипотеза: средняя продолжительность поездок для пользователей с подпиской равна средней продолжительности поездок для пользователей без подписки\n",
    "\n",
    "Альтернативная гипотеза: средняя продолжительность поездок для пользователей с подпиской больше средней продолжительности поездок для пользователей без подписки."
   ]
  },
  {
   "cell_type": "code",
   "execution_count": 29,
   "id": "48d98cd0",
   "metadata": {},
   "outputs": [
    {
     "data": {
      "text/plain": [
       "'p-значение:'"
      ]
     },
     "metadata": {},
     "output_type": "display_data"
    },
    {
     "data": {
      "text/plain": [
       "1.2804098316645618e-34"
      ]
     },
     "metadata": {},
     "output_type": "display_data"
    },
    {
     "data": {
      "text/plain": [
       "18.54198516280583"
      ]
     },
     "metadata": {},
     "output_type": "display_data"
    },
    {
     "data": {
      "text/plain": [
       "17.39090929866399"
      ]
     },
     "metadata": {},
     "output_type": "display_data"
    }
   ],
   "source": [
    "duration_ultra = df_ultra['duration']\n",
    "duration_free = df_free['duration']\n",
    "alpha = 0.05 # уровень статистической значимости\n",
    "\n",
    "results = st.ttest_ind(\n",
    "    duration_ultra, \n",
    "    duration_free,\n",
    "    alternative='greater')\n",
    "\n",
    "display('p-значение:', results.pvalue)\n",
    "\n",
    "display((df_ultra['duration']).mean())\n",
    "display((df_free['duration']).mean())"
   ]
  },
  {
   "cell_type": "markdown",
   "id": "2eccc402",
   "metadata": {},
   "source": [
    "Получили очень низкое р-значение (p < 0.05). Это означает, что мы отвергаем нулевую гипотезу и принимаем альтернативную. В данном случае нулевая гипотеза гласит, что средняя продолжительность поездок для пользователей с платной подпиской равна средней продолжительности поездок для пользователей с бесплатной подпиской\n",
    "\n",
    "Мы принимаем альтернативную гипотезу, которая гласит, что средняя продолжительность поездок для пользователей с платной подпиской больше средней продолжительности поездок для пользователей с бесплатной подпиской. Вывод также подтверждается расчетами средних значений. Средняя продолжительность аренды без платной подписки - 17.4 мин, с платной подпиской - 18.5 минут"
   ]
  },
  {
   "cell_type": "markdown",
   "id": "987de3c5",
   "metadata": {},
   "source": [
    "##### Проверка гипотезы \"среднее расстояние, которое проезжают пользователи с подпиской за одну поездку, не превышает 3130 метров?\"\n",
    "Проведем проверку односторонним T-тестом\n",
    "\n",
    "Нулевая гипотеза: cреднее расстояние, которое проезжают пользователи с подпиской за одну поездку, не превышает 3130 метров\n",
    "\n",
    "Альтернативная гипотеза: cреднее расстояние, которое проезжают пользователи с подпиской за одну поездку, превышает 3130 метров"
   ]
  },
  {
   "cell_type": "code",
   "execution_count": 30,
   "id": "f3722ca6",
   "metadata": {
    "scrolled": true
   },
   "outputs": [
    {
     "data": {
      "text/plain": [
       "'p-значение:'"
      ]
     },
     "metadata": {},
     "output_type": "display_data"
    },
    {
     "data": {
      "text/plain": [
       "0.9195368847849785"
      ]
     },
     "metadata": {},
     "output_type": "display_data"
    },
    {
     "data": {
      "text/plain": [
       "3115.4453880370247"
      ]
     },
     "metadata": {},
     "output_type": "display_data"
    }
   ],
   "source": [
    "interested_distance = 3130\n",
    "alpha = 0.05 # уровень статистической значимости\n",
    "\n",
    "results = st.ttest_1samp(\n",
    "    df_ultra['distance'], \n",
    "    interested_distance,\n",
    "    alternative='greater')\n",
    "\n",
    "display('p-значение:', results.pvalue)\n",
    "\n",
    "display((df_ultra['distance']).mean())"
   ]
  },
  {
   "cell_type": "markdown",
   "id": "7e8d18e9",
   "metadata": {},
   "source": [
    "Получили очень высокое p-значение (0.92). Это значит,что мы не имеем достаточных оснований для отвержения нулевой гипотезы. Cреднее значение дистанции поездки для пользователей с платной подпиской не превышает 3130 метров\n",
    "\n",
    "Перепроверим средним значением. Получилось 3115 м"
   ]
  },
  {
   "cell_type": "markdown",
   "id": "9ea86857",
   "metadata": {},
   "source": [
    "##### Проверка гипотезы \"помесячная выручка от пользователей с подпиской по месяцам выше, чем выручка от пользователей без подписки\"\n",
    "Проведем проверку односторонним T-тестом\n",
    "\n",
    "Нулевая гипотеза: средняя помесячная выручка от пользователей с подпиской равна средней помесячной выручке от пользователей без подписки\n",
    "\n",
    "Альтернативная гипотеза: средняя помесячная выручка от пользователей с подпиской выше, чем средняя помесячная выручка от пользователей без подписки"
   ]
  },
  {
   "cell_type": "code",
   "execution_count": 31,
   "id": "36116ac2",
   "metadata": {
    "scrolled": true
   },
   "outputs": [
    {
     "data": {
      "text/plain": [
       "'p-значение:'"
      ]
     },
     "metadata": {},
     "output_type": "display_data"
    },
    {
     "data": {
      "text/plain": [
       "1.8850394384715216e-31"
      ]
     },
     "metadata": {},
     "output_type": "display_data"
    },
    {
     "data": {
      "text/plain": [
       "328.6413651073845"
      ]
     },
     "metadata": {},
     "output_type": "display_data"
    },
    {
     "data": {
      "text/plain": [
       "362.7921906022502"
      ]
     },
     "metadata": {},
     "output_type": "display_data"
    }
   ],
   "source": [
    "revenue_free = agg_free['revenue']\n",
    "revenue_ultra = agg_ultra['revenue']\n",
    "alpha = 0.05 # уровень статистической значимости\n",
    "\n",
    "results = st.ttest_ind(\n",
    "    revenue_ultra, \n",
    "    revenue_free,\n",
    "    alternative='greater')\n",
    "\n",
    "display('p-значение:', results.pvalue)\n",
    "display((agg_free['revenue']).mean())\n",
    "display((agg_ultra['revenue']).mean())"
   ]
  },
  {
   "cell_type": "markdown",
   "id": "037c9ad3",
   "metadata": {},
   "source": [
    "Получили очень низкое p-значение, сильно меньше уровня статистической значимости. Это значит, мы можем отвергнуть нулевую гипотезу и принять альтернативную, т.е. средняя выручка от пользователей с подпиской выше, чем от пользователей без подписки.\n",
    "\n",
    "Данный вывод подтвержден расчетом средней выручки. Средняя для пользолвателей без подписки - 326 руб., с платной подпиской - 361 руб."
   ]
  },
  {
   "cell_type": "markdown",
   "id": "858b71ae",
   "metadata": {},
   "source": [
    "## Итоговый вывод"
   ]
  },
  {
   "cell_type": "markdown",
   "id": "46182396",
   "metadata": {},
   "source": [
    "В данном проекте  выполнили статистический анализ данных популярного сервиса аренды самокатов GoFast\n",
    "На начальном этапе провели загрузку и предобработку данных. На этапе предобработки удалили дубликаты, поработали с столбцом времени\n",
    "\n",
    "Далее был проведен исследовательский анализ данных. Были построены гистограммы, графики, диаграммы, описаны и провизуализированы значения исходных данных. Обнаружились аномалии при подсчете дистанции и времени аренды самоката. Они составили менее 2%, поэтому их просто удалили.\n",
    "\n",
    "Далее было объединение данных в один датафрейм. Сравнили характеристики поездок пользователей с подпиской и без. \n",
    "\n",
    "Следующим шагом добавили новых столбец с подсчетом выручки за месяц на каждого пользователя, а затем разделенили датафрейм на датафреймы с поездками пользователей с подпиской и без нее. \n",
    "\n",
    "Далее был проведен статистический анализ. Были проверены различные гипотезы. При проверке гипотез пользовались t-тестом, предварительно формулируя нулевую и альтернативную гипотезу, получили результаты значения p, которые перепроверили расчетами средних величин\n",
    "\n",
    "В итоге сделаны следующие выводы:\n",
    "- средняя продолжительность поездки пользователя с подпиской выше на 1,15 минуты или на 6,6%;\n",
    "- среднее расстояние, преодоленное на самокате составило менее 3130 м (составило 3115 м);\n",
    "- месячная выручка от пользователей с платной подпиской выше на 34.2 рубля, т.е. на 10,4%.\n",
    "\n",
    "Для развития сервиса можно дать следующие рекомендации:\n",
    "- постараться привлечь больше пользователей, которые будут использовать пользоваться платной версией;\n",
    "- рассчитывать бюджет на привлечение исходя из средней разницы выручки в 34.2 рубля в месяц на каждого пользователя с платной подпиской\n",
    "\n",
    "\n",
    "Проверка гипотез\n",
    "- тратят ли пользователи с подпиской больше времени на поездки?\n",
    "- среднее расстояние, которое проезжают пользователи с подпиской за одну поездку, не превышает 3130 метров?\n",
    "- помесячная выручка от пользователей с подпиской по месяцам выше, чем выручка от пользователей без подписки\n",
    "- определение теста для проверки гипотезы количества обращений после обновления серверов"
   ]
  }
 ],
 "metadata": {
  "ExecuteTimeLog": [
   {
    "duration": 47,
    "start_time": "2024-03-05T02:22:29.806Z"
   },
   {
    "duration": 441,
    "start_time": "2024-03-05T02:22:35.877Z"
   },
   {
    "duration": 319,
    "start_time": "2024-03-05T02:22:37.164Z"
   },
   {
    "duration": 123,
    "start_time": "2024-03-05T02:23:10.609Z"
   },
   {
    "duration": 73,
    "start_time": "2024-03-05T02:23:40.811Z"
   },
   {
    "duration": 95,
    "start_time": "2024-03-05T02:24:04.519Z"
   },
   {
    "duration": 91,
    "start_time": "2024-03-05T02:24:29.499Z"
   },
   {
    "duration": 85,
    "start_time": "2024-03-05T02:25:02.628Z"
   },
   {
    "duration": 34,
    "start_time": "2024-03-05T02:26:15.784Z"
   },
   {
    "duration": 11,
    "start_time": "2024-03-05T02:32:04.906Z"
   },
   {
    "duration": 11,
    "start_time": "2024-03-05T02:36:47.954Z"
   },
   {
    "duration": 8,
    "start_time": "2024-03-05T02:37:05.389Z"
   },
   {
    "duration": 8,
    "start_time": "2024-03-05T02:37:08.692Z"
   },
   {
    "duration": 8,
    "start_time": "2024-03-05T02:37:13.676Z"
   },
   {
    "duration": 10,
    "start_time": "2024-03-05T02:38:15.654Z"
   },
   {
    "duration": 8,
    "start_time": "2024-03-05T02:38:30.531Z"
   },
   {
    "duration": 6,
    "start_time": "2024-03-05T02:43:21.917Z"
   },
   {
    "duration": 5,
    "start_time": "2024-03-05T02:43:49.932Z"
   },
   {
    "duration": 74,
    "start_time": "2024-03-05T02:43:59.537Z"
   },
   {
    "duration": 51,
    "start_time": "2024-03-05T02:44:40.954Z"
   },
   {
    "duration": 12,
    "start_time": "2024-03-05T02:48:33.675Z"
   },
   {
    "duration": 13,
    "start_time": "2024-03-05T02:49:22.681Z"
   },
   {
    "duration": 6,
    "start_time": "2024-03-05T02:49:33.560Z"
   },
   {
    "duration": 11,
    "start_time": "2024-03-05T02:49:49.530Z"
   },
   {
    "duration": 13,
    "start_time": "2024-03-05T02:50:12.335Z"
   },
   {
    "duration": 17,
    "start_time": "2024-03-05T02:51:15.436Z"
   },
   {
    "duration": 14,
    "start_time": "2024-03-05T02:51:30.433Z"
   },
   {
    "duration": 4,
    "start_time": "2024-03-05T03:20:27.653Z"
   },
   {
    "duration": 542,
    "start_time": "2024-03-05T03:21:48.156Z"
   },
   {
    "duration": 119,
    "start_time": "2024-03-05T03:22:02.567Z"
   },
   {
    "duration": 124,
    "start_time": "2024-03-05T03:22:15.544Z"
   },
   {
    "duration": 184,
    "start_time": "2024-03-05T03:22:45.463Z"
   },
   {
    "duration": 163,
    "start_time": "2024-03-05T03:24:08.210Z"
   },
   {
    "duration": 110,
    "start_time": "2024-03-05T03:24:16.989Z"
   },
   {
    "duration": 124,
    "start_time": "2024-03-05T03:24:40.913Z"
   },
   {
    "duration": 156,
    "start_time": "2024-03-05T03:25:42.464Z"
   },
   {
    "duration": 125,
    "start_time": "2024-03-05T03:25:54.197Z"
   },
   {
    "duration": 58,
    "start_time": "2024-03-05T12:08:23.385Z"
   },
   {
    "duration": 450,
    "start_time": "2024-03-05T12:08:27.201Z"
   },
   {
    "duration": 322,
    "start_time": "2024-03-05T12:08:27.653Z"
   },
   {
    "duration": 29,
    "start_time": "2024-03-05T12:08:27.976Z"
   },
   {
    "duration": 15,
    "start_time": "2024-03-05T12:08:28.008Z"
   },
   {
    "duration": 15,
    "start_time": "2024-03-05T12:08:28.025Z"
   },
   {
    "duration": 108,
    "start_time": "2024-03-05T12:08:28.041Z"
   },
   {
    "duration": 12,
    "start_time": "2024-03-05T12:08:28.150Z"
   },
   {
    "duration": 634,
    "start_time": "2024-03-05T12:08:33.806Z"
   },
   {
    "duration": 109,
    "start_time": "2024-03-05T12:10:20.959Z"
   },
   {
    "duration": 189,
    "start_time": "2024-03-05T12:11:33.846Z"
   },
   {
    "duration": 146,
    "start_time": "2024-03-05T12:19:00.299Z"
   },
   {
    "duration": 124,
    "start_time": "2024-03-05T12:19:15.482Z"
   },
   {
    "duration": 44,
    "start_time": "2024-03-05T12:20:33.170Z"
   },
   {
    "duration": 4,
    "start_time": "2024-03-05T12:20:39.314Z"
   },
   {
    "duration": 85,
    "start_time": "2024-03-05T12:20:39.319Z"
   },
   {
    "duration": 32,
    "start_time": "2024-03-05T12:20:39.407Z"
   },
   {
    "duration": 9,
    "start_time": "2024-03-05T12:20:39.441Z"
   },
   {
    "duration": 14,
    "start_time": "2024-03-05T12:20:39.451Z"
   },
   {
    "duration": 78,
    "start_time": "2024-03-05T12:20:39.466Z"
   },
   {
    "duration": 13,
    "start_time": "2024-03-05T12:20:39.546Z"
   },
   {
    "duration": 206,
    "start_time": "2024-03-05T12:20:39.561Z"
   },
   {
    "duration": 122,
    "start_time": "2024-03-05T12:20:39.769Z"
   },
   {
    "duration": 136,
    "start_time": "2024-03-05T12:20:39.899Z"
   },
   {
    "duration": 132,
    "start_time": "2024-03-05T12:20:40.036Z"
   },
   {
    "duration": 144,
    "start_time": "2024-03-05T12:20:40.169Z"
   },
   {
    "duration": 11,
    "start_time": "2024-03-05T12:20:45.578Z"
   },
   {
    "duration": 23,
    "start_time": "2024-03-05T12:21:06.938Z"
   },
   {
    "duration": 9,
    "start_time": "2024-03-05T12:21:40.889Z"
   },
   {
    "duration": 22,
    "start_time": "2024-03-05T12:21:58.625Z"
   },
   {
    "duration": 19,
    "start_time": "2024-03-05T12:22:45.649Z"
   },
   {
    "duration": 36,
    "start_time": "2024-03-05T12:22:56.681Z"
   },
   {
    "duration": 31,
    "start_time": "2024-03-05T12:23:25.025Z"
   },
   {
    "duration": 34,
    "start_time": "2024-03-05T12:24:57.704Z"
   },
   {
    "duration": 38,
    "start_time": "2024-03-05T12:27:44.485Z"
   },
   {
    "duration": 14,
    "start_time": "2024-03-05T12:27:53.359Z"
   },
   {
    "duration": 3,
    "start_time": "2024-03-05T12:28:35.504Z"
   },
   {
    "duration": 85,
    "start_time": "2024-03-05T12:28:35.509Z"
   },
   {
    "duration": 38,
    "start_time": "2024-03-05T12:28:35.595Z"
   },
   {
    "duration": 10,
    "start_time": "2024-03-05T12:28:35.636Z"
   },
   {
    "duration": 15,
    "start_time": "2024-03-05T12:28:35.649Z"
   },
   {
    "duration": 122,
    "start_time": "2024-03-05T12:28:35.699Z"
   },
   {
    "duration": 13,
    "start_time": "2024-03-05T12:28:35.824Z"
   },
   {
    "duration": 241,
    "start_time": "2024-03-05T12:28:35.839Z"
   },
   {
    "duration": 128,
    "start_time": "2024-03-05T12:28:36.081Z"
   },
   {
    "duration": 160,
    "start_time": "2024-03-05T12:28:36.210Z"
   },
   {
    "duration": 157,
    "start_time": "2024-03-05T12:28:36.371Z"
   },
   {
    "duration": 147,
    "start_time": "2024-03-05T12:28:36.529Z"
   },
   {
    "duration": 42,
    "start_time": "2024-03-05T12:28:36.677Z"
   },
   {
    "duration": 58,
    "start_time": "2024-03-05T12:29:13.278Z"
   },
   {
    "duration": 96,
    "start_time": "2024-03-05T12:29:41.685Z"
   },
   {
    "duration": 98,
    "start_time": "2024-03-05T12:29:54.837Z"
   },
   {
    "duration": 24,
    "start_time": "2024-03-05T12:31:57.740Z"
   },
   {
    "duration": 24,
    "start_time": "2024-03-05T12:33:32.653Z"
   },
   {
    "duration": 25,
    "start_time": "2024-03-05T12:33:58.012Z"
   },
   {
    "duration": 26,
    "start_time": "2024-03-05T12:36:02.819Z"
   },
   {
    "duration": 11,
    "start_time": "2024-03-05T12:37:37.179Z"
   },
   {
    "duration": 53,
    "start_time": "2024-03-05T12:38:37.112Z"
   },
   {
    "duration": 51,
    "start_time": "2024-03-05T12:40:03.346Z"
   },
   {
    "duration": 232,
    "start_time": "2024-03-05T12:42:04.200Z"
   },
   {
    "duration": 255,
    "start_time": "2024-03-05T12:42:29.687Z"
   },
   {
    "duration": 179,
    "start_time": "2024-03-05T12:42:50.064Z"
   },
   {
    "duration": 186,
    "start_time": "2024-03-05T12:43:15.783Z"
   },
   {
    "duration": 233,
    "start_time": "2024-03-05T12:43:33.567Z"
   },
   {
    "duration": 185,
    "start_time": "2024-03-05T12:43:42.111Z"
   },
   {
    "duration": 2,
    "start_time": "2024-03-05T12:43:51.967Z"
   },
   {
    "duration": 86,
    "start_time": "2024-03-05T12:43:51.971Z"
   },
   {
    "duration": 29,
    "start_time": "2024-03-05T12:43:52.058Z"
   },
   {
    "duration": 9,
    "start_time": "2024-03-05T12:43:52.088Z"
   },
   {
    "duration": 21,
    "start_time": "2024-03-05T12:43:52.099Z"
   },
   {
    "duration": 47,
    "start_time": "2024-03-05T12:43:52.122Z"
   },
   {
    "duration": 36,
    "start_time": "2024-03-05T12:43:52.171Z"
   },
   {
    "duration": 216,
    "start_time": "2024-03-05T12:43:52.209Z"
   },
   {
    "duration": 137,
    "start_time": "2024-03-05T12:43:52.427Z"
   },
   {
    "duration": 153,
    "start_time": "2024-03-05T12:43:52.565Z"
   },
   {
    "duration": 136,
    "start_time": "2024-03-05T12:43:52.720Z"
   },
   {
    "duration": 137,
    "start_time": "2024-03-05T12:43:52.857Z"
   },
   {
    "duration": 38,
    "start_time": "2024-03-05T12:43:52.999Z"
   },
   {
    "duration": 78,
    "start_time": "2024-03-05T12:43:53.039Z"
   },
   {
    "duration": 212,
    "start_time": "2024-03-05T12:43:53.118Z"
   },
   {
    "duration": 169,
    "start_time": "2024-03-05T12:43:53.332Z"
   },
   {
    "duration": 263,
    "start_time": "2024-03-05T12:43:53.503Z"
   },
   {
    "duration": 167,
    "start_time": "2024-03-05T12:54:52.185Z"
   },
   {
    "duration": 179,
    "start_time": "2024-03-05T12:55:09.688Z"
   },
   {
    "duration": 3,
    "start_time": "2024-03-05T13:01:58.309Z"
   },
   {
    "duration": 87,
    "start_time": "2024-03-05T13:01:58.314Z"
   },
   {
    "duration": 33,
    "start_time": "2024-03-05T13:01:58.403Z"
   },
   {
    "duration": 9,
    "start_time": "2024-03-05T13:01:58.438Z"
   },
   {
    "duration": 17,
    "start_time": "2024-03-05T13:01:58.449Z"
   },
   {
    "duration": 83,
    "start_time": "2024-03-05T13:01:58.468Z"
   },
   {
    "duration": 11,
    "start_time": "2024-03-05T13:01:58.553Z"
   },
   {
    "duration": 223,
    "start_time": "2024-03-05T13:01:58.566Z"
   },
   {
    "duration": 138,
    "start_time": "2024-03-05T13:01:58.791Z"
   },
   {
    "duration": 162,
    "start_time": "2024-03-05T13:01:58.932Z"
   },
   {
    "duration": 146,
    "start_time": "2024-03-05T13:01:59.100Z"
   },
   {
    "duration": 139,
    "start_time": "2024-03-05T13:01:59.248Z"
   },
   {
    "duration": 51,
    "start_time": "2024-03-05T13:01:59.388Z"
   },
   {
    "duration": 83,
    "start_time": "2024-03-05T13:01:59.441Z"
   },
   {
    "duration": 231,
    "start_time": "2024-03-05T13:01:59.526Z"
   },
   {
    "duration": 278,
    "start_time": "2024-03-05T13:01:59.759Z"
   },
   {
    "duration": 201,
    "start_time": "2024-03-05T13:02:00.039Z"
   },
   {
    "duration": 226,
    "start_time": "2024-03-05T13:02:00.241Z"
   },
   {
    "duration": 26,
    "start_time": "2024-03-05T13:16:02.804Z"
   },
   {
    "duration": 16,
    "start_time": "2024-03-05T13:17:10.252Z"
   },
   {
    "duration": 16,
    "start_time": "2024-03-05T13:23:19.561Z"
   },
   {
    "duration": 19,
    "start_time": "2024-03-05T13:23:41.857Z"
   },
   {
    "duration": 24,
    "start_time": "2024-03-05T13:25:21.806Z"
   },
   {
    "duration": 20,
    "start_time": "2024-03-05T13:25:45.143Z"
   },
   {
    "duration": 21,
    "start_time": "2024-03-05T13:26:08.543Z"
   },
   {
    "duration": 17,
    "start_time": "2024-03-05T13:29:38.374Z"
   },
   {
    "duration": 9,
    "start_time": "2024-03-05T13:29:53.998Z"
   },
   {
    "duration": 8,
    "start_time": "2024-03-05T13:30:05.549Z"
   },
   {
    "duration": 9,
    "start_time": "2024-03-05T13:30:29.581Z"
   },
   {
    "duration": 14,
    "start_time": "2024-03-05T13:30:43.228Z"
   },
   {
    "duration": 28,
    "start_time": "2024-03-05T13:30:49.853Z"
   },
   {
    "duration": 30,
    "start_time": "2024-03-05T13:33:12.596Z"
   },
   {
    "duration": 18,
    "start_time": "2024-03-05T13:34:23.244Z"
   },
   {
    "duration": 25,
    "start_time": "2024-03-05T13:34:35.356Z"
   },
   {
    "duration": 27,
    "start_time": "2024-03-05T13:34:42.219Z"
   },
   {
    "duration": 27,
    "start_time": "2024-03-05T13:35:05.435Z"
   },
   {
    "duration": 17,
    "start_time": "2024-03-05T13:35:38.883Z"
   },
   {
    "duration": 26,
    "start_time": "2024-03-05T13:36:08.747Z"
   },
   {
    "duration": 16,
    "start_time": "2024-03-05T13:36:22.466Z"
   },
   {
    "duration": 79,
    "start_time": "2024-03-05T13:48:14.341Z"
   },
   {
    "duration": 94,
    "start_time": "2024-03-05T13:48:52.205Z"
   },
   {
    "duration": 1533,
    "start_time": "2024-03-05T13:49:07.860Z"
   },
   {
    "duration": 1550,
    "start_time": "2024-03-05T13:49:23.717Z"
   },
   {
    "duration": 28,
    "start_time": "2024-03-05T13:55:56.713Z"
   },
   {
    "duration": 2,
    "start_time": "2024-03-05T13:56:13.137Z"
   },
   {
    "duration": 88,
    "start_time": "2024-03-05T13:56:13.140Z"
   },
   {
    "duration": 25,
    "start_time": "2024-03-05T13:56:13.230Z"
   },
   {
    "duration": 8,
    "start_time": "2024-03-05T13:56:13.257Z"
   },
   {
    "duration": 33,
    "start_time": "2024-03-05T13:56:13.266Z"
   },
   {
    "duration": 54,
    "start_time": "2024-03-05T13:56:13.301Z"
   },
   {
    "duration": 11,
    "start_time": "2024-03-05T13:56:13.357Z"
   },
   {
    "duration": 206,
    "start_time": "2024-03-05T13:56:13.369Z"
   },
   {
    "duration": 118,
    "start_time": "2024-03-05T13:56:13.577Z"
   },
   {
    "duration": 154,
    "start_time": "2024-03-05T13:56:13.696Z"
   },
   {
    "duration": 150,
    "start_time": "2024-03-05T13:56:13.852Z"
   },
   {
    "duration": 208,
    "start_time": "2024-03-05T13:56:14.003Z"
   },
   {
    "duration": 34,
    "start_time": "2024-03-05T13:56:14.213Z"
   },
   {
    "duration": 82,
    "start_time": "2024-03-05T13:56:14.248Z"
   },
   {
    "duration": 203,
    "start_time": "2024-03-05T13:56:14.332Z"
   },
   {
    "duration": 182,
    "start_time": "2024-03-05T13:56:14.536Z"
   },
   {
    "duration": 183,
    "start_time": "2024-03-05T13:56:14.719Z"
   },
   {
    "duration": 206,
    "start_time": "2024-03-05T13:56:14.904Z"
   },
   {
    "duration": 34,
    "start_time": "2024-03-05T13:57:14.775Z"
   },
   {
    "duration": 43,
    "start_time": "2024-03-05T13:57:53.848Z"
   },
   {
    "duration": 9,
    "start_time": "2024-03-05T13:58:41.055Z"
   },
   {
    "duration": 42,
    "start_time": "2024-03-05T13:58:51.471Z"
   },
   {
    "duration": 52,
    "start_time": "2024-03-05T14:00:15.478Z"
   },
   {
    "duration": 7,
    "start_time": "2024-03-05T14:06:04.371Z"
   },
   {
    "duration": 10,
    "start_time": "2024-03-05T14:06:18.915Z"
   },
   {
    "duration": 4,
    "start_time": "2024-03-05T14:06:28.018Z"
   },
   {
    "duration": 10,
    "start_time": "2024-03-05T14:06:53.155Z"
   },
   {
    "duration": 34,
    "start_time": "2024-03-05T14:10:28.290Z"
   },
   {
    "duration": 48,
    "start_time": "2024-03-05T14:11:42.385Z"
   },
   {
    "duration": 52,
    "start_time": "2024-03-05T14:21:10.924Z"
   },
   {
    "duration": 50,
    "start_time": "2024-03-05T14:23:15.379Z"
   },
   {
    "duration": 54,
    "start_time": "2024-03-05T14:23:25.091Z"
   },
   {
    "duration": 55,
    "start_time": "2024-03-05T14:23:36.682Z"
   },
   {
    "duration": 78,
    "start_time": "2024-03-05T14:28:13.342Z"
   },
   {
    "duration": 3,
    "start_time": "2024-03-05T14:28:30.496Z"
   },
   {
    "duration": 95,
    "start_time": "2024-03-05T14:28:30.501Z"
   },
   {
    "duration": 10,
    "start_time": "2024-03-05T14:28:30.598Z"
   },
   {
    "duration": 66,
    "start_time": "2024-03-05T14:28:30.610Z"
   },
   {
    "duration": 26,
    "start_time": "2024-03-05T14:28:30.678Z"
   },
   {
    "duration": 28,
    "start_time": "2024-03-05T14:28:30.707Z"
   },
   {
    "duration": 54,
    "start_time": "2024-03-05T14:28:30.736Z"
   },
   {
    "duration": 13,
    "start_time": "2024-03-05T14:28:30.791Z"
   },
   {
    "duration": 190,
    "start_time": "2024-03-05T14:28:30.805Z"
   },
   {
    "duration": 129,
    "start_time": "2024-03-05T14:28:30.996Z"
   },
   {
    "duration": 144,
    "start_time": "2024-03-05T14:28:31.127Z"
   },
   {
    "duration": 147,
    "start_time": "2024-03-05T14:28:31.273Z"
   },
   {
    "duration": 215,
    "start_time": "2024-03-05T14:28:31.423Z"
   },
   {
    "duration": 32,
    "start_time": "2024-03-05T14:28:31.639Z"
   },
   {
    "duration": 79,
    "start_time": "2024-03-05T14:28:31.673Z"
   },
   {
    "duration": 205,
    "start_time": "2024-03-05T14:28:31.754Z"
   },
   {
    "duration": 179,
    "start_time": "2024-03-05T14:28:31.961Z"
   },
   {
    "duration": 214,
    "start_time": "2024-03-05T14:28:32.142Z"
   },
   {
    "duration": 207,
    "start_time": "2024-03-05T14:28:32.358Z"
   },
   {
    "duration": 93,
    "start_time": "2024-03-05T14:34:56.212Z"
   },
   {
    "duration": 11,
    "start_time": "2024-03-05T14:35:18.603Z"
   },
   {
    "duration": 26,
    "start_time": "2024-03-05T14:35:43.884Z"
   },
   {
    "duration": 2,
    "start_time": "2024-03-05T14:35:57.381Z"
   },
   {
    "duration": 87,
    "start_time": "2024-03-05T14:35:57.385Z"
   },
   {
    "duration": 9,
    "start_time": "2024-03-05T14:35:57.474Z"
   },
   {
    "duration": 36,
    "start_time": "2024-03-05T14:35:57.485Z"
   },
   {
    "duration": 10,
    "start_time": "2024-03-05T14:35:57.524Z"
   },
   {
    "duration": 13,
    "start_time": "2024-03-05T14:35:57.536Z"
   },
   {
    "duration": 77,
    "start_time": "2024-03-05T14:35:57.551Z"
   },
   {
    "duration": 13,
    "start_time": "2024-03-05T14:35:57.629Z"
   },
   {
    "duration": 205,
    "start_time": "2024-03-05T14:35:57.643Z"
   },
   {
    "duration": 134,
    "start_time": "2024-03-05T14:35:57.850Z"
   },
   {
    "duration": 165,
    "start_time": "2024-03-05T14:35:57.986Z"
   },
   {
    "duration": 141,
    "start_time": "2024-03-05T14:35:58.153Z"
   },
   {
    "duration": 258,
    "start_time": "2024-03-05T14:35:58.300Z"
   },
   {
    "duration": 47,
    "start_time": "2024-03-05T14:35:58.560Z"
   },
   {
    "duration": 65,
    "start_time": "2024-03-05T14:35:58.608Z"
   },
   {
    "duration": 246,
    "start_time": "2024-03-05T14:35:58.674Z"
   },
   {
    "duration": 215,
    "start_time": "2024-03-05T14:35:58.923Z"
   },
   {
    "duration": 211,
    "start_time": "2024-03-05T14:35:59.139Z"
   },
   {
    "duration": 214,
    "start_time": "2024-03-05T14:35:59.351Z"
   },
   {
    "duration": 110,
    "start_time": "2024-03-05T14:35:59.567Z"
   },
   {
    "duration": 29,
    "start_time": "2024-03-05T14:36:03.108Z"
   },
   {
    "duration": 33,
    "start_time": "2024-03-05T14:37:29.890Z"
   },
   {
    "duration": 25,
    "start_time": "2024-03-05T14:38:55.978Z"
   },
   {
    "duration": 104,
    "start_time": "2024-03-05T16:17:04.961Z"
   },
   {
    "duration": 86,
    "start_time": "2024-03-05T16:17:23.819Z"
   },
   {
    "duration": 2,
    "start_time": "2024-03-05T16:17:26.788Z"
   },
   {
    "duration": 79,
    "start_time": "2024-03-05T16:17:26.797Z"
   },
   {
    "duration": 9,
    "start_time": "2024-03-05T16:17:26.877Z"
   },
   {
    "duration": 33,
    "start_time": "2024-03-05T16:17:26.888Z"
   },
   {
    "duration": 10,
    "start_time": "2024-03-05T16:17:26.924Z"
   },
   {
    "duration": 13,
    "start_time": "2024-03-05T16:17:26.936Z"
   },
   {
    "duration": 76,
    "start_time": "2024-03-05T16:17:26.950Z"
   },
   {
    "duration": 13,
    "start_time": "2024-03-05T16:17:27.027Z"
   },
   {
    "duration": 201,
    "start_time": "2024-03-05T16:17:27.042Z"
   },
   {
    "duration": 115,
    "start_time": "2024-03-05T16:17:27.244Z"
   },
   {
    "duration": 141,
    "start_time": "2024-03-05T16:17:27.361Z"
   },
   {
    "duration": 151,
    "start_time": "2024-03-05T16:17:27.503Z"
   },
   {
    "duration": 217,
    "start_time": "2024-03-05T16:17:27.655Z"
   },
   {
    "duration": 54,
    "start_time": "2024-03-05T16:17:27.874Z"
   },
   {
    "duration": 78,
    "start_time": "2024-03-05T16:17:27.930Z"
   },
   {
    "duration": 206,
    "start_time": "2024-03-05T16:17:28.010Z"
   },
   {
    "duration": 171,
    "start_time": "2024-03-05T16:17:28.218Z"
   },
   {
    "duration": 178,
    "start_time": "2024-03-05T16:17:28.391Z"
   },
   {
    "duration": 193,
    "start_time": "2024-03-05T16:17:28.571Z"
   },
   {
    "duration": 90,
    "start_time": "2024-03-05T16:17:28.766Z"
   },
   {
    "duration": 92,
    "start_time": "2024-03-05T16:17:31.053Z"
   },
   {
    "duration": 98,
    "start_time": "2024-03-05T16:18:58.212Z"
   },
   {
    "duration": 92,
    "start_time": "2024-03-05T16:19:02.740Z"
   },
   {
    "duration": 106,
    "start_time": "2024-03-05T16:19:08.604Z"
   },
   {
    "duration": 481,
    "start_time": "2024-03-05T16:39:26.959Z"
   },
   {
    "duration": 9,
    "start_time": "2024-03-05T16:40:02.625Z"
   },
   {
    "duration": 8,
    "start_time": "2024-03-05T16:42:19.008Z"
   },
   {
    "duration": 14,
    "start_time": "2024-03-05T16:49:58.803Z"
   },
   {
    "duration": 7,
    "start_time": "2024-03-05T16:50:18.083Z"
   },
   {
    "duration": 1527,
    "start_time": "2024-03-05T16:55:39.390Z"
   },
   {
    "duration": 10,
    "start_time": "2024-03-05T16:57:56.295Z"
   },
   {
    "duration": 1563,
    "start_time": "2024-03-05T16:58:52.045Z"
   },
   {
    "duration": 11,
    "start_time": "2024-03-05T16:59:20.750Z"
   },
   {
    "duration": 9,
    "start_time": "2024-03-05T17:00:26.575Z"
   },
   {
    "duration": 7,
    "start_time": "2024-03-05T17:03:20.666Z"
   },
   {
    "duration": 9,
    "start_time": "2024-03-05T17:04:59.436Z"
   },
   {
    "duration": 10,
    "start_time": "2024-03-05T17:05:10.395Z"
   },
   {
    "duration": 110,
    "start_time": "2024-03-05T17:07:26.426Z"
   },
   {
    "duration": 100,
    "start_time": "2024-03-05T17:07:54.618Z"
   },
   {
    "duration": 11,
    "start_time": "2024-03-05T17:08:06.570Z"
   },
   {
    "duration": 10,
    "start_time": "2024-03-05T17:09:42.673Z"
   },
   {
    "duration": 11,
    "start_time": "2024-03-05T17:10:21.976Z"
   },
   {
    "duration": 9,
    "start_time": "2024-03-05T17:13:14.991Z"
   },
   {
    "duration": 7,
    "start_time": "2024-03-05T17:17:21.427Z"
   },
   {
    "duration": 4,
    "start_time": "2024-03-05T17:21:01.130Z"
   },
   {
    "duration": 6,
    "start_time": "2024-03-05T17:21:14.170Z"
   },
   {
    "duration": 11,
    "start_time": "2024-03-05T17:24:21.639Z"
   },
   {
    "duration": 2015,
    "start_time": "2024-03-05T17:26:23.976Z"
   },
   {
    "duration": 2180,
    "start_time": "2024-03-05T17:28:15.238Z"
   },
   {
    "duration": 26,
    "start_time": "2024-03-05T17:28:56.886Z"
   },
   {
    "duration": 6,
    "start_time": "2024-03-05T17:29:38.093Z"
   },
   {
    "duration": 7,
    "start_time": "2024-03-05T17:29:51.253Z"
   },
   {
    "duration": 2,
    "start_time": "2024-03-05T17:29:59.406Z"
   },
   {
    "duration": 80,
    "start_time": "2024-03-05T17:29:59.410Z"
   },
   {
    "duration": 9,
    "start_time": "2024-03-05T17:29:59.491Z"
   },
   {
    "duration": 31,
    "start_time": "2024-03-05T17:29:59.502Z"
   },
   {
    "duration": 10,
    "start_time": "2024-03-05T17:29:59.534Z"
   },
   {
    "duration": 13,
    "start_time": "2024-03-05T17:29:59.545Z"
   },
   {
    "duration": 178,
    "start_time": "2024-03-05T17:29:59.559Z"
   },
   {
    "duration": 12,
    "start_time": "2024-03-05T17:29:59.738Z"
   },
   {
    "duration": 203,
    "start_time": "2024-03-05T17:29:59.751Z"
   },
   {
    "duration": 131,
    "start_time": "2024-03-05T17:29:59.956Z"
   },
   {
    "duration": 150,
    "start_time": "2024-03-05T17:30:00.089Z"
   },
   {
    "duration": 137,
    "start_time": "2024-03-05T17:30:00.240Z"
   },
   {
    "duration": 133,
    "start_time": "2024-03-05T17:30:00.379Z"
   },
   {
    "duration": 37,
    "start_time": "2024-03-05T17:30:00.514Z"
   },
   {
    "duration": 89,
    "start_time": "2024-03-05T17:30:00.553Z"
   },
   {
    "duration": 211,
    "start_time": "2024-03-05T17:30:00.644Z"
   },
   {
    "duration": 192,
    "start_time": "2024-03-05T17:30:00.856Z"
   },
   {
    "duration": 203,
    "start_time": "2024-03-05T17:30:01.049Z"
   },
   {
    "duration": 221,
    "start_time": "2024-03-05T17:30:01.253Z"
   },
   {
    "duration": 95,
    "start_time": "2024-03-05T17:30:01.476Z"
   },
   {
    "duration": 42,
    "start_time": "2024-03-05T17:30:01.572Z"
   },
   {
    "duration": 29,
    "start_time": "2024-03-05T17:30:01.616Z"
   },
   {
    "duration": 42,
    "start_time": "2024-03-05T17:30:01.647Z"
   },
   {
    "duration": 33,
    "start_time": "2024-03-05T17:30:01.691Z"
   },
   {
    "duration": 6,
    "start_time": "2024-03-05T17:48:11.379Z"
   },
   {
    "duration": 335,
    "start_time": "2024-03-06T00:38:29.633Z"
   },
   {
    "duration": 238,
    "start_time": "2024-03-06T00:38:29.970Z"
   },
   {
    "duration": 11,
    "start_time": "2024-03-06T00:38:30.209Z"
   },
   {
    "duration": 112,
    "start_time": "2024-03-06T00:38:30.221Z"
   },
   {
    "duration": 57,
    "start_time": "2024-03-06T00:38:30.335Z"
   },
   {
    "duration": 60,
    "start_time": "2024-03-06T00:38:30.394Z"
   },
   {
    "duration": 115,
    "start_time": "2024-03-06T00:38:30.455Z"
   },
   {
    "duration": 10,
    "start_time": "2024-03-06T00:38:30.571Z"
   },
   {
    "duration": 552,
    "start_time": "2024-03-06T00:38:30.583Z"
   },
   {
    "duration": 101,
    "start_time": "2024-03-06T00:38:31.136Z"
   },
   {
    "duration": 151,
    "start_time": "2024-03-06T00:38:31.238Z"
   },
   {
    "duration": 123,
    "start_time": "2024-03-06T00:38:31.390Z"
   },
   {
    "duration": 118,
    "start_time": "2024-03-06T00:38:31.514Z"
   },
   {
    "duration": 30,
    "start_time": "2024-03-06T00:38:31.635Z"
   },
   {
    "duration": 75,
    "start_time": "2024-03-06T00:38:31.667Z"
   },
   {
    "duration": 170,
    "start_time": "2024-03-06T00:38:31.743Z"
   },
   {
    "duration": 154,
    "start_time": "2024-03-06T00:38:31.914Z"
   },
   {
    "duration": 160,
    "start_time": "2024-03-06T00:38:32.069Z"
   },
   {
    "duration": 174,
    "start_time": "2024-03-06T00:38:32.231Z"
   },
   {
    "duration": 72,
    "start_time": "2024-03-06T00:38:32.406Z"
   },
   {
    "duration": 38,
    "start_time": "2024-03-06T00:38:32.479Z"
   },
   {
    "duration": 458,
    "start_time": "2024-03-06T00:38:32.518Z"
   },
   {
    "duration": 6,
    "start_time": "2024-03-06T00:38:32.977Z"
   },
   {
    "duration": 7,
    "start_time": "2024-03-06T00:38:32.984Z"
   },
   {
    "duration": 14,
    "start_time": "2024-03-06T00:47:49.887Z"
   },
   {
    "duration": 5,
    "start_time": "2024-03-06T00:50:33.936Z"
   },
   {
    "duration": 4,
    "start_time": "2024-03-06T00:50:38.810Z"
   },
   {
    "duration": 393,
    "start_time": "2024-03-06T00:57:33.672Z"
   },
   {
    "duration": 81,
    "start_time": "2024-03-06T00:57:34.067Z"
   },
   {
    "duration": 7,
    "start_time": "2024-03-06T00:57:34.149Z"
   },
   {
    "duration": 38,
    "start_time": "2024-03-06T00:57:34.158Z"
   },
   {
    "duration": 7,
    "start_time": "2024-03-06T00:57:34.197Z"
   },
   {
    "duration": 26,
    "start_time": "2024-03-06T00:57:34.205Z"
   },
   {
    "duration": 59,
    "start_time": "2024-03-06T00:57:34.232Z"
   },
   {
    "duration": 10,
    "start_time": "2024-03-06T00:57:34.292Z"
   },
   {
    "duration": 331,
    "start_time": "2024-03-06T00:57:34.303Z"
   },
   {
    "duration": 100,
    "start_time": "2024-03-06T00:57:34.636Z"
   },
   {
    "duration": 108,
    "start_time": "2024-03-06T00:57:34.737Z"
   },
   {
    "duration": 134,
    "start_time": "2024-03-06T00:57:34.846Z"
   },
   {
    "duration": 116,
    "start_time": "2024-03-06T00:57:34.981Z"
   },
   {
    "duration": 29,
    "start_time": "2024-03-06T00:57:35.101Z"
   },
   {
    "duration": 71,
    "start_time": "2024-03-06T00:57:35.131Z"
   },
   {
    "duration": 167,
    "start_time": "2024-03-06T00:57:35.203Z"
   },
   {
    "duration": 151,
    "start_time": "2024-03-06T00:57:35.371Z"
   },
   {
    "duration": 155,
    "start_time": "2024-03-06T00:57:35.523Z"
   },
   {
    "duration": 168,
    "start_time": "2024-03-06T00:57:35.679Z"
   },
   {
    "duration": 78,
    "start_time": "2024-03-06T00:57:35.849Z"
   },
   {
    "duration": 16,
    "start_time": "2024-03-06T00:57:35.929Z"
   },
   {
    "duration": 437,
    "start_time": "2024-03-06T00:57:35.946Z"
   },
   {
    "duration": 6,
    "start_time": "2024-03-06T00:57:36.384Z"
   },
   {
    "duration": 12,
    "start_time": "2024-03-06T00:57:36.392Z"
   },
   {
    "duration": 838,
    "start_time": "2024-03-06T13:40:56.531Z"
   },
   {
    "duration": 96,
    "start_time": "2024-03-06T14:04:35.905Z"
   },
   {
    "duration": 9,
    "start_time": "2024-03-06T14:04:42.490Z"
   },
   {
    "duration": 469,
    "start_time": "2024-03-06T14:15:30.333Z"
   },
   {
    "duration": 3,
    "start_time": "2024-03-06T14:15:50.430Z"
   },
   {
    "duration": 389,
    "start_time": "2024-03-06T14:15:50.442Z"
   },
   {
    "duration": 34,
    "start_time": "2024-03-06T14:15:50.833Z"
   },
   {
    "duration": 24,
    "start_time": "2024-03-06T14:15:50.868Z"
   },
   {
    "duration": 22,
    "start_time": "2024-03-06T14:15:50.894Z"
   },
   {
    "duration": 79,
    "start_time": "2024-03-06T14:15:50.917Z"
   },
   {
    "duration": 13,
    "start_time": "2024-03-06T14:15:50.997Z"
   },
   {
    "duration": 248,
    "start_time": "2024-03-06T14:16:09.276Z"
   },
   {
    "duration": 142,
    "start_time": "2024-03-06T14:16:28.340Z"
   },
   {
    "duration": 146,
    "start_time": "2024-03-06T14:17:34.543Z"
   },
   {
    "duration": 139,
    "start_time": "2024-03-06T14:17:50.618Z"
   },
   {
    "duration": 155,
    "start_time": "2024-03-06T14:19:34.362Z"
   },
   {
    "duration": 166,
    "start_time": "2024-03-06T14:19:51.138Z"
   },
   {
    "duration": 100,
    "start_time": "2024-03-06T14:26:28.055Z"
   },
   {
    "duration": 90,
    "start_time": "2024-03-06T14:27:13.014Z"
   },
   {
    "duration": 184,
    "start_time": "2024-03-06T14:28:37.286Z"
   },
   {
    "duration": 106,
    "start_time": "2024-03-06T14:30:07.430Z"
   },
   {
    "duration": 97,
    "start_time": "2024-03-06T14:30:41.173Z"
   },
   {
    "duration": 100,
    "start_time": "2024-03-06T14:30:49.844Z"
   },
   {
    "duration": 95,
    "start_time": "2024-03-06T14:31:58.884Z"
   },
   {
    "duration": 105,
    "start_time": "2024-03-06T14:32:07.460Z"
   },
   {
    "duration": 145,
    "start_time": "2024-03-06T14:32:14.540Z"
   },
   {
    "duration": 152,
    "start_time": "2024-03-06T14:34:06.931Z"
   },
   {
    "duration": 149,
    "start_time": "2024-03-06T14:34:13.603Z"
   },
   {
    "duration": 182,
    "start_time": "2024-03-06T14:37:48.946Z"
   },
   {
    "duration": 177,
    "start_time": "2024-03-06T14:37:57.905Z"
   },
   {
    "duration": 175,
    "start_time": "2024-03-06T14:38:44.913Z"
   },
   {
    "duration": 178,
    "start_time": "2024-03-06T14:39:01.281Z"
   },
   {
    "duration": 260,
    "start_time": "2024-03-06T14:39:42.009Z"
   },
   {
    "duration": 170,
    "start_time": "2024-03-06T14:40:04.665Z"
   },
   {
    "duration": 269,
    "start_time": "2024-03-06T14:40:28.543Z"
   },
   {
    "duration": 229,
    "start_time": "2024-03-06T14:40:35.984Z"
   },
   {
    "duration": 38,
    "start_time": "2024-03-06T14:47:51.379Z"
   },
   {
    "duration": 83,
    "start_time": "2024-03-06T14:49:01.767Z"
   },
   {
    "duration": 28,
    "start_time": "2024-03-06T14:50:25.179Z"
   },
   {
    "duration": 4,
    "start_time": "2024-03-06T14:50:28.949Z"
   },
   {
    "duration": 87,
    "start_time": "2024-03-06T14:50:28.955Z"
   },
   {
    "duration": 34,
    "start_time": "2024-03-06T14:50:29.045Z"
   },
   {
    "duration": 12,
    "start_time": "2024-03-06T14:50:29.081Z"
   },
   {
    "duration": 25,
    "start_time": "2024-03-06T14:50:29.096Z"
   },
   {
    "duration": 66,
    "start_time": "2024-03-06T14:50:29.122Z"
   },
   {
    "duration": 13,
    "start_time": "2024-03-06T14:50:29.189Z"
   },
   {
    "duration": 182,
    "start_time": "2024-03-06T14:50:29.204Z"
   },
   {
    "duration": 117,
    "start_time": "2024-03-06T14:50:29.388Z"
   },
   {
    "duration": 180,
    "start_time": "2024-03-06T14:50:29.507Z"
   },
   {
    "duration": 172,
    "start_time": "2024-03-06T14:50:29.689Z"
   },
   {
    "duration": 233,
    "start_time": "2024-03-06T14:50:29.863Z"
   },
   {
    "duration": 36,
    "start_time": "2024-03-06T14:50:41.339Z"
   },
   {
    "duration": 8,
    "start_time": "2024-03-06T14:52:13.264Z"
   },
   {
    "duration": 105,
    "start_time": "2024-03-06T14:52:41.498Z"
   },
   {
    "duration": 44,
    "start_time": "2024-03-06T14:53:51.377Z"
   },
   {
    "duration": 112,
    "start_time": "2024-03-06T14:58:03.855Z"
   },
   {
    "duration": 274,
    "start_time": "2024-03-06T14:58:08.422Z"
   },
   {
    "duration": 11,
    "start_time": "2024-03-06T15:04:06.764Z"
   },
   {
    "duration": 129,
    "start_time": "2024-03-06T15:05:08.395Z"
   },
   {
    "duration": 123,
    "start_time": "2024-03-06T15:05:29.946Z"
   },
   {
    "duration": 124,
    "start_time": "2024-03-06T15:05:41.898Z"
   },
   {
    "duration": 127,
    "start_time": "2024-03-06T15:05:57.690Z"
   },
   {
    "duration": 128,
    "start_time": "2024-03-06T15:07:46.201Z"
   },
   {
    "duration": 148,
    "start_time": "2024-03-06T15:09:11.386Z"
   },
   {
    "duration": 12,
    "start_time": "2024-03-06T15:12:47.558Z"
   },
   {
    "duration": 19,
    "start_time": "2024-03-06T15:13:44.607Z"
   },
   {
    "duration": 16,
    "start_time": "2024-03-06T15:14:00.581Z"
   },
   {
    "duration": 11,
    "start_time": "2024-03-06T15:14:43.406Z"
   },
   {
    "duration": 14,
    "start_time": "2024-03-06T15:15:20.093Z"
   },
   {
    "duration": 9,
    "start_time": "2024-03-06T15:15:39.629Z"
   },
   {
    "duration": 135,
    "start_time": "2024-03-06T15:17:07.421Z"
   },
   {
    "duration": 20,
    "start_time": "2024-03-06T15:17:44.475Z"
   },
   {
    "duration": 17,
    "start_time": "2024-03-06T15:19:12.707Z"
   },
   {
    "duration": 16,
    "start_time": "2024-03-06T15:21:28.714Z"
   },
   {
    "duration": 17,
    "start_time": "2024-03-06T15:21:49.650Z"
   },
   {
    "duration": 15,
    "start_time": "2024-03-06T15:22:13.201Z"
   },
   {
    "duration": 16,
    "start_time": "2024-03-06T15:22:46.129Z"
   },
   {
    "duration": 16,
    "start_time": "2024-03-06T15:24:11.401Z"
   },
   {
    "duration": 18,
    "start_time": "2024-03-06T15:24:20.768Z"
   },
   {
    "duration": 16,
    "start_time": "2024-03-06T15:26:28.016Z"
   },
   {
    "duration": 15,
    "start_time": "2024-03-06T15:26:32.951Z"
   },
   {
    "duration": 14,
    "start_time": "2024-03-06T15:26:57.496Z"
   },
   {
    "duration": 15,
    "start_time": "2024-03-06T15:27:37.655Z"
   },
   {
    "duration": 14,
    "start_time": "2024-03-06T15:31:05.999Z"
   },
   {
    "duration": 108,
    "start_time": "2024-03-06T15:34:04.805Z"
   },
   {
    "duration": 12,
    "start_time": "2024-03-06T15:34:08.660Z"
   },
   {
    "duration": 45,
    "start_time": "2024-03-06T15:35:01.797Z"
   },
   {
    "duration": 17,
    "start_time": "2024-03-06T15:35:14.004Z"
   },
   {
    "duration": 43,
    "start_time": "2024-03-06T15:37:32.178Z"
   },
   {
    "duration": 43,
    "start_time": "2024-03-06T15:38:15.236Z"
   },
   {
    "duration": 42,
    "start_time": "2024-03-06T15:41:03.611Z"
   },
   {
    "duration": 42,
    "start_time": "2024-03-06T15:41:30.024Z"
   },
   {
    "duration": 62,
    "start_time": "2024-03-06T15:42:52.282Z"
   },
   {
    "duration": 44,
    "start_time": "2024-03-06T15:49:10.029Z"
   },
   {
    "duration": 50,
    "start_time": "2024-03-06T15:56:20.529Z"
   },
   {
    "duration": 68,
    "start_time": "2024-03-06T16:03:00.568Z"
   },
   {
    "duration": 65,
    "start_time": "2024-03-06T16:03:10.265Z"
   },
   {
    "duration": 232,
    "start_time": "2024-03-06T16:07:10.119Z"
   },
   {
    "duration": 218,
    "start_time": "2024-03-06T16:08:29.743Z"
   },
   {
    "duration": 216,
    "start_time": "2024-03-06T16:08:55.718Z"
   },
   {
    "duration": 316,
    "start_time": "2024-03-06T16:10:19.222Z"
   },
   {
    "duration": 296,
    "start_time": "2024-03-06T16:10:52.014Z"
   },
   {
    "duration": 334,
    "start_time": "2024-03-06T16:11:28.316Z"
   },
   {
    "duration": 303,
    "start_time": "2024-03-06T16:12:47.629Z"
   },
   {
    "duration": 292,
    "start_time": "2024-03-06T16:15:05.388Z"
   },
   {
    "duration": 299,
    "start_time": "2024-03-06T16:17:22.243Z"
   },
   {
    "duration": 178,
    "start_time": "2024-03-06T16:19:09.522Z"
   },
   {
    "duration": 166,
    "start_time": "2024-03-06T16:19:16.129Z"
   },
   {
    "duration": 211,
    "start_time": "2024-03-06T16:19:41.666Z"
   },
   {
    "duration": 226,
    "start_time": "2024-03-06T16:19:58.025Z"
   },
   {
    "duration": 210,
    "start_time": "2024-03-06T16:20:33.025Z"
   },
   {
    "duration": 343,
    "start_time": "2024-03-06T16:25:17.976Z"
   },
   {
    "duration": 206,
    "start_time": "2024-03-06T16:25:46.879Z"
   },
   {
    "duration": 106,
    "start_time": "2024-03-06T16:28:04.383Z"
   },
   {
    "duration": 5,
    "start_time": "2024-03-06T16:44:31.513Z"
   },
   {
    "duration": 133,
    "start_time": "2024-03-06T16:44:31.521Z"
   },
   {
    "duration": 30,
    "start_time": "2024-03-06T16:44:31.656Z"
   },
   {
    "duration": 18,
    "start_time": "2024-03-06T16:44:31.689Z"
   },
   {
    "duration": 35,
    "start_time": "2024-03-06T16:44:31.710Z"
   },
   {
    "duration": 102,
    "start_time": "2024-03-06T16:44:31.747Z"
   },
   {
    "duration": 15,
    "start_time": "2024-03-06T16:44:31.851Z"
   },
   {
    "duration": 173,
    "start_time": "2024-03-06T16:44:31.881Z"
   },
   {
    "duration": 125,
    "start_time": "2024-03-06T16:44:32.056Z"
   },
   {
    "duration": 186,
    "start_time": "2024-03-06T16:44:32.183Z"
   },
   {
    "duration": 229,
    "start_time": "2024-03-06T16:44:32.371Z"
   },
   {
    "duration": 231,
    "start_time": "2024-03-06T16:44:32.602Z"
   },
   {
    "duration": 148,
    "start_time": "2024-03-06T16:44:32.834Z"
   },
   {
    "duration": 16,
    "start_time": "2024-03-06T16:44:32.984Z"
   },
   {
    "duration": 19,
    "start_time": "2024-03-06T16:44:33.002Z"
   },
   {
    "duration": 17,
    "start_time": "2024-03-06T16:44:33.023Z"
   },
   {
    "duration": 83,
    "start_time": "2024-03-06T16:44:33.042Z"
   },
   {
    "duration": 77,
    "start_time": "2024-03-06T16:44:33.127Z"
   },
   {
    "duration": 92,
    "start_time": "2024-03-06T16:44:33.206Z"
   },
   {
    "duration": 243,
    "start_time": "2024-03-06T16:44:33.300Z"
   },
   {
    "duration": 323,
    "start_time": "2024-03-06T16:44:33.544Z"
   },
   {
    "duration": 292,
    "start_time": "2024-03-06T16:44:33.869Z"
   },
   {
    "duration": 212,
    "start_time": "2024-03-06T16:44:34.163Z"
   },
   {
    "duration": 229,
    "start_time": "2024-03-06T16:44:34.379Z"
   },
   {
    "duration": 301,
    "start_time": "2024-03-06T16:44:34.611Z"
   },
   {
    "duration": 18,
    "start_time": "2024-03-06T16:49:22.459Z"
   },
   {
    "duration": 34,
    "start_time": "2024-03-06T16:53:57.825Z"
   },
   {
    "duration": 40,
    "start_time": "2024-03-06T16:54:19.672Z"
   },
   {
    "duration": 40,
    "start_time": "2024-03-06T16:54:22.320Z"
   },
   {
    "duration": 42,
    "start_time": "2024-03-06T16:54:23.183Z"
   },
   {
    "duration": 42,
    "start_time": "2024-03-06T16:54:23.664Z"
   },
   {
    "duration": 41,
    "start_time": "2024-03-06T16:54:24.071Z"
   },
   {
    "duration": 32,
    "start_time": "2024-03-06T16:54:32.583Z"
   },
   {
    "duration": 118,
    "start_time": "2024-03-06T16:57:49.871Z"
   },
   {
    "duration": 45,
    "start_time": "2024-03-06T16:58:05.665Z"
   },
   {
    "duration": 11,
    "start_time": "2024-03-06T16:59:39.149Z"
   },
   {
    "duration": 12,
    "start_time": "2024-03-06T17:00:09.891Z"
   },
   {
    "duration": 16,
    "start_time": "2024-03-06T17:03:59.074Z"
   },
   {
    "duration": 14,
    "start_time": "2024-03-06T17:04:09.242Z"
   },
   {
    "duration": 18,
    "start_time": "2024-03-06T17:04:18.650Z"
   },
   {
    "duration": 34,
    "start_time": "2024-03-06T17:04:51.538Z"
   },
   {
    "duration": 37,
    "start_time": "2024-03-06T17:06:37.114Z"
   },
   {
    "duration": 33,
    "start_time": "2024-03-06T17:06:55.321Z"
   },
   {
    "duration": 41,
    "start_time": "2024-03-06T17:07:43.121Z"
   },
   {
    "duration": 39,
    "start_time": "2024-03-06T17:07:52.625Z"
   },
   {
    "duration": 40,
    "start_time": "2024-03-06T17:08:00.753Z"
   },
   {
    "duration": 107,
    "start_time": "2024-03-06T17:08:34.433Z"
   },
   {
    "duration": 44,
    "start_time": "2024-03-06T17:08:43.880Z"
   },
   {
    "duration": 41,
    "start_time": "2024-03-06T17:08:55.048Z"
   },
   {
    "duration": 12,
    "start_time": "2024-03-06T17:09:01.544Z"
   },
   {
    "duration": 42,
    "start_time": "2024-03-06T17:11:46.238Z"
   },
   {
    "duration": 145,
    "start_time": "2024-03-06T17:12:14.432Z"
   },
   {
    "duration": 14,
    "start_time": "2024-03-06T17:14:49.287Z"
   },
   {
    "duration": 12,
    "start_time": "2024-03-06T17:15:29.444Z"
   },
   {
    "duration": 3,
    "start_time": "2024-03-06T17:15:35.825Z"
   },
   {
    "duration": 85,
    "start_time": "2024-03-06T17:15:35.829Z"
   },
   {
    "duration": 30,
    "start_time": "2024-03-06T17:15:35.916Z"
   },
   {
    "duration": 34,
    "start_time": "2024-03-06T17:15:35.948Z"
   },
   {
    "duration": 18,
    "start_time": "2024-03-06T17:15:35.984Z"
   },
   {
    "duration": 59,
    "start_time": "2024-03-06T17:15:36.003Z"
   },
   {
    "duration": 14,
    "start_time": "2024-03-06T17:15:36.079Z"
   },
   {
    "duration": 186,
    "start_time": "2024-03-06T17:15:36.094Z"
   },
   {
    "duration": 121,
    "start_time": "2024-03-06T17:15:36.282Z"
   },
   {
    "duration": 200,
    "start_time": "2024-03-06T17:15:36.404Z"
   },
   {
    "duration": 221,
    "start_time": "2024-03-06T17:15:36.608Z"
   },
   {
    "duration": 246,
    "start_time": "2024-03-06T17:15:36.831Z"
   },
   {
    "duration": 146,
    "start_time": "2024-03-06T17:15:37.080Z"
   },
   {
    "duration": 18,
    "start_time": "2024-03-06T17:15:37.228Z"
   },
   {
    "duration": 39,
    "start_time": "2024-03-06T17:15:37.248Z"
   },
   {
    "duration": 133,
    "start_time": "2024-03-06T17:15:37.289Z"
   },
   {
    "duration": 45,
    "start_time": "2024-03-06T17:15:37.424Z"
   },
   {
    "duration": 45,
    "start_time": "2024-03-06T17:15:37.471Z"
   },
   {
    "duration": 84,
    "start_time": "2024-03-06T17:15:37.517Z"
   },
   {
    "duration": 273,
    "start_time": "2024-03-06T17:15:37.602Z"
   },
   {
    "duration": 220,
    "start_time": "2024-03-06T17:15:37.877Z"
   },
   {
    "duration": 301,
    "start_time": "2024-03-06T17:15:38.098Z"
   },
   {
    "duration": 344,
    "start_time": "2024-03-06T17:15:38.401Z"
   },
   {
    "duration": 227,
    "start_time": "2024-03-06T17:15:38.747Z"
   },
   {
    "duration": 319,
    "start_time": "2024-03-06T17:15:38.980Z"
   },
   {
    "duration": 48,
    "start_time": "2024-03-06T17:15:39.301Z"
   },
   {
    "duration": 45,
    "start_time": "2024-03-06T17:15:45.750Z"
   },
   {
    "duration": 11,
    "start_time": "2024-03-06T17:15:50.822Z"
   },
   {
    "duration": 15,
    "start_time": "2024-03-06T17:15:55.021Z"
   },
   {
    "duration": 2,
    "start_time": "2024-03-06T17:31:07.976Z"
   },
   {
    "duration": 12,
    "start_time": "2024-03-06T17:32:10.758Z"
   },
   {
    "duration": 7,
    "start_time": "2024-03-06T17:33:44.622Z"
   },
   {
    "duration": 9,
    "start_time": "2024-03-06T17:34:01.861Z"
   },
   {
    "duration": 17,
    "start_time": "2024-03-06T17:34:24.806Z"
   },
   {
    "duration": 25,
    "start_time": "2024-03-06T17:34:40.371Z"
   },
   {
    "duration": 31,
    "start_time": "2024-03-06T17:35:42.092Z"
   },
   {
    "duration": 8,
    "start_time": "2024-03-06T17:40:13.875Z"
   },
   {
    "duration": 8,
    "start_time": "2024-03-06T17:45:18.456Z"
   },
   {
    "duration": 11,
    "start_time": "2024-03-06T17:52:28.693Z"
   },
   {
    "duration": 11,
    "start_time": "2024-03-06T17:53:02.468Z"
   },
   {
    "duration": 8,
    "start_time": "2024-03-06T18:06:48.543Z"
   },
   {
    "duration": 10,
    "start_time": "2024-03-06T18:11:28.900Z"
   },
   {
    "duration": 10,
    "start_time": "2024-03-06T18:11:35.955Z"
   },
   {
    "duration": 8,
    "start_time": "2024-03-06T18:11:51.267Z"
   },
   {
    "duration": 9,
    "start_time": "2024-03-06T18:12:27.452Z"
   },
   {
    "duration": 60,
    "start_time": "2024-03-06T18:14:35.994Z"
   },
   {
    "duration": 9,
    "start_time": "2024-03-06T18:15:45.554Z"
   },
   {
    "duration": 48,
    "start_time": "2024-03-06T18:18:14.830Z"
   },
   {
    "duration": 11,
    "start_time": "2024-03-06T18:20:52.576Z"
   },
   {
    "duration": 9,
    "start_time": "2024-03-06T18:21:00.599Z"
   },
   {
    "duration": 10,
    "start_time": "2024-03-06T18:22:38.327Z"
   },
   {
    "duration": 13,
    "start_time": "2024-03-06T18:22:52.694Z"
   },
   {
    "duration": 15,
    "start_time": "2024-03-06T18:28:36.378Z"
   },
   {
    "duration": 10,
    "start_time": "2024-03-06T18:28:51.563Z"
   },
   {
    "duration": 986,
    "start_time": "2024-03-07T14:00:50.605Z"
   },
   {
    "duration": 135,
    "start_time": "2024-03-07T14:00:51.592Z"
   },
   {
    "duration": 28,
    "start_time": "2024-03-07T14:00:51.728Z"
   },
   {
    "duration": 11,
    "start_time": "2024-03-07T14:00:51.758Z"
   },
   {
    "duration": 18,
    "start_time": "2024-03-07T14:00:51.771Z"
   },
   {
    "duration": 43,
    "start_time": "2024-03-07T14:00:51.790Z"
   },
   {
    "duration": 31,
    "start_time": "2024-03-07T14:00:51.835Z"
   },
   {
    "duration": 159,
    "start_time": "2024-03-07T14:00:51.867Z"
   },
   {
    "duration": 100,
    "start_time": "2024-03-07T14:00:52.028Z"
   },
   {
    "duration": 165,
    "start_time": "2024-03-07T14:00:52.131Z"
   },
   {
    "duration": 204,
    "start_time": "2024-03-07T14:00:52.297Z"
   },
   {
    "duration": 222,
    "start_time": "2024-03-07T14:00:52.503Z"
   },
   {
    "duration": 132,
    "start_time": "2024-03-07T14:00:52.726Z"
   },
   {
    "duration": 17,
    "start_time": "2024-03-07T14:00:52.860Z"
   },
   {
    "duration": 13,
    "start_time": "2024-03-07T14:00:52.878Z"
   },
   {
    "duration": 13,
    "start_time": "2024-03-07T14:00:52.893Z"
   },
   {
    "duration": 61,
    "start_time": "2024-03-07T14:00:52.908Z"
   },
   {
    "duration": 38,
    "start_time": "2024-03-07T14:00:52.970Z"
   },
   {
    "duration": 74,
    "start_time": "2024-03-07T14:00:53.010Z"
   },
   {
    "duration": 222,
    "start_time": "2024-03-07T14:00:53.085Z"
   },
   {
    "duration": 202,
    "start_time": "2024-03-07T14:00:53.308Z"
   },
   {
    "duration": 351,
    "start_time": "2024-03-07T14:00:53.511Z"
   },
   {
    "duration": 196,
    "start_time": "2024-03-07T14:00:53.865Z"
   },
   {
    "duration": 196,
    "start_time": "2024-03-07T14:00:54.065Z"
   },
   {
    "duration": 259,
    "start_time": "2024-03-07T14:00:54.264Z"
   },
   {
    "duration": 45,
    "start_time": "2024-03-07T14:00:54.525Z"
   },
   {
    "duration": 9,
    "start_time": "2024-03-07T14:00:54.571Z"
   },
   {
    "duration": 12,
    "start_time": "2024-03-07T14:00:54.583Z"
   },
   {
    "duration": 35,
    "start_time": "2024-03-07T14:00:54.597Z"
   },
   {
    "duration": 42,
    "start_time": "2024-03-07T14:00:54.633Z"
   },
   {
    "duration": 8,
    "start_time": "2024-03-07T14:00:54.677Z"
   },
   {
    "duration": 10,
    "start_time": "2024-03-07T14:00:54.686Z"
   },
   {
    "duration": 7,
    "start_time": "2024-03-07T14:08:05.716Z"
   },
   {
    "duration": 1037,
    "start_time": "2024-03-07T14:13:38.971Z"
   },
   {
    "duration": 136,
    "start_time": "2024-03-07T14:13:40.010Z"
   },
   {
    "duration": 28,
    "start_time": "2024-03-07T14:13:40.148Z"
   },
   {
    "duration": 9,
    "start_time": "2024-03-07T14:13:40.177Z"
   },
   {
    "duration": 13,
    "start_time": "2024-03-07T14:13:40.187Z"
   },
   {
    "duration": 66,
    "start_time": "2024-03-07T14:13:40.201Z"
   },
   {
    "duration": 11,
    "start_time": "2024-03-07T14:13:40.269Z"
   },
   {
    "duration": 174,
    "start_time": "2024-03-07T14:13:40.281Z"
   },
   {
    "duration": 93,
    "start_time": "2024-03-07T14:13:40.457Z"
   },
   {
    "duration": 161,
    "start_time": "2024-03-07T14:13:40.564Z"
   },
   {
    "duration": 193,
    "start_time": "2024-03-07T14:13:40.727Z"
   },
   {
    "duration": 216,
    "start_time": "2024-03-07T14:13:40.922Z"
   },
   {
    "duration": 125,
    "start_time": "2024-03-07T14:13:41.140Z"
   },
   {
    "duration": 14,
    "start_time": "2024-03-07T14:13:41.266Z"
   },
   {
    "duration": 14,
    "start_time": "2024-03-07T14:13:41.281Z"
   },
   {
    "duration": 13,
    "start_time": "2024-03-07T14:13:41.297Z"
   },
   {
    "duration": 62,
    "start_time": "2024-03-07T14:13:41.312Z"
   },
   {
    "duration": 36,
    "start_time": "2024-03-07T14:13:41.376Z"
   },
   {
    "duration": 92,
    "start_time": "2024-03-07T14:13:41.413Z"
   },
   {
    "duration": 232,
    "start_time": "2024-03-07T14:13:41.507Z"
   },
   {
    "duration": 208,
    "start_time": "2024-03-07T14:13:41.740Z"
   },
   {
    "duration": 340,
    "start_time": "2024-03-07T14:13:41.950Z"
   },
   {
    "duration": 211,
    "start_time": "2024-03-07T14:13:42.292Z"
   },
   {
    "duration": 198,
    "start_time": "2024-03-07T14:13:42.505Z"
   },
   {
    "duration": 282,
    "start_time": "2024-03-07T14:13:42.704Z"
   },
   {
    "duration": 45,
    "start_time": "2024-03-07T14:13:42.988Z"
   },
   {
    "duration": 31,
    "start_time": "2024-03-07T14:13:43.035Z"
   },
   {
    "duration": 12,
    "start_time": "2024-03-07T14:13:43.070Z"
   },
   {
    "duration": 35,
    "start_time": "2024-03-07T14:13:43.084Z"
   },
   {
    "duration": 45,
    "start_time": "2024-03-07T14:13:43.120Z"
   },
   {
    "duration": 8,
    "start_time": "2024-03-07T14:13:43.167Z"
   },
   {
    "duration": 9,
    "start_time": "2024-03-07T14:13:43.176Z"
   },
   {
    "duration": 52,
    "start_time": "2024-03-07T14:48:51.265Z"
   },
   {
    "duration": 46,
    "start_time": "2024-03-07T17:32:01.526Z"
   },
   {
    "duration": 1204,
    "start_time": "2024-03-07T17:32:09.505Z"
   },
   {
    "duration": 356,
    "start_time": "2024-03-07T17:32:10.711Z"
   },
   {
    "duration": 29,
    "start_time": "2024-03-07T17:32:11.069Z"
   },
   {
    "duration": 9,
    "start_time": "2024-03-07T17:32:11.100Z"
   },
   {
    "duration": 24,
    "start_time": "2024-03-07T17:32:11.112Z"
   },
   {
    "duration": 70,
    "start_time": "2024-03-07T17:32:11.138Z"
   },
   {
    "duration": 12,
    "start_time": "2024-03-07T17:32:11.209Z"
   },
   {
    "duration": 167,
    "start_time": "2024-03-07T17:32:11.222Z"
   },
   {
    "duration": 91,
    "start_time": "2024-03-07T17:32:11.391Z"
   },
   {
    "duration": 168,
    "start_time": "2024-03-07T17:32:11.483Z"
   },
   {
    "duration": 203,
    "start_time": "2024-03-07T17:32:18.895Z"
   },
   {
    "duration": 181,
    "start_time": "2024-03-07T17:32:39.023Z"
   },
   {
    "duration": 16,
    "start_time": "2024-03-07T17:33:18.977Z"
   },
   {
    "duration": 3,
    "start_time": "2024-03-07T17:33:25.136Z"
   },
   {
    "duration": 125,
    "start_time": "2024-03-07T17:33:25.140Z"
   },
   {
    "duration": 25,
    "start_time": "2024-03-07T17:33:25.266Z"
   },
   {
    "duration": 9,
    "start_time": "2024-03-07T17:33:25.488Z"
   },
   {
    "duration": 84,
    "start_time": "2024-03-07T17:33:25.499Z"
   },
   {
    "duration": 85,
    "start_time": "2024-03-07T17:33:25.584Z"
   },
   {
    "duration": 11,
    "start_time": "2024-03-07T17:33:25.670Z"
   },
   {
    "duration": 151,
    "start_time": "2024-03-07T17:33:25.683Z"
   },
   {
    "duration": 148,
    "start_time": "2024-03-07T17:33:25.835Z"
   },
   {
    "duration": 158,
    "start_time": "2024-03-07T17:33:25.993Z"
   },
   {
    "duration": 174,
    "start_time": "2024-03-07T17:33:26.153Z"
   },
   {
    "duration": 194,
    "start_time": "2024-03-07T17:33:26.329Z"
   },
   {
    "duration": 124,
    "start_time": "2024-03-07T17:33:26.524Z"
   },
   {
    "duration": 14,
    "start_time": "2024-03-07T17:33:26.649Z"
   },
   {
    "duration": 101,
    "start_time": "2024-03-07T17:33:26.665Z"
   },
   {
    "duration": 14,
    "start_time": "2024-03-07T17:37:46.154Z"
   },
   {
    "duration": 74,
    "start_time": "2024-03-07T17:42:03.054Z"
   },
   {
    "duration": 3,
    "start_time": "2024-03-07T17:42:11.087Z"
   },
   {
    "duration": 116,
    "start_time": "2024-03-07T17:42:11.091Z"
   },
   {
    "duration": 34,
    "start_time": "2024-03-07T17:42:11.208Z"
   },
   {
    "duration": 9,
    "start_time": "2024-03-07T17:42:11.244Z"
   },
   {
    "duration": 24,
    "start_time": "2024-03-07T17:42:11.254Z"
   },
   {
    "duration": 74,
    "start_time": "2024-03-07T17:42:11.279Z"
   },
   {
    "duration": 15,
    "start_time": "2024-03-07T17:42:11.723Z"
   },
   {
    "duration": 192,
    "start_time": "2024-03-07T17:42:11.740Z"
   },
   {
    "duration": 119,
    "start_time": "2024-03-07T17:42:11.934Z"
   },
   {
    "duration": 183,
    "start_time": "2024-03-07T17:42:12.055Z"
   },
   {
    "duration": 209,
    "start_time": "2024-03-07T17:42:12.241Z"
   },
   {
    "duration": 318,
    "start_time": "2024-03-07T17:42:12.452Z"
   },
   {
    "duration": 133,
    "start_time": "2024-03-07T17:42:12.772Z"
   },
   {
    "duration": 19,
    "start_time": "2024-03-07T17:42:12.908Z"
   },
   {
    "duration": 15,
    "start_time": "2024-03-07T17:42:12.929Z"
   },
   {
    "duration": 65,
    "start_time": "2024-03-07T17:42:12.946Z"
   },
   {
    "duration": 43,
    "start_time": "2024-03-07T17:42:13.015Z"
   },
   {
    "duration": 85,
    "start_time": "2024-03-07T17:42:13.060Z"
   },
   {
    "duration": 256,
    "start_time": "2024-03-07T17:42:16.835Z"
   },
   {
    "duration": 236,
    "start_time": "2024-03-07T17:43:18.081Z"
   },
   {
    "duration": 300,
    "start_time": "2024-03-07T17:43:31.920Z"
   },
   {
    "duration": 233,
    "start_time": "2024-03-07T17:44:42.748Z"
   },
   {
    "duration": 240,
    "start_time": "2024-03-07T17:44:49.484Z"
   },
   {
    "duration": 360,
    "start_time": "2024-03-07T17:44:59.233Z"
   },
   {
    "duration": 13,
    "start_time": "2024-03-07T17:57:51.405Z"
   },
   {
    "duration": 3,
    "start_time": "2024-03-07T17:57:59.970Z"
   },
   {
    "duration": 82,
    "start_time": "2024-03-07T17:57:59.974Z"
   },
   {
    "duration": 25,
    "start_time": "2024-03-07T17:58:00.058Z"
   },
   {
    "duration": 65,
    "start_time": "2024-03-07T17:58:00.084Z"
   },
   {
    "duration": 64,
    "start_time": "2024-03-07T17:58:00.151Z"
   },
   {
    "duration": 216,
    "start_time": "2024-03-07T17:58:00.218Z"
   },
   {
    "duration": 96,
    "start_time": "2024-03-07T17:58:00.436Z"
   },
   {
    "duration": 370,
    "start_time": "2024-03-07T17:58:00.534Z"
   },
   {
    "duration": 117,
    "start_time": "2024-03-07T17:58:00.906Z"
   },
   {
    "duration": 187,
    "start_time": "2024-03-07T17:58:01.026Z"
   },
   {
    "duration": 213,
    "start_time": "2024-03-07T17:58:01.216Z"
   },
   {
    "duration": 256,
    "start_time": "2024-03-07T17:58:01.431Z"
   },
   {
    "duration": 138,
    "start_time": "2024-03-07T17:58:01.688Z"
   },
   {
    "duration": 14,
    "start_time": "2024-03-07T17:58:01.828Z"
   },
   {
    "duration": 141,
    "start_time": "2024-03-07T17:58:01.843Z"
   },
   {
    "duration": 161,
    "start_time": "2024-03-07T17:58:01.985Z"
   },
   {
    "duration": 114,
    "start_time": "2024-03-07T17:58:02.148Z"
   },
   {
    "duration": 86,
    "start_time": "2024-03-07T17:58:02.264Z"
   },
   {
    "duration": 326,
    "start_time": "2024-03-07T17:58:02.352Z"
   },
   {
    "duration": 253,
    "start_time": "2024-03-07T17:58:02.680Z"
   },
   {
    "duration": 388,
    "start_time": "2024-03-07T17:58:02.934Z"
   },
   {
    "duration": 277,
    "start_time": "2024-03-07T17:58:03.324Z"
   },
   {
    "duration": 240,
    "start_time": "2024-03-07T17:58:03.603Z"
   },
   {
    "duration": 349,
    "start_time": "2024-03-07T17:58:03.845Z"
   },
   {
    "duration": 44,
    "start_time": "2024-03-07T17:58:04.196Z"
   },
   {
    "duration": 150,
    "start_time": "2024-03-07T17:58:04.242Z"
   },
   {
    "duration": 45,
    "start_time": "2024-03-07T17:58:04.394Z"
   },
   {
    "duration": 138,
    "start_time": "2024-03-07T17:58:04.441Z"
   },
   {
    "duration": 162,
    "start_time": "2024-03-07T17:58:04.583Z"
   },
   {
    "duration": 67,
    "start_time": "2024-03-07T17:58:04.747Z"
   },
   {
    "duration": 34,
    "start_time": "2024-03-07T17:58:04.815Z"
   },
   {
    "duration": 11,
    "start_time": "2024-03-07T18:06:40.758Z"
   },
   {
    "duration": 9,
    "start_time": "2024-03-07T18:12:10.454Z"
   },
   {
    "duration": 11,
    "start_time": "2024-03-07T18:25:04.377Z"
   },
   {
    "duration": 3,
    "start_time": "2024-03-07T18:26:24.461Z"
   },
   {
    "duration": 86,
    "start_time": "2024-03-07T18:26:24.465Z"
   },
   {
    "duration": 24,
    "start_time": "2024-03-07T18:26:24.552Z"
   },
   {
    "duration": 13,
    "start_time": "2024-03-07T18:26:24.577Z"
   },
   {
    "duration": 13,
    "start_time": "2024-03-07T18:26:24.640Z"
   },
   {
    "duration": 62,
    "start_time": "2024-03-07T18:26:24.655Z"
   },
   {
    "duration": 11,
    "start_time": "2024-03-07T18:26:24.718Z"
   },
   {
    "duration": 167,
    "start_time": "2024-03-07T18:26:24.730Z"
   },
   {
    "duration": 126,
    "start_time": "2024-03-07T18:26:24.900Z"
   },
   {
    "duration": 179,
    "start_time": "2024-03-07T18:26:25.028Z"
   },
   {
    "duration": 196,
    "start_time": "2024-03-07T18:26:25.209Z"
   },
   {
    "duration": 338,
    "start_time": "2024-03-07T18:26:25.408Z"
   },
   {
    "duration": 130,
    "start_time": "2024-03-07T18:26:25.748Z"
   },
   {
    "duration": 19,
    "start_time": "2024-03-07T18:26:25.879Z"
   },
   {
    "duration": 11,
    "start_time": "2024-03-07T18:26:25.900Z"
   },
   {
    "duration": 53,
    "start_time": "2024-03-07T18:26:25.913Z"
   },
   {
    "duration": 56,
    "start_time": "2024-03-07T18:26:25.968Z"
   },
   {
    "duration": 74,
    "start_time": "2024-03-07T18:26:26.026Z"
   },
   {
    "duration": 260,
    "start_time": "2024-03-07T18:26:26.103Z"
   },
   {
    "duration": 236,
    "start_time": "2024-03-07T18:26:26.364Z"
   },
   {
    "duration": 328,
    "start_time": "2024-03-07T18:26:26.602Z"
   },
   {
    "duration": 237,
    "start_time": "2024-03-07T18:26:26.932Z"
   },
   {
    "duration": 227,
    "start_time": "2024-03-07T18:26:27.170Z"
   },
   {
    "duration": 382,
    "start_time": "2024-03-07T18:26:27.400Z"
   },
   {
    "duration": 10,
    "start_time": "2024-03-07T18:27:09.258Z"
   },
   {
    "duration": 46,
    "start_time": "2024-03-07T18:27:38.203Z"
   },
   {
    "duration": 19,
    "start_time": "2024-03-07T18:28:31.199Z"
   },
   {
    "duration": 19,
    "start_time": "2024-03-07T18:28:58.958Z"
   },
   {
    "duration": 12,
    "start_time": "2024-03-07T18:30:21.177Z"
   },
   {
    "duration": 17,
    "start_time": "2024-03-07T18:30:35.208Z"
   },
   {
    "duration": 42,
    "start_time": "2024-03-07T18:30:59.567Z"
   },
   {
    "duration": 18,
    "start_time": "2024-03-07T18:31:07.202Z"
   },
   {
    "duration": 13,
    "start_time": "2024-03-07T18:35:18.641Z"
   },
   {
    "duration": 10,
    "start_time": "2024-03-07T18:35:26.742Z"
   },
   {
    "duration": 3,
    "start_time": "2024-03-07T18:39:06.392Z"
   },
   {
    "duration": 116,
    "start_time": "2024-03-07T18:39:06.396Z"
   },
   {
    "duration": 25,
    "start_time": "2024-03-07T18:39:06.513Z"
   },
   {
    "duration": 9,
    "start_time": "2024-03-07T18:39:06.539Z"
   },
   {
    "duration": 39,
    "start_time": "2024-03-07T18:39:06.549Z"
   },
   {
    "duration": 126,
    "start_time": "2024-03-07T18:39:06.589Z"
   },
   {
    "duration": 11,
    "start_time": "2024-03-07T18:39:06.778Z"
   },
   {
    "duration": 192,
    "start_time": "2024-03-07T18:39:06.791Z"
   },
   {
    "duration": 95,
    "start_time": "2024-03-07T18:39:06.985Z"
   },
   {
    "duration": 171,
    "start_time": "2024-03-07T18:39:07.095Z"
   },
   {
    "duration": 187,
    "start_time": "2024-03-07T18:39:07.268Z"
   },
   {
    "duration": 200,
    "start_time": "2024-03-07T18:39:07.456Z"
   },
   {
    "duration": 121,
    "start_time": "2024-03-07T18:39:07.658Z"
   },
   {
    "duration": 25,
    "start_time": "2024-03-07T18:39:07.781Z"
   },
   {
    "duration": 33,
    "start_time": "2024-03-07T18:39:07.807Z"
   },
   {
    "duration": 46,
    "start_time": "2024-03-07T18:39:07.841Z"
   },
   {
    "duration": 37,
    "start_time": "2024-03-07T18:39:07.890Z"
   },
   {
    "duration": 67,
    "start_time": "2024-03-07T18:39:07.928Z"
   },
   {
    "duration": 231,
    "start_time": "2024-03-07T18:39:07.996Z"
   },
   {
    "duration": 227,
    "start_time": "2024-03-07T18:39:08.229Z"
   },
   {
    "duration": 277,
    "start_time": "2024-03-07T18:39:08.458Z"
   },
   {
    "duration": 308,
    "start_time": "2024-03-07T18:39:08.737Z"
   },
   {
    "duration": 225,
    "start_time": "2024-03-07T18:39:09.046Z"
   },
   {
    "duration": 331,
    "start_time": "2024-03-07T18:39:09.273Z"
   },
   {
    "duration": 13,
    "start_time": "2024-03-07T18:39:09.606Z"
   },
   {
    "duration": 57,
    "start_time": "2024-03-07T18:39:09.620Z"
   },
   {
    "duration": 21,
    "start_time": "2024-03-07T18:39:09.679Z"
   },
   {
    "duration": 49,
    "start_time": "2024-03-07T18:39:09.701Z"
   },
   {
    "duration": 11,
    "start_time": "2024-03-07T18:39:09.752Z"
   },
   {
    "duration": 11,
    "start_time": "2024-03-07T18:39:17.315Z"
   },
   {
    "duration": 9,
    "start_time": "2024-03-07T18:39:56.657Z"
   },
   {
    "duration": 2,
    "start_time": "2024-03-07T18:40:07.181Z"
   },
   {
    "duration": 90,
    "start_time": "2024-03-07T18:40:07.185Z"
   },
   {
    "duration": 28,
    "start_time": "2024-03-07T18:40:07.277Z"
   },
   {
    "duration": 32,
    "start_time": "2024-03-07T18:40:07.307Z"
   },
   {
    "duration": 46,
    "start_time": "2024-03-07T18:40:07.341Z"
   },
   {
    "duration": 44,
    "start_time": "2024-03-07T18:40:07.389Z"
   },
   {
    "duration": 11,
    "start_time": "2024-03-07T18:40:07.767Z"
   },
   {
    "duration": 182,
    "start_time": "2024-03-07T18:40:07.780Z"
   },
   {
    "duration": 93,
    "start_time": "2024-03-07T18:40:07.964Z"
   },
   {
    "duration": 145,
    "start_time": "2024-03-07T18:40:08.250Z"
   },
   {
    "duration": 179,
    "start_time": "2024-03-07T18:40:08.397Z"
   },
   {
    "duration": 207,
    "start_time": "2024-03-07T18:40:08.578Z"
   },
   {
    "duration": 203,
    "start_time": "2024-03-07T18:40:08.786Z"
   },
   {
    "duration": 15,
    "start_time": "2024-03-07T18:40:08.994Z"
   },
   {
    "duration": 97,
    "start_time": "2024-03-07T18:40:09.011Z"
   },
   {
    "duration": 76,
    "start_time": "2024-03-07T18:40:09.110Z"
   },
   {
    "duration": 34,
    "start_time": "2024-03-07T18:40:09.188Z"
   },
   {
    "duration": 55,
    "start_time": "2024-03-07T18:40:09.223Z"
   },
   {
    "duration": 230,
    "start_time": "2024-03-07T18:40:09.279Z"
   },
   {
    "duration": 214,
    "start_time": "2024-03-07T18:40:09.511Z"
   },
   {
    "duration": 297,
    "start_time": "2024-03-07T18:40:09.726Z"
   },
   {
    "duration": 216,
    "start_time": "2024-03-07T18:40:10.024Z"
   },
   {
    "duration": 213,
    "start_time": "2024-03-07T18:40:10.243Z"
   },
   {
    "duration": 305,
    "start_time": "2024-03-07T18:40:10.458Z"
   },
   {
    "duration": 13,
    "start_time": "2024-03-07T18:40:10.764Z"
   },
   {
    "duration": 47,
    "start_time": "2024-03-07T18:40:10.778Z"
   },
   {
    "duration": 13,
    "start_time": "2024-03-07T18:40:10.826Z"
   },
   {
    "duration": 58,
    "start_time": "2024-03-07T18:40:10.840Z"
   },
   {
    "duration": 9,
    "start_time": "2024-03-07T18:40:10.900Z"
   },
   {
    "duration": 26,
    "start_time": "2024-03-07T18:40:10.910Z"
   },
   {
    "duration": 8,
    "start_time": "2024-03-07T18:40:49.477Z"
   },
   {
    "duration": 112,
    "start_time": "2024-03-07T18:41:46.290Z"
   },
   {
    "duration": 9,
    "start_time": "2024-03-07T18:42:03.605Z"
   },
   {
    "duration": 8,
    "start_time": "2024-03-07T18:42:33.826Z"
   },
   {
    "duration": 6,
    "start_time": "2024-03-07T18:42:40.109Z"
   },
   {
    "duration": 2,
    "start_time": "2024-03-07T19:26:21.470Z"
   },
   {
    "duration": 95,
    "start_time": "2024-03-07T19:26:21.474Z"
   },
   {
    "duration": 27,
    "start_time": "2024-03-07T19:26:21.571Z"
   },
   {
    "duration": 12,
    "start_time": "2024-03-07T19:26:21.600Z"
   },
   {
    "duration": 32,
    "start_time": "2024-03-07T19:26:21.613Z"
   },
   {
    "duration": 142,
    "start_time": "2024-03-07T19:26:21.646Z"
   },
   {
    "duration": 13,
    "start_time": "2024-03-07T19:26:21.789Z"
   },
   {
    "duration": 147,
    "start_time": "2024-03-07T19:26:21.803Z"
   },
   {
    "duration": 95,
    "start_time": "2024-03-07T19:26:21.951Z"
   },
   {
    "duration": 153,
    "start_time": "2024-03-07T19:26:22.047Z"
   },
   {
    "duration": 177,
    "start_time": "2024-03-07T19:26:22.202Z"
   },
   {
    "duration": 226,
    "start_time": "2024-03-07T19:26:22.381Z"
   },
   {
    "duration": 115,
    "start_time": "2024-03-07T19:26:22.608Z"
   },
   {
    "duration": 14,
    "start_time": "2024-03-07T19:26:22.724Z"
   },
   {
    "duration": 11,
    "start_time": "2024-03-07T19:26:22.739Z"
   },
   {
    "duration": 52,
    "start_time": "2024-03-07T19:26:22.751Z"
   },
   {
    "duration": 42,
    "start_time": "2024-03-07T19:26:22.804Z"
   },
   {
    "duration": 77,
    "start_time": "2024-03-07T19:26:22.847Z"
   },
   {
    "duration": 254,
    "start_time": "2024-03-07T19:26:22.925Z"
   },
   {
    "duration": 214,
    "start_time": "2024-03-07T19:26:23.181Z"
   },
   {
    "duration": 283,
    "start_time": "2024-03-07T19:26:23.397Z"
   },
   {
    "duration": 218,
    "start_time": "2024-03-07T19:26:23.682Z"
   },
   {
    "duration": 298,
    "start_time": "2024-03-07T19:26:23.902Z"
   },
   {
    "duration": 311,
    "start_time": "2024-03-07T19:26:24.201Z"
   },
   {
    "duration": 11,
    "start_time": "2024-03-07T19:26:24.514Z"
   },
   {
    "duration": 37,
    "start_time": "2024-03-07T19:26:24.527Z"
   },
   {
    "duration": 29,
    "start_time": "2024-03-07T19:26:24.566Z"
   },
   {
    "duration": 56,
    "start_time": "2024-03-07T19:26:24.596Z"
   },
   {
    "duration": 9,
    "start_time": "2024-03-07T19:26:24.655Z"
   },
   {
    "duration": 8,
    "start_time": "2024-03-07T19:26:24.665Z"
   },
   {
    "duration": 37,
    "start_time": "2024-03-07T19:26:24.674Z"
   },
   {
    "duration": 1031,
    "start_time": "2024-03-08T12:27:35.222Z"
   },
   {
    "duration": 243,
    "start_time": "2024-03-08T12:27:36.255Z"
   },
   {
    "duration": 26,
    "start_time": "2024-03-08T12:27:36.499Z"
   },
   {
    "duration": 9,
    "start_time": "2024-03-08T12:27:36.526Z"
   },
   {
    "duration": 12,
    "start_time": "2024-03-08T12:27:36.536Z"
   },
   {
    "duration": 42,
    "start_time": "2024-03-08T12:27:36.549Z"
   },
   {
    "duration": 35,
    "start_time": "2024-03-08T12:27:36.593Z"
   },
   {
    "duration": 162,
    "start_time": "2024-03-08T12:27:36.629Z"
   },
   {
    "duration": 101,
    "start_time": "2024-03-08T12:27:36.792Z"
   },
   {
    "duration": 151,
    "start_time": "2024-03-08T12:27:36.896Z"
   },
   {
    "duration": 184,
    "start_time": "2024-03-08T12:27:37.049Z"
   },
   {
    "duration": 207,
    "start_time": "2024-03-08T12:27:37.235Z"
   },
   {
    "duration": 130,
    "start_time": "2024-03-08T12:27:37.443Z"
   },
   {
    "duration": 14,
    "start_time": "2024-03-08T12:27:37.575Z"
   },
   {
    "duration": 9,
    "start_time": "2024-03-08T12:27:37.591Z"
   },
   {
    "duration": 60,
    "start_time": "2024-03-08T12:27:37.601Z"
   },
   {
    "duration": 61,
    "start_time": "2024-03-08T12:27:37.663Z"
   },
   {
    "duration": 51,
    "start_time": "2024-03-08T12:27:37.725Z"
   },
   {
    "duration": 243,
    "start_time": "2024-03-08T12:27:37.778Z"
   },
   {
    "duration": 283,
    "start_time": "2024-03-08T12:27:38.022Z"
   },
   {
    "duration": 289,
    "start_time": "2024-03-08T12:27:38.307Z"
   },
   {
    "duration": 217,
    "start_time": "2024-03-08T12:27:38.597Z"
   },
   {
    "duration": 214,
    "start_time": "2024-03-08T12:27:38.817Z"
   },
   {
    "duration": 312,
    "start_time": "2024-03-08T12:27:39.032Z"
   },
   {
    "duration": 12,
    "start_time": "2024-03-08T12:27:39.346Z"
   },
   {
    "duration": 44,
    "start_time": "2024-03-08T12:27:39.359Z"
   },
   {
    "duration": 23,
    "start_time": "2024-03-08T12:27:39.405Z"
   },
   {
    "duration": 34,
    "start_time": "2024-03-08T12:27:39.431Z"
   },
   {
    "duration": 8,
    "start_time": "2024-03-08T12:27:39.467Z"
   },
   {
    "duration": 42,
    "start_time": "2024-03-08T12:27:39.476Z"
   },
   {
    "duration": 8,
    "start_time": "2024-03-08T12:27:39.520Z"
   },
   {
    "duration": 6,
    "start_time": "2024-03-08T12:29:21.205Z"
   }
  ],
  "kernelspec": {
   "display_name": "Python 3 (ipykernel)",
   "language": "python",
   "name": "python3"
  },
  "language_info": {
   "codemirror_mode": {
    "name": "ipython",
    "version": 3
   },
   "file_extension": ".py",
   "mimetype": "text/x-python",
   "name": "python",
   "nbconvert_exporter": "python",
   "pygments_lexer": "ipython3",
   "version": "3.12.4"
  },
  "toc": {
   "base_numbering": 1,
   "nav_menu": {},
   "number_sections": true,
   "sideBar": true,
   "skip_h1_title": true,
   "title_cell": "Table of Contents",
   "title_sidebar": "Contents",
   "toc_cell": false,
   "toc_position": {},
   "toc_section_display": true,
   "toc_window_display": false
  }
 },
 "nbformat": 4,
 "nbformat_minor": 5
}
