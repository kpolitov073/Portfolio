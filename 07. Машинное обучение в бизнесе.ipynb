{
 "cells": [
  {
   "cell_type": "markdown",
   "metadata": {},
   "source": [
    "# Выбор локации для скважины. Проект по спринту \"Машинное обучение в бизнесе\""
   ]
  },
  {
   "cell_type": "markdown",
   "metadata": {},
   "source": [
    "Допустим, вы работаете в добывающей компании «ГлавРосГосНефть». Нужно решить, где бурить новую скважину.\n",
    "\n",
    "Вам предоставлены пробы нефти в трёх регионах: в каждом 10 000 месторождений, где измерили качество нефти и объём её запасов. Постройте модель машинного обучения, которая поможет определить регион, где добыча принесёт наибольшую прибыль. Проанализируйте возможную прибыль и риски техникой *Bootstrap.*\n",
    "\n",
    "Шаги для выбора локации:\n",
    "\n",
    "- В избранном регионе ищут месторождения, для каждого определяют значения признаков;\n",
    "- Строят модель и оценивают объём запасов;\n",
    "- Выбирают месторождения с самым высокими оценками значений. Количество месторождений зависит от бюджета компании и стоимости разработки одной скважины;\n",
    "- Прибыль равна суммарной прибыли отобранных месторождений."
   ]
  },
  {
   "cell_type": "markdown",
   "metadata": {},
   "source": [
    "## Загрузка и подготовка данных"
   ]
  },
  {
   "cell_type": "code",
   "execution_count": 1,
   "metadata": {},
   "outputs": [],
   "source": [
    "#импорт библиотек и инструментов\n",
    "import pandas as pd\n",
    "import numpy as np\n",
    "from sklearn.model_selection import train_test_split\n",
    "from sklearn.linear_model import LinearRegression\n",
    "from sklearn.preprocessing import StandardScaler\n",
    "from sklearn.metrics import mean_squared_error"
   ]
  },
  {
   "cell_type": "code",
   "execution_count": 2,
   "metadata": {},
   "outputs": [],
   "source": [
    "#загрузка данных\n",
    "data1 = pd.read_csv('/datasets/geo_data_0.csv')\n",
    "data2 = pd.read_csv('/datasets/geo_data_1.csv')\n",
    "data3 = pd.read_csv('/datasets/geo_data_2.csv')"
   ]
  },
  {
   "cell_type": "code",
   "execution_count": 3,
   "metadata": {
    "scrolled": true
   },
   "outputs": [
    {
     "data": {
      "text/html": [
       "<div>\n",
       "<style scoped>\n",
       "    .dataframe tbody tr th:only-of-type {\n",
       "        vertical-align: middle;\n",
       "    }\n",
       "\n",
       "    .dataframe tbody tr th {\n",
       "        vertical-align: top;\n",
       "    }\n",
       "\n",
       "    .dataframe thead th {\n",
       "        text-align: right;\n",
       "    }\n",
       "</style>\n",
       "<table border=\"1\" class=\"dataframe\">\n",
       "  <thead>\n",
       "    <tr style=\"text-align: right;\">\n",
       "      <th></th>\n",
       "      <th>id</th>\n",
       "      <th>f0</th>\n",
       "      <th>f1</th>\n",
       "      <th>f2</th>\n",
       "      <th>product</th>\n",
       "    </tr>\n",
       "  </thead>\n",
       "  <tbody>\n",
       "    <tr>\n",
       "      <th>0</th>\n",
       "      <td>txEyH</td>\n",
       "      <td>0.705745</td>\n",
       "      <td>-0.497823</td>\n",
       "      <td>1.221170</td>\n",
       "      <td>105.280062</td>\n",
       "    </tr>\n",
       "    <tr>\n",
       "      <th>1</th>\n",
       "      <td>2acmU</td>\n",
       "      <td>1.334711</td>\n",
       "      <td>-0.340164</td>\n",
       "      <td>4.365080</td>\n",
       "      <td>73.037750</td>\n",
       "    </tr>\n",
       "    <tr>\n",
       "      <th>2</th>\n",
       "      <td>409Wp</td>\n",
       "      <td>1.022732</td>\n",
       "      <td>0.151990</td>\n",
       "      <td>1.419926</td>\n",
       "      <td>85.265647</td>\n",
       "    </tr>\n",
       "    <tr>\n",
       "      <th>3</th>\n",
       "      <td>iJLyR</td>\n",
       "      <td>-0.032172</td>\n",
       "      <td>0.139033</td>\n",
       "      <td>2.978566</td>\n",
       "      <td>168.620776</td>\n",
       "    </tr>\n",
       "    <tr>\n",
       "      <th>4</th>\n",
       "      <td>Xdl7t</td>\n",
       "      <td>1.988431</td>\n",
       "      <td>0.155413</td>\n",
       "      <td>4.751769</td>\n",
       "      <td>154.036647</td>\n",
       "    </tr>\n",
       "  </tbody>\n",
       "</table>\n",
       "</div>"
      ],
      "text/plain": [
       "      id        f0        f1        f2     product\n",
       "0  txEyH  0.705745 -0.497823  1.221170  105.280062\n",
       "1  2acmU  1.334711 -0.340164  4.365080   73.037750\n",
       "2  409Wp  1.022732  0.151990  1.419926   85.265647\n",
       "3  iJLyR -0.032172  0.139033  2.978566  168.620776\n",
       "4  Xdl7t  1.988431  0.155413  4.751769  154.036647"
      ]
     },
     "metadata": {},
     "output_type": "display_data"
    },
    {
     "data": {
      "text/html": [
       "<div>\n",
       "<style scoped>\n",
       "    .dataframe tbody tr th:only-of-type {\n",
       "        vertical-align: middle;\n",
       "    }\n",
       "\n",
       "    .dataframe tbody tr th {\n",
       "        vertical-align: top;\n",
       "    }\n",
       "\n",
       "    .dataframe thead th {\n",
       "        text-align: right;\n",
       "    }\n",
       "</style>\n",
       "<table border=\"1\" class=\"dataframe\">\n",
       "  <thead>\n",
       "    <tr style=\"text-align: right;\">\n",
       "      <th></th>\n",
       "      <th>id</th>\n",
       "      <th>f0</th>\n",
       "      <th>f1</th>\n",
       "      <th>f2</th>\n",
       "      <th>product</th>\n",
       "    </tr>\n",
       "  </thead>\n",
       "  <tbody>\n",
       "    <tr>\n",
       "      <th>0</th>\n",
       "      <td>kBEdx</td>\n",
       "      <td>-15.001348</td>\n",
       "      <td>-8.276000</td>\n",
       "      <td>-0.005876</td>\n",
       "      <td>3.179103</td>\n",
       "    </tr>\n",
       "    <tr>\n",
       "      <th>1</th>\n",
       "      <td>62mP7</td>\n",
       "      <td>14.272088</td>\n",
       "      <td>-3.475083</td>\n",
       "      <td>0.999183</td>\n",
       "      <td>26.953261</td>\n",
       "    </tr>\n",
       "    <tr>\n",
       "      <th>2</th>\n",
       "      <td>vyE1P</td>\n",
       "      <td>6.263187</td>\n",
       "      <td>-5.948386</td>\n",
       "      <td>5.001160</td>\n",
       "      <td>134.766305</td>\n",
       "    </tr>\n",
       "    <tr>\n",
       "      <th>3</th>\n",
       "      <td>KcrkZ</td>\n",
       "      <td>-13.081196</td>\n",
       "      <td>-11.506057</td>\n",
       "      <td>4.999415</td>\n",
       "      <td>137.945408</td>\n",
       "    </tr>\n",
       "    <tr>\n",
       "      <th>4</th>\n",
       "      <td>AHL4O</td>\n",
       "      <td>12.702195</td>\n",
       "      <td>-8.147433</td>\n",
       "      <td>5.004363</td>\n",
       "      <td>134.766305</td>\n",
       "    </tr>\n",
       "  </tbody>\n",
       "</table>\n",
       "</div>"
      ],
      "text/plain": [
       "      id         f0         f1        f2     product\n",
       "0  kBEdx -15.001348  -8.276000 -0.005876    3.179103\n",
       "1  62mP7  14.272088  -3.475083  0.999183   26.953261\n",
       "2  vyE1P   6.263187  -5.948386  5.001160  134.766305\n",
       "3  KcrkZ -13.081196 -11.506057  4.999415  137.945408\n",
       "4  AHL4O  12.702195  -8.147433  5.004363  134.766305"
      ]
     },
     "metadata": {},
     "output_type": "display_data"
    },
    {
     "data": {
      "text/html": [
       "<div>\n",
       "<style scoped>\n",
       "    .dataframe tbody tr th:only-of-type {\n",
       "        vertical-align: middle;\n",
       "    }\n",
       "\n",
       "    .dataframe tbody tr th {\n",
       "        vertical-align: top;\n",
       "    }\n",
       "\n",
       "    .dataframe thead th {\n",
       "        text-align: right;\n",
       "    }\n",
       "</style>\n",
       "<table border=\"1\" class=\"dataframe\">\n",
       "  <thead>\n",
       "    <tr style=\"text-align: right;\">\n",
       "      <th></th>\n",
       "      <th>id</th>\n",
       "      <th>f0</th>\n",
       "      <th>f1</th>\n",
       "      <th>f2</th>\n",
       "      <th>product</th>\n",
       "    </tr>\n",
       "  </thead>\n",
       "  <tbody>\n",
       "    <tr>\n",
       "      <th>0</th>\n",
       "      <td>fwXo0</td>\n",
       "      <td>-1.146987</td>\n",
       "      <td>0.963328</td>\n",
       "      <td>-0.828965</td>\n",
       "      <td>27.758673</td>\n",
       "    </tr>\n",
       "    <tr>\n",
       "      <th>1</th>\n",
       "      <td>WJtFt</td>\n",
       "      <td>0.262778</td>\n",
       "      <td>0.269839</td>\n",
       "      <td>-2.530187</td>\n",
       "      <td>56.069697</td>\n",
       "    </tr>\n",
       "    <tr>\n",
       "      <th>2</th>\n",
       "      <td>ovLUW</td>\n",
       "      <td>0.194587</td>\n",
       "      <td>0.289035</td>\n",
       "      <td>-5.586433</td>\n",
       "      <td>62.871910</td>\n",
       "    </tr>\n",
       "    <tr>\n",
       "      <th>3</th>\n",
       "      <td>q6cA6</td>\n",
       "      <td>2.236060</td>\n",
       "      <td>-0.553760</td>\n",
       "      <td>0.930038</td>\n",
       "      <td>114.572842</td>\n",
       "    </tr>\n",
       "    <tr>\n",
       "      <th>4</th>\n",
       "      <td>WPMUX</td>\n",
       "      <td>-0.515993</td>\n",
       "      <td>1.716266</td>\n",
       "      <td>5.899011</td>\n",
       "      <td>149.600746</td>\n",
       "    </tr>\n",
       "  </tbody>\n",
       "</table>\n",
       "</div>"
      ],
      "text/plain": [
       "      id        f0        f1        f2     product\n",
       "0  fwXo0 -1.146987  0.963328 -0.828965   27.758673\n",
       "1  WJtFt  0.262778  0.269839 -2.530187   56.069697\n",
       "2  ovLUW  0.194587  0.289035 -5.586433   62.871910\n",
       "3  q6cA6  2.236060 -0.553760  0.930038  114.572842\n",
       "4  WPMUX -0.515993  1.716266  5.899011  149.600746"
      ]
     },
     "metadata": {},
     "output_type": "display_data"
    }
   ],
   "source": [
    "#проверим корректность загрузки\n",
    "display(data1.head())\n",
    "display(data2.head())\n",
    "display(data3.head())"
   ]
  },
  {
   "cell_type": "code",
   "execution_count": 4,
   "metadata": {},
   "outputs": [
    {
     "name": "stdout",
     "output_type": "stream",
     "text": [
      "<class 'pandas.core.frame.DataFrame'>\n",
      "RangeIndex: 100000 entries, 0 to 99999\n",
      "Data columns (total 5 columns):\n",
      " #   Column   Non-Null Count   Dtype  \n",
      "---  ------   --------------   -----  \n",
      " 0   id       100000 non-null  object \n",
      " 1   f0       100000 non-null  float64\n",
      " 2   f1       100000 non-null  float64\n",
      " 3   f2       100000 non-null  float64\n",
      " 4   product  100000 non-null  float64\n",
      "dtypes: float64(4), object(1)\n",
      "memory usage: 3.8+ MB\n"
     ]
    },
    {
     "data": {
      "text/plain": [
       "None"
      ]
     },
     "metadata": {},
     "output_type": "display_data"
    },
    {
     "name": "stdout",
     "output_type": "stream",
     "text": [
      "<class 'pandas.core.frame.DataFrame'>\n",
      "RangeIndex: 100000 entries, 0 to 99999\n",
      "Data columns (total 5 columns):\n",
      " #   Column   Non-Null Count   Dtype  \n",
      "---  ------   --------------   -----  \n",
      " 0   id       100000 non-null  object \n",
      " 1   f0       100000 non-null  float64\n",
      " 2   f1       100000 non-null  float64\n",
      " 3   f2       100000 non-null  float64\n",
      " 4   product  100000 non-null  float64\n",
      "dtypes: float64(4), object(1)\n",
      "memory usage: 3.8+ MB\n"
     ]
    },
    {
     "data": {
      "text/plain": [
       "None"
      ]
     },
     "metadata": {},
     "output_type": "display_data"
    },
    {
     "name": "stdout",
     "output_type": "stream",
     "text": [
      "<class 'pandas.core.frame.DataFrame'>\n",
      "RangeIndex: 100000 entries, 0 to 99999\n",
      "Data columns (total 5 columns):\n",
      " #   Column   Non-Null Count   Dtype  \n",
      "---  ------   --------------   -----  \n",
      " 0   id       100000 non-null  object \n",
      " 1   f0       100000 non-null  float64\n",
      " 2   f1       100000 non-null  float64\n",
      " 3   f2       100000 non-null  float64\n",
      " 4   product  100000 non-null  float64\n",
      "dtypes: float64(4), object(1)\n",
      "memory usage: 3.8+ MB\n"
     ]
    },
    {
     "data": {
      "text/plain": [
       "None"
      ]
     },
     "metadata": {},
     "output_type": "display_data"
    }
   ],
   "source": [
    "# проверка данных на наличие пропусков и аномалий\n",
    "display(data1.info())\n",
    "display(data2.info())\n",
    "display(data3.info())"
   ]
  },
  {
   "cell_type": "code",
   "execution_count": 5,
   "metadata": {},
   "outputs": [
    {
     "data": {
      "text/plain": [
       "0"
      ]
     },
     "metadata": {},
     "output_type": "display_data"
    },
    {
     "data": {
      "text/plain": [
       "0"
      ]
     },
     "metadata": {},
     "output_type": "display_data"
    },
    {
     "data": {
      "text/plain": [
       "0"
      ]
     },
     "metadata": {},
     "output_type": "display_data"
    }
   ],
   "source": [
    "#проверка на дубликаты\n",
    "display((data1.duplicated()).sum())\n",
    "display((data2.duplicated()).sum())\n",
    "display((data3.duplicated()).sum())"
   ]
  },
  {
   "cell_type": "markdown",
   "metadata": {},
   "source": [
    "###### Выводы\n",
    "- импортировали необходимые библиотеки и инструменты\n",
    "- загрузили данные\n",
    "- проверили на дубликаты и пропуски\n",
    "- дубликатов и пропусков нет, можно переходить к обучению модели"
   ]
  },
  {
   "cell_type": "markdown",
   "metadata": {},
   "source": [
    "## Обучение и проверка модели"
   ]
  },
  {
   "cell_type": "markdown",
   "metadata": {},
   "source": [
    "Необходимо создать модель для каждого региона, поэтому сделаем это, используя функцию"
   ]
  },
  {
   "cell_type": "code",
   "execution_count": 6,
   "metadata": {
    "scrolled": true
   },
   "outputs": [
    {
     "name": "stdout",
     "output_type": "stream",
     "text": [
      "Средний запас предсказанного сырья в регионе 1: 92.39879990657768\n",
      "RMSE модели в регионе 1: 37.75660035026169\n",
      "Средний запас предсказанного сырья в регионе 2: 68.7128780391376\n",
      "RMSE модели в регионе 2: 0.8902801001028846\n",
      "Средний запас предсказанного сырья в регионе 3: 94.77102387765939\n",
      "RMSE модели в регионе 3: 40.145872311342174\n"
     ]
    }
   ],
   "source": [
    "def model_prediction_rmse (data):\n",
    "    #выделяем данные и целевой признак\n",
    "    features = data.drop(['id', 'product'], axis=1)\n",
    "    target = data['product']\n",
    "    \n",
    "    #делим на выборки\n",
    "    features_train, features_valid, target_train, target_valid = train_test_split(\n",
    "        features, target, test_size=0.25, random_state=42)\n",
    "    \n",
    "    #стандартизация\n",
    "    scaler = StandardScaler()\n",
    "    features_train_scaled = scaler.fit_transform(features_train)\n",
    "    features_valid_scaled = scaler.transform(features_valid)\n",
    "    \n",
    "    #обучение модели\n",
    "    model = LinearRegression()\n",
    "    model.fit(features_train_scaled, target_train)\n",
    "    \n",
    "    #предсказания на валидационной выборке\n",
    "    predictions = model.predict(features_valid_scaled)\n",
    "    \n",
    "    #расчет среднего запаса и rmse\n",
    "    avg_predicted_reserve = predictions.mean()\n",
    "    rmse = np.sqrt(mean_squared_error(target_valid, predictions))\n",
    "    \n",
    "    #предсказания на всем наборе данных\n",
    "    features_scaled = scaler.transform(features)\n",
    "    predictions_all = model.predict(features_scaled)\n",
    "    \n",
    "    return avg_predicted_reserve, rmse, predictions, target_valid, predictions_all\n",
    "\n",
    "# Применение функции для каждого региона\n",
    "results_1 = model_prediction_rmse(data1)\n",
    "results_2 = model_prediction_rmse(data2)\n",
    "results_3 = model_prediction_rmse(data3)\n",
    "\n",
    "print('Средний запас предсказанного сырья в регионе 1:', results_1[0])\n",
    "print('RMSE модели в регионе 1:', results_1[1])\n",
    "\n",
    "print('Средний запас предсказанного сырья в регионе 2:', results_2[0])\n",
    "print('RMSE модели в регионе 2:', results_2[1])\n",
    "\n",
    "print('Средний запас предсказанного сырья в регионе 3:', results_3[0])\n",
    "print('RMSE модели в регионе 3:', results_3[1])"
   ]
  },
  {
   "cell_type": "code",
   "execution_count": 7,
   "metadata": {},
   "outputs": [],
   "source": [
    "#добавим предсказанные значения в датасеты\n",
    "data1['predictions'] = pd.Series(results_1[4])\n",
    "data2['predictions'] = pd.Series(results_2[4])\n",
    "data3['predictions'] = pd.Series(results_3[4])"
   ]
  },
  {
   "cell_type": "markdown",
   "metadata": {},
   "source": [
    "###### Выводы\n",
    "- обучили модели линейной регрессии\n",
    "- сделали предсказания на валидационной выборке\n",
    "- получили результаты\n",
    "- средние запасы сырья и RMSE практически равны в регионе 1 и 3  \n",
    "- средний запас сырья в регионе 2 сильно меньше, но при этом RMSE значительно ниже чем в регионах 1 и 3"
   ]
  },
  {
   "cell_type": "markdown",
   "metadata": {},
   "source": [
    "## Подготовка к расчёту прибыли"
   ]
  },
  {
   "cell_type": "code",
   "execution_count": 8,
   "metadata": {},
   "outputs": [
    {
     "name": "stdout",
     "output_type": "stream",
     "text": [
      "Достаточный объем сырья для безубыточной разработки: 111.11111111111111\n"
     ]
    }
   ],
   "source": [
    "#запишем необходимые значения в переменные\n",
    "budget = 10000000000\n",
    "revenue_barrel = 450\n",
    "best = 200\n",
    "research = 500\n",
    "barrels_per_unit = 1000\n",
    "\n",
    "# расчет для безубыточной разработки\n",
    "cost_well = budget / best\n",
    "need_vol = cost_well / (revenue_barrel * barrels_per_unit)\n",
    "\n",
    "print('Достаточный объем сырья для безубыточной разработки:', need_vol)"
   ]
  },
  {
   "cell_type": "markdown",
   "metadata": {},
   "source": [
    "###### Вывод\n",
    "Достаточный объем сырья для безубыточной разработки составил более 111 тыс. баррелей, что больше чем среднее значение в скважинах всех регионов"
   ]
  },
  {
   "cell_type": "markdown",
   "metadata": {},
   "source": [
    "## Написание функции для расчёта прибыли по выбранным скважинам и предсказаниям модели"
   ]
  },
  {
   "cell_type": "code",
   "execution_count": 9,
   "metadata": {
    "scrolled": true
   },
   "outputs": [
    {
     "data": {
      "text/html": [
       "<div>\n",
       "<style scoped>\n",
       "    .dataframe tbody tr th:only-of-type {\n",
       "        vertical-align: middle;\n",
       "    }\n",
       "\n",
       "    .dataframe tbody tr th {\n",
       "        vertical-align: top;\n",
       "    }\n",
       "\n",
       "    .dataframe thead th {\n",
       "        text-align: right;\n",
       "    }\n",
       "</style>\n",
       "<table border=\"1\" class=\"dataframe\">\n",
       "  <thead>\n",
       "    <tr style=\"text-align: right;\">\n",
       "      <th></th>\n",
       "      <th>product</th>\n",
       "      <th>predictions</th>\n",
       "    </tr>\n",
       "  </thead>\n",
       "  <tbody>\n",
       "    <tr>\n",
       "      <th>51140</th>\n",
       "      <td>182.079984</td>\n",
       "      <td>195.101959</td>\n",
       "    </tr>\n",
       "    <tr>\n",
       "      <th>83095</th>\n",
       "      <td>144.009283</td>\n",
       "      <td>185.669565</td>\n",
       "    </tr>\n",
       "    <tr>\n",
       "      <th>51464</th>\n",
       "      <td>173.971897</td>\n",
       "      <td>185.331543</td>\n",
       "    </tr>\n",
       "    <tr>\n",
       "      <th>93073</th>\n",
       "      <td>162.810993</td>\n",
       "      <td>180.464229</td>\n",
       "    </tr>\n",
       "    <tr>\n",
       "      <th>52356</th>\n",
       "      <td>123.920559</td>\n",
       "      <td>177.592367</td>\n",
       "    </tr>\n",
       "  </tbody>\n",
       "</table>\n",
       "</div>"
      ],
      "text/plain": [
       "          product  predictions\n",
       "51140  182.079984   195.101959\n",
       "83095  144.009283   185.669565\n",
       "51464  173.971897   185.331543\n",
       "93073  162.810993   180.464229\n",
       "52356  123.920559   177.592367"
      ]
     },
     "metadata": {},
     "output_type": "display_data"
    },
    {
     "data": {
      "text/html": [
       "<div>\n",
       "<style scoped>\n",
       "    .dataframe tbody tr th:only-of-type {\n",
       "        vertical-align: middle;\n",
       "    }\n",
       "\n",
       "    .dataframe tbody tr th {\n",
       "        vertical-align: top;\n",
       "    }\n",
       "\n",
       "    .dataframe thead th {\n",
       "        text-align: right;\n",
       "    }\n",
       "</style>\n",
       "<table border=\"1\" class=\"dataframe\">\n",
       "  <thead>\n",
       "    <tr style=\"text-align: right;\">\n",
       "      <th></th>\n",
       "      <th>product</th>\n",
       "      <th>predictions</th>\n",
       "    </tr>\n",
       "  </thead>\n",
       "  <tbody>\n",
       "    <tr>\n",
       "      <th>26531</th>\n",
       "      <td>137.945408</td>\n",
       "      <td>140.360110</td>\n",
       "    </tr>\n",
       "    <tr>\n",
       "      <th>80439</th>\n",
       "      <td>137.945408</td>\n",
       "      <td>139.983277</td>\n",
       "    </tr>\n",
       "    <tr>\n",
       "      <th>55165</th>\n",
       "      <td>137.945408</td>\n",
       "      <td>139.901279</td>\n",
       "    </tr>\n",
       "    <tr>\n",
       "      <th>42738</th>\n",
       "      <td>137.945408</td>\n",
       "      <td>139.849860</td>\n",
       "    </tr>\n",
       "    <tr>\n",
       "      <th>38665</th>\n",
       "      <td>137.945408</td>\n",
       "      <td>139.815396</td>\n",
       "    </tr>\n",
       "  </tbody>\n",
       "</table>\n",
       "</div>"
      ],
      "text/plain": [
       "          product  predictions\n",
       "26531  137.945408   140.360110\n",
       "80439  137.945408   139.983277\n",
       "55165  137.945408   139.901279\n",
       "42738  137.945408   139.849860\n",
       "38665  137.945408   139.815396"
      ]
     },
     "metadata": {},
     "output_type": "display_data"
    },
    {
     "data": {
      "text/html": [
       "<div>\n",
       "<style scoped>\n",
       "    .dataframe tbody tr th:only-of-type {\n",
       "        vertical-align: middle;\n",
       "    }\n",
       "\n",
       "    .dataframe tbody tr th {\n",
       "        vertical-align: top;\n",
       "    }\n",
       "\n",
       "    .dataframe thead th {\n",
       "        text-align: right;\n",
       "    }\n",
       "</style>\n",
       "<table border=\"1\" class=\"dataframe\">\n",
       "  <thead>\n",
       "    <tr style=\"text-align: right;\">\n",
       "      <th></th>\n",
       "      <th>product</th>\n",
       "      <th>predictions</th>\n",
       "    </tr>\n",
       "  </thead>\n",
       "  <tbody>\n",
       "    <tr>\n",
       "      <th>3540</th>\n",
       "      <td>154.062998</td>\n",
       "      <td>176.976289</td>\n",
       "    </tr>\n",
       "    <tr>\n",
       "      <th>98714</th>\n",
       "      <td>98.664401</td>\n",
       "      <td>174.615753</td>\n",
       "    </tr>\n",
       "    <tr>\n",
       "      <th>25463</th>\n",
       "      <td>166.293929</td>\n",
       "      <td>174.546751</td>\n",
       "    </tr>\n",
       "    <tr>\n",
       "      <th>6647</th>\n",
       "      <td>152.294162</td>\n",
       "      <td>173.953743</td>\n",
       "    </tr>\n",
       "    <tr>\n",
       "      <th>69502</th>\n",
       "      <td>121.349438</td>\n",
       "      <td>173.949349</td>\n",
       "    </tr>\n",
       "  </tbody>\n",
       "</table>\n",
       "</div>"
      ],
      "text/plain": [
       "          product  predictions\n",
       "3540   154.062998   176.976289\n",
       "98714   98.664401   174.615753\n",
       "25463  166.293929   174.546751\n",
       "6647   152.294162   173.953743\n",
       "69502  121.349438   173.949349"
      ]
     },
     "metadata": {},
     "output_type": "display_data"
    }
   ],
   "source": [
    "data_1 = (data1.iloc[:, -2:]).sort_values(by='predictions', ascending=False)\n",
    "data_2 = (data2.iloc[:, -2:]).sort_values(by='predictions', ascending=False)\n",
    "data_3 = (data3.iloc[:, -2:]).sort_values(by='predictions', ascending=False)\n",
    "display(data_1.head())\n",
    "display(data_2.head())\n",
    "display(data_3.head())"
   ]
  },
  {
   "cell_type": "code",
   "execution_count": 10,
   "metadata": {
    "scrolled": true
   },
   "outputs": [],
   "source": [
    "#функция для расчета прибыли\n",
    "def profit_func(selected_data):\n",
    "    #выбираем топ скважин\n",
    "    selected = selected_data.head(best)\n",
    "    #суммируем целевые значения объема сырья\n",
    "    total_volume = selected['product'].sum()\n",
    "    #рассчитываем прибыль\n",
    "    profit = total_volume * (revenue_barrel * barrels_per_unit) - budget\n",
    "    \n",
    "    return profit"
   ]
  },
  {
   "cell_type": "markdown",
   "metadata": {},
   "source": [
    "###### Выводы\n",
    "- написали функцию для расчета прибыли \n",
    "- оставили в таблицах только предсказания и запасы сырья\n",
    "- отсортировали по значениям, предсказанным моделью, выбрали топ 200 точек\n",
    "- рассчитали прибыль для полученного объёма сырья"
   ]
  },
  {
   "cell_type": "markdown",
   "metadata": {},
   "source": [
    "## Расчёт прибыли и рисков "
   ]
  },
  {
   "cell_type": "code",
   "execution_count": 11,
   "metadata": {},
   "outputs": [
    {
     "name": "stdout",
     "output_type": "stream",
     "text": [
      "Регион 1: Средняя прибыль: 441 млн. руб., 95%-й доверительный интервал: от -89 млн. руб. до 951 млн. руб., риск убытков: 5.6%\n",
      "Регион 2: Средняя прибыль: 470 млн. руб., 95%-й доверительный интервал: от 72 млн. руб. до 894 млн. руб., риск убытков: 1.3%\n",
      "Регион 3: Средняя прибыль: 375 млн. руб., 95%-й доверительный интервал: от -177 млн. руб. до 864 млн. руб., риск убытков: 8.1%\n",
      "Регион 2 подходит для разработки.\n"
     ]
    }
   ],
   "source": [
    "def bootstrap_profit(data, n_samples=1000, best=200):\n",
    "    state = np.random.RandomState(12345)\n",
    "    profits = []\n",
    "    \n",
    "    for i in range(n_samples):\n",
    "        subsample_indices = state.choice(data.index, size=500, replace=True)\n",
    "        subsample = data.loc[subsample_indices]\n",
    "        subsample = subsample.sort_values(by='predictions', ascending=False).head(best)\n",
    "        profit = profit_func(subsample)\n",
    "        profits.append(profit)\n",
    "    \n",
    "    profits = pd.Series(profits)\n",
    "    mean_profit = profits.mean()\n",
    "    lower_quantile = profits.quantile(0.025)\n",
    "    upper_quantile = profits.quantile(0.975)\n",
    "    risk_of_loss = (profits < 0).mean()\n",
    "    \n",
    "    return mean_profit, lower_quantile, upper_quantile, risk_of_loss\n",
    "\n",
    "profits_1 = bootstrap_profit(data_1)\n",
    "profits_2 = bootstrap_profit(data_2)\n",
    "profits_3 = bootstrap_profit(data_3)\n",
    "\n",
    "def format_millions(number):\n",
    "    return f\"{round(number / 1_000_000)} млн. руб.\"\n",
    "\n",
    "# Вывод результатов для региона 1\n",
    "print(f\"Регион 1: Средняя прибыль: {format_millions(profits_1[0])}, 95%-й доверительный интервал: от {format_millions(profits_1[1])} до {format_millions(profits_1[2])}, риск убытков: {profits_1[3]*100:.1f}%\")\n",
    "\n",
    "# Вывод результатов для региона 2\n",
    "print(f\"Регион 2: Средняя прибыль: {format_millions(profits_2[0])}, 95%-й доверительный интервал: от {format_millions(profits_2[1])} до {format_millions(profits_2[2])}, риск убытков: {profits_2[3]*100:.1f}%\")\n",
    "\n",
    "# Вывод результатов для региона 3\n",
    "print(f\"Регион 3: Средняя прибыль: {format_millions(profits_3[0])}, 95%-й доверительный интервал: от {format_millions(profits_3[1])} до {format_millions(profits_3[2])}, риск убытков: {profits_3[3]*100:.1f}%\")\n",
    "\n",
    "# Выбор региона для разработки скважин\n",
    "if profits_1[3] < 0.025:\n",
    "    print(\"Регион 1 подходит для разработки.\")\n",
    "if profits_2[3] < 0.025:\n",
    "    print(\"Регион 2 подходит для разработки.\")\n",
    "if profits_3[3] < 0.025:\n",
    "    print(\"Регион 3 подходит для разработки.\")"
   ]
  },
  {
   "cell_type": "markdown",
   "metadata": {},
   "source": [
    "## Общий вывод\n",
    "\n",
    "На основании представленных данных можно сделать следующие выводы и рекомендации:\n",
    "\n",
    "- Регион 1 имеет средний предсказанный запас сырья около 92.4 тыс. баррелей, с RMSE примерно 37.76.\n",
    "- Регион 2 обладает меньшим средним предсказанным запасом сырья, около 68.7 тыс. баррелей, однако RMSE модели значительно ниже, всего 0.89, что указывает на высокую точность модели.\n",
    "- Регион 3 имеет средний предсказанный запас сырья около 94.8 тыс. баррелей, с RMSE примерно 40.15.\n",
    "\n",
    "###### Оценка прибыли:\n",
    "- При оценке прибыли по регионам, наиболее перспективным оказывается регион 2. Средняя прибыль составляет примерно 469.7 миллионов, с хорошим 95%-м доверительным интервалом от 71.5 до 893.8 миллионов. Риск убытков составляет всего 1.3% (или 0.013).\n",
    "- Регион 1 и регион 3 также имеют положительные средние прибыли, однако они сопряжены с более высоким риском убытков (5.6% для региона 1 и 8.1% для региона 3).\n",
    "\n",
    "######  Рекомендации\n",
    "Выбор региона 2 для разработки скважин представляется наиболее обоснованным с точки зрения минимизации рисков и максимизации прибыли. Этот регион демонстрирует наилучшие показатели средней прибыли, наименьший уровень риска убытков и высокую точность модели предсказания запасов сырья."
   ]
  }
 ],
 "metadata": {
  "ExecuteTimeLog": [
   {
    "duration": 377,
    "start_time": "2024-07-11T06:35:40.309Z"
   },
   {
    "duration": 666,
    "start_time": "2024-07-11T06:36:29.275Z"
   },
   {
    "duration": 30,
    "start_time": "2024-07-11T06:37:03.381Z"
   },
   {
    "duration": 1194,
    "start_time": "2024-07-11T06:40:33.145Z"
   },
   {
    "duration": 7090,
    "start_time": "2024-07-11T06:41:01.232Z"
   },
   {
    "duration": 106,
    "start_time": "2024-07-11T06:42:51.096Z"
   },
   {
    "duration": 12,
    "start_time": "2024-07-11T06:43:11.375Z"
   },
   {
    "duration": 13,
    "start_time": "2024-07-11T06:43:50.487Z"
   },
   {
    "duration": 14,
    "start_time": "2024-07-11T06:44:01.999Z"
   },
   {
    "duration": 13,
    "start_time": "2024-07-11T06:44:35.151Z"
   },
   {
    "duration": 12,
    "start_time": "2024-07-11T06:45:04.839Z"
   },
   {
    "duration": 2910,
    "start_time": "2024-07-11T06:45:13.126Z"
   },
   {
    "duration": 19,
    "start_time": "2024-07-11T06:45:24.166Z"
   },
   {
    "duration": 12,
    "start_time": "2024-07-11T06:47:23.311Z"
   },
   {
    "duration": 947,
    "start_time": "2024-07-11T06:47:31.531Z"
   },
   {
    "duration": 415,
    "start_time": "2024-07-11T06:47:32.480Z"
   },
   {
    "duration": 27,
    "start_time": "2024-07-11T06:47:32.897Z"
   },
   {
    "duration": 44,
    "start_time": "2024-07-11T06:48:06.685Z"
   },
   {
    "duration": 103,
    "start_time": "2024-07-11T06:51:11.257Z"
   },
   {
    "duration": 46,
    "start_time": "2024-07-11T06:51:38.012Z"
   },
   {
    "duration": 9,
    "start_time": "2024-07-11T06:52:54.564Z"
   },
   {
    "duration": 53,
    "start_time": "2024-07-11T06:53:01.236Z"
   },
   {
    "duration": 47,
    "start_time": "2024-07-11T06:53:09.461Z"
   },
   {
    "duration": 44,
    "start_time": "2024-07-11T06:53:29.372Z"
   },
   {
    "duration": 126,
    "start_time": "2024-07-11T06:54:10.836Z"
   },
   {
    "duration": 4,
    "start_time": "2024-07-11T07:06:04.348Z"
   },
   {
    "duration": 67,
    "start_time": "2024-07-11T07:07:56.821Z"
   },
   {
    "duration": 466,
    "start_time": "2024-07-11T07:14:22.201Z"
   },
   {
    "duration": 931,
    "start_time": "2024-07-11T07:15:04.484Z"
   },
   {
    "duration": 447,
    "start_time": "2024-07-11T07:15:05.416Z"
   },
   {
    "duration": 29,
    "start_time": "2024-07-11T07:15:05.865Z"
   },
   {
    "duration": 44,
    "start_time": "2024-07-11T07:15:05.896Z"
   },
   {
    "duration": 166,
    "start_time": "2024-07-11T07:15:05.966Z"
   },
   {
    "duration": 634,
    "start_time": "2024-07-11T07:15:06.133Z"
   },
   {
    "duration": 562,
    "start_time": "2024-07-11T07:16:46.114Z"
   },
   {
    "duration": 1000,
    "start_time": "2024-07-11T07:19:37.905Z"
   },
   {
    "duration": 414,
    "start_time": "2024-07-11T07:19:38.907Z"
   },
   {
    "duration": 28,
    "start_time": "2024-07-11T07:19:39.323Z"
   },
   {
    "duration": 48,
    "start_time": "2024-07-11T07:19:39.352Z"
   },
   {
    "duration": 156,
    "start_time": "2024-07-11T07:19:39.402Z"
   },
   {
    "duration": 508,
    "start_time": "2024-07-11T07:19:39.564Z"
   },
   {
    "duration": 101,
    "start_time": "2024-07-11T07:41:12.987Z"
   },
   {
    "duration": 4,
    "start_time": "2024-07-11T07:41:40.165Z"
   },
   {
    "duration": 4,
    "start_time": "2024-07-11T07:43:47.376Z"
   },
   {
    "duration": 5,
    "start_time": "2024-07-11T07:52:21.536Z"
   },
   {
    "duration": 630,
    "start_time": "2024-07-11T07:53:49.135Z"
   },
   {
    "duration": 30,
    "start_time": "2024-07-11T07:57:52.038Z"
   },
   {
    "duration": 372,
    "start_time": "2024-07-11T07:58:41.614Z"
   },
   {
    "duration": 513,
    "start_time": "2024-07-11T07:59:31.357Z"
   },
   {
    "duration": 449,
    "start_time": "2024-07-11T08:00:07.021Z"
   },
   {
    "duration": 400,
    "start_time": "2024-07-11T08:11:04.985Z"
   },
   {
    "duration": 975,
    "start_time": "2024-07-11T08:13:23.386Z"
   },
   {
    "duration": 411,
    "start_time": "2024-07-11T08:13:24.364Z"
   },
   {
    "duration": 29,
    "start_time": "2024-07-11T08:13:24.776Z"
   },
   {
    "duration": 65,
    "start_time": "2024-07-11T08:13:24.806Z"
   },
   {
    "duration": 154,
    "start_time": "2024-07-11T08:13:24.873Z"
   },
   {
    "duration": 454,
    "start_time": "2024-07-11T08:13:25.029Z"
   },
   {
    "duration": 97,
    "start_time": "2024-07-11T08:13:32.516Z"
   },
   {
    "duration": 4,
    "start_time": "2024-07-11T08:13:50.009Z"
   },
   {
    "duration": 6,
    "start_time": "2024-07-11T08:29:50.883Z"
   },
   {
    "duration": 4,
    "start_time": "2024-07-11T08:30:07.855Z"
   },
   {
    "duration": 4,
    "start_time": "2024-07-11T08:30:31.092Z"
   },
   {
    "duration": 4,
    "start_time": "2024-07-11T08:33:13.561Z"
   },
   {
    "duration": 5,
    "start_time": "2024-07-11T08:35:18.176Z"
   },
   {
    "duration": 4,
    "start_time": "2024-07-11T08:42:17.347Z"
   },
   {
    "duration": 6,
    "start_time": "2024-07-11T08:42:24.008Z"
   },
   {
    "duration": 5,
    "start_time": "2024-07-11T08:42:50.290Z"
   },
   {
    "duration": 6,
    "start_time": "2024-07-11T08:46:33.839Z"
   },
   {
    "duration": 5,
    "start_time": "2024-07-11T08:47:23.173Z"
   },
   {
    "duration": 993,
    "start_time": "2024-07-11T08:47:58.174Z"
   },
   {
    "duration": 415,
    "start_time": "2024-07-11T08:47:59.169Z"
   },
   {
    "duration": 33,
    "start_time": "2024-07-11T08:47:59.585Z"
   },
   {
    "duration": 66,
    "start_time": "2024-07-11T08:47:59.620Z"
   },
   {
    "duration": 160,
    "start_time": "2024-07-11T08:47:59.688Z"
   },
   {
    "duration": 423,
    "start_time": "2024-07-11T08:47:59.849Z"
   },
   {
    "duration": 91,
    "start_time": "2024-07-11T08:48:00.274Z"
   },
   {
    "duration": 402,
    "start_time": "2024-07-11T08:48:00.368Z"
   },
   {
    "duration": 5,
    "start_time": "2024-07-11T08:48:02.941Z"
   },
   {
    "duration": 6,
    "start_time": "2024-07-11T08:48:14.814Z"
   },
   {
    "duration": 982,
    "start_time": "2024-07-11T09:15:47.082Z"
   },
   {
    "duration": 561,
    "start_time": "2024-07-11T09:15:48.067Z"
   },
   {
    "duration": 37,
    "start_time": "2024-07-11T09:15:48.629Z"
   },
   {
    "duration": 41,
    "start_time": "2024-07-11T09:15:48.667Z"
   },
   {
    "duration": 168,
    "start_time": "2024-07-11T09:15:48.711Z"
   },
   {
    "duration": 391,
    "start_time": "2024-07-11T09:15:48.881Z"
   },
   {
    "duration": 4,
    "start_time": "2024-07-11T09:15:55.016Z"
   },
   {
    "duration": 1081,
    "start_time": "2024-07-13T09:10:53.515Z"
   },
   {
    "duration": 1770,
    "start_time": "2024-07-13T09:10:54.597Z"
   },
   {
    "duration": 25,
    "start_time": "2024-07-13T09:10:56.368Z"
   },
   {
    "duration": 40,
    "start_time": "2024-07-13T09:10:56.395Z"
   },
   {
    "duration": 149,
    "start_time": "2024-07-13T09:10:56.437Z"
   },
   {
    "duration": 411,
    "start_time": "2024-07-13T09:10:56.587Z"
   },
   {
    "duration": 92,
    "start_time": "2024-07-13T09:10:57.001Z"
   },
   {
    "duration": 4,
    "start_time": "2024-07-13T09:11:06.049Z"
   },
   {
    "duration": 6,
    "start_time": "2024-07-13T09:11:19.318Z"
   },
   {
    "duration": 5,
    "start_time": "2024-07-13T09:11:23.499Z"
   },
   {
    "duration": 93,
    "start_time": "2024-07-13T09:11:29.271Z"
   },
   {
    "duration": 4,
    "start_time": "2024-07-13T09:11:35.931Z"
   },
   {
    "duration": 5,
    "start_time": "2024-07-13T09:11:38.355Z"
   },
   {
    "duration": 5,
    "start_time": "2024-07-13T09:11:44.362Z"
   },
   {
    "duration": 4,
    "start_time": "2024-07-13T09:11:54.675Z"
   },
   {
    "duration": 5,
    "start_time": "2024-07-13T09:12:00.151Z"
   },
   {
    "duration": 5,
    "start_time": "2024-07-13T09:12:03.508Z"
   },
   {
    "duration": 4,
    "start_time": "2024-07-13T09:12:19.770Z"
   },
   {
    "duration": 8,
    "start_time": "2024-07-13T09:13:05.511Z"
   },
   {
    "duration": 8,
    "start_time": "2024-07-13T09:13:10.159Z"
   },
   {
    "duration": 7,
    "start_time": "2024-07-13T09:13:14.291Z"
   },
   {
    "duration": 9,
    "start_time": "2024-07-13T09:13:26.147Z"
   },
   {
    "duration": 1007,
    "start_time": "2024-07-13T14:05:12.144Z"
   },
   {
    "duration": 897,
    "start_time": "2024-07-13T14:05:13.152Z"
   },
   {
    "duration": 33,
    "start_time": "2024-07-13T14:05:14.051Z"
   },
   {
    "duration": 48,
    "start_time": "2024-07-13T14:05:14.085Z"
   },
   {
    "duration": 153,
    "start_time": "2024-07-13T14:05:14.136Z"
   },
   {
    "duration": 312,
    "start_time": "2024-07-13T14:05:14.302Z"
   },
   {
    "duration": 4,
    "start_time": "2024-07-13T14:05:14.615Z"
   },
   {
    "duration": 14,
    "start_time": "2024-07-13T14:05:14.703Z"
   },
   {
    "duration": 9,
    "start_time": "2024-07-13T14:21:39.315Z"
   },
   {
    "duration": 8,
    "start_time": "2024-07-13T14:21:45.405Z"
   },
   {
    "duration": 3,
    "start_time": "2024-07-13T14:22:24.721Z"
   },
   {
    "duration": 7,
    "start_time": "2024-07-13T14:22:26.041Z"
   },
   {
    "duration": 945,
    "start_time": "2024-07-13T14:25:05.752Z"
   },
   {
    "duration": 316,
    "start_time": "2024-07-13T14:25:06.698Z"
   },
   {
    "duration": 22,
    "start_time": "2024-07-13T14:25:07.016Z"
   },
   {
    "duration": 32,
    "start_time": "2024-07-13T14:25:07.039Z"
   },
   {
    "duration": 133,
    "start_time": "2024-07-13T14:25:07.072Z"
   },
   {
    "duration": 398,
    "start_time": "2024-07-13T14:25:07.206Z"
   },
   {
    "duration": 3,
    "start_time": "2024-07-13T14:25:07.606Z"
   },
   {
    "duration": 101,
    "start_time": "2024-07-13T14:25:07.610Z"
   },
   {
    "duration": 996,
    "start_time": "2024-07-13T14:25:53.396Z"
   },
   {
    "duration": 375,
    "start_time": "2024-07-13T14:25:54.394Z"
   },
   {
    "duration": 32,
    "start_time": "2024-07-13T14:25:54.770Z"
   },
   {
    "duration": 31,
    "start_time": "2024-07-13T14:25:54.804Z"
   },
   {
    "duration": 127,
    "start_time": "2024-07-13T14:25:54.836Z"
   },
   {
    "duration": 343,
    "start_time": "2024-07-13T14:25:54.964Z"
   },
   {
    "duration": 93,
    "start_time": "2024-07-13T14:25:55.308Z"
   },
   {
    "duration": 5,
    "start_time": "2024-07-13T14:25:55.403Z"
   },
   {
    "duration": 972,
    "start_time": "2024-07-13T14:27:11.227Z"
   },
   {
    "duration": 330,
    "start_time": "2024-07-13T14:27:12.201Z"
   },
   {
    "duration": 23,
    "start_time": "2024-07-13T14:27:12.532Z"
   },
   {
    "duration": 55,
    "start_time": "2024-07-13T14:27:12.557Z"
   },
   {
    "duration": 126,
    "start_time": "2024-07-13T14:27:12.614Z"
   },
   {
    "duration": 361,
    "start_time": "2024-07-13T14:27:12.742Z"
   },
   {
    "duration": 7,
    "start_time": "2024-07-13T14:27:13.104Z"
   },
   {
    "duration": 103,
    "start_time": "2024-07-13T14:27:13.114Z"
   },
   {
    "duration": 995,
    "start_time": "2024-07-13T14:28:05.691Z"
   },
   {
    "duration": 316,
    "start_time": "2024-07-13T14:28:06.688Z"
   },
   {
    "duration": 23,
    "start_time": "2024-07-13T14:28:07.005Z"
   },
   {
    "duration": 30,
    "start_time": "2024-07-13T14:28:07.029Z"
   },
   {
    "duration": 122,
    "start_time": "2024-07-13T14:28:07.061Z"
   },
   {
    "duration": 329,
    "start_time": "2024-07-13T14:28:07.184Z"
   },
   {
    "duration": 4,
    "start_time": "2024-07-13T14:28:07.514Z"
   },
   {
    "duration": 98,
    "start_time": "2024-07-13T14:28:07.604Z"
   },
   {
    "duration": 91,
    "start_time": "2024-07-13T14:43:52.848Z"
   },
   {
    "duration": 14,
    "start_time": "2024-07-13T14:47:23.848Z"
   },
   {
    "duration": 14,
    "start_time": "2024-07-13T14:48:01.414Z"
   },
   {
    "duration": 21,
    "start_time": "2024-07-13T14:49:27.348Z"
   },
   {
    "duration": 16,
    "start_time": "2024-07-13T14:52:32.080Z"
   },
   {
    "duration": 3,
    "start_time": "2024-07-13T14:52:52.113Z"
   },
   {
    "duration": 9,
    "start_time": "2024-07-13T14:54:23.676Z"
   },
   {
    "duration": 8,
    "start_time": "2024-07-13T14:55:26.173Z"
   },
   {
    "duration": 7,
    "start_time": "2024-07-13T14:55:27.382Z"
   },
   {
    "duration": 5,
    "start_time": "2024-07-13T15:20:01.624Z"
   },
   {
    "duration": 4,
    "start_time": "2024-07-13T15:20:09.739Z"
   },
   {
    "duration": 3,
    "start_time": "2024-07-13T15:20:53.196Z"
   },
   {
    "duration": 4,
    "start_time": "2024-07-13T15:20:57.829Z"
   },
   {
    "duration": 914,
    "start_time": "2024-07-13T15:21:15.000Z"
   },
   {
    "duration": 843,
    "start_time": "2024-07-13T15:21:19.319Z"
   },
   {
    "duration": 9,
    "start_time": "2024-07-13T15:21:27.716Z"
   },
   {
    "duration": 15,
    "start_time": "2024-07-13T15:24:13.192Z"
   },
   {
    "duration": 918,
    "start_time": "2024-07-13T15:24:35.857Z"
   },
   {
    "duration": 311,
    "start_time": "2024-07-13T15:24:36.777Z"
   },
   {
    "duration": 24,
    "start_time": "2024-07-13T15:24:37.089Z"
   },
   {
    "duration": 29,
    "start_time": "2024-07-13T15:24:37.114Z"
   },
   {
    "duration": 133,
    "start_time": "2024-07-13T15:24:37.144Z"
   },
   {
    "duration": 327,
    "start_time": "2024-07-13T15:24:37.278Z"
   },
   {
    "duration": 4,
    "start_time": "2024-07-13T15:24:37.607Z"
   },
   {
    "duration": 100,
    "start_time": "2024-07-13T15:24:37.612Z"
   },
   {
    "duration": 84,
    "start_time": "2024-07-13T15:24:42.379Z"
   },
   {
    "duration": 4,
    "start_time": "2024-07-13T15:24:52.777Z"
   },
   {
    "duration": 3,
    "start_time": "2024-07-13T15:25:06.476Z"
   },
   {
    "duration": 60,
    "start_time": "2024-07-13T15:26:07.803Z"
   },
   {
    "duration": 7,
    "start_time": "2024-07-13T15:26:13.755Z"
   },
   {
    "duration": 7,
    "start_time": "2024-07-13T15:27:34.521Z"
   },
   {
    "duration": 2,
    "start_time": "2024-07-13T15:27:40.639Z"
   },
   {
    "duration": 4,
    "start_time": "2024-07-13T15:27:46.950Z"
   },
   {
    "duration": 47,
    "start_time": "2024-07-13T15:49:15.172Z"
   },
   {
    "duration": 1006,
    "start_time": "2024-07-13T15:49:28.712Z"
   },
   {
    "duration": 329,
    "start_time": "2024-07-13T15:49:29.720Z"
   },
   {
    "duration": 21,
    "start_time": "2024-07-13T15:49:30.050Z"
   },
   {
    "duration": 68,
    "start_time": "2024-07-13T15:49:30.073Z"
   },
   {
    "duration": 125,
    "start_time": "2024-07-13T15:49:30.143Z"
   },
   {
    "duration": 301,
    "start_time": "2024-07-13T15:49:52.256Z"
   },
   {
    "duration": 404,
    "start_time": "2024-07-13T15:50:51.103Z"
   },
   {
    "duration": 4,
    "start_time": "2024-07-13T15:53:05.883Z"
   },
   {
    "duration": 5,
    "start_time": "2024-07-13T15:53:18.952Z"
   },
   {
    "duration": 4,
    "start_time": "2024-07-13T15:53:37.065Z"
   },
   {
    "duration": 313,
    "start_time": "2024-07-13T16:03:14.688Z"
   },
   {
    "duration": 3,
    "start_time": "2024-07-13T16:03:40.024Z"
   },
   {
    "duration": 3,
    "start_time": "2024-07-13T16:04:54.143Z"
   },
   {
    "duration": 3,
    "start_time": "2024-07-13T16:05:23.464Z"
   },
   {
    "duration": 16,
    "start_time": "2024-07-13T16:05:29.024Z"
   },
   {
    "duration": 3,
    "start_time": "2024-07-13T16:06:03.827Z"
   },
   {
    "duration": 5,
    "start_time": "2024-07-13T16:06:40.447Z"
   },
   {
    "duration": 943,
    "start_time": "2024-07-13T16:06:49.160Z"
   },
   {
    "duration": 330,
    "start_time": "2024-07-13T16:06:50.105Z"
   },
   {
    "duration": 22,
    "start_time": "2024-07-13T16:06:50.437Z"
   },
   {
    "duration": 45,
    "start_time": "2024-07-13T16:06:50.460Z"
   },
   {
    "duration": 115,
    "start_time": "2024-07-13T16:06:50.507Z"
   },
   {
    "duration": 386,
    "start_time": "2024-07-13T16:06:50.623Z"
   },
   {
    "duration": 91,
    "start_time": "2024-07-13T16:06:51.011Z"
   },
   {
    "duration": 11,
    "start_time": "2024-07-13T16:07:01.045Z"
   },
   {
    "duration": 11,
    "start_time": "2024-07-13T16:07:13.422Z"
   },
   {
    "duration": 11,
    "start_time": "2024-07-13T16:07:25.340Z"
   },
   {
    "duration": 968,
    "start_time": "2024-07-13T16:08:35.108Z"
   },
   {
    "duration": 313,
    "start_time": "2024-07-13T16:08:36.077Z"
   },
   {
    "duration": 23,
    "start_time": "2024-07-13T16:08:36.391Z"
   },
   {
    "duration": 29,
    "start_time": "2024-07-13T16:08:36.416Z"
   },
   {
    "duration": 118,
    "start_time": "2024-07-13T16:08:36.447Z"
   },
   {
    "duration": 341,
    "start_time": "2024-07-13T16:08:36.566Z"
   },
   {
    "duration": 93,
    "start_time": "2024-07-13T16:08:36.909Z"
   },
   {
    "duration": 99,
    "start_time": "2024-07-13T16:08:37.004Z"
   },
   {
    "duration": 5,
    "start_time": "2024-07-13T16:15:10.196Z"
   },
   {
    "duration": 9,
    "start_time": "2024-07-13T16:15:17.786Z"
   },
   {
    "duration": 12,
    "start_time": "2024-07-13T16:15:54.433Z"
   },
   {
    "duration": 3,
    "start_time": "2024-07-13T16:16:59.196Z"
   },
   {
    "duration": 3,
    "start_time": "2024-07-13T16:19:12.151Z"
   },
   {
    "duration": 17,
    "start_time": "2024-07-13T16:19:13.322Z"
   },
   {
    "duration": 17,
    "start_time": "2024-07-13T16:19:23.941Z"
   },
   {
    "duration": 17,
    "start_time": "2024-07-13T16:19:25.091Z"
   },
   {
    "duration": 25,
    "start_time": "2024-07-13T16:20:09.499Z"
   },
   {
    "duration": 13,
    "start_time": "2024-07-13T16:20:29.919Z"
   },
   {
    "duration": 2,
    "start_time": "2024-07-13T16:20:41.776Z"
   },
   {
    "duration": 8,
    "start_time": "2024-07-13T16:20:45.222Z"
   },
   {
    "duration": 3,
    "start_time": "2024-07-13T16:21:02.308Z"
   },
   {
    "duration": 3,
    "start_time": "2024-07-13T16:21:05.960Z"
   },
   {
    "duration": 2,
    "start_time": "2024-07-13T16:21:20.509Z"
   },
   {
    "duration": 3,
    "start_time": "2024-07-13T16:21:25.084Z"
   },
   {
    "duration": 5,
    "start_time": "2024-07-13T16:21:46.411Z"
   },
   {
    "duration": 991,
    "start_time": "2024-07-13T16:22:11.022Z"
   },
   {
    "duration": 323,
    "start_time": "2024-07-13T16:22:12.015Z"
   },
   {
    "duration": 21,
    "start_time": "2024-07-13T16:22:12.339Z"
   },
   {
    "duration": 46,
    "start_time": "2024-07-13T16:22:12.362Z"
   },
   {
    "duration": 119,
    "start_time": "2024-07-13T16:22:12.409Z"
   },
   {
    "duration": 379,
    "start_time": "2024-07-13T16:22:12.529Z"
   },
   {
    "duration": 97,
    "start_time": "2024-07-13T16:22:12.909Z"
   },
   {
    "duration": 96,
    "start_time": "2024-07-13T16:22:13.007Z"
   },
   {
    "duration": 13,
    "start_time": "2024-07-13T16:22:13.105Z"
   },
   {
    "duration": 23,
    "start_time": "2024-07-13T16:22:13.120Z"
   },
   {
    "duration": 3,
    "start_time": "2024-07-13T16:22:13.144Z"
   },
   {
    "duration": 27,
    "start_time": "2024-07-13T16:22:13.148Z"
   },
   {
    "duration": 17,
    "start_time": "2024-07-13T16:22:13.176Z"
   },
   {
    "duration": 20,
    "start_time": "2024-07-13T16:22:13.194Z"
   },
   {
    "duration": 51,
    "start_time": "2024-07-13T16:27:01.889Z"
   },
   {
    "duration": 3,
    "start_time": "2024-07-13T16:28:19.802Z"
   },
   {
    "duration": 88,
    "start_time": "2024-07-13T16:32:18.738Z"
   },
   {
    "duration": 13,
    "start_time": "2024-07-13T16:33:45.081Z"
   },
   {
    "duration": 15,
    "start_time": "2024-07-13T16:33:59.935Z"
   },
   {
    "duration": 1183,
    "start_time": "2024-07-13T16:34:54.841Z"
   },
   {
    "duration": 10316,
    "start_time": "2024-07-13T16:35:27.141Z"
   },
   {
    "duration": 1203,
    "start_time": "2024-07-13T16:35:48.365Z"
   },
   {
    "duration": 973,
    "start_time": "2024-07-13T16:35:53.902Z"
   },
   {
    "duration": 324,
    "start_time": "2024-07-13T16:35:54.877Z"
   },
   {
    "duration": 22,
    "start_time": "2024-07-13T16:35:55.203Z"
   },
   {
    "duration": 30,
    "start_time": "2024-07-13T16:35:55.226Z"
   },
   {
    "duration": 128,
    "start_time": "2024-07-13T16:35:55.258Z"
   },
   {
    "duration": 523,
    "start_time": "2024-07-13T16:35:55.387Z"
   },
   {
    "duration": 94,
    "start_time": "2024-07-13T16:35:55.913Z"
   },
   {
    "duration": 95,
    "start_time": "2024-07-13T16:35:56.011Z"
   },
   {
    "duration": 68,
    "start_time": "2024-07-13T16:35:56.109Z"
   },
   {
    "duration": 2,
    "start_time": "2024-07-13T16:35:56.179Z"
   },
   {
    "duration": 1192,
    "start_time": "2024-07-13T16:35:56.182Z"
   },
   {
    "duration": 27,
    "start_time": "2024-07-13T16:40:39.946Z"
   },
   {
    "duration": 1806,
    "start_time": "2024-07-13T16:47:48.369Z"
   },
   {
    "duration": 970,
    "start_time": "2024-07-13T16:51:19.905Z"
   },
   {
    "duration": 336,
    "start_time": "2024-07-13T16:51:20.877Z"
   },
   {
    "duration": 23,
    "start_time": "2024-07-13T16:51:21.215Z"
   },
   {
    "duration": 36,
    "start_time": "2024-07-13T16:51:21.239Z"
   },
   {
    "duration": 136,
    "start_time": "2024-07-13T16:51:21.277Z"
   },
   {
    "duration": 399,
    "start_time": "2024-07-13T16:51:21.414Z"
   },
   {
    "duration": 5,
    "start_time": "2024-07-13T16:51:21.903Z"
   },
   {
    "duration": 110,
    "start_time": "2024-07-13T16:51:21.910Z"
   },
   {
    "duration": 68,
    "start_time": "2024-07-13T16:51:22.021Z"
   },
   {
    "duration": 2,
    "start_time": "2024-07-13T16:51:22.091Z"
   },
   {
    "duration": 92,
    "start_time": "2024-07-13T16:51:22.094Z"
   },
   {
    "duration": 981,
    "start_time": "2024-07-13T16:54:46.012Z"
   },
   {
    "duration": 318,
    "start_time": "2024-07-13T16:54:46.995Z"
   },
   {
    "duration": 21,
    "start_time": "2024-07-13T16:54:47.314Z"
   },
   {
    "duration": 30,
    "start_time": "2024-07-13T16:54:47.337Z"
   },
   {
    "duration": 117,
    "start_time": "2024-07-13T16:54:47.369Z"
   },
   {
    "duration": 422,
    "start_time": "2024-07-13T16:54:47.487Z"
   },
   {
    "duration": 94,
    "start_time": "2024-07-13T16:54:47.911Z"
   },
   {
    "duration": 4,
    "start_time": "2024-07-13T16:54:48.006Z"
   },
   {
    "duration": 138,
    "start_time": "2024-07-13T16:54:48.012Z"
   },
   {
    "duration": 3,
    "start_time": "2024-07-13T16:54:48.152Z"
   },
   {
    "duration": 1825,
    "start_time": "2024-07-13T16:54:48.156Z"
   },
   {
    "duration": 956,
    "start_time": "2024-07-13T17:07:59.643Z"
   },
   {
    "duration": 326,
    "start_time": "2024-07-13T17:08:00.601Z"
   },
   {
    "duration": 25,
    "start_time": "2024-07-13T17:08:00.929Z"
   },
   {
    "duration": 62,
    "start_time": "2024-07-13T17:08:00.955Z"
   },
   {
    "duration": 156,
    "start_time": "2024-07-13T17:08:01.019Z"
   },
   {
    "duration": 430,
    "start_time": "2024-07-13T17:08:01.177Z"
   },
   {
    "duration": 5,
    "start_time": "2024-07-13T17:08:01.609Z"
   },
   {
    "duration": 9,
    "start_time": "2024-07-13T17:08:01.702Z"
   },
   {
    "duration": 56,
    "start_time": "2024-07-13T17:08:01.802Z"
   },
   {
    "duration": 41,
    "start_time": "2024-07-13T17:08:01.859Z"
   },
   {
    "duration": 1890,
    "start_time": "2024-07-13T17:08:01.902Z"
   },
   {
    "duration": 941,
    "start_time": "2024-07-13T17:08:46.544Z"
   },
   {
    "duration": 328,
    "start_time": "2024-07-13T17:08:47.487Z"
   },
   {
    "duration": 30,
    "start_time": "2024-07-13T17:08:47.817Z"
   },
   {
    "duration": 35,
    "start_time": "2024-07-13T17:08:47.848Z"
   },
   {
    "duration": 117,
    "start_time": "2024-07-13T17:08:47.902Z"
   },
   {
    "duration": 387,
    "start_time": "2024-07-13T17:08:48.021Z"
   },
   {
    "duration": 96,
    "start_time": "2024-07-13T17:08:48.409Z"
   },
   {
    "duration": 94,
    "start_time": "2024-07-13T17:08:48.510Z"
   },
   {
    "duration": 119,
    "start_time": "2024-07-13T17:08:48.605Z"
   },
   {
    "duration": 2,
    "start_time": "2024-07-13T17:08:48.725Z"
   },
   {
    "duration": 1805,
    "start_time": "2024-07-13T17:08:48.729Z"
   },
   {
    "duration": 960,
    "start_time": "2024-07-13T17:12:34.339Z"
   },
   {
    "duration": 316,
    "start_time": "2024-07-13T17:12:35.301Z"
   },
   {
    "duration": 21,
    "start_time": "2024-07-13T17:12:35.619Z"
   },
   {
    "duration": 30,
    "start_time": "2024-07-13T17:12:35.641Z"
   },
   {
    "duration": 132,
    "start_time": "2024-07-13T17:12:35.673Z"
   },
   {
    "duration": 403,
    "start_time": "2024-07-13T17:12:35.806Z"
   },
   {
    "duration": 94,
    "start_time": "2024-07-13T17:12:36.210Z"
   },
   {
    "duration": 6,
    "start_time": "2024-07-13T17:12:36.305Z"
   },
   {
    "duration": 139,
    "start_time": "2024-07-13T17:12:36.312Z"
   },
   {
    "duration": 2,
    "start_time": "2024-07-13T17:12:36.453Z"
   },
   {
    "duration": 1894,
    "start_time": "2024-07-13T17:12:36.457Z"
   },
   {
    "duration": 991,
    "start_time": "2024-07-13T17:13:34.189Z"
   },
   {
    "duration": 323,
    "start_time": "2024-07-13T17:13:35.182Z"
   },
   {
    "duration": 28,
    "start_time": "2024-07-13T17:13:35.506Z"
   },
   {
    "duration": 34,
    "start_time": "2024-07-13T17:13:35.535Z"
   },
   {
    "duration": 122,
    "start_time": "2024-07-13T17:13:35.570Z"
   },
   {
    "duration": 405,
    "start_time": "2024-07-13T17:13:35.702Z"
   },
   {
    "duration": 96,
    "start_time": "2024-07-13T17:13:36.109Z"
   },
   {
    "duration": 96,
    "start_time": "2024-07-13T17:13:36.207Z"
   },
   {
    "duration": 54,
    "start_time": "2024-07-13T17:13:36.304Z"
   },
   {
    "duration": 2,
    "start_time": "2024-07-13T17:13:36.359Z"
   },
   {
    "duration": 64,
    "start_time": "2024-07-13T17:13:36.363Z"
   },
   {
    "duration": 981,
    "start_time": "2024-07-13T17:14:03.027Z"
   },
   {
    "duration": 318,
    "start_time": "2024-07-13T17:14:04.010Z"
   },
   {
    "duration": 23,
    "start_time": "2024-07-13T17:14:04.329Z"
   },
   {
    "duration": 51,
    "start_time": "2024-07-13T17:14:04.354Z"
   },
   {
    "duration": 117,
    "start_time": "2024-07-13T17:14:04.408Z"
   },
   {
    "duration": 405,
    "start_time": "2024-07-13T17:14:04.526Z"
   },
   {
    "duration": 7,
    "start_time": "2024-07-13T17:14:05.002Z"
   },
   {
    "duration": 90,
    "start_time": "2024-07-13T17:14:05.012Z"
   },
   {
    "duration": 64,
    "start_time": "2024-07-13T17:14:05.104Z"
   },
   {
    "duration": 3,
    "start_time": "2024-07-13T17:14:05.169Z"
   },
   {
    "duration": 1849,
    "start_time": "2024-07-13T17:14:05.174Z"
   },
   {
    "duration": 951,
    "start_time": "2024-07-13T17:15:19.965Z"
   },
   {
    "duration": 323,
    "start_time": "2024-07-13T17:15:20.918Z"
   },
   {
    "duration": 23,
    "start_time": "2024-07-13T17:15:21.242Z"
   },
   {
    "duration": 53,
    "start_time": "2024-07-13T17:15:21.266Z"
   },
   {
    "duration": 108,
    "start_time": "2024-07-13T17:15:21.321Z"
   },
   {
    "duration": 379,
    "start_time": "2024-07-13T17:15:21.430Z"
   },
   {
    "duration": 94,
    "start_time": "2024-07-13T17:15:21.811Z"
   },
   {
    "duration": 98,
    "start_time": "2024-07-13T17:15:21.907Z"
   },
   {
    "duration": 52,
    "start_time": "2024-07-13T17:15:22.006Z"
   },
   {
    "duration": 3,
    "start_time": "2024-07-13T17:15:22.059Z"
   },
   {
    "duration": 1834,
    "start_time": "2024-07-13T17:15:22.063Z"
   },
   {
    "duration": 45,
    "start_time": "2024-07-13T20:58:52.682Z"
   },
   {
    "duration": 1192,
    "start_time": "2024-07-13T20:59:06.995Z"
   },
   {
    "duration": 345,
    "start_time": "2024-07-13T20:59:08.188Z"
   },
   {
    "duration": 24,
    "start_time": "2024-07-13T20:59:08.534Z"
   },
   {
    "duration": 32,
    "start_time": "2024-07-13T20:59:08.559Z"
   },
   {
    "duration": 130,
    "start_time": "2024-07-13T20:59:08.593Z"
   },
   {
    "duration": 440,
    "start_time": "2024-07-13T20:59:08.724Z"
   },
   {
    "duration": 93,
    "start_time": "2024-07-13T20:59:09.166Z"
   },
   {
    "duration": 97,
    "start_time": "2024-07-13T20:59:09.260Z"
   },
   {
    "duration": 56,
    "start_time": "2024-07-13T20:59:09.359Z"
   },
   {
    "duration": 3,
    "start_time": "2024-07-13T20:59:09.416Z"
   },
   {
    "duration": 1884,
    "start_time": "2024-07-13T20:59:09.420Z"
   },
   {
    "duration": 6,
    "start_time": "2024-07-13T20:59:11.305Z"
   }
  ],
  "kernelspec": {
   "display_name": "Python 3 (ipykernel)",
   "language": "python",
   "name": "python3"
  },
  "language_info": {
   "codemirror_mode": {
    "name": "ipython",
    "version": 3
   },
   "file_extension": ".py",
   "mimetype": "text/x-python",
   "name": "python",
   "nbconvert_exporter": "python",
   "pygments_lexer": "ipython3",
   "version": "3.12.4"
  },
  "toc": {
   "base_numbering": 1,
   "nav_menu": {},
   "number_sections": true,
   "sideBar": true,
   "skip_h1_title": true,
   "title_cell": "Table of Contents",
   "title_sidebar": "Contents",
   "toc_cell": false,
   "toc_position": {},
   "toc_section_display": true,
   "toc_window_display": false
  }
 },
 "nbformat": 4,
 "nbformat_minor": 4
}
