{
 "cells": [
  {
   "cell_type": "markdown",
   "metadata": {},
   "source": [
    "#  Прогнозирование заказов такси. Проект спринта \"Временные ряды\""
   ]
  },
  {
   "cell_type": "markdown",
   "metadata": {},
   "source": [
    "Компания «Чётенькое такси» собрала исторические данные о заказах такси в аэропортах. Чтобы привлекать больше водителей в период пиковой нагрузки, нужно спрогнозировать количество заказов такси на следующий час. Постройте модель для такого предсказания.\n",
    "\n",
    "Значение метрики *RMSE* на тестовой выборке должно быть не больше 48.\n",
    "\n",
    "Вам нужно:\n",
    "\n",
    "1. Загрузить данные и выполнить их ресемплирование по одному часу.\n",
    "2. Проанализировать данные.\n",
    "3. Обучить разные модели с различными гиперпараметрами. Сделать тестовую выборку размером 10% от исходных данных.\n",
    "4. Проверить данные на тестовой выборке и сделать выводы.\n",
    "\n",
    "\n",
    "Данные лежат в файле `taxi.csv`. Количество заказов находится в столбце `num_orders` (от англ. *number of orders*, «число заказов»)."
   ]
  },
  {
   "cell_type": "markdown",
   "metadata": {},
   "source": [
    "## Подготовка"
   ]
  },
  {
   "cell_type": "code",
   "execution_count": 1,
   "metadata": {},
   "outputs": [],
   "source": [
    "# обновлял библиотеку, потом закомментировал\n",
    "#pip install --upgrade scikit-learn"
   ]
  },
  {
   "cell_type": "code",
   "execution_count": 2,
   "metadata": {},
   "outputs": [],
   "source": [
    "# импорт библиотек и инструментов\n",
    "import pandas as pd\n",
    "import matplotlib.pyplot as plt\n",
    "import statsmodels\n",
    "from sklearn.metrics import make_scorer, mean_squared_error\n",
    "import numpy as np\n",
    "from statsmodels.tsa.seasonal import seasonal_decompose\n",
    "from statsmodels.tsa.stattools import adfuller\n",
    "from statsmodels.tsa.seasonal import seasonal_decompose\n",
    "from catboost import CatBoostRegressor\n",
    "from sklearn.model_selection import GridSearchCV\n",
    "from sklearn.model_selection import cross_val_score, train_test_split, GridSearchCV, TimeSeriesSplit\n",
    "from sklearn.tree import DecisionTreeRegressor\n",
    "from sklearn.preprocessing import OneHotEncoder\n",
    "from sklearn.compose import ColumnTransformer\n",
    "from sklearn.pipeline import Pipeline\n",
    "from sklearn.impute import SimpleImputer\n",
    "import lightgbm as lgb\n",
    "from sklearn.model_selection import cross_val_predict"
   ]
  },
  {
   "cell_type": "code",
   "execution_count": 3,
   "metadata": {},
   "outputs": [
    {
     "data": {
      "text/html": [
       "<div>\n",
       "<style scoped>\n",
       "    .dataframe tbody tr th:only-of-type {\n",
       "        vertical-align: middle;\n",
       "    }\n",
       "\n",
       "    .dataframe tbody tr th {\n",
       "        vertical-align: top;\n",
       "    }\n",
       "\n",
       "    .dataframe thead th {\n",
       "        text-align: right;\n",
       "    }\n",
       "</style>\n",
       "<table border=\"1\" class=\"dataframe\">\n",
       "  <thead>\n",
       "    <tr style=\"text-align: right;\">\n",
       "      <th></th>\n",
       "      <th>num_orders</th>\n",
       "    </tr>\n",
       "    <tr>\n",
       "      <th>datetime</th>\n",
       "      <th></th>\n",
       "    </tr>\n",
       "  </thead>\n",
       "  <tbody>\n",
       "    <tr>\n",
       "      <th>2018-03-01 00:00:00</th>\n",
       "      <td>9</td>\n",
       "    </tr>\n",
       "    <tr>\n",
       "      <th>2018-03-01 00:10:00</th>\n",
       "      <td>14</td>\n",
       "    </tr>\n",
       "    <tr>\n",
       "      <th>2018-03-01 00:20:00</th>\n",
       "      <td>28</td>\n",
       "    </tr>\n",
       "    <tr>\n",
       "      <th>2018-03-01 00:30:00</th>\n",
       "      <td>20</td>\n",
       "    </tr>\n",
       "    <tr>\n",
       "      <th>2018-03-01 00:40:00</th>\n",
       "      <td>32</td>\n",
       "    </tr>\n",
       "    <tr>\n",
       "      <th>2018-03-01 00:50:00</th>\n",
       "      <td>21</td>\n",
       "    </tr>\n",
       "    <tr>\n",
       "      <th>2018-03-01 01:00:00</th>\n",
       "      <td>7</td>\n",
       "    </tr>\n",
       "    <tr>\n",
       "      <th>2018-03-01 01:10:00</th>\n",
       "      <td>5</td>\n",
       "    </tr>\n",
       "    <tr>\n",
       "      <th>2018-03-01 01:20:00</th>\n",
       "      <td>17</td>\n",
       "    </tr>\n",
       "    <tr>\n",
       "      <th>2018-03-01 01:30:00</th>\n",
       "      <td>12</td>\n",
       "    </tr>\n",
       "  </tbody>\n",
       "</table>\n",
       "</div>"
      ],
      "text/plain": [
       "                     num_orders\n",
       "datetime                       \n",
       "2018-03-01 00:00:00           9\n",
       "2018-03-01 00:10:00          14\n",
       "2018-03-01 00:20:00          28\n",
       "2018-03-01 00:30:00          20\n",
       "2018-03-01 00:40:00          32\n",
       "2018-03-01 00:50:00          21\n",
       "2018-03-01 01:00:00           7\n",
       "2018-03-01 01:10:00           5\n",
       "2018-03-01 01:20:00          17\n",
       "2018-03-01 01:30:00          12"
      ]
     },
     "metadata": {},
     "output_type": "display_data"
    },
    {
     "name": "stdout",
     "output_type": "stream",
     "text": [
      "<class 'pandas.core.frame.DataFrame'>\n",
      "DatetimeIndex: 26496 entries, 2018-03-01 00:00:00 to 2018-08-31 23:50:00\n",
      "Data columns (total 1 columns):\n",
      " #   Column      Non-Null Count  Dtype\n",
      "---  ------      --------------  -----\n",
      " 0   num_orders  26496 non-null  int64\n",
      "dtypes: int64(1)\n",
      "memory usage: 414.0 KB\n"
     ]
    },
    {
     "data": {
      "text/plain": [
       "None"
      ]
     },
     "metadata": {},
     "output_type": "display_data"
    }
   ],
   "source": [
    "# Загрузка данных и предварительный просмотр\n",
    "data = pd.read_csv('/datasets/taxi.csv', index_col=[0], parse_dates=[0])\n",
    "display(data.head(10))\n",
    "display(data.info())"
   ]
  },
  {
   "cell_type": "code",
   "execution_count": 4,
   "metadata": {
    "scrolled": true
   },
   "outputs": [
    {
     "data": {
      "text/plain": [
       "True"
      ]
     },
     "metadata": {},
     "output_type": "display_data"
    },
    {
     "name": "stdout",
     "output_type": "stream",
     "text": [
      "<class 'pandas.core.frame.DataFrame'>\n",
      "DatetimeIndex: 26496 entries, 2018-03-01 00:00:00 to 2018-08-31 23:50:00\n",
      "Data columns (total 1 columns):\n",
      " #   Column      Non-Null Count  Dtype\n",
      "---  ------      --------------  -----\n",
      " 0   num_orders  26496 non-null  int64\n",
      "dtypes: int64(1)\n",
      "memory usage: 414.0 KB\n"
     ]
    },
    {
     "data": {
      "text/plain": [
       "None"
      ]
     },
     "metadata": {},
     "output_type": "display_data"
    }
   ],
   "source": [
    "# Выполним сортировку и проверим, что временные метки упорядочены по возрастанию\n",
    "data = data.sort_index()\n",
    "display(data.index.is_monotonic_increasing)\n",
    "display(data.info())"
   ]
  },
  {
   "cell_type": "code",
   "execution_count": 5,
   "metadata": {},
   "outputs": [
    {
     "name": "stdout",
     "output_type": "stream",
     "text": [
      "num_orders    0\n",
      "dtype: int64\n"
     ]
    }
   ],
   "source": [
    "# Проверка на пропущенные значения\n",
    "print(data.isnull().sum())"
   ]
  },
  {
   "cell_type": "code",
   "execution_count": 6,
   "metadata": {},
   "outputs": [
    {
     "data": {
      "text/html": [
       "<div>\n",
       "<style scoped>\n",
       "    .dataframe tbody tr th:only-of-type {\n",
       "        vertical-align: middle;\n",
       "    }\n",
       "\n",
       "    .dataframe tbody tr th {\n",
       "        vertical-align: top;\n",
       "    }\n",
       "\n",
       "    .dataframe thead th {\n",
       "        text-align: right;\n",
       "    }\n",
       "</style>\n",
       "<table border=\"1\" class=\"dataframe\">\n",
       "  <thead>\n",
       "    <tr style=\"text-align: right;\">\n",
       "      <th></th>\n",
       "      <th>num_orders</th>\n",
       "    </tr>\n",
       "    <tr>\n",
       "      <th>datetime</th>\n",
       "      <th></th>\n",
       "    </tr>\n",
       "  </thead>\n",
       "  <tbody>\n",
       "    <tr>\n",
       "      <th>2018-03-01 00:00:00</th>\n",
       "      <td>124</td>\n",
       "    </tr>\n",
       "    <tr>\n",
       "      <th>2018-03-01 01:00:00</th>\n",
       "      <td>85</td>\n",
       "    </tr>\n",
       "    <tr>\n",
       "      <th>2018-03-01 02:00:00</th>\n",
       "      <td>71</td>\n",
       "    </tr>\n",
       "    <tr>\n",
       "      <th>2018-03-01 03:00:00</th>\n",
       "      <td>66</td>\n",
       "    </tr>\n",
       "    <tr>\n",
       "      <th>2018-03-01 04:00:00</th>\n",
       "      <td>43</td>\n",
       "    </tr>\n",
       "    <tr>\n",
       "      <th>2018-03-01 05:00:00</th>\n",
       "      <td>6</td>\n",
       "    </tr>\n",
       "    <tr>\n",
       "      <th>2018-03-01 06:00:00</th>\n",
       "      <td>12</td>\n",
       "    </tr>\n",
       "    <tr>\n",
       "      <th>2018-03-01 07:00:00</th>\n",
       "      <td>15</td>\n",
       "    </tr>\n",
       "    <tr>\n",
       "      <th>2018-03-01 08:00:00</th>\n",
       "      <td>34</td>\n",
       "    </tr>\n",
       "    <tr>\n",
       "      <th>2018-03-01 09:00:00</th>\n",
       "      <td>69</td>\n",
       "    </tr>\n",
       "  </tbody>\n",
       "</table>\n",
       "</div>"
      ],
      "text/plain": [
       "                     num_orders\n",
       "datetime                       \n",
       "2018-03-01 00:00:00         124\n",
       "2018-03-01 01:00:00          85\n",
       "2018-03-01 02:00:00          71\n",
       "2018-03-01 03:00:00          66\n",
       "2018-03-01 04:00:00          43\n",
       "2018-03-01 05:00:00           6\n",
       "2018-03-01 06:00:00          12\n",
       "2018-03-01 07:00:00          15\n",
       "2018-03-01 08:00:00          34\n",
       "2018-03-01 09:00:00          69"
      ]
     },
     "metadata": {},
     "output_type": "display_data"
    }
   ],
   "source": [
    "# Ресемплирование данных по одному часу\n",
    "data = data.resample('h').sum()\n",
    "\n",
    "# Просмотр первых строк данных\n",
    "display(data.head(10))"
   ]
  },
  {
   "cell_type": "markdown",
   "metadata": {},
   "source": [
    "###### Вывод по шагу 1\n",
    "- данные загружены\n",
    "- выполнены сортировка и проверка упорядоченности\n",
    "- выполнена проверка на пропущенные значения\n",
    "- выполнено ресемплирование по одному часу"
   ]
  },
  {
   "cell_type": "markdown",
   "metadata": {},
   "source": [
    "## Анализ"
   ]
  },
  {
   "cell_type": "code",
   "execution_count": 7,
   "metadata": {
    "scrolled": true
   },
   "outputs": [
    {
     "data": {
      "text/html": [
       "<div>\n",
       "<style scoped>\n",
       "    .dataframe tbody tr th:only-of-type {\n",
       "        vertical-align: middle;\n",
       "    }\n",
       "\n",
       "    .dataframe tbody tr th {\n",
       "        vertical-align: top;\n",
       "    }\n",
       "\n",
       "    .dataframe thead th {\n",
       "        text-align: right;\n",
       "    }\n",
       "</style>\n",
       "<table border=\"1\" class=\"dataframe\">\n",
       "  <thead>\n",
       "    <tr style=\"text-align: right;\">\n",
       "      <th></th>\n",
       "      <th>num_orders</th>\n",
       "    </tr>\n",
       "  </thead>\n",
       "  <tbody>\n",
       "    <tr>\n",
       "      <th>count</th>\n",
       "      <td>4416.000000</td>\n",
       "    </tr>\n",
       "    <tr>\n",
       "      <th>mean</th>\n",
       "      <td>84.422781</td>\n",
       "    </tr>\n",
       "    <tr>\n",
       "      <th>std</th>\n",
       "      <td>45.023853</td>\n",
       "    </tr>\n",
       "    <tr>\n",
       "      <th>min</th>\n",
       "      <td>0.000000</td>\n",
       "    </tr>\n",
       "    <tr>\n",
       "      <th>25%</th>\n",
       "      <td>54.000000</td>\n",
       "    </tr>\n",
       "    <tr>\n",
       "      <th>50%</th>\n",
       "      <td>78.000000</td>\n",
       "    </tr>\n",
       "    <tr>\n",
       "      <th>75%</th>\n",
       "      <td>107.000000</td>\n",
       "    </tr>\n",
       "    <tr>\n",
       "      <th>max</th>\n",
       "      <td>462.000000</td>\n",
       "    </tr>\n",
       "  </tbody>\n",
       "</table>\n",
       "</div>"
      ],
      "text/plain": [
       "        num_orders\n",
       "count  4416.000000\n",
       "mean     84.422781\n",
       "std      45.023853\n",
       "min       0.000000\n",
       "25%      54.000000\n",
       "50%      78.000000\n",
       "75%     107.000000\n",
       "max     462.000000"
      ]
     },
     "metadata": {},
     "output_type": "display_data"
    }
   ],
   "source": [
    "# Основные статистики\n",
    "display(data.describe())"
   ]
  },
  {
   "cell_type": "markdown",
   "metadata": {},
   "source": [
    "###### Построение временного ряда "
   ]
  },
  {
   "cell_type": "code",
   "execution_count": 8,
   "metadata": {
    "scrolled": true
   },
   "outputs": [
    {
     "data": {
      "image/png": "[encoded data removed]",
      "text/plain": [
       "<Figure size 1080x576 with 1 Axes>"
      ]
     },
     "metadata": {
      "needs_background": "light"
     },
     "output_type": "display_data"
    }
   ],
   "source": [
    "# Построение графика временного ряда\n",
    "plt.figure(figsize=(15, 8))\n",
    "plt.plot(data.index, data['num_orders'], label='Количество заказов')\n",
    "plt.title('Временной ряд количества заказов')\n",
    "plt.xlabel('Дата и время')\n",
    "plt.ylabel('Количество заказов')\n",
    "plt.legend()\n",
    "plt.show()"
   ]
  },
  {
   "cell_type": "markdown",
   "metadata": {},
   "source": [
    "###### Построение временного ряда со скользящим средним"
   ]
  },
  {
   "cell_type": "code",
   "execution_count": 9,
   "metadata": {
    "scrolled": true
   },
   "outputs": [
    {
     "data": {
      "image/png": "[encoded data removed]",
      "text/plain": [
       "<Figure size 1080x576 with 1 Axes>"
      ]
     },
     "metadata": {
      "needs_background": "light"
     },
     "output_type": "display_data"
    }
   ],
   "source": [
    "# Определяем окно для скользящего среднего (например, 24 часа)\n",
    "rolling_window = 24\n",
    "\n",
    "# Вычисление скользящего среднего\n",
    "data['rolling_mean'] = data['num_orders'].rolling(window=rolling_window).mean()\n",
    "\n",
    "# Построение графика временного ряда и скользящего среднего\n",
    "plt.figure(figsize=(15, 8))\n",
    "plt.plot(data.index, data['num_orders'], label='Количество заказов')\n",
    "plt.plot(data.index, data['rolling_mean'], color='orange',\n",
    "         label=f'Скользящее среднее (окно={rolling_window} ч)')\n",
    "plt.title('Временной ряд количества заказов и скользящее среднее')\n",
    "plt.xlabel('Дата и время')\n",
    "plt.ylabel('Количество заказов')\n",
    "plt.legend()\n",
    "plt.show()"
   ]
  },
  {
   "cell_type": "markdown",
   "metadata": {},
   "source": [
    "###### Построение графиков тренда, сезонности и остатков"
   ]
  },
  {
   "cell_type": "code",
   "execution_count": 10,
   "metadata": {
    "scrolled": true
   },
   "outputs": [
    {
     "data": {
      "image/png": "[encoded data removed]",
      "text/plain": [
       "<Figure size 1080x720 with 3 Axes>"
      ]
     },
     "metadata": {
      "needs_background": "light"
     },
     "output_type": "display_data"
    }
   ],
   "source": [
    "# Разложение временного ряда\n",
    "decomposed = seasonal_decompose(data['num_orders'], model='additive', period=24)\n",
    "\n",
    "# Построение графиков тренда, сезонности и остатков\n",
    "plt.figure(figsize=(15, 10))\n",
    "\n",
    "plt.subplot(311)\n",
    "decomposed.trend.plot(ax=plt.gca())\n",
    "plt.title('Тренд')\n",
    "\n",
    "plt.subplot(312)\n",
    "decomposed.seasonal.plot(ax=plt.gca())\n",
    "plt.title('Сезонность')\n",
    "\n",
    "plt.subplot(313)\n",
    "decomposed.resid.plot(ax=plt.gca())\n",
    "plt.title('Остатки')\n",
    "\n",
    "plt.tight_layout()\n",
    "plt.show()"
   ]
  },
  {
   "cell_type": "markdown",
   "metadata": {},
   "source": [
    "###### Построение графиков тренда, сезонности и остатков для последнего месяца (август 2018 г.)"
   ]
  },
  {
   "cell_type": "code",
   "execution_count": 11,
   "metadata": {},
   "outputs": [
    {
     "data": {
      "image/png": "[encoded data removed]",
      "text/plain": [
       "<Figure size 1080x720 with 3 Axes>"
      ]
     },
     "metadata": {
      "needs_background": "light"
     },
     "output_type": "display_data"
    }
   ],
   "source": [
    "# Фильтрация данных для последнего месяца (август)\n",
    "last_month_data = data['2018-08-01':'2018-08-31']\n",
    "\n",
    "# Разложение временного ряда за последний месяц\n",
    "decomposed = seasonal_decompose(last_month_data['num_orders'], model='additive', period=24)\n",
    "\n",
    "# Построение графиков тренда, сезонности и остатков для последнего месяца\n",
    "plt.figure(figsize=(15, 10))\n",
    "\n",
    "plt.subplot(311)\n",
    "decomposed.trend.plot(ax=plt.gca())\n",
    "plt.title('Тренд (Август 2018)')\n",
    "\n",
    "plt.subplot(312)\n",
    "decomposed.seasonal.plot(ax=plt.gca())\n",
    "plt.title('Сезонность (Август 2018)')\n",
    "\n",
    "plt.subplot(313)\n",
    "decomposed.resid.plot(ax=plt.gca())\n",
    "plt.title('Остатки (Август 2018)')\n",
    "\n",
    "plt.tight_layout()\n",
    "plt.show()"
   ]
  },
  {
   "cell_type": "markdown",
   "metadata": {},
   "source": [
    "###### Построение графиков тренда, сезонности и остатков для последней недели (25-31 августа 2018 г.)"
   ]
  },
  {
   "cell_type": "code",
   "execution_count": 12,
   "metadata": {},
   "outputs": [
    {
     "data": {
      "text/plain": [
       "'Последняя дата в датасете: 2018-08-31 23:00:00'"
      ]
     },
     "metadata": {},
     "output_type": "display_data"
    }
   ],
   "source": [
    "display(f\"Последняя дата в датасете: {data.index.max()}\")"
   ]
  },
  {
   "cell_type": "code",
   "execution_count": 13,
   "metadata": {
    "scrolled": true
   },
   "outputs": [
    {
     "data": {
      "image/png": "[encoded data removed]",
      "text/plain": [
       "<Figure size 1080x576 with 3 Axes>"
      ]
     },
     "metadata": {
      "needs_background": "light"
     },
     "output_type": "display_data"
    }
   ],
   "source": [
    "# Фильтрация данных для последней недели\n",
    "last_week_data = data['2018-08-25':'2018-08-31']\n",
    "\n",
    "# Разложение временного ряда за последнюю неделю\n",
    "decomposed = seasonal_decompose(last_week_data['num_orders'], model='additive', period=24)\n",
    "\n",
    "# Построение графиков тренда, сезонности и остатков для последней недели\n",
    "plt.figure(figsize=(15, 8))\n",
    "\n",
    "plt.subplot(311)\n",
    "decomposed.trend.plot(ax=plt.gca())\n",
    "plt.title('Тренд (Последняя неделя)')\n",
    "\n",
    "plt.subplot(312)\n",
    "decomposed.seasonal.plot(ax=plt.gca())\n",
    "plt.title('Сезонность (Последняя неделя)')\n",
    "\n",
    "plt.subplot(313)\n",
    "decomposed.resid.plot(ax=plt.gca())\n",
    "plt.title('Остатки (Последняя неделя)')\n",
    "\n",
    "plt.tight_layout()\n",
    "plt.show()"
   ]
  },
  {
   "cell_type": "markdown",
   "metadata": {},
   "source": [
    "- Со временем дисперсия временного ряда увеличивается. Анализ тренда показывает, что количество заказов такси растет. Каждый день наблюдается активный спрос на такси в ночное время, это видно по пикам на графике, а утром потребность в такси уменьшается.\n",
    "\n",
    "- Этот временной ряд не является стационарным, поскольку он содержит тренд, который меняется со временем. Это можно подтвердить с помощью теста Дики-Фуллера."
   ]
  },
  {
   "cell_type": "markdown",
   "metadata": {},
   "source": [
    "###### Тест Дики-Фуллера"
   ]
  },
  {
   "cell_type": "markdown",
   "metadata": {},
   "source": [
    "Нулевая гипотеза утверждает, что временной ряд не является стационарным, тогда как альтернативная гипотеза предполагает, что ряд стационарен."
   ]
  },
  {
   "cell_type": "code",
   "execution_count": 14,
   "metadata": {
    "scrolled": true
   },
   "outputs": [
    {
     "name": "stdout",
     "output_type": "stream",
     "text": [
      "P-значение = 0.028940051402612906\n",
      "Нулевая гипотеза отвергается. Ряд стационарен по критерию Дики-Фуллера.\n"
     ]
    }
   ],
   "source": [
    "# Применение теста Дики-Фуллера для проверки стационарности\n",
    "p_value = adfuller(data['num_orders'])[1]\n",
    "print('P-значение =', p_value)\n",
    "\n",
    "# Интерпретация результатов теста\n",
    "if p_value < 0.05:\n",
    "    print('Нулевая гипотеза отвергается. Ряд стационарен по критерию Дики-Фуллера.')\n",
    "else:\n",
    "    print('Нулевая гипотеза не отвергается. Ряд нестационарен по критерию Дики-Фуллера.')"
   ]
  },
  {
   "cell_type": "markdown",
   "metadata": {},
   "source": [
    "Не смотря на предварительный вывод о нестационарности, результат теста по критерию Дики-Фуллера показывает, что ряд стационарен\n",
    "\n",
    "\n",
    "- Возможные причины разногласий\n",
    "    - Периодичность тренда: Возможно, тренд в нашем временном ряду имеет периодические компоненты, которые не столь явны на первый взгляд. Например, тренд может быть неявным или иметь слабовыраженные сезонные колебания.\n",
    "\n",
    "    - Декомпозиция тренда: Временной ряд может иметь тренд, но также и сезонные компоненты, которые могут быть устранены в процессе декомпозиции. В этом случае тест Дики-Фуллера может показать, что остаточные компоненты стационарны, несмотря на наличие тренда.\n",
    "\n",
    "    - Проблемы с данными: Если данные имеют аномалии, выбросы или другие особенности, это может повлиять на результаты теста.\n",
    "\n",
    "    - Выбор параметров теста: Тест Дики-Фуллера имеет различные вариации (с трендом, без тренда и т.д.), и выбор параметров теста также может влиять на результаты. Например, тест с трендом проверяет более сложную стационарность, чем тест без тренда."
   ]
  },
  {
   "cell_type": "markdown",
   "metadata": {},
   "source": [
    "###### Добавление новых признаков"
   ]
  },
  {
   "cell_type": "markdown",
   "metadata": {},
   "source": [
    "- Так как видна ежедневная сезонность - то точно понадобится признак 'day'.\n",
    "- В отдельные часы заказов больше, поэтому добавим признак 'hour'\n",
    "- Тренд показывает, что к концу недели и в середине идет увеличение заказов - добавим признак 'day_of_week'.\n",
    "- Из месяца в месяц данные отличаются - добавим признак 'month'."
   ]
  },
  {
   "cell_type": "code",
   "execution_count": 15,
   "metadata": {},
   "outputs": [
    {
     "data": {
      "text/html": [
       "<div>\n",
       "<style scoped>\n",
       "    .dataframe tbody tr th:only-of-type {\n",
       "        vertical-align: middle;\n",
       "    }\n",
       "\n",
       "    .dataframe tbody tr th {\n",
       "        vertical-align: top;\n",
       "    }\n",
       "\n",
       "    .dataframe thead th {\n",
       "        text-align: right;\n",
       "    }\n",
       "</style>\n",
       "<table border=\"1\" class=\"dataframe\">\n",
       "  <thead>\n",
       "    <tr style=\"text-align: right;\">\n",
       "      <th></th>\n",
       "      <th>num_orders</th>\n",
       "      <th>hour</th>\n",
       "      <th>day</th>\n",
       "      <th>day_of_week</th>\n",
       "      <th>month</th>\n",
       "    </tr>\n",
       "    <tr>\n",
       "      <th>datetime</th>\n",
       "      <th></th>\n",
       "      <th></th>\n",
       "      <th></th>\n",
       "      <th></th>\n",
       "      <th></th>\n",
       "    </tr>\n",
       "  </thead>\n",
       "  <tbody>\n",
       "    <tr>\n",
       "      <th>2018-03-01 00:00:00</th>\n",
       "      <td>124</td>\n",
       "      <td>0</td>\n",
       "      <td>1</td>\n",
       "      <td>Thursday</td>\n",
       "      <td>March</td>\n",
       "    </tr>\n",
       "    <tr>\n",
       "      <th>2018-03-01 01:00:00</th>\n",
       "      <td>85</td>\n",
       "      <td>1</td>\n",
       "      <td>1</td>\n",
       "      <td>Thursday</td>\n",
       "      <td>March</td>\n",
       "    </tr>\n",
       "    <tr>\n",
       "      <th>2018-03-01 02:00:00</th>\n",
       "      <td>71</td>\n",
       "      <td>2</td>\n",
       "      <td>1</td>\n",
       "      <td>Thursday</td>\n",
       "      <td>March</td>\n",
       "    </tr>\n",
       "    <tr>\n",
       "      <th>2018-03-01 03:00:00</th>\n",
       "      <td>66</td>\n",
       "      <td>3</td>\n",
       "      <td>1</td>\n",
       "      <td>Thursday</td>\n",
       "      <td>March</td>\n",
       "    </tr>\n",
       "    <tr>\n",
       "      <th>2018-03-01 04:00:00</th>\n",
       "      <td>43</td>\n",
       "      <td>4</td>\n",
       "      <td>1</td>\n",
       "      <td>Thursday</td>\n",
       "      <td>March</td>\n",
       "    </tr>\n",
       "  </tbody>\n",
       "</table>\n",
       "</div>"
      ],
      "text/plain": [
       "                     num_orders  hour  day day_of_week  month\n",
       "datetime                                                     \n",
       "2018-03-01 00:00:00         124     0    1    Thursday  March\n",
       "2018-03-01 01:00:00          85     1    1    Thursday  March\n",
       "2018-03-01 02:00:00          71     2    1    Thursday  March\n",
       "2018-03-01 03:00:00          66     3    1    Thursday  March\n",
       "2018-03-01 04:00:00          43     4    1    Thursday  March"
      ]
     },
     "metadata": {},
     "output_type": "display_data"
    }
   ],
   "source": [
    "# Создаем новые столбцы\n",
    "data['hour'] = data.index.hour\n",
    "data['day'] = data.index.day\n",
    "data['day_of_week'] = data.index.day_name()\n",
    "data['month'] = data.index.month_name()\n",
    "data.drop(columns=['rolling_mean'], inplace=True)\n",
    "\n",
    "# Выводим первые строки для проверки\n",
    "display(data.head())"
   ]
  },
  {
   "cell_type": "markdown",
   "metadata": {},
   "source": [
    "###### Вывод по шагу 2\n",
    "- данные проанализированы\n",
    "- выявлены тренды и сезонность\n",
    "- данные были подготовлены к обучению\n",
    "- добавлены новые признаки: час, число, день недели, месяц"
   ]
  },
  {
   "cell_type": "markdown",
   "metadata": {},
   "source": [
    "## Обучение"
   ]
  },
  {
   "cell_type": "code",
   "execution_count": 16,
   "metadata": {},
   "outputs": [],
   "source": [
    "# Преобразуем в тип 'category' час, день недели, месяц\n",
    "data['hour'] = data['hour'].astype('category')\n",
    "data['day_of_week'] = data['day_of_week'].astype('category')\n",
    "data['month'] = data['month'].astype('category')"
   ]
  },
  {
   "cell_type": "code",
   "execution_count": 17,
   "metadata": {},
   "outputs": [],
   "source": [
    "# Определение X и y\n",
    "X = data.drop('num_orders', axis=1)  # Признаки\n",
    "y = data['num_orders']  # Целевой признак\n",
    "\n",
    "# Разделим данные на тренировочную и тестовую выборки\n",
    "X_train, X_test, y_train, y_test = train_test_split(X, y, shuffle=False, test_size=0.1, random_state=42)\n",
    "\n",
    "# Подготовка для TimeSeriesSplit\n",
    "tscv = TimeSeriesSplit(n_splits=3)"
   ]
  },
  {
   "cell_type": "markdown",
   "metadata": {},
   "source": [
    "###### CatBoostRegressor"
   ]
  },
  {
   "cell_type": "code",
   "execution_count": 18,
   "metadata": {
    "scrolled": true
   },
   "outputs": [
    {
     "name": "stdout",
     "output_type": "stream",
     "text": [
      "RMSE на тренировочной выборке: 18.78\n"
     ]
    }
   ],
   "source": [
    "# Определим категориальные признаки\n",
    "categorical_features = ['hour', 'day_of_week', 'month']\n",
    "\n",
    "# Инициализируем и обучаем модель\n",
    "model_cbr = CatBoostRegressor(verbose=0)\n",
    "model_cbr.fit(X_train, y_train, cat_features=categorical_features)\n",
    "\n",
    "# Получаем предсказания и рассчитываем RMSE на тренировочной выборке\n",
    "predictions_cbr = model_cbr.predict(X_train)\n",
    "rmse_cbr = mean_squared_error(y_train, predictions_cbr, squared=False)\n",
    "\n",
    "print(f'RMSE на тренировочной выборке: {round(rmse_cbr, 2)}')"
   ]
  },
  {
   "cell_type": "markdown",
   "metadata": {},
   "source": [
    "###### LightGBM"
   ]
  },
  {
   "cell_type": "code",
   "execution_count": 19,
   "metadata": {},
   "outputs": [
    {
     "name": "stderr",
     "output_type": "stream",
     "text": [
      "/opt/conda/lib/python3.9/site-packages/lightgbm/sklearn.py:736: UserWarning: 'verbose' argument is deprecated and will be removed in a future release of LightGBM. Pass 'log_evaluation()' callback via 'callbacks' argument instead.\n",
      "  _log_warning(\"'verbose' argument is deprecated and will be removed in a future release of LightGBM. \"\n"
     ]
    },
    {
     "name": "stdout",
     "output_type": "stream",
     "text": [
      "RMSE на тренировочной выборке: 15.69\n"
     ]
    }
   ],
   "source": [
    "# Инициализация модели LGBMRegressor\n",
    "model_lgbm = lgb.LGBMRegressor()\n",
    "\n",
    "# Обучение модели на тренировочных данных\n",
    "model_lgbm.fit(X_train, y_train, verbose=False)\n",
    "\n",
    "# Получение предсказаний на тренировочных данных\n",
    "predictions_lgbm = model_lgbm.predict(X_train)\n",
    "\n",
    "# Расчет RMSE (корень из среднеквадратичной ошибки) на тренировочных данных\n",
    "rmse_lgbm = mean_squared_error(y_train, predictions_lgbm, squared=False)\n",
    "\n",
    "# Вывод значения RMSE\n",
    "print(f'RMSE на тренировочной выборке: {round(rmse_lgbm, 2)}')"
   ]
  },
  {
   "cell_type": "markdown",
   "metadata": {},
   "source": [
    "###### DecisionTreeRegressor"
   ]
  },
  {
   "cell_type": "code",
   "execution_count": 20,
   "metadata": {},
   "outputs": [
    {
     "name": "stdout",
     "output_type": "stream",
     "text": [
      "Лучшие параметры: {'model__max_depth': 7}\n"
     ]
    }
   ],
   "source": [
    "# Определение трансформеров для обработки категориальных признаков\n",
    "preprocessor = ColumnTransformer(\n",
    "    transformers=[\n",
    "        ('cat', OneHotEncoder(handle_unknown='ignore'), ['day_of_week', 'month']),\n",
    "        ('num', SimpleImputer(strategy='mean'), ['day'])\n",
    "    ],\n",
    "    remainder='passthrough'\n",
    ")\n",
    "\n",
    "# Создание и настройка пайплайна\n",
    "pipeline = Pipeline(steps=[\n",
    "    ('preprocessor', preprocessor),\n",
    "    ('model', DecisionTreeRegressor(random_state=42))\n",
    "])\n",
    "\n",
    "# Определение параметров для поиска\n",
    "parameters = {'model__max_depth': range(1, 11, 2)}\n",
    "\n",
    "# Настройка GridSearchCV\n",
    "gsearch = GridSearchCV(estimator=pipeline, param_grid=parameters, cv=tscv, n_jobs=-1)\n",
    "gsearch.fit(X_train, y_train)\n",
    "\n",
    "# Вывод лучших параметров\n",
    "print(f'Лучшие параметры: {gsearch.best_params_}')"
   ]
  },
  {
   "cell_type": "code",
   "execution_count": 21,
   "metadata": {},
   "outputs": [
    {
     "name": "stdout",
     "output_type": "stream",
     "text": [
      "RMSE на тренировочной выборке: 22.85\n"
     ]
    }
   ],
   "source": [
    "predictions_dtr = gsearch.predict(X_train)\n",
    "rmse_dtr = mean_squared_error(y_train, predictions_dtr, squared=False)\n",
    "print(f'RMSE на тренировочной выборке: {round(rmse_dtr, 2)}')"
   ]
  },
  {
   "cell_type": "markdown",
   "metadata": {},
   "source": [
    "###### Сравнение моделей"
   ]
  },
  {
   "cell_type": "code",
   "execution_count": 22,
   "metadata": {},
   "outputs": [
    {
     "data": {
      "text/html": [
       "<div>\n",
       "<style scoped>\n",
       "    .dataframe tbody tr th:only-of-type {\n",
       "        vertical-align: middle;\n",
       "    }\n",
       "\n",
       "    .dataframe tbody tr th {\n",
       "        vertical-align: top;\n",
       "    }\n",
       "\n",
       "    .dataframe thead th {\n",
       "        text-align: right;\n",
       "    }\n",
       "</style>\n",
       "<table border=\"1\" class=\"dataframe\">\n",
       "  <thead>\n",
       "    <tr style=\"text-align: right;\">\n",
       "      <th></th>\n",
       "      <th>Модель</th>\n",
       "      <th>Среднее RMSE на кросс-валидации</th>\n",
       "    </tr>\n",
       "  </thead>\n",
       "  <tbody>\n",
       "    <tr>\n",
       "      <th>0</th>\n",
       "      <td>CatBoostRegressor</td>\n",
       "      <td>30.930218</td>\n",
       "    </tr>\n",
       "    <tr>\n",
       "      <th>1</th>\n",
       "      <td>LGBMRegressor</td>\n",
       "      <td>32.263985</td>\n",
       "    </tr>\n",
       "    <tr>\n",
       "      <th>2</th>\n",
       "      <td>DecisionTreeRegressor</td>\n",
       "      <td>35.089490</td>\n",
       "    </tr>\n",
       "  </tbody>\n",
       "</table>\n",
       "</div>"
      ],
      "text/plain": [
       "                  Модель  Среднее RMSE на кросс-валидации\n",
       "0      CatBoostRegressor                        30.930218\n",
       "1          LGBMRegressor                        32.263985\n",
       "2  DecisionTreeRegressor                        35.089490"
      ]
     },
     "metadata": {},
     "output_type": "display_data"
    }
   ],
   "source": [
    "# определяем RMSE\n",
    "rmse_scorer = make_scorer(mean_squared_error, squared=False)\n",
    "\n",
    "# CatBoostRegressor\n",
    "model_cbr = CatBoostRegressor(cat_features=categorical_features, verbose=0)\n",
    "cv_scores_cbr = cross_val_score(model_cbr, X_train, y_train, cv=tscv, scoring=rmse_scorer)\n",
    "mean_rmse_cbr = np.mean(cv_scores_cbr)\n",
    "\n",
    "# LightGBM\n",
    "cv_scores_lgbm = cross_val_score(model_lgbm, X_train, y_train, cv=tscv, scoring=rmse_scorer)\n",
    "mean_rmse_lgbm = np.mean(cv_scores_lgbm)\n",
    "\n",
    "# DecisionTreeRegressor\n",
    "cv_scores_dtr = cross_val_score(gsearch, X_train, y_train, cv=tscv, scoring=rmse_scorer)\n",
    "mean_rmse_dtr = np.mean(cv_scores_dtr)\n",
    "\n",
    "# Создание таблицы с результатами\n",
    "results_cv = pd.DataFrame({\n",
    "    'Модель': ['CatBoostRegressor', 'LGBMRegressor', 'DecisionTreeRegressor'],\n",
    "    'Среднее RMSE на кросс-валидации': [mean_rmse_cbr, mean_rmse_lgbm, mean_rmse_dtr]\n",
    "})\n",
    "\n",
    "# вывод результатов\n",
    "display(results_cv)"
   ]
  },
  {
   "cell_type": "markdown",
   "metadata": {},
   "source": [
    "###### Вывод по шагу 3"
   ]
  },
  {
   "cell_type": "markdown",
   "metadata": {},
   "source": [
    "- Категориальные признаки hour, day_of_week, и month были преобразованы в тип 'category'.\n",
    "- Данные были разделены на тренировочную и тестовую выборки.\n",
    "- Для кросс-валидации был использован метод TimeSeriesSplit, который учитывает временную структуру данных.\n",
    "- Были обучены модели: CatBoostRegressor, LightGBMRegressor, DecisionTreeRegressor\n",
    "- Модель CatBoostRegressor показала наилучший результат по кросс-валидации, с самым низким значением RMSE = 30.9"
   ]
  },
  {
   "cell_type": "markdown",
   "metadata": {},
   "source": [
    "## Тестирование"
   ]
  },
  {
   "cell_type": "code",
   "execution_count": 23,
   "metadata": {
    "scrolled": true
   },
   "outputs": [
    {
     "name": "stdout",
     "output_type": "stream",
     "text": [
      "CatBoostRegressor: RMSE на тестовой выборке: 40.14\n"
     ]
    }
   ],
   "source": [
    "# Обучение модели на тренировочных данных\n",
    "model_cbr = CatBoostRegressor(cat_features=categorical_features, verbose=0)\n",
    "model_cbr.fit(X_train, y_train)\n",
    "\n",
    "# Предсказания на тестовой выборке\n",
    "test_predictions_cbr = model_cbr.predict(X_test)\n",
    "test_rmse_cbr = mean_squared_error(y_test, test_predictions_cbr, squared=False)\n",
    "print(f'CatBoostRegressor: RMSE на тестовой выборке: {round(test_rmse_cbr, 2)}')"
   ]
  },
  {
   "cell_type": "markdown",
   "metadata": {},
   "source": [
    "На тестовых данных модель CatBoostRegressor показала RMSE = 40.14, что меньше 48 и удовлетворяет условию задачи. Посмотрим на график, чтобы было нагляднее"
   ]
  },
  {
   "cell_type": "code",
   "execution_count": 24,
   "metadata": {},
   "outputs": [
    {
     "data": {
      "image/png": "[encoded data removed]",
      "text/plain": [
       "<Figure size 1080x576 with 1 Axes>"
      ]
     },
     "metadata": {
      "needs_background": "light"
     },
     "output_type": "display_data"
    }
   ],
   "source": [
    "# Создаем график\n",
    "plt.figure(figsize=(15, 8))\n",
    "plt.plot(y_test.values, label='Реальные значения', color='blue')\n",
    "plt.plot(test_predictions_cbr, label='Предсказанные значения', color='red')\n",
    "\n",
    "# Настройка графика\n",
    "plt.title('Сравнение реальных и предсказанных значений')\n",
    "plt.xlabel('Наблюдения')\n",
    "plt.ylabel('Количество заказов')\n",
    "plt.legend()\n",
    "plt.show()"
   ]
  },
  {
   "cell_type": "markdown",
   "metadata": {},
   "source": [
    "###### Вывод по шагу 4\n",
    "- На этом этапе мы протестировали лучшую модель (CatBoostRegressor) на тестовых данных и оценили производительность с помощью метрики RMSE\n",
    "- Мы получили значение RMSE у модели CatBoostRegressor равное 40.14, это значение меньше порога в 48, который был установлен в условии задачи, что говорит о хорошем качестве модели\n",
    "- На графике, который был построен, показано сравнение реальных значений и предсказанных моделью значений"
   ]
  },
  {
   "cell_type": "markdown",
   "metadata": {},
   "source": [
    "## Общий вывод"
   ]
  },
  {
   "cell_type": "markdown",
   "metadata": {},
   "source": [
    "###### 1. Подготовка данных\n",
    "- В этом этапе была выполнена загрузка данных и их предварительная обработка:\n",
    "\n",
    "    - Загрузка данных: Данные о заказах такси были успешно загружены и проверены. В исходном наборе данных не было пропущенных значений, а временные метки были упорядочены.\n",
    "    - Ресемплирование: Данные были ресемплированы по одному часу для приведения временного ряда к нужной частоте.\n",
    "    - Вывод: На основе предварительного анализа данные были подготовлены для дальнейшего анализа и моделирования.\n",
    "\n",
    "###### 2. Анализ данных\n",
    "- На этом этапе был проведен детальный анализ временного ряда:\n",
    "\n",
    "    - Статистический обзор: Были представлены основные статистики данных, такие как среднее, стандартное отклонение, минимальные и максимальные значения.\n",
    "    - Визуализация временного ряда: Построены графики временного ряда, скользящего среднего, а также разложение на тренд, сезонность и остатки.\n",
    "    - Сезонность и тренды: Выявлено, что данные содержат явные тренды и сезонности, такие как увеличение количества заказов в ночное время и активный спрос на выходных.\n",
    "    - Тест Дики-Фуллера: Тест показал, что ряд стационарен, что важно для дальнейшего анализа и моделирования.\n",
    "    - Добавление признаков: Введены дополнительные признаки, такие как час, день недели, и месяц, что позволит улучшить модели за счет использования временной информации.\n",
    "\n",
    "###### 3. Обучение моделей\n",
    "- CatBoostRegressor:\n",
    "    - Кросс-валидация: Модель показала средний RMSE на валидации 30.93, что является хорошим результатом.\n",
    "    - Описание: Модель продемонстрировала лучшие результаты на кросс-валидации среди всех протестированных моделей\n",
    "\n",
    "\n",
    "\n",
    "- LightGBMRegressor:\n",
    "    - Кросс-валидация: Эта модель продемонстрировала средний RMSE на валидации 32.06, что также является достойным результатом.\n",
    "    - Описание: Несмотря на то, что модель не была лидером на этапе кросс-валидации, она показала стабильные результаты и заслуживает внимания.\n",
    "\n",
    "\n",
    "\n",
    "- DecisionTreeRegressor:\n",
    "    - Кросс-валидация: Средний RMSE на валидации составил 35.31, что хуже по сравнению с CatBoost и LightGBM.\n",
    "    - Описание: Модель показала наихудшие результаты среди всех протестированных моделей\n",
    "\n",
    "\n",
    "\n",
    "###### 4. Тестирование\n",
    "- На этом этапе модели была протестирована лучшая модель на тестовой выборке (CatBoostRegressor)\n",
    "\n",
    "- Результат: Эта модель показала RMSE 40.14 на тестовой выборке\n",
    "\n",
    "- Значение RMSE на тестовой выборке оказалось меньше порогового значения 48, что свидетельствует о хорошем качестве модели CatBoostRegressor и её способности предсказывать количество заказов в реальных условиях.\n",
    "- Визуализация: Построенный график сравнения реальных и предсказанных значений подтвердил, что модель CatBoostRegressor эффективно захватывает тренды в данных."
   ]
  }
 ],
 "metadata": {
  "ExecuteTimeLog": [
   {
    "duration": 939,
    "start_time": "2024-08-31T20:01:07.898Z"
   },
   {
    "duration": 13343,
    "start_time": "2024-08-31T20:01:23.298Z"
   },
   {
    "duration": 315,
    "start_time": "2024-08-31T20:01:42.672Z"
   },
   {
    "duration": 2402,
    "start_time": "2024-08-31T20:03:16.491Z"
   },
   {
    "duration": 38,
    "start_time": "2024-08-31T20:03:20.234Z"
   },
   {
    "duration": 56,
    "start_time": "2024-08-31T20:05:39.456Z"
   },
   {
    "duration": 17,
    "start_time": "2024-08-31T20:11:45.193Z"
   },
   {
    "duration": 2489,
    "start_time": "2024-08-31T20:11:53.554Z"
   },
   {
    "duration": 2532,
    "start_time": "2024-08-31T20:11:58.698Z"
   },
   {
    "duration": 19,
    "start_time": "2024-08-31T20:12:01.510Z"
   },
   {
    "duration": 1447,
    "start_time": "2024-08-31T20:13:08.443Z"
   },
   {
    "duration": 2538,
    "start_time": "2024-08-31T20:13:15.985Z"
   },
   {
    "duration": 2469,
    "start_time": "2024-08-31T20:13:21.065Z"
   },
   {
    "duration": 245,
    "start_time": "2024-08-31T20:13:36.117Z"
   },
   {
    "duration": 1527,
    "start_time": "2024-08-31T20:13:52.196Z"
   },
   {
    "duration": 2543,
    "start_time": "2024-08-31T20:14:01.980Z"
   },
   {
    "duration": 2575,
    "start_time": "2024-08-31T20:14:05.642Z"
   },
   {
    "duration": 5,
    "start_time": "2024-08-31T20:14:08.219Z"
   },
   {
    "duration": 2624,
    "start_time": "2024-08-31T20:15:17.426Z"
   },
   {
    "duration": 1639,
    "start_time": "2024-08-31T20:15:41.336Z"
   },
   {
    "duration": 253,
    "start_time": "2024-08-31T20:15:58.796Z"
   },
   {
    "duration": 115,
    "start_time": "2024-08-31T20:16:33.224Z"
   },
   {
    "duration": 14,
    "start_time": "2024-08-31T20:16:49.824Z"
   },
   {
    "duration": 5,
    "start_time": "2024-08-31T20:17:03.243Z"
   },
   {
    "duration": 12,
    "start_time": "2024-08-31T20:17:10.926Z"
   },
   {
    "duration": 15,
    "start_time": "2024-08-31T20:17:51.033Z"
   },
   {
    "duration": 365,
    "start_time": "2024-08-31T20:18:05.073Z"
   },
   {
    "duration": 256,
    "start_time": "2024-08-31T20:18:12.065Z"
   },
   {
    "duration": 221,
    "start_time": "2024-08-31T20:18:23.161Z"
   },
   {
    "duration": 269,
    "start_time": "2024-08-31T20:18:57.831Z"
   },
   {
    "duration": 761,
    "start_time": "2024-08-31T20:19:26.217Z"
   },
   {
    "duration": 932,
    "start_time": "2024-08-31T20:19:36.266Z"
   },
   {
    "duration": 784,
    "start_time": "2024-08-31T20:19:50.944Z"
   },
   {
    "duration": 801,
    "start_time": "2024-08-31T20:20:20.405Z"
   },
   {
    "duration": 5,
    "start_time": "2024-08-31T20:20:52.486Z"
   },
   {
    "duration": 529,
    "start_time": "2024-08-31T20:20:54.084Z"
   },
   {
    "duration": 639,
    "start_time": "2024-08-31T20:20:58.658Z"
   },
   {
    "duration": 1649,
    "start_time": "2024-08-31T20:21:36.158Z"
   },
   {
    "duration": 30,
    "start_time": "2024-08-31T20:31:15.598Z"
   },
   {
    "duration": 33,
    "start_time": "2024-08-31T20:32:27.019Z"
   },
   {
    "duration": 601,
    "start_time": "2024-08-31T20:32:57.867Z"
   },
   {
    "duration": 7,
    "start_time": "2024-08-31T20:34:15.138Z"
   },
   {
    "duration": 12,
    "start_time": "2024-08-31T20:34:33.050Z"
   },
   {
    "duration": 1567,
    "start_time": "2024-08-31T20:34:44.853Z"
   },
   {
    "duration": 75,
    "start_time": "2024-08-31T20:37:47.845Z"
   },
   {
    "duration": 7,
    "start_time": "2024-08-31T20:38:09.232Z"
   },
   {
    "duration": 8,
    "start_time": "2024-08-31T20:38:14.100Z"
   },
   {
    "duration": 7,
    "start_time": "2024-08-31T20:38:33.933Z"
   },
   {
    "duration": 57,
    "start_time": "2024-08-31T20:41:17.956Z"
   },
   {
    "duration": 0,
    "start_time": "2024-08-31T20:41:18.015Z"
   },
   {
    "duration": 0,
    "start_time": "2024-08-31T20:41:18.016Z"
   },
   {
    "duration": 0,
    "start_time": "2024-08-31T20:41:18.018Z"
   },
   {
    "duration": 0,
    "start_time": "2024-08-31T20:41:18.019Z"
   },
   {
    "duration": 0,
    "start_time": "2024-08-31T20:41:18.020Z"
   },
   {
    "duration": 0,
    "start_time": "2024-08-31T20:41:18.021Z"
   },
   {
    "duration": 0,
    "start_time": "2024-08-31T20:41:18.022Z"
   },
   {
    "duration": 1,
    "start_time": "2024-08-31T20:41:18.023Z"
   },
   {
    "duration": 0,
    "start_time": "2024-08-31T20:41:18.025Z"
   },
   {
    "duration": 0,
    "start_time": "2024-08-31T20:41:18.026Z"
   },
   {
    "duration": 0,
    "start_time": "2024-08-31T20:41:18.027Z"
   },
   {
    "duration": 0,
    "start_time": "2024-08-31T20:41:18.028Z"
   },
   {
    "duration": 0,
    "start_time": "2024-08-31T20:41:18.030Z"
   },
   {
    "duration": 0,
    "start_time": "2024-08-31T20:41:18.031Z"
   },
   {
    "duration": 3129,
    "start_time": "2024-08-31T20:41:40.204Z"
   },
   {
    "duration": 1827,
    "start_time": "2024-08-31T20:41:43.336Z"
   },
   {
    "duration": 69,
    "start_time": "2024-08-31T20:41:45.165Z"
   },
   {
    "duration": 13,
    "start_time": "2024-08-31T20:41:45.236Z"
   },
   {
    "duration": 37,
    "start_time": "2024-08-31T20:41:45.251Z"
   },
   {
    "duration": 83,
    "start_time": "2024-08-31T20:41:45.290Z"
   },
   {
    "duration": 27,
    "start_time": "2024-08-31T20:41:45.375Z"
   },
   {
    "duration": 441,
    "start_time": "2024-08-31T20:41:45.404Z"
   },
   {
    "duration": 282,
    "start_time": "2024-08-31T20:41:45.847Z"
   },
   {
    "duration": 849,
    "start_time": "2024-08-31T20:41:46.132Z"
   },
   {
    "duration": 782,
    "start_time": "2024-08-31T20:41:46.983Z"
   },
   {
    "duration": 4,
    "start_time": "2024-08-31T20:41:47.767Z"
   },
   {
    "duration": 657,
    "start_time": "2024-08-31T20:41:47.773Z"
   },
   {
    "duration": 1675,
    "start_time": "2024-08-31T20:41:48.431Z"
   },
   {
    "duration": 239,
    "start_time": "2024-08-31T20:41:50.108Z"
   },
   {
    "duration": 21,
    "start_time": "2024-08-31T20:43:43.983Z"
   },
   {
    "duration": 15,
    "start_time": "2024-08-31T20:43:53.746Z"
   },
   {
    "duration": 19,
    "start_time": "2024-08-31T20:44:14.401Z"
   },
   {
    "duration": 2544,
    "start_time": "2024-08-31T20:44:40.788Z"
   },
   {
    "duration": 1525,
    "start_time": "2024-08-31T20:44:43.335Z"
   },
   {
    "duration": 70,
    "start_time": "2024-08-31T20:44:44.861Z"
   },
   {
    "duration": 11,
    "start_time": "2024-08-31T20:44:44.933Z"
   },
   {
    "duration": 4,
    "start_time": "2024-08-31T20:44:44.945Z"
   },
   {
    "duration": 17,
    "start_time": "2024-08-31T20:44:44.950Z"
   },
   {
    "duration": 9,
    "start_time": "2024-08-31T20:44:44.969Z"
   },
   {
    "duration": 421,
    "start_time": "2024-08-31T20:44:44.980Z"
   },
   {
    "duration": 264,
    "start_time": "2024-08-31T20:44:45.403Z"
   },
   {
    "duration": 859,
    "start_time": "2024-08-31T20:44:45.669Z"
   },
   {
    "duration": 733,
    "start_time": "2024-08-31T20:44:46.530Z"
   },
   {
    "duration": 5,
    "start_time": "2024-08-31T20:44:47.264Z"
   },
   {
    "duration": 656,
    "start_time": "2024-08-31T20:44:47.271Z"
   },
   {
    "duration": 1577,
    "start_time": "2024-08-31T20:44:47.929Z"
   },
   {
    "duration": 105,
    "start_time": "2024-08-31T20:44:49.509Z"
   },
   {
    "duration": 2532,
    "start_time": "2024-08-31T20:53:20.792Z"
   },
   {
    "duration": 1546,
    "start_time": "2024-08-31T20:53:23.326Z"
   },
   {
    "duration": 76,
    "start_time": "2024-08-31T20:53:24.874Z"
   },
   {
    "duration": 13,
    "start_time": "2024-08-31T20:53:24.951Z"
   },
   {
    "duration": 4,
    "start_time": "2024-08-31T20:53:24.967Z"
   },
   {
    "duration": 39,
    "start_time": "2024-08-31T20:53:24.973Z"
   },
   {
    "duration": 10,
    "start_time": "2024-08-31T20:53:25.013Z"
   },
   {
    "duration": 444,
    "start_time": "2024-08-31T20:53:25.025Z"
   },
   {
    "duration": 263,
    "start_time": "2024-08-31T20:53:25.471Z"
   },
   {
    "duration": 874,
    "start_time": "2024-08-31T20:53:25.735Z"
   },
   {
    "duration": 786,
    "start_time": "2024-08-31T20:53:26.611Z"
   },
   {
    "duration": 4,
    "start_time": "2024-08-31T20:53:27.399Z"
   },
   {
    "duration": 651,
    "start_time": "2024-08-31T20:53:27.405Z"
   },
   {
    "duration": 1656,
    "start_time": "2024-08-31T20:53:28.059Z"
   },
   {
    "duration": 91,
    "start_time": "2024-08-31T20:53:29.828Z"
   },
   {
    "duration": 2441,
    "start_time": "2024-08-31T20:54:52.100Z"
   },
   {
    "duration": 1573,
    "start_time": "2024-08-31T20:54:54.543Z"
   },
   {
    "duration": 65,
    "start_time": "2024-08-31T20:54:56.117Z"
   },
   {
    "duration": 12,
    "start_time": "2024-08-31T20:54:56.184Z"
   },
   {
    "duration": 5,
    "start_time": "2024-08-31T20:54:56.198Z"
   },
   {
    "duration": 11,
    "start_time": "2024-08-31T20:54:56.204Z"
   },
   {
    "duration": 9,
    "start_time": "2024-08-31T20:54:56.217Z"
   },
   {
    "duration": 417,
    "start_time": "2024-08-31T20:54:56.228Z"
   },
   {
    "duration": 270,
    "start_time": "2024-08-31T20:54:56.647Z"
   },
   {
    "duration": 815,
    "start_time": "2024-08-31T20:54:56.919Z"
   },
   {
    "duration": 776,
    "start_time": "2024-08-31T20:54:57.736Z"
   },
   {
    "duration": 4,
    "start_time": "2024-08-31T20:54:58.513Z"
   },
   {
    "duration": 613,
    "start_time": "2024-08-31T20:54:58.519Z"
   },
   {
    "duration": 1671,
    "start_time": "2024-08-31T20:54:59.135Z"
   },
   {
    "duration": 104,
    "start_time": "2024-08-31T20:55:00.808Z"
   },
   {
    "duration": 8,
    "start_time": "2024-08-31T20:55:27.611Z"
   },
   {
    "duration": 4,
    "start_time": "2024-08-31T20:58:04.313Z"
   },
   {
    "duration": 6781,
    "start_time": "2024-08-31T20:58:40.699Z"
   },
   {
    "duration": 5,
    "start_time": "2024-08-31T20:58:49.471Z"
   },
   {
    "duration": 4,
    "start_time": "2024-08-31T20:59:05.833Z"
   },
   {
    "duration": 4,
    "start_time": "2024-08-31T20:59:05.839Z"
   },
   {
    "duration": 1437,
    "start_time": "2024-08-31T20:59:05.845Z"
   },
   {
    "duration": 65,
    "start_time": "2024-08-31T20:59:07.283Z"
   },
   {
    "duration": 12,
    "start_time": "2024-08-31T20:59:07.350Z"
   },
   {
    "duration": 6,
    "start_time": "2024-08-31T20:59:07.364Z"
   },
   {
    "duration": 33,
    "start_time": "2024-08-31T20:59:07.372Z"
   },
   {
    "duration": 11,
    "start_time": "2024-08-31T20:59:07.407Z"
   },
   {
    "duration": 465,
    "start_time": "2024-08-31T20:59:07.420Z"
   },
   {
    "duration": 261,
    "start_time": "2024-08-31T20:59:07.887Z"
   },
   {
    "duration": 837,
    "start_time": "2024-08-31T20:59:08.149Z"
   },
   {
    "duration": 804,
    "start_time": "2024-08-31T20:59:08.988Z"
   },
   {
    "duration": 13,
    "start_time": "2024-08-31T20:59:09.794Z"
   },
   {
    "duration": 544,
    "start_time": "2024-08-31T20:59:09.809Z"
   },
   {
    "duration": 1560,
    "start_time": "2024-08-31T20:59:10.354Z"
   },
   {
    "duration": 211,
    "start_time": "2024-08-31T20:59:12.007Z"
   },
   {
    "duration": 4,
    "start_time": "2024-08-31T20:59:56.265Z"
   },
   {
    "duration": 4,
    "start_time": "2024-08-31T20:59:56.271Z"
   },
   {
    "duration": 1557,
    "start_time": "2024-08-31T20:59:56.277Z"
   },
   {
    "duration": 72,
    "start_time": "2024-08-31T20:59:57.836Z"
   },
   {
    "duration": 18,
    "start_time": "2024-08-31T20:59:57.911Z"
   },
   {
    "duration": 39,
    "start_time": "2024-08-31T20:59:57.931Z"
   },
   {
    "duration": 18,
    "start_time": "2024-08-31T20:59:57.972Z"
   },
   {
    "duration": 12,
    "start_time": "2024-08-31T20:59:57.992Z"
   },
   {
    "duration": 451,
    "start_time": "2024-08-31T20:59:58.006Z"
   },
   {
    "duration": 271,
    "start_time": "2024-08-31T20:59:58.459Z"
   },
   {
    "duration": 832,
    "start_time": "2024-08-31T20:59:58.731Z"
   },
   {
    "duration": 746,
    "start_time": "2024-08-31T20:59:59.565Z"
   },
   {
    "duration": 4,
    "start_time": "2024-08-31T21:00:00.314Z"
   },
   {
    "duration": 522,
    "start_time": "2024-08-31T21:00:00.320Z"
   },
   {
    "duration": 1666,
    "start_time": "2024-08-31T21:00:00.844Z"
   },
   {
    "duration": 306,
    "start_time": "2024-08-31T21:00:02.512Z"
   },
   {
    "duration": 59,
    "start_time": "2024-08-31T21:13:29.050Z"
   },
   {
    "duration": 1100671,
    "start_time": "2024-08-31T21:14:21.411Z"
   },
   {
    "duration": 4,
    "start_time": "2024-08-31T21:39:03.927Z"
   },
   {
    "duration": 1355,
    "start_time": "2024-08-31T21:39:03.933Z"
   },
   {
    "duration": 69,
    "start_time": "2024-08-31T21:39:05.290Z"
   },
   {
    "duration": 14,
    "start_time": "2024-08-31T21:39:05.361Z"
   },
   {
    "duration": 6,
    "start_time": "2024-08-31T21:39:05.377Z"
   },
   {
    "duration": 27,
    "start_time": "2024-08-31T21:39:05.384Z"
   },
   {
    "duration": 13,
    "start_time": "2024-08-31T21:39:05.412Z"
   },
   {
    "duration": 375,
    "start_time": "2024-08-31T21:39:05.426Z"
   },
   {
    "duration": 289,
    "start_time": "2024-08-31T21:39:05.804Z"
   },
   {
    "duration": 1007,
    "start_time": "2024-08-31T21:39:06.094Z"
   },
   {
    "duration": 801,
    "start_time": "2024-08-31T21:39:07.104Z"
   },
   {
    "duration": 6,
    "start_time": "2024-08-31T21:39:07.908Z"
   },
   {
    "duration": 570,
    "start_time": "2024-08-31T21:39:07.915Z"
   },
   {
    "duration": 1724,
    "start_time": "2024-08-31T21:39:08.488Z"
   },
   {
    "duration": 201,
    "start_time": "2024-08-31T21:39:10.215Z"
   },
   {
    "duration": 8,
    "start_time": "2024-08-31T21:43:28.669Z"
   },
   {
    "duration": 18,
    "start_time": "2024-08-31T21:43:34.487Z"
   },
   {
    "duration": 13,
    "start_time": "2024-08-31T21:43:43.318Z"
   },
   {
    "duration": 132,
    "start_time": "2024-08-31T21:44:42.127Z"
   },
   {
    "duration": 20,
    "start_time": "2024-08-31T21:54:30.130Z"
   },
   {
    "duration": 8,
    "start_time": "2024-08-31T22:04:41.496Z"
   },
   {
    "duration": 1411,
    "start_time": "2024-08-31T22:04:41.506Z"
   },
   {
    "duration": 99,
    "start_time": "2024-08-31T22:04:42.919Z"
   },
   {
    "duration": 19,
    "start_time": "2024-08-31T22:04:43.020Z"
   },
   {
    "duration": 27,
    "start_time": "2024-08-31T22:04:43.042Z"
   },
   {
    "duration": 31,
    "start_time": "2024-08-31T22:04:43.071Z"
   },
   {
    "duration": 15,
    "start_time": "2024-08-31T22:04:43.104Z"
   },
   {
    "duration": 360,
    "start_time": "2024-08-31T22:04:43.121Z"
   },
   {
    "duration": 277,
    "start_time": "2024-08-31T22:04:43.483Z"
   },
   {
    "duration": 1036,
    "start_time": "2024-08-31T22:04:43.761Z"
   },
   {
    "duration": 833,
    "start_time": "2024-08-31T22:04:44.799Z"
   },
   {
    "duration": 5,
    "start_time": "2024-08-31T22:04:45.634Z"
   },
   {
    "duration": 652,
    "start_time": "2024-08-31T22:04:45.641Z"
   },
   {
    "duration": 1519,
    "start_time": "2024-08-31T22:04:46.296Z"
   },
   {
    "duration": 194,
    "start_time": "2024-08-31T22:04:47.818Z"
   },
   {
    "duration": 9,
    "start_time": "2024-08-31T22:04:48.014Z"
   },
   {
    "duration": 130,
    "start_time": "2024-08-31T22:04:54.568Z"
   },
   {
    "duration": 4,
    "start_time": "2024-08-31T22:06:31.240Z"
   },
   {
    "duration": 1348,
    "start_time": "2024-08-31T22:06:31.246Z"
   },
   {
    "duration": 73,
    "start_time": "2024-08-31T22:06:32.595Z"
   },
   {
    "duration": 14,
    "start_time": "2024-08-31T22:06:32.670Z"
   },
   {
    "duration": 6,
    "start_time": "2024-08-31T22:06:32.686Z"
   },
   {
    "duration": 14,
    "start_time": "2024-08-31T22:06:32.705Z"
   },
   {
    "duration": 13,
    "start_time": "2024-08-31T22:06:32.721Z"
   },
   {
    "duration": 421,
    "start_time": "2024-08-31T22:06:32.736Z"
   },
   {
    "duration": 281,
    "start_time": "2024-08-31T22:06:33.160Z"
   },
   {
    "duration": 947,
    "start_time": "2024-08-31T22:06:33.443Z"
   },
   {
    "duration": 811,
    "start_time": "2024-08-31T22:06:34.392Z"
   },
   {
    "duration": 5,
    "start_time": "2024-08-31T22:06:35.205Z"
   },
   {
    "duration": 533,
    "start_time": "2024-08-31T22:06:35.212Z"
   },
   {
    "duration": 2868,
    "start_time": "2024-08-31T22:06:35.746Z"
   },
   {
    "duration": 203,
    "start_time": "2024-08-31T22:06:38.617Z"
   },
   {
    "duration": 7,
    "start_time": "2024-08-31T22:06:38.821Z"
   },
   {
    "duration": 8,
    "start_time": "2024-08-31T22:06:38.830Z"
   },
   {
    "duration": 17,
    "start_time": "2024-08-31T22:06:45.320Z"
   },
   {
    "duration": 4,
    "start_time": "2024-08-31T22:09:09.906Z"
   },
   {
    "duration": 1355,
    "start_time": "2024-08-31T22:09:09.912Z"
   },
   {
    "duration": 68,
    "start_time": "2024-08-31T22:09:11.268Z"
   },
   {
    "duration": 12,
    "start_time": "2024-08-31T22:09:11.338Z"
   },
   {
    "duration": 6,
    "start_time": "2024-08-31T22:09:11.352Z"
   },
   {
    "duration": 15,
    "start_time": "2024-08-31T22:09:11.359Z"
   },
   {
    "duration": 34,
    "start_time": "2024-08-31T22:09:11.376Z"
   },
   {
    "duration": 354,
    "start_time": "2024-08-31T22:09:11.411Z"
   },
   {
    "duration": 293,
    "start_time": "2024-08-31T22:09:11.767Z"
   },
   {
    "duration": 892,
    "start_time": "2024-08-31T22:09:12.061Z"
   },
   {
    "duration": 752,
    "start_time": "2024-08-31T22:09:12.954Z"
   },
   {
    "duration": 5,
    "start_time": "2024-08-31T22:09:13.707Z"
   },
   {
    "duration": 519,
    "start_time": "2024-08-31T22:09:13.713Z"
   },
   {
    "duration": 1778,
    "start_time": "2024-08-31T22:09:14.234Z"
   },
   {
    "duration": 106,
    "start_time": "2024-08-31T22:09:16.016Z"
   },
   {
    "duration": 60,
    "start_time": "2024-08-31T22:09:16.124Z"
   },
   {
    "duration": 59,
    "start_time": "2024-08-31T22:09:16.186Z"
   },
   {
    "duration": 0,
    "start_time": "2024-08-31T22:09:16.247Z"
   },
   {
    "duration": 4,
    "start_time": "2024-08-31T22:09:25.668Z"
   },
   {
    "duration": 1419,
    "start_time": "2024-08-31T22:09:25.674Z"
   },
   {
    "duration": 64,
    "start_time": "2024-08-31T22:09:27.095Z"
   },
   {
    "duration": 11,
    "start_time": "2024-08-31T22:09:27.161Z"
   },
   {
    "duration": 5,
    "start_time": "2024-08-31T22:09:27.174Z"
   },
   {
    "duration": 14,
    "start_time": "2024-08-31T22:09:27.180Z"
   },
   {
    "duration": 20,
    "start_time": "2024-08-31T22:09:27.195Z"
   },
   {
    "duration": 352,
    "start_time": "2024-08-31T22:09:27.217Z"
   },
   {
    "duration": 302,
    "start_time": "2024-08-31T22:09:27.571Z"
   },
   {
    "duration": 983,
    "start_time": "2024-08-31T22:09:27.875Z"
   },
   {
    "duration": 798,
    "start_time": "2024-08-31T22:09:28.860Z"
   },
   {
    "duration": 4,
    "start_time": "2024-08-31T22:09:29.660Z"
   },
   {
    "duration": 584,
    "start_time": "2024-08-31T22:09:29.666Z"
   },
   {
    "duration": 2152,
    "start_time": "2024-08-31T22:09:30.254Z"
   },
   {
    "duration": 112,
    "start_time": "2024-08-31T22:09:32.408Z"
   },
   {
    "duration": 9,
    "start_time": "2024-08-31T22:09:32.522Z"
   },
   {
    "duration": 11,
    "start_time": "2024-08-31T22:09:32.533Z"
   },
   {
    "duration": 19,
    "start_time": "2024-08-31T22:09:32.546Z"
   },
   {
    "duration": 3,
    "start_time": "2024-08-31T22:16:14.894Z"
   },
   {
    "duration": 1447,
    "start_time": "2024-08-31T22:16:14.899Z"
   },
   {
    "duration": 67,
    "start_time": "2024-08-31T22:16:16.348Z"
   },
   {
    "duration": 14,
    "start_time": "2024-08-31T22:16:16.417Z"
   },
   {
    "duration": 5,
    "start_time": "2024-08-31T22:16:16.434Z"
   },
   {
    "duration": 41,
    "start_time": "2024-08-31T22:16:16.441Z"
   },
   {
    "duration": 22,
    "start_time": "2024-08-31T22:16:16.484Z"
   },
   {
    "duration": 381,
    "start_time": "2024-08-31T22:16:16.508Z"
   },
   {
    "duration": 265,
    "start_time": "2024-08-31T22:16:16.891Z"
   },
   {
    "duration": 981,
    "start_time": "2024-08-31T22:16:17.158Z"
   },
   {
    "duration": 767,
    "start_time": "2024-08-31T22:16:18.140Z"
   },
   {
    "duration": 5,
    "start_time": "2024-08-31T22:16:18.909Z"
   },
   {
    "duration": 563,
    "start_time": "2024-08-31T22:16:18.917Z"
   },
   {
    "duration": 1622,
    "start_time": "2024-08-31T22:16:19.484Z"
   },
   {
    "duration": 117,
    "start_time": "2024-08-31T22:16:21.108Z"
   },
   {
    "duration": 8,
    "start_time": "2024-08-31T22:18:29.424Z"
   },
   {
    "duration": 10,
    "start_time": "2024-08-31T22:18:30.930Z"
   },
   {
    "duration": 141,
    "start_time": "2024-08-31T22:22:55.396Z"
   },
   {
    "duration": 10,
    "start_time": "2024-08-31T22:23:02.628Z"
   },
   {
    "duration": 5,
    "start_time": "2024-08-31T22:23:53.673Z"
   },
   {
    "duration": 1431,
    "start_time": "2024-08-31T22:23:53.680Z"
   },
   {
    "duration": 73,
    "start_time": "2024-08-31T22:23:55.113Z"
   },
   {
    "duration": 13,
    "start_time": "2024-08-31T22:23:55.188Z"
   },
   {
    "duration": 8,
    "start_time": "2024-08-31T22:23:55.205Z"
   },
   {
    "duration": 19,
    "start_time": "2024-08-31T22:23:55.216Z"
   },
   {
    "duration": 18,
    "start_time": "2024-08-31T22:23:55.237Z"
   },
   {
    "duration": 476,
    "start_time": "2024-08-31T22:23:55.257Z"
   },
   {
    "duration": 287,
    "start_time": "2024-08-31T22:23:55.736Z"
   },
   {
    "duration": 1015,
    "start_time": "2024-08-31T22:23:56.026Z"
   },
   {
    "duration": 861,
    "start_time": "2024-08-31T22:23:57.044Z"
   },
   {
    "duration": 5,
    "start_time": "2024-08-31T22:23:57.907Z"
   },
   {
    "duration": 610,
    "start_time": "2024-08-31T22:23:57.913Z"
   },
   {
    "duration": 1891,
    "start_time": "2024-08-31T22:23:58.526Z"
   },
   {
    "duration": 207,
    "start_time": "2024-08-31T22:24:00.419Z"
   },
   {
    "duration": 9,
    "start_time": "2024-08-31T22:24:00.628Z"
   },
   {
    "duration": 16,
    "start_time": "2024-08-31T22:24:00.639Z"
   },
   {
    "duration": 148,
    "start_time": "2024-08-31T22:24:00.657Z"
   },
   {
    "duration": 0,
    "start_time": "2024-08-31T22:24:00.807Z"
   },
   {
    "duration": 3,
    "start_time": "2024-08-31T22:24:36.987Z"
   },
   {
    "duration": 1403,
    "start_time": "2024-08-31T22:24:36.993Z"
   },
   {
    "duration": 68,
    "start_time": "2024-08-31T22:24:38.398Z"
   },
   {
    "duration": 13,
    "start_time": "2024-08-31T22:24:38.468Z"
   },
   {
    "duration": 6,
    "start_time": "2024-08-31T22:24:38.482Z"
   },
   {
    "duration": 16,
    "start_time": "2024-08-31T22:24:38.490Z"
   },
   {
    "duration": 12,
    "start_time": "2024-08-31T22:24:38.507Z"
   },
   {
    "duration": 385,
    "start_time": "2024-08-31T22:24:38.520Z"
   },
   {
    "duration": 302,
    "start_time": "2024-08-31T22:24:38.908Z"
   },
   {
    "duration": 943,
    "start_time": "2024-08-31T22:24:39.213Z"
   },
   {
    "duration": 754,
    "start_time": "2024-08-31T22:24:40.158Z"
   },
   {
    "duration": 5,
    "start_time": "2024-08-31T22:24:40.914Z"
   },
   {
    "duration": 541,
    "start_time": "2024-08-31T22:24:40.921Z"
   },
   {
    "duration": 1746,
    "start_time": "2024-08-31T22:24:41.464Z"
   },
   {
    "duration": 204,
    "start_time": "2024-08-31T22:24:43.212Z"
   },
   {
    "duration": 7,
    "start_time": "2024-08-31T22:24:43.418Z"
   },
   {
    "duration": 30,
    "start_time": "2024-08-31T22:24:43.427Z"
   },
   {
    "duration": 198,
    "start_time": "2024-08-31T22:24:43.459Z"
   },
   {
    "duration": 0,
    "start_time": "2024-08-31T22:24:43.659Z"
   },
   {
    "duration": 16,
    "start_time": "2024-08-31T22:27:02.942Z"
   },
   {
    "duration": 3,
    "start_time": "2024-08-31T22:27:07.498Z"
   },
   {
    "duration": 1428,
    "start_time": "2024-08-31T22:27:07.503Z"
   },
   {
    "duration": 70,
    "start_time": "2024-08-31T22:27:08.933Z"
   },
   {
    "duration": 14,
    "start_time": "2024-08-31T22:27:09.005Z"
   },
   {
    "duration": 20,
    "start_time": "2024-08-31T22:27:09.021Z"
   },
   {
    "duration": 29,
    "start_time": "2024-08-31T22:27:09.043Z"
   },
   {
    "duration": 95,
    "start_time": "2024-08-31T22:27:09.075Z"
   },
   {
    "duration": 365,
    "start_time": "2024-08-31T22:27:09.172Z"
   },
   {
    "duration": 276,
    "start_time": "2024-08-31T22:27:09.539Z"
   },
   {
    "duration": 919,
    "start_time": "2024-08-31T22:27:09.817Z"
   },
   {
    "duration": 794,
    "start_time": "2024-08-31T22:27:10.738Z"
   },
   {
    "duration": 5,
    "start_time": "2024-08-31T22:27:11.533Z"
   },
   {
    "duration": 557,
    "start_time": "2024-08-31T22:27:11.540Z"
   },
   {
    "duration": 1710,
    "start_time": "2024-08-31T22:27:12.104Z"
   },
   {
    "duration": 115,
    "start_time": "2024-08-31T22:27:13.907Z"
   },
   {
    "duration": 9,
    "start_time": "2024-08-31T22:27:14.024Z"
   },
   {
    "duration": 32,
    "start_time": "2024-08-31T22:27:14.035Z"
   },
   {
    "duration": 410,
    "start_time": "2024-08-31T22:27:14.069Z"
   },
   {
    "duration": 133,
    "start_time": "2024-08-31T22:27:14.480Z"
   },
   {
    "duration": 4,
    "start_time": "2024-08-31T22:27:34.256Z"
   },
   {
    "duration": 1398,
    "start_time": "2024-08-31T22:27:34.262Z"
   },
   {
    "duration": 70,
    "start_time": "2024-08-31T22:27:35.661Z"
   },
   {
    "duration": 13,
    "start_time": "2024-08-31T22:27:35.732Z"
   },
   {
    "duration": 5,
    "start_time": "2024-08-31T22:27:35.747Z"
   },
   {
    "duration": 15,
    "start_time": "2024-08-31T22:27:35.754Z"
   },
   {
    "duration": 36,
    "start_time": "2024-08-31T22:27:35.770Z"
   },
   {
    "duration": 369,
    "start_time": "2024-08-31T22:27:35.808Z"
   },
   {
    "duration": 269,
    "start_time": "2024-08-31T22:27:36.179Z"
   },
   {
    "duration": 941,
    "start_time": "2024-08-31T22:27:36.450Z"
   },
   {
    "duration": 788,
    "start_time": "2024-08-31T22:27:37.393Z"
   },
   {
    "duration": 5,
    "start_time": "2024-08-31T22:27:38.182Z"
   },
   {
    "duration": 569,
    "start_time": "2024-08-31T22:27:38.189Z"
   },
   {
    "duration": 1545,
    "start_time": "2024-08-31T22:27:38.761Z"
   },
   {
    "duration": 113,
    "start_time": "2024-08-31T22:27:40.309Z"
   },
   {
    "duration": 7,
    "start_time": "2024-08-31T22:27:40.423Z"
   },
   {
    "duration": 9,
    "start_time": "2024-08-31T22:27:40.431Z"
   },
   {
    "duration": 390,
    "start_time": "2024-08-31T22:27:40.442Z"
   },
   {
    "duration": 18,
    "start_time": "2024-08-31T22:27:40.833Z"
   },
   {
    "duration": 1049,
    "start_time": "2024-08-31T22:28:37.661Z"
   },
   {
    "duration": 936,
    "start_time": "2024-08-31T22:30:14.286Z"
   },
   {
    "duration": 9,
    "start_time": "2024-08-31T22:32:21.447Z"
   },
   {
    "duration": 1499,
    "start_time": "2024-08-31T22:32:21.458Z"
   },
   {
    "duration": 73,
    "start_time": "2024-08-31T22:32:22.959Z"
   },
   {
    "duration": 14,
    "start_time": "2024-08-31T22:32:23.035Z"
   },
   {
    "duration": 18,
    "start_time": "2024-08-31T22:32:23.051Z"
   },
   {
    "duration": 14,
    "start_time": "2024-08-31T22:32:23.071Z"
   },
   {
    "duration": 66,
    "start_time": "2024-08-31T22:32:23.087Z"
   },
   {
    "duration": 350,
    "start_time": "2024-08-31T22:32:23.155Z"
   },
   {
    "duration": 267,
    "start_time": "2024-08-31T22:32:23.508Z"
   },
   {
    "duration": 982,
    "start_time": "2024-08-31T22:32:23.779Z"
   },
   {
    "duration": 775,
    "start_time": "2024-08-31T22:32:24.763Z"
   },
   {
    "duration": 4,
    "start_time": "2024-08-31T22:32:25.540Z"
   },
   {
    "duration": 543,
    "start_time": "2024-08-31T22:32:25.545Z"
   },
   {
    "duration": 1818,
    "start_time": "2024-08-31T22:32:26.090Z"
   },
   {
    "duration": 111,
    "start_time": "2024-08-31T22:32:27.910Z"
   },
   {
    "duration": 8,
    "start_time": "2024-08-31T22:32:28.022Z"
   },
   {
    "duration": 146,
    "start_time": "2024-08-31T22:32:28.031Z"
   },
   {
    "duration": 0,
    "start_time": "2024-08-31T22:32:28.179Z"
   },
   {
    "duration": 0,
    "start_time": "2024-08-31T22:32:28.180Z"
   },
   {
    "duration": 0,
    "start_time": "2024-08-31T22:32:28.182Z"
   },
   {
    "duration": 4,
    "start_time": "2024-08-31T22:33:02.183Z"
   },
   {
    "duration": 1410,
    "start_time": "2024-08-31T22:33:02.189Z"
   },
   {
    "duration": 69,
    "start_time": "2024-08-31T22:33:03.600Z"
   },
   {
    "duration": 14,
    "start_time": "2024-08-31T22:33:03.671Z"
   },
   {
    "duration": 5,
    "start_time": "2024-08-31T22:33:03.686Z"
   },
   {
    "duration": 19,
    "start_time": "2024-08-31T22:33:03.692Z"
   },
   {
    "duration": 12,
    "start_time": "2024-08-31T22:33:03.713Z"
   },
   {
    "duration": 366,
    "start_time": "2024-08-31T22:33:03.727Z"
   },
   {
    "duration": 273,
    "start_time": "2024-08-31T22:33:04.096Z"
   },
   {
    "duration": 913,
    "start_time": "2024-08-31T22:33:04.371Z"
   },
   {
    "duration": 832,
    "start_time": "2024-08-31T22:33:05.286Z"
   },
   {
    "duration": 3,
    "start_time": "2024-08-31T22:33:06.120Z"
   },
   {
    "duration": 515,
    "start_time": "2024-08-31T22:33:06.125Z"
   },
   {
    "duration": 2274,
    "start_time": "2024-08-31T22:33:06.641Z"
   },
   {
    "duration": 110,
    "start_time": "2024-08-31T22:33:09.012Z"
   },
   {
    "duration": 31,
    "start_time": "2024-08-31T22:33:09.124Z"
   },
   {
    "duration": 129,
    "start_time": "2024-08-31T22:33:09.156Z"
   },
   {
    "duration": 0,
    "start_time": "2024-08-31T22:33:09.287Z"
   },
   {
    "duration": 0,
    "start_time": "2024-08-31T22:33:09.289Z"
   },
   {
    "duration": 0,
    "start_time": "2024-08-31T22:33:09.290Z"
   },
   {
    "duration": 3,
    "start_time": "2024-08-31T22:33:23.827Z"
   },
   {
    "duration": 1404,
    "start_time": "2024-08-31T22:33:23.833Z"
   },
   {
    "duration": 67,
    "start_time": "2024-08-31T22:33:25.239Z"
   },
   {
    "duration": 12,
    "start_time": "2024-08-31T22:33:25.308Z"
   },
   {
    "duration": 4,
    "start_time": "2024-08-31T22:33:25.322Z"
   },
   {
    "duration": 14,
    "start_time": "2024-08-31T22:33:25.328Z"
   },
   {
    "duration": 12,
    "start_time": "2024-08-31T22:33:25.343Z"
   },
   {
    "duration": 356,
    "start_time": "2024-08-31T22:33:25.357Z"
   },
   {
    "duration": 256,
    "start_time": "2024-08-31T22:33:25.715Z"
   },
   {
    "duration": 961,
    "start_time": "2024-08-31T22:33:25.973Z"
   },
   {
    "duration": 742,
    "start_time": "2024-08-31T22:33:26.936Z"
   },
   {
    "duration": 5,
    "start_time": "2024-08-31T22:33:27.679Z"
   },
   {
    "duration": 569,
    "start_time": "2024-08-31T22:33:27.685Z"
   },
   {
    "duration": 1651,
    "start_time": "2024-08-31T22:33:28.257Z"
   },
   {
    "duration": 203,
    "start_time": "2024-08-31T22:33:29.911Z"
   },
   {
    "duration": 15,
    "start_time": "2024-08-31T22:33:30.116Z"
   },
   {
    "duration": 24,
    "start_time": "2024-08-31T22:33:30.132Z"
   },
   {
    "duration": 1225,
    "start_time": "2024-08-31T22:33:30.158Z"
   },
   {
    "duration": 0,
    "start_time": "2024-08-31T22:33:31.385Z"
   },
   {
    "duration": 0,
    "start_time": "2024-08-31T22:33:31.387Z"
   },
   {
    "duration": 3751,
    "start_time": "2024-08-31T22:34:20.794Z"
   },
   {
    "duration": 355,
    "start_time": "2024-08-31T22:34:28.832Z"
   },
   {
    "duration": 16,
    "start_time": "2024-08-31T22:34:30.604Z"
   },
   {
    "duration": 10,
    "start_time": "2024-08-31T22:35:57.709Z"
   },
   {
    "duration": 3,
    "start_time": "2024-08-31T22:38:05.496Z"
   },
   {
    "duration": 1469,
    "start_time": "2024-08-31T22:38:05.501Z"
   },
   {
    "duration": 71,
    "start_time": "2024-08-31T22:38:06.971Z"
   },
   {
    "duration": 14,
    "start_time": "2024-08-31T22:38:07.044Z"
   },
   {
    "duration": 9,
    "start_time": "2024-08-31T22:38:07.060Z"
   },
   {
    "duration": 36,
    "start_time": "2024-08-31T22:38:07.070Z"
   },
   {
    "duration": 14,
    "start_time": "2024-08-31T22:38:07.108Z"
   },
   {
    "duration": 401,
    "start_time": "2024-08-31T22:38:07.124Z"
   },
   {
    "duration": 274,
    "start_time": "2024-08-31T22:38:07.528Z"
   },
   {
    "duration": 972,
    "start_time": "2024-08-31T22:38:07.804Z"
   },
   {
    "duration": 807,
    "start_time": "2024-08-31T22:38:08.777Z"
   },
   {
    "duration": 18,
    "start_time": "2024-08-31T22:38:09.587Z"
   },
   {
    "duration": 551,
    "start_time": "2024-08-31T22:38:09.608Z"
   },
   {
    "duration": 2247,
    "start_time": "2024-08-31T22:38:10.161Z"
   },
   {
    "duration": 210,
    "start_time": "2024-08-31T22:38:12.411Z"
   },
   {
    "duration": 7,
    "start_time": "2024-08-31T22:38:12.623Z"
   },
   {
    "duration": 8,
    "start_time": "2024-08-31T22:38:12.631Z"
   },
   {
    "duration": 3655,
    "start_time": "2024-08-31T22:38:12.641Z"
   },
   {
    "duration": 374,
    "start_time": "2024-08-31T22:38:16.298Z"
   },
   {
    "duration": 15,
    "start_time": "2024-08-31T22:38:16.673Z"
   },
   {
    "duration": 19,
    "start_time": "2024-08-31T22:38:16.690Z"
   },
   {
    "duration": 130,
    "start_time": "2024-08-31T22:54:34.399Z"
   },
   {
    "duration": 1448,
    "start_time": "2024-08-31T22:54:57.876Z"
   },
   {
    "duration": 4,
    "start_time": "2024-08-31T22:55:15.093Z"
   },
   {
    "duration": 16,
    "start_time": "2024-08-31T23:00:15.088Z"
   },
   {
    "duration": 4,
    "start_time": "2024-08-31T23:00:37.254Z"
   },
   {
    "duration": 1483,
    "start_time": "2024-08-31T23:00:37.259Z"
   },
   {
    "duration": 68,
    "start_time": "2024-08-31T23:00:38.743Z"
   },
   {
    "duration": 15,
    "start_time": "2024-08-31T23:00:38.813Z"
   },
   {
    "duration": 10,
    "start_time": "2024-08-31T23:00:38.830Z"
   },
   {
    "duration": 26,
    "start_time": "2024-08-31T23:00:38.841Z"
   },
   {
    "duration": 18,
    "start_time": "2024-08-31T23:00:38.869Z"
   },
   {
    "duration": 356,
    "start_time": "2024-08-31T23:00:38.889Z"
   },
   {
    "duration": 277,
    "start_time": "2024-08-31T23:00:39.248Z"
   },
   {
    "duration": 962,
    "start_time": "2024-08-31T23:00:39.527Z"
   },
   {
    "duration": 827,
    "start_time": "2024-08-31T23:00:40.491Z"
   },
   {
    "duration": 4,
    "start_time": "2024-08-31T23:00:41.320Z"
   },
   {
    "duration": 552,
    "start_time": "2024-08-31T23:00:41.326Z"
   },
   {
    "duration": 1731,
    "start_time": "2024-08-31T23:00:41.879Z"
   },
   {
    "duration": 198,
    "start_time": "2024-08-31T23:00:43.612Z"
   },
   {
    "duration": 7,
    "start_time": "2024-08-31T23:00:43.811Z"
   },
   {
    "duration": 6,
    "start_time": "2024-08-31T23:00:43.820Z"
   },
   {
    "duration": 3536,
    "start_time": "2024-08-31T23:00:43.828Z"
   },
   {
    "duration": 1541,
    "start_time": "2024-08-31T23:00:47.365Z"
   },
   {
    "duration": 398,
    "start_time": "2024-08-31T23:00:48.908Z"
   },
   {
    "duration": 22,
    "start_time": "2024-08-31T23:00:49.308Z"
   },
   {
    "duration": 13,
    "start_time": "2024-08-31T23:00:49.332Z"
   },
   {
    "duration": 64,
    "start_time": "2024-08-31T23:00:49.348Z"
   },
   {
    "duration": 10,
    "start_time": "2024-08-31T23:01:35.250Z"
   },
   {
    "duration": 9,
    "start_time": "2024-08-31T23:01:41.846Z"
   },
   {
    "duration": 9,
    "start_time": "2024-08-31T23:02:04.846Z"
   },
   {
    "duration": 4,
    "start_time": "2024-08-31T23:06:56.609Z"
   },
   {
    "duration": 1389,
    "start_time": "2024-08-31T23:06:56.614Z"
   },
   {
    "duration": 69,
    "start_time": "2024-08-31T23:06:58.004Z"
   },
   {
    "duration": 14,
    "start_time": "2024-08-31T23:06:58.075Z"
   },
   {
    "duration": 70,
    "start_time": "2024-08-31T23:06:58.091Z"
   },
   {
    "duration": 23,
    "start_time": "2024-08-31T23:06:58.163Z"
   },
   {
    "duration": 16,
    "start_time": "2024-08-31T23:06:58.187Z"
   },
   {
    "duration": 369,
    "start_time": "2024-08-31T23:06:58.204Z"
   },
   {
    "duration": 268,
    "start_time": "2024-08-31T23:06:58.575Z"
   },
   {
    "duration": 930,
    "start_time": "2024-08-31T23:06:58.847Z"
   },
   {
    "duration": 803,
    "start_time": "2024-08-31T23:06:59.779Z"
   },
   {
    "duration": 5,
    "start_time": "2024-08-31T23:07:00.584Z"
   },
   {
    "duration": 547,
    "start_time": "2024-08-31T23:07:00.591Z"
   },
   {
    "duration": 1773,
    "start_time": "2024-08-31T23:07:01.139Z"
   },
   {
    "duration": 196,
    "start_time": "2024-08-31T23:07:02.914Z"
   },
   {
    "duration": 22,
    "start_time": "2024-08-31T23:07:03.113Z"
   },
   {
    "duration": 32,
    "start_time": "2024-08-31T23:07:03.137Z"
   },
   {
    "duration": 3502,
    "start_time": "2024-08-31T23:07:03.171Z"
   },
   {
    "duration": 10033,
    "start_time": "2024-08-31T23:07:06.675Z"
   },
   {
    "duration": 420,
    "start_time": "2024-08-31T23:07:16.710Z"
   },
   {
    "duration": 14,
    "start_time": "2024-08-31T23:07:17.132Z"
   },
   {
    "duration": 89,
    "start_time": "2024-08-31T23:07:17.148Z"
   },
   {
    "duration": 48,
    "start_time": "2024-08-31T23:07:17.239Z"
   },
   {
    "duration": 190,
    "start_time": "2024-08-31T23:10:02.193Z"
   },
   {
    "duration": 225,
    "start_time": "2024-08-31T23:10:10.419Z"
   },
   {
    "duration": 381,
    "start_time": "2024-08-31T23:12:10.238Z"
   },
   {
    "duration": 3,
    "start_time": "2024-08-31T23:14:03.483Z"
   },
   {
    "duration": 1463,
    "start_time": "2024-08-31T23:14:03.488Z"
   },
   {
    "duration": 69,
    "start_time": "2024-08-31T23:14:04.953Z"
   },
   {
    "duration": 13,
    "start_time": "2024-08-31T23:14:05.025Z"
   },
   {
    "duration": 24,
    "start_time": "2024-08-31T23:14:05.040Z"
   },
   {
    "duration": 14,
    "start_time": "2024-08-31T23:14:05.065Z"
   },
   {
    "duration": 14,
    "start_time": "2024-08-31T23:14:05.081Z"
   },
   {
    "duration": 416,
    "start_time": "2024-08-31T23:14:05.097Z"
   },
   {
    "duration": 302,
    "start_time": "2024-08-31T23:14:05.515Z"
   },
   {
    "duration": 926,
    "start_time": "2024-08-31T23:14:05.820Z"
   },
   {
    "duration": 833,
    "start_time": "2024-08-31T23:14:06.748Z"
   },
   {
    "duration": 4,
    "start_time": "2024-08-31T23:14:07.583Z"
   },
   {
    "duration": 552,
    "start_time": "2024-08-31T23:14:07.589Z"
   },
   {
    "duration": 1986,
    "start_time": "2024-08-31T23:14:08.142Z"
   },
   {
    "duration": 108,
    "start_time": "2024-08-31T23:14:10.208Z"
   },
   {
    "duration": 8,
    "start_time": "2024-08-31T23:14:10.318Z"
   },
   {
    "duration": 77,
    "start_time": "2024-08-31T23:14:10.328Z"
   },
   {
    "duration": 3326,
    "start_time": "2024-08-31T23:14:10.407Z"
   },
   {
    "duration": 1180,
    "start_time": "2024-08-31T23:14:13.734Z"
   },
   {
    "duration": 433,
    "start_time": "2024-08-31T23:14:14.916Z"
   },
   {
    "duration": 16,
    "start_time": "2024-08-31T23:14:15.351Z"
   },
   {
    "duration": 10,
    "start_time": "2024-08-31T23:14:15.369Z"
   },
   {
    "duration": 343,
    "start_time": "2024-08-31T23:14:15.380Z"
   },
   {
    "duration": 0,
    "start_time": "2024-08-31T23:14:15.724Z"
   },
   {
    "duration": 0,
    "start_time": "2024-08-31T23:14:15.726Z"
   },
   {
    "duration": 3,
    "start_time": "2024-08-31T23:15:25.760Z"
   },
   {
    "duration": 1450,
    "start_time": "2024-08-31T23:15:25.765Z"
   },
   {
    "duration": 68,
    "start_time": "2024-08-31T23:15:27.217Z"
   },
   {
    "duration": 14,
    "start_time": "2024-08-31T23:15:27.287Z"
   },
   {
    "duration": 11,
    "start_time": "2024-08-31T23:15:27.302Z"
   },
   {
    "duration": 20,
    "start_time": "2024-08-31T23:15:27.315Z"
   },
   {
    "duration": 12,
    "start_time": "2024-08-31T23:15:27.337Z"
   },
   {
    "duration": 347,
    "start_time": "2024-08-31T23:15:27.350Z"
   },
   {
    "duration": 274,
    "start_time": "2024-08-31T23:15:27.699Z"
   },
   {
    "duration": 967,
    "start_time": "2024-08-31T23:15:27.976Z"
   },
   {
    "duration": 776,
    "start_time": "2024-08-31T23:15:28.945Z"
   },
   {
    "duration": 4,
    "start_time": "2024-08-31T23:15:29.723Z"
   },
   {
    "duration": 547,
    "start_time": "2024-08-31T23:15:29.729Z"
   },
   {
    "duration": 1733,
    "start_time": "2024-08-31T23:15:30.277Z"
   },
   {
    "duration": 203,
    "start_time": "2024-08-31T23:15:32.012Z"
   },
   {
    "duration": 38,
    "start_time": "2024-08-31T23:15:32.216Z"
   },
   {
    "duration": 19,
    "start_time": "2024-08-31T23:15:32.255Z"
   },
   {
    "duration": 3398,
    "start_time": "2024-08-31T23:15:32.276Z"
   },
   {
    "duration": 5330,
    "start_time": "2024-08-31T23:15:35.676Z"
   },
   {
    "duration": 435,
    "start_time": "2024-08-31T23:15:41.009Z"
   },
   {
    "duration": 15,
    "start_time": "2024-08-31T23:15:41.446Z"
   },
   {
    "duration": 8,
    "start_time": "2024-08-31T23:15:41.463Z"
   },
   {
    "duration": 345,
    "start_time": "2024-08-31T23:15:41.473Z"
   },
   {
    "duration": 19,
    "start_time": "2024-08-31T23:15:41.819Z"
   },
   {
    "duration": 361,
    "start_time": "2024-08-31T23:15:41.840Z"
   },
   {
    "duration": 376,
    "start_time": "2024-08-31T23:15:58.893Z"
   },
   {
    "duration": 929,
    "start_time": "2024-08-31T23:17:21.589Z"
   },
   {
    "duration": 311,
    "start_time": "2024-08-31T23:18:10.102Z"
   },
   {
    "duration": 247,
    "start_time": "2024-08-31T23:19:19.692Z"
   },
   {
    "duration": 4,
    "start_time": "2024-08-31T23:19:45.505Z"
   },
   {
    "duration": 1453,
    "start_time": "2024-08-31T23:19:45.511Z"
   },
   {
    "duration": 67,
    "start_time": "2024-08-31T23:19:46.966Z"
   },
   {
    "duration": 13,
    "start_time": "2024-08-31T23:19:47.035Z"
   },
   {
    "duration": 30,
    "start_time": "2024-08-31T23:19:47.050Z"
   },
   {
    "duration": 23,
    "start_time": "2024-08-31T23:19:47.082Z"
   },
   {
    "duration": 14,
    "start_time": "2024-08-31T23:19:47.108Z"
   },
   {
    "duration": 370,
    "start_time": "2024-08-31T23:19:47.123Z"
   },
   {
    "duration": 278,
    "start_time": "2024-08-31T23:19:47.495Z"
   },
   {
    "duration": 985,
    "start_time": "2024-08-31T23:19:47.775Z"
   },
   {
    "duration": 797,
    "start_time": "2024-08-31T23:19:48.762Z"
   },
   {
    "duration": 5,
    "start_time": "2024-08-31T23:19:49.561Z"
   },
   {
    "duration": 590,
    "start_time": "2024-08-31T23:19:49.568Z"
   },
   {
    "duration": 1754,
    "start_time": "2024-08-31T23:19:50.161Z"
   },
   {
    "duration": 108,
    "start_time": "2024-08-31T23:19:52.005Z"
   },
   {
    "duration": 9,
    "start_time": "2024-08-31T23:19:52.116Z"
   },
   {
    "duration": 71,
    "start_time": "2024-08-31T23:19:52.127Z"
   },
   {
    "duration": 3564,
    "start_time": "2024-08-31T23:19:52.200Z"
   },
   {
    "duration": 11448,
    "start_time": "2024-08-31T23:19:55.766Z"
   },
   {
    "duration": 442,
    "start_time": "2024-08-31T23:20:07.216Z"
   },
   {
    "duration": 15,
    "start_time": "2024-08-31T23:20:07.659Z"
   },
   {
    "duration": 29,
    "start_time": "2024-08-31T23:20:07.676Z"
   },
   {
    "duration": 965,
    "start_time": "2024-08-31T23:20:07.707Z"
   },
   {
    "duration": 39,
    "start_time": "2024-08-31T23:20:08.674Z"
   },
   {
    "duration": 430,
    "start_time": "2024-08-31T23:20:08.715Z"
   },
   {
    "duration": 6,
    "start_time": "2024-08-31T23:37:56.920Z"
   },
   {
    "duration": 1391,
    "start_time": "2024-08-31T23:37:56.928Z"
   },
   {
    "duration": 71,
    "start_time": "2024-08-31T23:37:58.321Z"
   },
   {
    "duration": 15,
    "start_time": "2024-08-31T23:37:58.395Z"
   },
   {
    "duration": 8,
    "start_time": "2024-08-31T23:37:58.412Z"
   },
   {
    "duration": 17,
    "start_time": "2024-08-31T23:37:58.421Z"
   },
   {
    "duration": 12,
    "start_time": "2024-08-31T23:37:58.440Z"
   },
   {
    "duration": 379,
    "start_time": "2024-08-31T23:37:58.454Z"
   },
   {
    "duration": 267,
    "start_time": "2024-08-31T23:37:58.835Z"
   },
   {
    "duration": 974,
    "start_time": "2024-08-31T23:37:59.107Z"
   },
   {
    "duration": 801,
    "start_time": "2024-08-31T23:38:00.083Z"
   },
   {
    "duration": 5,
    "start_time": "2024-08-31T23:38:00.885Z"
   },
   {
    "duration": 553,
    "start_time": "2024-08-31T23:38:00.891Z"
   },
   {
    "duration": 1867,
    "start_time": "2024-08-31T23:38:01.445Z"
   },
   {
    "duration": 197,
    "start_time": "2024-08-31T23:38:03.314Z"
   },
   {
    "duration": 9,
    "start_time": "2024-08-31T23:38:03.512Z"
   },
   {
    "duration": 9,
    "start_time": "2024-08-31T23:38:03.523Z"
   },
   {
    "duration": 3462,
    "start_time": "2024-08-31T23:38:03.533Z"
   },
   {
    "duration": 912,
    "start_time": "2024-08-31T23:38:06.998Z"
   },
   {
    "duration": 418,
    "start_time": "2024-08-31T23:38:07.912Z"
   },
   {
    "duration": 17,
    "start_time": "2024-08-31T23:38:08.331Z"
   },
   {
    "duration": 21,
    "start_time": "2024-08-31T23:38:08.349Z"
   },
   {
    "duration": 938,
    "start_time": "2024-08-31T23:38:08.372Z"
   },
   {
    "duration": 19,
    "start_time": "2024-08-31T23:38:09.312Z"
   },
   {
    "duration": 390,
    "start_time": "2024-08-31T23:38:09.333Z"
   },
   {
    "duration": 52,
    "start_time": "2024-09-01T08:59:09.482Z"
   },
   {
    "duration": 3,
    "start_time": "2024-09-01T08:59:23.179Z"
   },
   {
    "duration": 1645,
    "start_time": "2024-09-01T08:59:23.186Z"
   },
   {
    "duration": 176,
    "start_time": "2024-09-01T08:59:24.834Z"
   },
   {
    "duration": 10,
    "start_time": "2024-09-01T08:59:25.012Z"
   },
   {
    "duration": 4,
    "start_time": "2024-09-01T08:59:25.024Z"
   },
   {
    "duration": 12,
    "start_time": "2024-09-01T08:59:25.030Z"
   },
   {
    "duration": 15,
    "start_time": "2024-09-01T08:59:25.044Z"
   },
   {
    "duration": 340,
    "start_time": "2024-09-01T08:59:25.061Z"
   },
   {
    "duration": 322,
    "start_time": "2024-09-01T08:59:25.403Z"
   },
   {
    "duration": 881,
    "start_time": "2024-09-01T08:59:25.727Z"
   },
   {
    "duration": 730,
    "start_time": "2024-09-01T08:59:26.610Z"
   },
   {
    "duration": 12,
    "start_time": "2024-09-01T08:59:27.341Z"
   },
   {
    "duration": 524,
    "start_time": "2024-09-01T08:59:27.355Z"
   },
   {
    "duration": 1979,
    "start_time": "2024-09-01T08:59:27.880Z"
   },
   {
    "duration": 103,
    "start_time": "2024-09-01T08:59:29.865Z"
   },
   {
    "duration": 8,
    "start_time": "2024-09-01T08:59:29.970Z"
   },
   {
    "duration": 7,
    "start_time": "2024-09-01T08:59:29.979Z"
   },
   {
    "duration": 3206,
    "start_time": "2024-09-01T08:59:29.988Z"
   },
   {
    "duration": 863,
    "start_time": "2024-09-01T08:59:33.195Z"
   },
   {
    "duration": 349,
    "start_time": "2024-09-01T08:59:34.060Z"
   },
   {
    "duration": 14,
    "start_time": "2024-09-01T08:59:34.410Z"
   },
   {
    "duration": 6912,
    "start_time": "2024-09-01T08:59:34.425Z"
   },
   {
    "duration": 12997,
    "start_time": "2024-09-01T09:01:13.308Z"
   },
   {
    "duration": 9253,
    "start_time": "2024-09-01T09:02:16.461Z"
   },
   {
    "duration": 18,
    "start_time": "2024-09-01T09:04:21.552Z"
   },
   {
    "duration": 10166,
    "start_time": "2024-09-01T09:12:49.746Z"
   },
   {
    "duration": 10847,
    "start_time": "2024-09-01T09:15:46.669Z"
   },
   {
    "duration": 7,
    "start_time": "2024-09-01T09:18:02.491Z"
   },
   {
    "duration": 14,
    "start_time": "2024-09-01T09:21:21.251Z"
   },
   {
    "duration": 14,
    "start_time": "2024-09-01T09:21:29.361Z"
   },
   {
    "duration": 3,
    "start_time": "2024-09-01T09:21:52.763Z"
   },
   {
    "duration": 1453,
    "start_time": "2024-09-01T09:21:52.768Z"
   },
   {
    "duration": 64,
    "start_time": "2024-09-01T09:21:54.222Z"
   },
   {
    "duration": 11,
    "start_time": "2024-09-01T09:21:54.288Z"
   },
   {
    "duration": 4,
    "start_time": "2024-09-01T09:21:54.300Z"
   },
   {
    "duration": 17,
    "start_time": "2024-09-01T09:21:54.306Z"
   },
   {
    "duration": 32,
    "start_time": "2024-09-01T09:21:54.325Z"
   },
   {
    "duration": 339,
    "start_time": "2024-09-01T09:21:54.358Z"
   },
   {
    "duration": 327,
    "start_time": "2024-09-01T09:21:54.698Z"
   },
   {
    "duration": 817,
    "start_time": "2024-09-01T09:21:55.027Z"
   },
   {
    "duration": 714,
    "start_time": "2024-09-01T09:21:55.845Z"
   },
   {
    "duration": 4,
    "start_time": "2024-09-01T09:21:56.560Z"
   },
   {
    "duration": 516,
    "start_time": "2024-09-01T09:21:56.565Z"
   },
   {
    "duration": 1878,
    "start_time": "2024-09-01T09:21:57.083Z"
   },
   {
    "duration": 107,
    "start_time": "2024-09-01T09:21:59.053Z"
   },
   {
    "duration": 6,
    "start_time": "2024-09-01T09:21:59.162Z"
   },
   {
    "duration": 6,
    "start_time": "2024-09-01T09:21:59.169Z"
   },
   {
    "duration": 3187,
    "start_time": "2024-09-01T09:21:59.177Z"
   },
   {
    "duration": 894,
    "start_time": "2024-09-01T09:22:02.366Z"
   },
   {
    "duration": 362,
    "start_time": "2024-09-01T09:22:03.261Z"
   },
   {
    "duration": 14,
    "start_time": "2024-09-01T09:22:03.625Z"
   },
   {
    "duration": 138,
    "start_time": "2024-09-01T09:22:03.651Z"
   },
   {
    "duration": 0,
    "start_time": "2024-09-01T09:22:03.790Z"
   },
   {
    "duration": 10457,
    "start_time": "2024-09-01T09:23:03.718Z"
   },
   {
    "duration": 15,
    "start_time": "2024-09-01T09:23:42.853Z"
   },
   {
    "duration": 814,
    "start_time": "2024-09-01T09:25:31.058Z"
   },
   {
    "duration": 197,
    "start_time": "2024-09-01T09:26:15.629Z"
   },
   {
    "duration": 3,
    "start_time": "2024-09-01T09:29:02.495Z"
   },
   {
    "duration": 1546,
    "start_time": "2024-09-01T09:29:02.500Z"
   },
   {
    "duration": 69,
    "start_time": "2024-09-01T09:29:04.048Z"
   },
   {
    "duration": 13,
    "start_time": "2024-09-01T09:29:04.119Z"
   },
   {
    "duration": 28,
    "start_time": "2024-09-01T09:29:04.134Z"
   },
   {
    "duration": 19,
    "start_time": "2024-09-01T09:29:04.163Z"
   },
   {
    "duration": 17,
    "start_time": "2024-09-01T09:29:04.184Z"
   },
   {
    "duration": 363,
    "start_time": "2024-09-01T09:29:04.202Z"
   },
   {
    "duration": 338,
    "start_time": "2024-09-01T09:29:04.567Z"
   },
   {
    "duration": 871,
    "start_time": "2024-09-01T09:29:04.907Z"
   },
   {
    "duration": 749,
    "start_time": "2024-09-01T09:29:05.781Z"
   },
   {
    "duration": 4,
    "start_time": "2024-09-01T09:29:06.532Z"
   },
   {
    "duration": 546,
    "start_time": "2024-09-01T09:29:06.538Z"
   },
   {
    "duration": 1973,
    "start_time": "2024-09-01T09:29:07.086Z"
   },
   {
    "duration": 107,
    "start_time": "2024-09-01T09:29:09.152Z"
   },
   {
    "duration": 6,
    "start_time": "2024-09-01T09:29:09.261Z"
   },
   {
    "duration": 24,
    "start_time": "2024-09-01T09:29:09.269Z"
   },
   {
    "duration": 3201,
    "start_time": "2024-09-01T09:29:09.294Z"
   },
   {
    "duration": 770,
    "start_time": "2024-09-01T09:29:12.497Z"
   },
   {
    "duration": 379,
    "start_time": "2024-09-01T09:29:13.268Z"
   },
   {
    "duration": 13,
    "start_time": "2024-09-01T09:29:13.649Z"
   },
   {
    "duration": 13308,
    "start_time": "2024-09-01T09:29:13.663Z"
   },
   {
    "duration": 3900,
    "start_time": "2024-09-01T09:29:26.973Z"
   },
   {
    "duration": 228,
    "start_time": "2024-09-01T09:29:30.875Z"
   },
   {
    "duration": 4,
    "start_time": "2024-09-01T09:53:05.597Z"
   },
   {
    "duration": 1560,
    "start_time": "2024-09-01T09:53:05.603Z"
   },
   {
    "duration": 67,
    "start_time": "2024-09-01T09:53:07.165Z"
   },
   {
    "duration": 12,
    "start_time": "2024-09-01T09:53:07.234Z"
   },
   {
    "duration": 20,
    "start_time": "2024-09-01T09:53:07.249Z"
   },
   {
    "duration": 16,
    "start_time": "2024-09-01T09:53:07.271Z"
   },
   {
    "duration": 12,
    "start_time": "2024-09-01T09:53:07.289Z"
   },
   {
    "duration": 398,
    "start_time": "2024-09-01T09:53:07.302Z"
   },
   {
    "duration": 344,
    "start_time": "2024-09-01T09:53:07.702Z"
   },
   {
    "duration": 841,
    "start_time": "2024-09-01T09:53:08.051Z"
   },
   {
    "duration": 745,
    "start_time": "2024-09-01T09:53:08.895Z"
   },
   {
    "duration": 10,
    "start_time": "2024-09-01T09:53:09.643Z"
   },
   {
    "duration": 534,
    "start_time": "2024-09-01T09:53:09.655Z"
   },
   {
    "duration": 1862,
    "start_time": "2024-09-01T09:53:10.191Z"
   },
   {
    "duration": 102,
    "start_time": "2024-09-01T09:53:12.061Z"
   },
   {
    "duration": 7,
    "start_time": "2024-09-01T09:53:12.164Z"
   },
   {
    "duration": 6,
    "start_time": "2024-09-01T09:53:12.172Z"
   },
   {
    "duration": 3345,
    "start_time": "2024-09-01T09:53:12.179Z"
   },
   {
    "duration": 1030,
    "start_time": "2024-09-01T09:53:15.525Z"
   },
   {
    "duration": 332,
    "start_time": "2024-09-01T09:53:16.557Z"
   },
   {
    "duration": 13,
    "start_time": "2024-09-01T09:53:16.891Z"
   },
   {
    "duration": 10732,
    "start_time": "2024-09-01T09:53:16.906Z"
   },
   {
    "duration": 739,
    "start_time": "2024-09-01T09:53:27.640Z"
   },
   {
    "duration": 212,
    "start_time": "2024-09-01T09:53:28.453Z"
   },
   {
    "duration": 3,
    "start_time": "2024-09-01T09:57:13.608Z"
   },
   {
    "duration": 1464,
    "start_time": "2024-09-01T09:57:13.613Z"
   },
   {
    "duration": 66,
    "start_time": "2024-09-01T09:57:15.079Z"
   },
   {
    "duration": 11,
    "start_time": "2024-09-01T09:57:15.147Z"
   },
   {
    "duration": 31,
    "start_time": "2024-09-01T09:57:15.159Z"
   },
   {
    "duration": 14,
    "start_time": "2024-09-01T09:57:15.192Z"
   },
   {
    "duration": 29,
    "start_time": "2024-09-01T09:57:15.208Z"
   },
   {
    "duration": 345,
    "start_time": "2024-09-01T09:57:15.239Z"
   },
   {
    "duration": 334,
    "start_time": "2024-09-01T09:57:15.587Z"
   },
   {
    "duration": 869,
    "start_time": "2024-09-01T09:57:15.923Z"
   },
   {
    "duration": 729,
    "start_time": "2024-09-01T09:57:16.794Z"
   },
   {
    "duration": 5,
    "start_time": "2024-09-01T09:57:17.525Z"
   },
   {
    "duration": 539,
    "start_time": "2024-09-01T09:57:17.532Z"
   },
   {
    "duration": 2087,
    "start_time": "2024-09-01T09:57:18.073Z"
   },
   {
    "duration": 191,
    "start_time": "2024-09-01T09:57:20.162Z"
   },
   {
    "duration": 7,
    "start_time": "2024-09-01T09:57:20.355Z"
   },
   {
    "duration": 8,
    "start_time": "2024-09-01T09:57:20.363Z"
   },
   {
    "duration": 3197,
    "start_time": "2024-09-01T09:57:20.373Z"
   },
   {
    "duration": 1984,
    "start_time": "2024-09-01T09:57:23.572Z"
   },
   {
    "duration": 310,
    "start_time": "2024-09-01T09:57:25.558Z"
   },
   {
    "duration": 13,
    "start_time": "2024-09-01T09:57:25.870Z"
   },
   {
    "duration": 11957,
    "start_time": "2024-09-01T09:57:25.885Z"
   },
   {
    "duration": 7025,
    "start_time": "2024-09-01T09:57:37.844Z"
   },
   {
    "duration": 224,
    "start_time": "2024-09-01T09:57:44.872Z"
   },
   {
    "duration": 4,
    "start_time": "2024-09-02T06:13:47.703Z"
   },
   {
    "duration": 1710,
    "start_time": "2024-09-02T06:13:47.709Z"
   },
   {
    "duration": 204,
    "start_time": "2024-09-02T06:13:49.421Z"
   },
   {
    "duration": 15,
    "start_time": "2024-09-02T06:13:49.628Z"
   },
   {
    "duration": 5,
    "start_time": "2024-09-02T06:13:49.645Z"
   },
   {
    "duration": 15,
    "start_time": "2024-09-02T06:13:49.652Z"
   },
   {
    "duration": 10,
    "start_time": "2024-09-02T06:13:49.669Z"
   },
   {
    "duration": 381,
    "start_time": "2024-09-02T06:13:49.681Z"
   },
   {
    "duration": 361,
    "start_time": "2024-09-02T06:13:50.064Z"
   },
   {
    "duration": 828,
    "start_time": "2024-09-02T06:13:50.427Z"
   },
   {
    "duration": 722,
    "start_time": "2024-09-02T06:13:51.257Z"
   },
   {
    "duration": 3,
    "start_time": "2024-09-02T06:13:51.981Z"
   },
   {
    "duration": 523,
    "start_time": "2024-09-02T06:13:51.986Z"
   },
   {
    "duration": 1727,
    "start_time": "2024-09-02T06:13:52.511Z"
   },
   {
    "duration": 108,
    "start_time": "2024-09-02T06:13:54.326Z"
   },
   {
    "duration": 7,
    "start_time": "2024-09-02T06:13:54.436Z"
   },
   {
    "duration": 6,
    "start_time": "2024-09-02T06:13:54.444Z"
   },
   {
    "duration": 3141,
    "start_time": "2024-09-02T06:13:54.452Z"
   },
   {
    "duration": 58039,
    "start_time": "2024-09-02T06:13:57.594Z"
   },
   {
    "duration": 371,
    "start_time": "2024-09-02T06:14:55.635Z"
   },
   {
    "duration": 24,
    "start_time": "2024-09-02T06:14:56.007Z"
   },
   {
    "duration": 120040,
    "start_time": "2024-09-02T06:14:56.033Z"
   },
   {
    "duration": 979,
    "start_time": "2024-09-02T06:16:56.075Z"
   },
   {
    "duration": 0,
    "start_time": "2024-09-02T06:16:57.056Z"
   },
   {
    "duration": 0,
    "start_time": "2024-09-02T06:16:57.057Z"
   },
   {
    "duration": 3088,
    "start_time": "2024-09-02T06:20:19.978Z"
   },
   {
    "duration": 226805,
    "start_time": "2024-09-02T06:20:29.523Z"
   },
   {
    "duration": 3,
    "start_time": "2024-09-02T06:29:17.131Z"
   },
   {
    "duration": 1388,
    "start_time": "2024-09-02T06:29:17.136Z"
   },
   {
    "duration": 69,
    "start_time": "2024-09-02T06:29:18.526Z"
   },
   {
    "duration": 11,
    "start_time": "2024-09-02T06:29:18.597Z"
   },
   {
    "duration": 5,
    "start_time": "2024-09-02T06:29:18.609Z"
   },
   {
    "duration": 17,
    "start_time": "2024-09-02T06:29:18.615Z"
   },
   {
    "duration": 11,
    "start_time": "2024-09-02T06:29:18.634Z"
   },
   {
    "duration": 336,
    "start_time": "2024-09-02T06:29:18.646Z"
   },
   {
    "duration": 349,
    "start_time": "2024-09-02T06:29:18.985Z"
   },
   {
    "duration": 826,
    "start_time": "2024-09-02T06:29:19.335Z"
   },
   {
    "duration": 747,
    "start_time": "2024-09-02T06:29:20.162Z"
   },
   {
    "duration": 4,
    "start_time": "2024-09-02T06:29:20.911Z"
   },
   {
    "duration": 533,
    "start_time": "2024-09-02T06:29:20.925Z"
   },
   {
    "duration": 1866,
    "start_time": "2024-09-02T06:29:21.460Z"
   },
   {
    "duration": 105,
    "start_time": "2024-09-02T06:29:23.333Z"
   },
   {
    "duration": 7,
    "start_time": "2024-09-02T06:29:23.439Z"
   },
   {
    "duration": 7,
    "start_time": "2024-09-02T06:29:23.448Z"
   },
   {
    "duration": 3235,
    "start_time": "2024-09-02T06:29:23.457Z"
   },
   {
    "duration": 57654,
    "start_time": "2024-09-02T06:29:26.694Z"
   },
   {
    "duration": 390,
    "start_time": "2024-09-02T06:30:24.349Z"
   },
   {
    "duration": 15,
    "start_time": "2024-09-02T06:30:24.740Z"
   },
   {
    "duration": 862,
    "start_time": "2024-09-02T06:30:24.756Z"
   },
   {
    "duration": 747,
    "start_time": "2024-09-02T06:30:43.650Z"
   },
   {
    "duration": 3,
    "start_time": "2024-09-02T06:30:58.980Z"
   },
   {
    "duration": 1475,
    "start_time": "2024-09-02T06:30:58.985Z"
   },
   {
    "duration": 71,
    "start_time": "2024-09-02T06:31:00.462Z"
   },
   {
    "duration": 12,
    "start_time": "2024-09-02T06:31:00.535Z"
   },
   {
    "duration": 4,
    "start_time": "2024-09-02T06:31:00.549Z"
   },
   {
    "duration": 15,
    "start_time": "2024-09-02T06:31:00.554Z"
   },
   {
    "duration": 10,
    "start_time": "2024-09-02T06:31:00.571Z"
   },
   {
    "duration": 343,
    "start_time": "2024-09-02T06:31:00.583Z"
   },
   {
    "duration": 319,
    "start_time": "2024-09-02T06:31:00.927Z"
   },
   {
    "duration": 785,
    "start_time": "2024-09-02T06:31:01.248Z"
   },
   {
    "duration": 726,
    "start_time": "2024-09-02T06:31:02.034Z"
   },
   {
    "duration": 4,
    "start_time": "2024-09-02T06:31:02.762Z"
   },
   {
    "duration": 509,
    "start_time": "2024-09-02T06:31:02.768Z"
   },
   {
    "duration": 1958,
    "start_time": "2024-09-02T06:31:03.278Z"
   },
   {
    "duration": 108,
    "start_time": "2024-09-02T06:31:05.326Z"
   },
   {
    "duration": 10,
    "start_time": "2024-09-02T06:31:05.436Z"
   },
   {
    "duration": 7,
    "start_time": "2024-09-02T06:31:05.447Z"
   },
   {
    "duration": 3526,
    "start_time": "2024-09-02T06:31:05.455Z"
   },
   {
    "duration": 0,
    "start_time": "2024-09-02T06:31:08.983Z"
   },
   {
    "duration": 0,
    "start_time": "2024-09-02T06:31:08.984Z"
   },
   {
    "duration": 0,
    "start_time": "2024-09-02T06:31:08.985Z"
   },
   {
    "duration": 0,
    "start_time": "2024-09-02T06:31:08.986Z"
   },
   {
    "duration": 4,
    "start_time": "2024-09-02T06:31:34.780Z"
   },
   {
    "duration": 1538,
    "start_time": "2024-09-02T06:31:34.786Z"
   },
   {
    "duration": 72,
    "start_time": "2024-09-02T06:31:36.326Z"
   },
   {
    "duration": 12,
    "start_time": "2024-09-02T06:31:36.400Z"
   },
   {
    "duration": 14,
    "start_time": "2024-09-02T06:31:36.413Z"
   },
   {
    "duration": 22,
    "start_time": "2024-09-02T06:31:36.428Z"
   },
   {
    "duration": 12,
    "start_time": "2024-09-02T06:31:36.451Z"
   },
   {
    "duration": 330,
    "start_time": "2024-09-02T06:31:36.464Z"
   },
   {
    "duration": 330,
    "start_time": "2024-09-02T06:31:36.796Z"
   },
   {
    "duration": 783,
    "start_time": "2024-09-02T06:31:37.127Z"
   },
   {
    "duration": 649,
    "start_time": "2024-09-02T06:31:37.911Z"
   },
   {
    "duration": 4,
    "start_time": "2024-09-02T06:31:38.561Z"
   },
   {
    "duration": 492,
    "start_time": "2024-09-02T06:31:38.566Z"
   },
   {
    "duration": 1674,
    "start_time": "2024-09-02T06:31:39.059Z"
   },
   {
    "duration": 197,
    "start_time": "2024-09-02T06:31:40.735Z"
   },
   {
    "duration": 8,
    "start_time": "2024-09-02T06:31:40.934Z"
   },
   {
    "duration": 22,
    "start_time": "2024-09-02T06:31:40.944Z"
   },
   {
    "duration": 725,
    "start_time": "2024-09-02T06:31:40.967Z"
   },
   {
    "duration": 0,
    "start_time": "2024-09-02T06:31:41.694Z"
   },
   {
    "duration": 0,
    "start_time": "2024-09-02T06:31:41.696Z"
   },
   {
    "duration": 0,
    "start_time": "2024-09-02T06:31:41.698Z"
   },
   {
    "duration": 0,
    "start_time": "2024-09-02T06:31:41.699Z"
   },
   {
    "duration": 0,
    "start_time": "2024-09-02T06:31:41.701Z"
   },
   {
    "duration": 0,
    "start_time": "2024-09-02T06:31:41.702Z"
   },
   {
    "duration": 4,
    "start_time": "2024-09-02T15:06:47.604Z"
   },
   {
    "duration": 1644,
    "start_time": "2024-09-02T15:06:47.610Z"
   },
   {
    "duration": 190,
    "start_time": "2024-09-02T15:06:49.255Z"
   },
   {
    "duration": 12,
    "start_time": "2024-09-02T15:06:49.446Z"
   },
   {
    "duration": 4,
    "start_time": "2024-09-02T15:06:49.460Z"
   },
   {
    "duration": 28,
    "start_time": "2024-09-02T15:06:49.465Z"
   },
   {
    "duration": 11,
    "start_time": "2024-09-02T15:06:49.494Z"
   },
   {
    "duration": 321,
    "start_time": "2024-09-02T15:06:49.506Z"
   },
   {
    "duration": 311,
    "start_time": "2024-09-02T15:06:49.830Z"
   },
   {
    "duration": 864,
    "start_time": "2024-09-02T15:06:50.143Z"
   },
   {
    "duration": 758,
    "start_time": "2024-09-02T15:06:51.009Z"
   },
   {
    "duration": 4,
    "start_time": "2024-09-02T15:06:51.769Z"
   },
   {
    "duration": 544,
    "start_time": "2024-09-02T15:06:51.775Z"
   },
   {
    "duration": 2194,
    "start_time": "2024-09-02T15:06:52.321Z"
   },
   {
    "duration": 192,
    "start_time": "2024-09-02T15:06:54.517Z"
   },
   {
    "duration": 9,
    "start_time": "2024-09-02T15:06:54.713Z"
   },
   {
    "duration": 22,
    "start_time": "2024-09-02T15:06:54.724Z"
   },
   {
    "duration": 3182,
    "start_time": "2024-09-02T15:06:54.748Z"
   },
   {
    "duration": 1591,
    "start_time": "2024-09-02T15:06:57.932Z"
   },
   {
    "duration": 396,
    "start_time": "2024-09-02T15:06:59.525Z"
   },
   {
    "duration": 16,
    "start_time": "2024-09-02T15:06:59.923Z"
   },
   {
    "duration": 167,
    "start_time": "2024-09-02T15:06:59.941Z"
   },
   {
    "duration": 0,
    "start_time": "2024-09-02T15:07:00.111Z"
   },
   {
    "duration": 0,
    "start_time": "2024-09-02T15:07:00.113Z"
   },
   {
    "duration": 3,
    "start_time": "2024-09-02T15:12:39.752Z"
   },
   {
    "duration": 1467,
    "start_time": "2024-09-02T15:12:39.757Z"
   },
   {
    "duration": 65,
    "start_time": "2024-09-02T15:12:41.225Z"
   },
   {
    "duration": 11,
    "start_time": "2024-09-02T15:12:41.291Z"
   },
   {
    "duration": 4,
    "start_time": "2024-09-02T15:12:41.304Z"
   },
   {
    "duration": 15,
    "start_time": "2024-09-02T15:12:41.309Z"
   },
   {
    "duration": 10,
    "start_time": "2024-09-02T15:12:41.325Z"
   },
   {
    "duration": 355,
    "start_time": "2024-09-02T15:12:41.337Z"
   },
   {
    "duration": 318,
    "start_time": "2024-09-02T15:12:41.693Z"
   },
   {
    "duration": 794,
    "start_time": "2024-09-02T15:12:42.013Z"
   },
   {
    "duration": 729,
    "start_time": "2024-09-02T15:12:42.808Z"
   },
   {
    "duration": 3,
    "start_time": "2024-09-02T15:12:43.539Z"
   },
   {
    "duration": 492,
    "start_time": "2024-09-02T15:12:43.543Z"
   },
   {
    "duration": 1774,
    "start_time": "2024-09-02T15:12:44.038Z"
   },
   {
    "duration": 195,
    "start_time": "2024-09-02T15:12:45.814Z"
   },
   {
    "duration": 6,
    "start_time": "2024-09-02T15:12:46.011Z"
   },
   {
    "duration": 8,
    "start_time": "2024-09-02T15:12:46.018Z"
   },
   {
    "duration": 3108,
    "start_time": "2024-09-02T15:12:46.027Z"
   },
   {
    "duration": 885,
    "start_time": "2024-09-02T15:12:49.136Z"
   },
   {
    "duration": 371,
    "start_time": "2024-09-02T15:12:50.022Z"
   },
   {
    "duration": 18,
    "start_time": "2024-09-02T15:12:50.394Z"
   },
   {
    "duration": 73,
    "start_time": "2024-09-02T15:12:50.413Z"
   },
   {
    "duration": 0,
    "start_time": "2024-09-02T15:12:50.487Z"
   },
   {
    "duration": 0,
    "start_time": "2024-09-02T15:12:50.489Z"
   },
   {
    "duration": 3,
    "start_time": "2024-09-02T15:27:31.773Z"
   },
   {
    "duration": 1509,
    "start_time": "2024-09-02T15:27:31.778Z"
   },
   {
    "duration": 68,
    "start_time": "2024-09-02T15:27:33.288Z"
   },
   {
    "duration": 11,
    "start_time": "2024-09-02T15:27:33.358Z"
   },
   {
    "duration": 6,
    "start_time": "2024-09-02T15:27:33.370Z"
   },
   {
    "duration": 53,
    "start_time": "2024-09-02T15:27:33.378Z"
   },
   {
    "duration": 63,
    "start_time": "2024-09-02T15:27:33.433Z"
   },
   {
    "duration": 383,
    "start_time": "2024-09-02T15:27:33.497Z"
   },
   {
    "duration": 336,
    "start_time": "2024-09-02T15:27:33.881Z"
   },
   {
    "duration": 855,
    "start_time": "2024-09-02T15:27:34.220Z"
   },
   {
    "duration": 731,
    "start_time": "2024-09-02T15:27:35.076Z"
   },
   {
    "duration": 4,
    "start_time": "2024-09-02T15:27:35.808Z"
   },
   {
    "duration": 517,
    "start_time": "2024-09-02T15:27:35.814Z"
   },
   {
    "duration": 2176,
    "start_time": "2024-09-02T15:27:36.333Z"
   },
   {
    "duration": 106,
    "start_time": "2024-09-02T15:27:38.511Z"
   },
   {
    "duration": 6,
    "start_time": "2024-09-02T15:27:38.619Z"
   },
   {
    "duration": 25,
    "start_time": "2024-09-02T15:27:38.626Z"
   },
   {
    "duration": 3538,
    "start_time": "2024-09-02T15:27:38.652Z"
   },
   {
    "duration": 1119,
    "start_time": "2024-09-02T15:27:42.191Z"
   },
   {
    "duration": 325,
    "start_time": "2024-09-02T15:27:43.312Z"
   },
   {
    "duration": 12,
    "start_time": "2024-09-02T15:27:43.639Z"
   },
   {
    "duration": 136,
    "start_time": "2024-09-02T15:27:43.653Z"
   },
   {
    "duration": 0,
    "start_time": "2024-09-02T15:27:43.791Z"
   },
   {
    "duration": 0,
    "start_time": "2024-09-02T15:27:43.792Z"
   },
   {
    "duration": 6,
    "start_time": "2024-09-02T15:29:16.498Z"
   },
   {
    "duration": 1475,
    "start_time": "2024-09-02T15:29:16.506Z"
   },
   {
    "duration": 66,
    "start_time": "2024-09-02T15:29:17.983Z"
   },
   {
    "duration": 12,
    "start_time": "2024-09-02T15:29:18.050Z"
   },
   {
    "duration": 4,
    "start_time": "2024-09-02T15:29:18.064Z"
   },
   {
    "duration": 13,
    "start_time": "2024-09-02T15:29:18.069Z"
   },
   {
    "duration": 31,
    "start_time": "2024-09-02T15:29:18.084Z"
   },
   {
    "duration": 336,
    "start_time": "2024-09-02T15:29:18.116Z"
   },
   {
    "duration": 321,
    "start_time": "2024-09-02T15:29:18.453Z"
   },
   {
    "duration": 825,
    "start_time": "2024-09-02T15:29:18.776Z"
   },
   {
    "duration": 716,
    "start_time": "2024-09-02T15:29:19.606Z"
   },
   {
    "duration": 4,
    "start_time": "2024-09-02T15:29:20.323Z"
   },
   {
    "duration": 483,
    "start_time": "2024-09-02T15:29:20.329Z"
   },
   {
    "duration": 1902,
    "start_time": "2024-09-02T15:29:20.814Z"
   },
   {
    "duration": 111,
    "start_time": "2024-09-02T15:29:22.808Z"
   },
   {
    "duration": 7,
    "start_time": "2024-09-02T15:29:22.922Z"
   },
   {
    "duration": 5,
    "start_time": "2024-09-02T15:29:22.931Z"
   },
   {
    "duration": 3045,
    "start_time": "2024-09-02T15:29:22.938Z"
   },
   {
    "duration": 1023,
    "start_time": "2024-09-02T15:29:25.984Z"
   },
   {
    "duration": 280,
    "start_time": "2024-09-02T15:29:27.009Z"
   },
   {
    "duration": 22,
    "start_time": "2024-09-02T15:29:27.291Z"
   },
   {
    "duration": 62,
    "start_time": "2024-09-02T15:29:27.316Z"
   },
   {
    "duration": 0,
    "start_time": "2024-09-02T15:29:27.380Z"
   },
   {
    "duration": 0,
    "start_time": "2024-09-02T15:29:27.380Z"
   },
   {
    "duration": 3,
    "start_time": "2024-09-02T15:30:30.485Z"
   },
   {
    "duration": 1450,
    "start_time": "2024-09-02T15:30:30.490Z"
   },
   {
    "duration": 69,
    "start_time": "2024-09-02T15:30:31.941Z"
   },
   {
    "duration": 11,
    "start_time": "2024-09-02T15:30:32.011Z"
   },
   {
    "duration": 26,
    "start_time": "2024-09-02T15:30:32.023Z"
   },
   {
    "duration": 23,
    "start_time": "2024-09-02T15:30:32.051Z"
   },
   {
    "duration": 22,
    "start_time": "2024-09-02T15:30:32.075Z"
   },
   {
    "duration": 342,
    "start_time": "2024-09-02T15:30:32.098Z"
   },
   {
    "duration": 325,
    "start_time": "2024-09-02T15:30:32.443Z"
   },
   {
    "duration": 846,
    "start_time": "2024-09-02T15:30:32.770Z"
   },
   {
    "duration": 754,
    "start_time": "2024-09-02T15:30:33.618Z"
   },
   {
    "duration": 4,
    "start_time": "2024-09-02T15:30:34.374Z"
   },
   {
    "duration": 549,
    "start_time": "2024-09-02T15:30:34.379Z"
   },
   {
    "duration": 2078,
    "start_time": "2024-09-02T15:30:34.930Z"
   },
   {
    "duration": 103,
    "start_time": "2024-09-02T15:30:37.016Z"
   },
   {
    "duration": 36,
    "start_time": "2024-09-02T15:30:37.120Z"
   },
   {
    "duration": 23,
    "start_time": "2024-09-02T15:30:37.158Z"
   },
   {
    "duration": 3297,
    "start_time": "2024-09-02T15:30:37.182Z"
   },
   {
    "duration": 940,
    "start_time": "2024-09-02T15:30:40.481Z"
   },
   {
    "duration": 353,
    "start_time": "2024-09-02T15:30:41.423Z"
   },
   {
    "duration": 14,
    "start_time": "2024-09-02T15:30:41.777Z"
   },
   {
    "duration": 148,
    "start_time": "2024-09-02T15:30:41.793Z"
   },
   {
    "duration": 0,
    "start_time": "2024-09-02T15:30:41.942Z"
   },
   {
    "duration": 0,
    "start_time": "2024-09-02T15:30:41.944Z"
   },
   {
    "duration": 3,
    "start_time": "2024-09-02T15:36:12.813Z"
   },
   {
    "duration": 1411,
    "start_time": "2024-09-02T15:36:12.818Z"
   },
   {
    "duration": 66,
    "start_time": "2024-09-02T15:36:14.230Z"
   },
   {
    "duration": 11,
    "start_time": "2024-09-02T15:36:14.298Z"
   },
   {
    "duration": 14,
    "start_time": "2024-09-02T15:36:14.311Z"
   },
   {
    "duration": 22,
    "start_time": "2024-09-02T15:36:14.327Z"
   },
   {
    "duration": 45,
    "start_time": "2024-09-02T15:36:14.350Z"
   },
   {
    "duration": 384,
    "start_time": "2024-09-02T15:36:14.396Z"
   },
   {
    "duration": 326,
    "start_time": "2024-09-02T15:36:14.781Z"
   },
   {
    "duration": 827,
    "start_time": "2024-09-02T15:36:15.110Z"
   },
   {
    "duration": 734,
    "start_time": "2024-09-02T15:36:15.939Z"
   },
   {
    "duration": 4,
    "start_time": "2024-09-02T15:36:16.675Z"
   },
   {
    "duration": 546,
    "start_time": "2024-09-02T15:36:16.680Z"
   },
   {
    "duration": 1888,
    "start_time": "2024-09-02T15:36:17.228Z"
   },
   {
    "duration": 107,
    "start_time": "2024-09-02T15:36:19.208Z"
   },
   {
    "duration": 6,
    "start_time": "2024-09-02T15:36:19.316Z"
   },
   {
    "duration": 6,
    "start_time": "2024-09-02T15:36:19.324Z"
   },
   {
    "duration": 4184,
    "start_time": "2024-09-02T15:36:19.331Z"
   },
   {
    "duration": 904,
    "start_time": "2024-09-02T15:36:23.517Z"
   },
   {
    "duration": 358,
    "start_time": "2024-09-02T15:36:24.423Z"
   },
   {
    "duration": 12,
    "start_time": "2024-09-02T15:36:24.783Z"
   },
   {
    "duration": 139,
    "start_time": "2024-09-02T15:36:24.796Z"
   },
   {
    "duration": 0,
    "start_time": "2024-09-02T15:36:24.936Z"
   },
   {
    "duration": 0,
    "start_time": "2024-09-02T15:36:24.937Z"
   },
   {
    "duration": 4,
    "start_time": "2024-09-02T15:37:47.410Z"
   },
   {
    "duration": 1457,
    "start_time": "2024-09-02T15:37:47.417Z"
   },
   {
    "duration": 66,
    "start_time": "2024-09-02T15:37:48.876Z"
   },
   {
    "duration": 12,
    "start_time": "2024-09-02T15:37:48.944Z"
   },
   {
    "duration": 9,
    "start_time": "2024-09-02T15:37:48.958Z"
   },
   {
    "duration": 13,
    "start_time": "2024-09-02T15:37:48.968Z"
   },
   {
    "duration": 34,
    "start_time": "2024-09-02T15:37:48.982Z"
   },
   {
    "duration": 358,
    "start_time": "2024-09-02T15:37:49.018Z"
   },
   {
    "duration": 330,
    "start_time": "2024-09-02T15:37:49.377Z"
   },
   {
    "duration": 826,
    "start_time": "2024-09-02T15:37:49.709Z"
   },
   {
    "duration": 726,
    "start_time": "2024-09-02T15:37:50.539Z"
   },
   {
    "duration": 4,
    "start_time": "2024-09-02T15:37:51.266Z"
   },
   {
    "duration": 558,
    "start_time": "2024-09-02T15:37:51.272Z"
   },
   {
    "duration": 1983,
    "start_time": "2024-09-02T15:37:51.832Z"
   },
   {
    "duration": 191,
    "start_time": "2024-09-02T15:37:53.817Z"
   },
   {
    "duration": 15,
    "start_time": "2024-09-02T15:37:54.010Z"
   },
   {
    "duration": 10,
    "start_time": "2024-09-02T15:37:54.026Z"
   },
   {
    "duration": 3094,
    "start_time": "2024-09-02T15:37:54.038Z"
   },
   {
    "duration": 787,
    "start_time": "2024-09-02T15:37:57.134Z"
   },
   {
    "duration": 360,
    "start_time": "2024-09-02T15:37:57.922Z"
   },
   {
    "duration": 12,
    "start_time": "2024-09-02T15:37:58.284Z"
   },
   {
    "duration": 140,
    "start_time": "2024-09-02T15:37:58.307Z"
   },
   {
    "duration": 0,
    "start_time": "2024-09-02T15:37:58.449Z"
   },
   {
    "duration": 0,
    "start_time": "2024-09-02T15:37:58.451Z"
   },
   {
    "duration": 4,
    "start_time": "2024-09-02T15:39:51.059Z"
   },
   {
    "duration": 1451,
    "start_time": "2024-09-02T15:39:51.065Z"
   },
   {
    "duration": 69,
    "start_time": "2024-09-02T15:39:52.517Z"
   },
   {
    "duration": 13,
    "start_time": "2024-09-02T15:39:52.588Z"
   },
   {
    "duration": 5,
    "start_time": "2024-09-02T15:39:52.602Z"
   },
   {
    "duration": 34,
    "start_time": "2024-09-02T15:39:52.608Z"
   },
   {
    "duration": 20,
    "start_time": "2024-09-02T15:39:52.643Z"
   },
   {
    "duration": 355,
    "start_time": "2024-09-02T15:39:52.665Z"
   },
   {
    "duration": 322,
    "start_time": "2024-09-02T15:39:53.022Z"
   },
   {
    "duration": 780,
    "start_time": "2024-09-02T15:39:53.348Z"
   },
   {
    "duration": 739,
    "start_time": "2024-09-02T15:39:54.130Z"
   },
   {
    "duration": 5,
    "start_time": "2024-09-02T15:39:54.871Z"
   },
   {
    "duration": 547,
    "start_time": "2024-09-02T15:39:54.877Z"
   },
   {
    "duration": 1791,
    "start_time": "2024-09-02T15:39:55.425Z"
   },
   {
    "duration": 106,
    "start_time": "2024-09-02T15:39:57.308Z"
   },
   {
    "duration": 8,
    "start_time": "2024-09-02T15:39:57.416Z"
   },
   {
    "duration": 6,
    "start_time": "2024-09-02T15:39:57.425Z"
   },
   {
    "duration": 3165,
    "start_time": "2024-09-02T15:39:57.433Z"
   },
   {
    "duration": 911,
    "start_time": "2024-09-02T15:40:00.600Z"
   },
   {
    "duration": 313,
    "start_time": "2024-09-02T15:40:01.512Z"
   },
   {
    "duration": 13,
    "start_time": "2024-09-02T15:40:01.826Z"
   },
   {
    "duration": 10127,
    "start_time": "2024-09-02T15:40:01.840Z"
   },
   {
    "duration": 765,
    "start_time": "2024-09-02T15:40:11.968Z"
   },
   {
    "duration": 254,
    "start_time": "2024-09-02T15:40:12.734Z"
   },
   {
    "duration": 3,
    "start_time": "2024-09-02T20:10:07.127Z"
   },
   {
    "duration": 1592,
    "start_time": "2024-09-02T20:10:07.133Z"
   },
   {
    "duration": 185,
    "start_time": "2024-09-02T20:10:08.727Z"
   },
   {
    "duration": 10,
    "start_time": "2024-09-02T20:10:08.914Z"
   },
   {
    "duration": 28,
    "start_time": "2024-09-02T20:10:08.926Z"
   },
   {
    "duration": 33,
    "start_time": "2024-09-02T20:10:08.956Z"
   },
   {
    "duration": 20,
    "start_time": "2024-09-02T20:10:08.990Z"
   },
   {
    "duration": 313,
    "start_time": "2024-09-02T20:10:09.011Z"
   },
   {
    "duration": 298,
    "start_time": "2024-09-02T20:10:09.326Z"
   },
   {
    "duration": 800,
    "start_time": "2024-09-02T20:10:09.625Z"
   },
   {
    "duration": 696,
    "start_time": "2024-09-02T20:10:10.426Z"
   },
   {
    "duration": 4,
    "start_time": "2024-09-02T20:10:11.123Z"
   },
   {
    "duration": 496,
    "start_time": "2024-09-02T20:10:11.128Z"
   },
   {
    "duration": 1986,
    "start_time": "2024-09-02T20:10:11.626Z"
   },
   {
    "duration": 102,
    "start_time": "2024-09-02T20:10:13.618Z"
   },
   {
    "duration": 30,
    "start_time": "2024-09-02T20:10:13.722Z"
   },
   {
    "duration": 30,
    "start_time": "2024-09-02T20:10:13.753Z"
   },
   {
    "duration": 3128,
    "start_time": "2024-09-02T20:10:13.785Z"
   },
   {
    "duration": 997,
    "start_time": "2024-09-02T20:10:16.914Z"
   },
   {
    "duration": 315,
    "start_time": "2024-09-02T20:10:17.913Z"
   },
   {
    "duration": 12,
    "start_time": "2024-09-02T20:10:18.230Z"
   },
   {
    "duration": 8510,
    "start_time": "2024-09-02T20:10:18.244Z"
   },
   {
    "duration": 905,
    "start_time": "2024-09-02T20:10:26.756Z"
   },
   {
    "duration": 873,
    "start_time": "2024-09-02T20:10:27.664Z"
   },
   {
    "duration": 265,
    "start_time": "2024-09-02T20:10:28.538Z"
   },
   {
    "duration": 124,
    "start_time": "2024-09-02T20:27:57.514Z"
   },
   {
    "duration": 4,
    "start_time": "2024-09-02T20:28:45.518Z"
   },
   {
    "duration": 8,
    "start_time": "2024-09-02T20:28:57.501Z"
   },
   {
    "duration": 4,
    "start_time": "2024-09-02T20:29:36.264Z"
   },
   {
    "duration": 303,
    "start_time": "2024-09-02T20:29:41.965Z"
   },
   {
    "duration": 298,
    "start_time": "2024-09-02T20:30:53.588Z"
   },
   {
    "duration": 6470,
    "start_time": "2024-09-02T20:32:16.362Z"
   },
   {
    "duration": 6534,
    "start_time": "2024-09-02T20:33:49.886Z"
   },
   {
    "duration": 6440,
    "start_time": "2024-09-02T20:38:16.922Z"
   },
   {
    "duration": 18,
    "start_time": "2024-09-02T20:40:27.970Z"
   },
   {
    "duration": 3,
    "start_time": "2024-09-02T20:40:59.202Z"
   },
   {
    "duration": 1413,
    "start_time": "2024-09-02T20:40:59.207Z"
   },
   {
    "duration": 65,
    "start_time": "2024-09-02T20:41:00.622Z"
   },
   {
    "duration": 11,
    "start_time": "2024-09-02T20:41:00.689Z"
   },
   {
    "duration": 11,
    "start_time": "2024-09-02T20:41:00.702Z"
   },
   {
    "duration": 12,
    "start_time": "2024-09-02T20:41:00.714Z"
   },
   {
    "duration": 10,
    "start_time": "2024-09-02T20:41:00.727Z"
   },
   {
    "duration": 317,
    "start_time": "2024-09-02T20:41:00.738Z"
   },
   {
    "duration": 288,
    "start_time": "2024-09-02T20:41:01.057Z"
   },
   {
    "duration": 764,
    "start_time": "2024-09-02T20:41:01.347Z"
   },
   {
    "duration": 711,
    "start_time": "2024-09-02T20:41:02.114Z"
   },
   {
    "duration": 4,
    "start_time": "2024-09-02T20:41:02.826Z"
   },
   {
    "duration": 527,
    "start_time": "2024-09-02T20:41:02.831Z"
   },
   {
    "duration": 1853,
    "start_time": "2024-09-02T20:41:03.360Z"
   },
   {
    "duration": 193,
    "start_time": "2024-09-02T20:41:05.215Z"
   },
   {
    "duration": 7,
    "start_time": "2024-09-02T20:41:05.410Z"
   },
   {
    "duration": 33,
    "start_time": "2024-09-02T20:41:05.419Z"
   },
   {
    "duration": 4112,
    "start_time": "2024-09-02T20:41:05.453Z"
   },
   {
    "duration": 843,
    "start_time": "2024-09-02T20:41:09.567Z"
   },
   {
    "duration": 308,
    "start_time": "2024-09-02T20:41:10.412Z"
   },
   {
    "duration": 11,
    "start_time": "2024-09-02T20:41:10.722Z"
   },
   {
    "duration": 333,
    "start_time": "2024-09-02T20:41:10.735Z"
   },
   {
    "duration": 2248,
    "start_time": "2024-09-02T20:41:11.069Z"
   },
   {
    "duration": 153,
    "start_time": "2024-09-02T20:41:13.319Z"
   },
   {
    "duration": 0,
    "start_time": "2024-09-02T20:41:13.473Z"
   },
   {
    "duration": 0,
    "start_time": "2024-09-02T20:41:13.475Z"
   },
   {
    "duration": 0,
    "start_time": "2024-09-02T20:41:13.475Z"
   },
   {
    "duration": 0,
    "start_time": "2024-09-02T20:41:13.476Z"
   },
   {
    "duration": 776,
    "start_time": "2024-09-02T20:41:51.944Z"
   },
   {
    "duration": 671,
    "start_time": "2024-09-02T20:42:21.996Z"
   },
   {
    "duration": 2976,
    "start_time": "2024-09-02T20:46:00.661Z"
   },
   {
    "duration": 3154,
    "start_time": "2024-09-02T20:46:27.493Z"
   },
   {
    "duration": 6,
    "start_time": "2024-09-02T20:48:59.285Z"
   },
   {
    "duration": 3,
    "start_time": "2024-09-02T20:50:53.339Z"
   },
   {
    "duration": 1342,
    "start_time": "2024-09-02T20:50:53.344Z"
   },
   {
    "duration": 64,
    "start_time": "2024-09-02T20:50:54.687Z"
   },
   {
    "duration": 11,
    "start_time": "2024-09-02T20:50:54.753Z"
   },
   {
    "duration": 4,
    "start_time": "2024-09-02T20:50:54.765Z"
   },
   {
    "duration": 15,
    "start_time": "2024-09-02T20:50:54.770Z"
   },
   {
    "duration": 25,
    "start_time": "2024-09-02T20:50:54.787Z"
   },
   {
    "duration": 310,
    "start_time": "2024-09-02T20:50:54.813Z"
   },
   {
    "duration": 302,
    "start_time": "2024-09-02T20:50:55.125Z"
   },
   {
    "duration": 749,
    "start_time": "2024-09-02T20:50:55.429Z"
   },
   {
    "duration": 654,
    "start_time": "2024-09-02T20:50:56.179Z"
   },
   {
    "duration": 3,
    "start_time": "2024-09-02T20:50:56.835Z"
   },
   {
    "duration": 493,
    "start_time": "2024-09-02T20:50:56.839Z"
   },
   {
    "duration": 1680,
    "start_time": "2024-09-02T20:50:57.334Z"
   },
   {
    "duration": 197,
    "start_time": "2024-09-02T20:50:59.016Z"
   },
   {
    "duration": 6,
    "start_time": "2024-09-02T20:50:59.214Z"
   },
   {
    "duration": 5,
    "start_time": "2024-09-02T20:50:59.222Z"
   },
   {
    "duration": 2967,
    "start_time": "2024-09-02T20:50:59.228Z"
   },
   {
    "duration": 1016,
    "start_time": "2024-09-02T20:51:02.197Z"
   },
   {
    "duration": 306,
    "start_time": "2024-09-02T20:51:03.214Z"
   },
   {
    "duration": 11,
    "start_time": "2024-09-02T20:51:03.522Z"
   },
   {
    "duration": 3285,
    "start_time": "2024-09-02T20:51:03.534Z"
   },
   {
    "duration": 112,
    "start_time": "2024-09-02T20:53:14.794Z"
   },
   {
    "duration": 70,
    "start_time": "2024-09-02T20:53:36.235Z"
   },
   {
    "duration": 9191,
    "start_time": "2024-09-02T20:54:29.219Z"
   },
   {
    "duration": 9198,
    "start_time": "2024-09-02T20:55:03.928Z"
   },
   {
    "duration": 3,
    "start_time": "2024-09-02T20:55:21.073Z"
   },
   {
    "duration": 1399,
    "start_time": "2024-09-02T20:55:21.077Z"
   },
   {
    "duration": 64,
    "start_time": "2024-09-02T20:55:22.478Z"
   },
   {
    "duration": 11,
    "start_time": "2024-09-02T20:55:22.544Z"
   },
   {
    "duration": 4,
    "start_time": "2024-09-02T20:55:22.556Z"
   },
   {
    "duration": 11,
    "start_time": "2024-09-02T20:55:22.561Z"
   },
   {
    "duration": 34,
    "start_time": "2024-09-02T20:55:22.574Z"
   },
   {
    "duration": 334,
    "start_time": "2024-09-02T20:55:22.609Z"
   },
   {
    "duration": 294,
    "start_time": "2024-09-02T20:55:22.945Z"
   },
   {
    "duration": 736,
    "start_time": "2024-09-02T20:55:23.240Z"
   },
   {
    "duration": 667,
    "start_time": "2024-09-02T20:55:23.978Z"
   },
   {
    "duration": 5,
    "start_time": "2024-09-02T20:55:24.646Z"
   },
   {
    "duration": 465,
    "start_time": "2024-09-02T20:55:24.652Z"
   },
   {
    "duration": 1888,
    "start_time": "2024-09-02T20:55:25.119Z"
   },
   {
    "duration": 102,
    "start_time": "2024-09-02T20:55:27.010Z"
   },
   {
    "duration": 7,
    "start_time": "2024-09-02T20:55:27.114Z"
   },
   {
    "duration": 6,
    "start_time": "2024-09-02T20:55:27.123Z"
   },
   {
    "duration": 2955,
    "start_time": "2024-09-02T20:55:27.131Z"
   },
   {
    "duration": 923,
    "start_time": "2024-09-02T20:55:30.088Z"
   },
   {
    "duration": 298,
    "start_time": "2024-09-02T20:55:31.012Z"
   },
   {
    "duration": 13,
    "start_time": "2024-09-02T20:55:31.312Z"
   },
   {
    "duration": 9261,
    "start_time": "2024-09-02T20:55:31.326Z"
   },
   {
    "duration": 9071,
    "start_time": "2024-09-02T20:56:51.996Z"
   },
   {
    "duration": 377,
    "start_time": "2024-09-02T20:57:57.591Z"
   },
   {
    "duration": 277,
    "start_time": "2024-09-02T21:00:05.477Z"
   },
   {
    "duration": 69,
    "start_time": "2024-09-02T21:00:53.604Z"
   },
   {
    "duration": 285,
    "start_time": "2024-09-02T21:03:15.100Z"
   },
   {
    "duration": 5,
    "start_time": "2024-09-02T21:04:02.420Z"
   },
   {
    "duration": 15,
    "start_time": "2024-09-02T21:04:09.535Z"
   },
   {
    "duration": 282,
    "start_time": "2024-09-02T21:04:20.262Z"
   },
   {
    "duration": 280,
    "start_time": "2024-09-02T21:05:29.112Z"
   },
   {
    "duration": 19,
    "start_time": "2024-09-02T21:08:13.052Z"
   },
   {
    "duration": 11,
    "start_time": "2024-09-02T21:09:10.553Z"
   },
   {
    "duration": 12,
    "start_time": "2024-09-02T21:10:41.355Z"
   },
   {
    "duration": 13,
    "start_time": "2024-09-02T21:12:06.278Z"
   },
   {
    "duration": 3,
    "start_time": "2024-09-02T21:13:38.490Z"
   },
   {
    "duration": 1408,
    "start_time": "2024-09-02T21:13:38.494Z"
   },
   {
    "duration": 63,
    "start_time": "2024-09-02T21:13:39.904Z"
   },
   {
    "duration": 11,
    "start_time": "2024-09-02T21:13:39.968Z"
   },
   {
    "duration": 4,
    "start_time": "2024-09-02T21:13:39.980Z"
   },
   {
    "duration": 11,
    "start_time": "2024-09-02T21:13:39.985Z"
   },
   {
    "duration": 14,
    "start_time": "2024-09-02T21:13:39.997Z"
   },
   {
    "duration": 328,
    "start_time": "2024-09-02T21:13:40.012Z"
   },
   {
    "duration": 316,
    "start_time": "2024-09-02T21:13:40.342Z"
   },
   {
    "duration": 766,
    "start_time": "2024-09-02T21:13:40.661Z"
   },
   {
    "duration": 690,
    "start_time": "2024-09-02T21:13:41.429Z"
   },
   {
    "duration": 4,
    "start_time": "2024-09-02T21:13:42.120Z"
   },
   {
    "duration": 486,
    "start_time": "2024-09-02T21:13:42.125Z"
   },
   {
    "duration": 1801,
    "start_time": "2024-09-02T21:13:42.613Z"
   },
   {
    "duration": 197,
    "start_time": "2024-09-02T21:13:44.416Z"
   },
   {
    "duration": 7,
    "start_time": "2024-09-02T21:13:44.614Z"
   },
   {
    "duration": 6,
    "start_time": "2024-09-02T21:13:44.622Z"
   },
   {
    "duration": 3092,
    "start_time": "2024-09-02T21:13:44.630Z"
   },
   {
    "duration": 802,
    "start_time": "2024-09-02T21:13:47.723Z"
   },
   {
    "duration": 357,
    "start_time": "2024-09-02T21:13:48.526Z"
   },
   {
    "duration": 12,
    "start_time": "2024-09-02T21:13:48.884Z"
   },
   {
    "duration": 9388,
    "start_time": "2024-09-02T21:13:48.907Z"
   },
   {
    "duration": 398,
    "start_time": "2024-09-02T21:13:58.297Z"
   },
   {
    "duration": 0,
    "start_time": "2024-09-02T21:13:58.696Z"
   },
   {
    "duration": 0,
    "start_time": "2024-09-02T21:13:58.697Z"
   },
   {
    "duration": 12,
    "start_time": "2024-09-02T21:14:09.226Z"
   },
   {
    "duration": 3,
    "start_time": "2024-09-02T21:14:30.715Z"
   },
   {
    "duration": 2362,
    "start_time": "2024-09-02T21:14:30.721Z"
   },
   {
    "duration": 64,
    "start_time": "2024-09-02T21:14:33.085Z"
   },
   {
    "duration": 12,
    "start_time": "2024-09-02T21:14:33.150Z"
   },
   {
    "duration": 17,
    "start_time": "2024-09-02T21:14:33.163Z"
   },
   {
    "duration": 37,
    "start_time": "2024-09-02T21:14:33.182Z"
   },
   {
    "duration": 10,
    "start_time": "2024-09-02T21:14:33.220Z"
   },
   {
    "duration": 355,
    "start_time": "2024-09-02T21:14:33.232Z"
   },
   {
    "duration": 302,
    "start_time": "2024-09-02T21:14:33.589Z"
   },
   {
    "duration": 819,
    "start_time": "2024-09-02T21:14:33.893Z"
   },
   {
    "duration": 709,
    "start_time": "2024-09-02T21:14:34.713Z"
   },
   {
    "duration": 3,
    "start_time": "2024-09-02T21:14:35.424Z"
   },
   {
    "duration": 497,
    "start_time": "2024-09-02T21:14:35.428Z"
   },
   {
    "duration": 1886,
    "start_time": "2024-09-02T21:14:35.926Z"
   },
   {
    "duration": 194,
    "start_time": "2024-09-02T21:14:37.815Z"
   },
   {
    "duration": 6,
    "start_time": "2024-09-02T21:14:38.011Z"
   },
   {
    "duration": 5,
    "start_time": "2024-09-02T21:14:38.019Z"
   },
   {
    "duration": 3021,
    "start_time": "2024-09-02T21:14:38.025Z"
   },
   {
    "duration": 765,
    "start_time": "2024-09-02T21:14:41.048Z"
   },
   {
    "duration": 314,
    "start_time": "2024-09-02T21:14:41.817Z"
   },
   {
    "duration": 13,
    "start_time": "2024-09-02T21:14:42.132Z"
   },
   {
    "duration": 9451,
    "start_time": "2024-09-02T21:14:42.147Z"
   },
   {
    "duration": 117,
    "start_time": "2024-09-02T21:14:51.599Z"
   },
   {
    "duration": 0,
    "start_time": "2024-09-02T21:14:51.717Z"
   },
   {
    "duration": 3225,
    "start_time": "2024-09-02T21:15:44.189Z"
   },
   {
    "duration": 183,
    "start_time": "2024-09-02T21:16:07.399Z"
   },
   {
    "duration": 16,
    "start_time": "2024-09-02T21:21:05.884Z"
   },
   {
    "duration": 10183,
    "start_time": "2024-09-02T21:26:31.876Z"
   },
   {
    "duration": 16,
    "start_time": "2024-09-02T21:29:23.620Z"
   },
   {
    "duration": 16,
    "start_time": "2024-09-02T21:32:55.556Z"
   },
   {
    "duration": 8785,
    "start_time": "2024-09-02T21:34:07.424Z"
   },
   {
    "duration": 4,
    "start_time": "2024-09-02T21:35:38.539Z"
   },
   {
    "duration": 1338,
    "start_time": "2024-09-02T21:35:38.544Z"
   },
   {
    "duration": 63,
    "start_time": "2024-09-02T21:35:39.884Z"
   },
   {
    "duration": 11,
    "start_time": "2024-09-02T21:35:39.948Z"
   },
   {
    "duration": 16,
    "start_time": "2024-09-02T21:35:39.961Z"
   },
   {
    "duration": 12,
    "start_time": "2024-09-02T21:35:39.979Z"
   },
   {
    "duration": 17,
    "start_time": "2024-09-02T21:35:39.993Z"
   },
   {
    "duration": 312,
    "start_time": "2024-09-02T21:35:40.011Z"
   },
   {
    "duration": 293,
    "start_time": "2024-09-02T21:35:40.325Z"
   },
   {
    "duration": 750,
    "start_time": "2024-09-02T21:35:40.619Z"
   },
   {
    "duration": 662,
    "start_time": "2024-09-02T21:35:41.371Z"
   },
   {
    "duration": 3,
    "start_time": "2024-09-02T21:35:42.035Z"
   },
   {
    "duration": 471,
    "start_time": "2024-09-02T21:35:42.040Z"
   },
   {
    "duration": 2200,
    "start_time": "2024-09-02T21:35:42.513Z"
   },
   {
    "duration": 196,
    "start_time": "2024-09-02T21:35:44.717Z"
   },
   {
    "duration": 8,
    "start_time": "2024-09-02T21:35:44.914Z"
   },
   {
    "duration": 30,
    "start_time": "2024-09-02T21:35:44.924Z"
   },
   {
    "duration": 3232,
    "start_time": "2024-09-02T21:35:44.956Z"
   },
   {
    "duration": 923,
    "start_time": "2024-09-02T21:35:48.189Z"
   },
   {
    "duration": 298,
    "start_time": "2024-09-02T21:35:49.114Z"
   },
   {
    "duration": 13,
    "start_time": "2024-09-02T21:35:49.414Z"
   },
   {
    "duration": 9542,
    "start_time": "2024-09-02T21:35:49.428Z"
   },
   {
    "duration": 2919,
    "start_time": "2024-09-02T21:35:58.971Z"
   },
   {
    "duration": 184,
    "start_time": "2024-09-02T21:36:01.891Z"
   },
   {
    "duration": 3,
    "start_time": "2024-09-02T21:51:25.871Z"
   },
   {
    "duration": 1439,
    "start_time": "2024-09-02T21:51:25.875Z"
   },
   {
    "duration": 66,
    "start_time": "2024-09-02T21:51:27.319Z"
   },
   {
    "duration": 12,
    "start_time": "2024-09-02T21:51:27.386Z"
   },
   {
    "duration": 17,
    "start_time": "2024-09-02T21:51:27.400Z"
   },
   {
    "duration": 41,
    "start_time": "2024-09-02T21:51:27.419Z"
   },
   {
    "duration": 32,
    "start_time": "2024-09-02T21:51:27.461Z"
   },
   {
    "duration": 322,
    "start_time": "2024-09-02T21:51:27.494Z"
   },
   {
    "duration": 303,
    "start_time": "2024-09-02T21:51:27.817Z"
   },
   {
    "duration": 750,
    "start_time": "2024-09-02T21:51:28.122Z"
   },
   {
    "duration": 670,
    "start_time": "2024-09-02T21:51:28.875Z"
   },
   {
    "duration": 4,
    "start_time": "2024-09-02T21:51:29.547Z"
   },
   {
    "duration": 467,
    "start_time": "2024-09-02T21:51:29.553Z"
   },
   {
    "duration": 1693,
    "start_time": "2024-09-02T21:51:30.021Z"
   },
   {
    "duration": 192,
    "start_time": "2024-09-02T21:51:31.717Z"
   },
   {
    "duration": 7,
    "start_time": "2024-09-02T21:51:31.910Z"
   },
   {
    "duration": 7,
    "start_time": "2024-09-02T21:51:31.918Z"
   },
   {
    "duration": 3086,
    "start_time": "2024-09-02T21:51:31.926Z"
   },
   {
    "duration": 898,
    "start_time": "2024-09-02T21:51:35.013Z"
   },
   {
    "duration": 310,
    "start_time": "2024-09-02T21:51:35.912Z"
   },
   {
    "duration": 11,
    "start_time": "2024-09-02T21:51:36.224Z"
   },
   {
    "duration": 9379,
    "start_time": "2024-09-02T21:51:36.237Z"
   },
   {
    "duration": 3011,
    "start_time": "2024-09-02T21:51:45.617Z"
   },
   {
    "duration": 185,
    "start_time": "2024-09-02T21:51:48.630Z"
   },
   {
    "duration": 3,
    "start_time": "2024-09-02T21:52:31.912Z"
   },
   {
    "duration": 1419,
    "start_time": "2024-09-02T21:52:31.916Z"
   },
   {
    "duration": 64,
    "start_time": "2024-09-02T21:52:33.336Z"
   },
   {
    "duration": 9,
    "start_time": "2024-09-02T21:52:33.402Z"
   },
   {
    "duration": 5,
    "start_time": "2024-09-02T21:52:33.413Z"
   },
   {
    "duration": 31,
    "start_time": "2024-09-02T21:52:33.419Z"
   },
   {
    "duration": 10,
    "start_time": "2024-09-02T21:52:33.452Z"
   },
   {
    "duration": 304,
    "start_time": "2024-09-02T21:52:33.463Z"
   },
   {
    "duration": 294,
    "start_time": "2024-09-02T21:52:33.770Z"
   },
   {
    "duration": 772,
    "start_time": "2024-09-02T21:52:34.065Z"
   },
   {
    "duration": 694,
    "start_time": "2024-09-02T21:52:34.839Z"
   },
   {
    "duration": 4,
    "start_time": "2024-09-02T21:52:35.534Z"
   },
   {
    "duration": 475,
    "start_time": "2024-09-02T21:52:35.540Z"
   },
   {
    "duration": 1796,
    "start_time": "2024-09-02T21:52:36.016Z"
   },
   {
    "duration": 198,
    "start_time": "2024-09-02T21:52:37.814Z"
   },
   {
    "duration": 7,
    "start_time": "2024-09-02T21:52:38.014Z"
   },
   {
    "duration": 7,
    "start_time": "2024-09-02T21:52:38.022Z"
   },
   {
    "duration": 2982,
    "start_time": "2024-09-02T21:52:38.030Z"
   },
   {
    "duration": 798,
    "start_time": "2024-09-02T21:52:41.014Z"
   },
   {
    "duration": 294,
    "start_time": "2024-09-02T21:52:41.814Z"
   },
   {
    "duration": 12,
    "start_time": "2024-09-02T21:52:42.110Z"
   },
   {
    "duration": 9377,
    "start_time": "2024-09-02T21:52:42.124Z"
   },
   {
    "duration": 2973,
    "start_time": "2024-09-02T21:52:51.502Z"
   },
   {
    "duration": 183,
    "start_time": "2024-09-02T21:52:54.478Z"
   }
  ],
  "kernelspec": {
   "display_name": "Python 3 (ipykernel)",
   "language": "python",
   "name": "python3"
  },
  "language_info": {
   "codemirror_mode": {
    "name": "ipython",
    "version": 3
   },
   "file_extension": ".py",
   "mimetype": "text/x-python",
   "name": "python",
   "nbconvert_exporter": "python",
   "pygments_lexer": "ipython3",
   "version": "3.12.4"
  },
  "toc": {
   "base_numbering": 1,
   "nav_menu": {},
   "number_sections": true,
   "sideBar": true,
   "skip_h1_title": true,
   "title_cell": "Содержание",
   "title_sidebar": "Contents",
   "toc_cell": true,
   "toc_position": {
    "height": "calc(100% - 180px)",
    "left": "10px",
    "top": "150px",
    "width": "273.188px"
   },
   "toc_section_display": true,
   "toc_window_display": false
  }
 },
 "nbformat": 4,
 "nbformat_minor": 4
}
