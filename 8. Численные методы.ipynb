{
 "cells": [
  {
   "cell_type": "markdown",
   "metadata": {},
   "source": [
    "# Определение стоимости автомобилей. Проект по спринту \"Численнные методы\""
   ]
  },
  {
   "cell_type": "markdown",
   "metadata": {},
   "source": [
    "Сервис по продаже автомобилей с пробегом «Не бит, не крашен» разрабатывает приложение для привлечения новых клиентов. В нём можно быстро узнать рыночную стоимость своего автомобиля. В вашем распоряжении исторические данные: технические характеристики, комплектации и цены автомобилей. Вам нужно построить модель для определения стоимости. \n",
    "\n",
    "Заказчику важны:\n",
    "\n",
    "- качество предсказания;\n",
    "- скорость предсказания;\n",
    "- время обучения."
   ]
  },
  {
   "cell_type": "markdown",
   "metadata": {},
   "source": [
    "## Подготовка данных"
   ]
  },
  {
   "cell_type": "code",
   "execution_count": 1,
   "metadata": {},
   "outputs": [
    {
     "name": "stdout",
     "output_type": "stream",
     "text": [
      "Requirement already satisfied: scikit-learn in /opt/conda/lib/python3.9/site-packages (1.5.1)\n",
      "Requirement already satisfied: threadpoolctl>=3.1.0 in /opt/conda/lib/python3.9/site-packages (from scikit-learn) (3.1.0)\n",
      "Requirement already satisfied: joblib>=1.2.0 in /opt/conda/lib/python3.9/site-packages (from scikit-learn) (1.4.2)\n",
      "Requirement already satisfied: scipy>=1.6.0 in /opt/conda/lib/python3.9/site-packages (from scikit-learn) (1.9.1)\n",
      "Requirement already satisfied: numpy>=1.19.5 in /opt/conda/lib/python3.9/site-packages (from scikit-learn) (1.21.1)\n",
      "Note: you may need to restart the kernel to use updated packages.\n"
     ]
    }
   ],
   "source": [
    "pip install --upgrade scikit-learn"
   ]
  },
  {
   "cell_type": "code",
   "execution_count": 2,
   "metadata": {},
   "outputs": [
    {
     "name": "stdout",
     "output_type": "stream",
     "text": [
      "Requirement already satisfied: phik in /opt/conda/lib/python3.9/site-packages (0.12.4)\n",
      "Requirement already satisfied: matplotlib>=2.2.3 in /opt/conda/lib/python3.9/site-packages (from phik) (3.3.4)\n",
      "Requirement already satisfied: pandas>=0.25.1 in /opt/conda/lib/python3.9/site-packages (from phik) (1.2.4)\n",
      "Requirement already satisfied: numpy>=1.18.0 in /opt/conda/lib/python3.9/site-packages (from phik) (1.21.1)\n",
      "Requirement already satisfied: scipy>=1.5.2 in /opt/conda/lib/python3.9/site-packages (from phik) (1.9.1)\n",
      "Requirement already satisfied: joblib>=0.14.1 in /opt/conda/lib/python3.9/site-packages (from phik) (1.4.2)\n",
      "Requirement already satisfied: pillow>=6.2.0 in /opt/conda/lib/python3.9/site-packages (from matplotlib>=2.2.3->phik) (8.4.0)\n",
      "Requirement already satisfied: cycler>=0.10 in /opt/conda/lib/python3.9/site-packages (from matplotlib>=2.2.3->phik) (0.11.0)\n",
      "Requirement already satisfied: kiwisolver>=1.0.1 in /opt/conda/lib/python3.9/site-packages (from matplotlib>=2.2.3->phik) (1.4.4)\n",
      "Requirement already satisfied: pyparsing!=2.0.4,!=2.1.2,!=2.1.6,>=2.0.3 in /opt/conda/lib/python3.9/site-packages (from matplotlib>=2.2.3->phik) (2.4.7)\n",
      "Requirement already satisfied: python-dateutil>=2.1 in /opt/conda/lib/python3.9/site-packages (from matplotlib>=2.2.3->phik) (2.8.1)\n",
      "Requirement already satisfied: pytz>=2017.3 in /opt/conda/lib/python3.9/site-packages (from pandas>=0.25.1->phik) (2021.1)\n",
      "Requirement already satisfied: six>=1.5 in /opt/conda/lib/python3.9/site-packages (from python-dateutil>=2.1->matplotlib>=2.2.3->phik) (1.16.0)\n"
     ]
    }
   ],
   "source": [
    "!pip install phik"
   ]
  },
  {
   "cell_type": "code",
   "execution_count": 3,
   "metadata": {},
   "outputs": [],
   "source": [
    "#импорт библиотек и инструментов\n",
    "import pandas as pd\n",
    "import numpy as np\n",
    "import seaborn as sns\n",
    "import matplotlib.pyplot as plt\n",
    "from sklearn.compose import ColumnTransformer\n",
    "from sklearn.pipeline import Pipeline\n",
    "from sklearn.impute import SimpleImputer\n",
    "from sklearn.preprocessing import StandardScaler, OneHotEncoder\n",
    "from sklearn.model_selection import train_test_split, GridSearchCV, RandomizedSearchCV\n",
    "from sklearn.linear_model import LinearRegression\n",
    "import lightgbm as lgb\n",
    "from sklearn.metrics import mean_squared_error\n",
    "import time\n",
    "import pandas as pd\n",
    "import phik\n",
    "from phik import resources, report\n",
    "from sklearn.model_selection import cross_val_score\n",
    "from sklearn.metrics import make_scorer"
   ]
  },
  {
   "cell_type": "code",
   "execution_count": 4,
   "metadata": {
    "scrolled": true
   },
   "outputs": [
    {
     "data": {
      "text/html": [
       "<div>\n",
       "<style scoped>\n",
       "    .dataframe tbody tr th:only-of-type {\n",
       "        vertical-align: middle;\n",
       "    }\n",
       "\n",
       "    .dataframe tbody tr th {\n",
       "        vertical-align: top;\n",
       "    }\n",
       "\n",
       "    .dataframe thead th {\n",
       "        text-align: right;\n",
       "    }\n",
       "</style>\n",
       "<table border=\"1\" class=\"dataframe\">\n",
       "  <thead>\n",
       "    <tr style=\"text-align: right;\">\n",
       "      <th></th>\n",
       "      <th>DateCrawled</th>\n",
       "      <th>Price</th>\n",
       "      <th>VehicleType</th>\n",
       "      <th>RegistrationYear</th>\n",
       "      <th>Gearbox</th>\n",
       "      <th>Power</th>\n",
       "      <th>Model</th>\n",
       "      <th>Kilometer</th>\n",
       "      <th>RegistrationMonth</th>\n",
       "      <th>FuelType</th>\n",
       "      <th>Brand</th>\n",
       "      <th>Repaired</th>\n",
       "      <th>DateCreated</th>\n",
       "      <th>NumberOfPictures</th>\n",
       "      <th>PostalCode</th>\n",
       "      <th>LastSeen</th>\n",
       "    </tr>\n",
       "  </thead>\n",
       "  <tbody>\n",
       "    <tr>\n",
       "      <th>0</th>\n",
       "      <td>2016-03-24 11:52:17</td>\n",
       "      <td>480</td>\n",
       "      <td>NaN</td>\n",
       "      <td>1993</td>\n",
       "      <td>manual</td>\n",
       "      <td>0</td>\n",
       "      <td>golf</td>\n",
       "      <td>150000</td>\n",
       "      <td>0</td>\n",
       "      <td>petrol</td>\n",
       "      <td>volkswagen</td>\n",
       "      <td>NaN</td>\n",
       "      <td>2016-03-24 00:00:00</td>\n",
       "      <td>0</td>\n",
       "      <td>70435</td>\n",
       "      <td>2016-04-07 03:16:57</td>\n",
       "    </tr>\n",
       "    <tr>\n",
       "      <th>1</th>\n",
       "      <td>2016-03-24 10:58:45</td>\n",
       "      <td>18300</td>\n",
       "      <td>coupe</td>\n",
       "      <td>2011</td>\n",
       "      <td>manual</td>\n",
       "      <td>190</td>\n",
       "      <td>NaN</td>\n",
       "      <td>125000</td>\n",
       "      <td>5</td>\n",
       "      <td>gasoline</td>\n",
       "      <td>audi</td>\n",
       "      <td>yes</td>\n",
       "      <td>2016-03-24 00:00:00</td>\n",
       "      <td>0</td>\n",
       "      <td>66954</td>\n",
       "      <td>2016-04-07 01:46:50</td>\n",
       "    </tr>\n",
       "    <tr>\n",
       "      <th>2</th>\n",
       "      <td>2016-03-14 12:52:21</td>\n",
       "      <td>9800</td>\n",
       "      <td>suv</td>\n",
       "      <td>2004</td>\n",
       "      <td>auto</td>\n",
       "      <td>163</td>\n",
       "      <td>grand</td>\n",
       "      <td>125000</td>\n",
       "      <td>8</td>\n",
       "      <td>gasoline</td>\n",
       "      <td>jeep</td>\n",
       "      <td>NaN</td>\n",
       "      <td>2016-03-14 00:00:00</td>\n",
       "      <td>0</td>\n",
       "      <td>90480</td>\n",
       "      <td>2016-04-05 12:47:46</td>\n",
       "    </tr>\n",
       "    <tr>\n",
       "      <th>3</th>\n",
       "      <td>2016-03-17 16:54:04</td>\n",
       "      <td>1500</td>\n",
       "      <td>small</td>\n",
       "      <td>2001</td>\n",
       "      <td>manual</td>\n",
       "      <td>75</td>\n",
       "      <td>golf</td>\n",
       "      <td>150000</td>\n",
       "      <td>6</td>\n",
       "      <td>petrol</td>\n",
       "      <td>volkswagen</td>\n",
       "      <td>no</td>\n",
       "      <td>2016-03-17 00:00:00</td>\n",
       "      <td>0</td>\n",
       "      <td>91074</td>\n",
       "      <td>2016-03-17 17:40:17</td>\n",
       "    </tr>\n",
       "    <tr>\n",
       "      <th>4</th>\n",
       "      <td>2016-03-31 17:25:20</td>\n",
       "      <td>3600</td>\n",
       "      <td>small</td>\n",
       "      <td>2008</td>\n",
       "      <td>manual</td>\n",
       "      <td>69</td>\n",
       "      <td>fabia</td>\n",
       "      <td>90000</td>\n",
       "      <td>7</td>\n",
       "      <td>gasoline</td>\n",
       "      <td>skoda</td>\n",
       "      <td>no</td>\n",
       "      <td>2016-03-31 00:00:00</td>\n",
       "      <td>0</td>\n",
       "      <td>60437</td>\n",
       "      <td>2016-04-06 10:17:21</td>\n",
       "    </tr>\n",
       "  </tbody>\n",
       "</table>\n",
       "</div>"
      ],
      "text/plain": [
       "           DateCrawled  Price VehicleType  RegistrationYear Gearbox  Power  \\\n",
       "0  2016-03-24 11:52:17    480         NaN              1993  manual      0   \n",
       "1  2016-03-24 10:58:45  18300       coupe              2011  manual    190   \n",
       "2  2016-03-14 12:52:21   9800         suv              2004    auto    163   \n",
       "3  2016-03-17 16:54:04   1500       small              2001  manual     75   \n",
       "4  2016-03-31 17:25:20   3600       small              2008  manual     69   \n",
       "\n",
       "   Model  Kilometer  RegistrationMonth  FuelType       Brand Repaired  \\\n",
       "0   golf     150000                  0    petrol  volkswagen      NaN   \n",
       "1    NaN     125000                  5  gasoline        audi      yes   \n",
       "2  grand     125000                  8  gasoline        jeep      NaN   \n",
       "3   golf     150000                  6    petrol  volkswagen       no   \n",
       "4  fabia      90000                  7  gasoline       skoda       no   \n",
       "\n",
       "           DateCreated  NumberOfPictures  PostalCode             LastSeen  \n",
       "0  2016-03-24 00:00:00                 0       70435  2016-04-07 03:16:57  \n",
       "1  2016-03-24 00:00:00                 0       66954  2016-04-07 01:46:50  \n",
       "2  2016-03-14 00:00:00                 0       90480  2016-04-05 12:47:46  \n",
       "3  2016-03-17 00:00:00                 0       91074  2016-03-17 17:40:17  \n",
       "4  2016-03-31 00:00:00                 0       60437  2016-04-06 10:17:21  "
      ]
     },
     "metadata": {},
     "output_type": "display_data"
    },
    {
     "name": "stdout",
     "output_type": "stream",
     "text": [
      "<class 'pandas.core.frame.DataFrame'>\n",
      "RangeIndex: 354369 entries, 0 to 354368\n",
      "Data columns (total 16 columns):\n",
      " #   Column             Non-Null Count   Dtype \n",
      "---  ------             --------------   ----- \n",
      " 0   DateCrawled        354369 non-null  object\n",
      " 1   Price              354369 non-null  int64 \n",
      " 2   VehicleType        316879 non-null  object\n",
      " 3   RegistrationYear   354369 non-null  int64 \n",
      " 4   Gearbox            334536 non-null  object\n",
      " 5   Power              354369 non-null  int64 \n",
      " 6   Model              334664 non-null  object\n",
      " 7   Kilometer          354369 non-null  int64 \n",
      " 8   RegistrationMonth  354369 non-null  int64 \n",
      " 9   FuelType           321474 non-null  object\n",
      " 10  Brand              354369 non-null  object\n",
      " 11  Repaired           283215 non-null  object\n",
      " 12  DateCreated        354369 non-null  object\n",
      " 13  NumberOfPictures   354369 non-null  int64 \n",
      " 14  PostalCode         354369 non-null  int64 \n",
      " 15  LastSeen           354369 non-null  object\n",
      "dtypes: int64(7), object(9)\n",
      "memory usage: 43.3+ MB\n"
     ]
    },
    {
     "data": {
      "text/plain": [
       "None"
      ]
     },
     "metadata": {},
     "output_type": "display_data"
    }
   ],
   "source": [
    "# загрузка и просмотр данных\n",
    "data = pd.read_csv('/datasets/autos.csv')\n",
    "display(data.head())\n",
    "display(data.info())"
   ]
  },
  {
   "cell_type": "code",
   "execution_count": 5,
   "metadata": {},
   "outputs": [
    {
     "data": {
      "text/plain": [
       "Index(['date_crawled', 'price', 'vehicle_type', 'registration_year', 'gearbox',\n",
       "       'power', 'model', 'kilometer', 'registration_month', 'fuel_type',\n",
       "       'brand', 'repaired', 'date_created', 'number_of_pictures',\n",
       "       'postal_code', 'last_seen'],\n",
       "      dtype='object')"
      ]
     },
     "metadata": {},
     "output_type": "display_data"
    }
   ],
   "source": [
    "# приведение названий столбцов к змеиному регистру\n",
    "data.columns = data.columns.str.lower().str.replace(' ', '_')\n",
    "\n",
    "data.rename(columns={\n",
    "    'datecrawled': 'date_crawled',\n",
    "    'vehicletype': 'vehicle_type',\n",
    "    'registrationyear': 'registration_year',\n",
    "    'registrationmonth': 'registration_month',\n",
    "    'fueltype': 'fuel_type',\n",
    "    'datecreated': 'date_created',\n",
    "    'numberofpictures': 'number_of_pictures',\n",
    "    'postalcode': 'postal_code',\n",
    "    'lastseen': 'last_seen'    \n",
    "}, inplace=True)\n",
    "\n",
    "# проверка\n",
    "display(data.columns)"
   ]
  },
  {
   "cell_type": "code",
   "execution_count": 6,
   "metadata": {},
   "outputs": [
    {
     "data": {
      "text/html": [
       "<div>\n",
       "<style scoped>\n",
       "    .dataframe tbody tr th:only-of-type {\n",
       "        vertical-align: middle;\n",
       "    }\n",
       "\n",
       "    .dataframe tbody tr th {\n",
       "        vertical-align: top;\n",
       "    }\n",
       "\n",
       "    .dataframe thead th {\n",
       "        text-align: right;\n",
       "    }\n",
       "</style>\n",
       "<table border=\"1\" class=\"dataframe\">\n",
       "  <thead>\n",
       "    <tr style=\"text-align: right;\">\n",
       "      <th></th>\n",
       "      <th>date_crawled</th>\n",
       "      <th>price</th>\n",
       "      <th>vehicle_type</th>\n",
       "      <th>registration_year</th>\n",
       "      <th>gearbox</th>\n",
       "      <th>power</th>\n",
       "      <th>model</th>\n",
       "      <th>kilometer</th>\n",
       "      <th>registration_month</th>\n",
       "      <th>fuel_type</th>\n",
       "      <th>brand</th>\n",
       "      <th>repaired</th>\n",
       "      <th>date_created</th>\n",
       "      <th>number_of_pictures</th>\n",
       "      <th>postal_code</th>\n",
       "      <th>last_seen</th>\n",
       "    </tr>\n",
       "  </thead>\n",
       "  <tbody>\n",
       "    <tr>\n",
       "      <th>0</th>\n",
       "      <td>2016-03-24 11:52:17</td>\n",
       "      <td>480</td>\n",
       "      <td>NaN</td>\n",
       "      <td>1993</td>\n",
       "      <td>manual</td>\n",
       "      <td>0</td>\n",
       "      <td>golf</td>\n",
       "      <td>150000</td>\n",
       "      <td>0</td>\n",
       "      <td>petrol</td>\n",
       "      <td>volkswagen</td>\n",
       "      <td>NaN</td>\n",
       "      <td>2016-03-24 00:00:00</td>\n",
       "      <td>0</td>\n",
       "      <td>70435</td>\n",
       "      <td>2016-04-07 03:16:57</td>\n",
       "    </tr>\n",
       "    <tr>\n",
       "      <th>1</th>\n",
       "      <td>2016-03-24 10:58:45</td>\n",
       "      <td>18300</td>\n",
       "      <td>coupe</td>\n",
       "      <td>2011</td>\n",
       "      <td>manual</td>\n",
       "      <td>190</td>\n",
       "      <td>NaN</td>\n",
       "      <td>125000</td>\n",
       "      <td>5</td>\n",
       "      <td>gasoline</td>\n",
       "      <td>audi</td>\n",
       "      <td>yes</td>\n",
       "      <td>2016-03-24 00:00:00</td>\n",
       "      <td>0</td>\n",
       "      <td>66954</td>\n",
       "      <td>2016-04-07 01:46:50</td>\n",
       "    </tr>\n",
       "    <tr>\n",
       "      <th>2</th>\n",
       "      <td>2016-03-14 12:52:21</td>\n",
       "      <td>9800</td>\n",
       "      <td>suv</td>\n",
       "      <td>2004</td>\n",
       "      <td>auto</td>\n",
       "      <td>163</td>\n",
       "      <td>grand</td>\n",
       "      <td>125000</td>\n",
       "      <td>8</td>\n",
       "      <td>gasoline</td>\n",
       "      <td>jeep</td>\n",
       "      <td>NaN</td>\n",
       "      <td>2016-03-14 00:00:00</td>\n",
       "      <td>0</td>\n",
       "      <td>90480</td>\n",
       "      <td>2016-04-05 12:47:46</td>\n",
       "    </tr>\n",
       "    <tr>\n",
       "      <th>3</th>\n",
       "      <td>2016-03-17 16:54:04</td>\n",
       "      <td>1500</td>\n",
       "      <td>small</td>\n",
       "      <td>2001</td>\n",
       "      <td>manual</td>\n",
       "      <td>75</td>\n",
       "      <td>golf</td>\n",
       "      <td>150000</td>\n",
       "      <td>6</td>\n",
       "      <td>petrol</td>\n",
       "      <td>volkswagen</td>\n",
       "      <td>no</td>\n",
       "      <td>2016-03-17 00:00:00</td>\n",
       "      <td>0</td>\n",
       "      <td>91074</td>\n",
       "      <td>2016-03-17 17:40:17</td>\n",
       "    </tr>\n",
       "    <tr>\n",
       "      <th>4</th>\n",
       "      <td>2016-03-31 17:25:20</td>\n",
       "      <td>3600</td>\n",
       "      <td>small</td>\n",
       "      <td>2008</td>\n",
       "      <td>manual</td>\n",
       "      <td>69</td>\n",
       "      <td>fabia</td>\n",
       "      <td>90000</td>\n",
       "      <td>7</td>\n",
       "      <td>gasoline</td>\n",
       "      <td>skoda</td>\n",
       "      <td>no</td>\n",
       "      <td>2016-03-31 00:00:00</td>\n",
       "      <td>0</td>\n",
       "      <td>60437</td>\n",
       "      <td>2016-04-06 10:17:21</td>\n",
       "    </tr>\n",
       "  </tbody>\n",
       "</table>\n",
       "</div>"
      ],
      "text/plain": [
       "          date_crawled  price vehicle_type  registration_year gearbox  power  \\\n",
       "0  2016-03-24 11:52:17    480          NaN               1993  manual      0   \n",
       "1  2016-03-24 10:58:45  18300        coupe               2011  manual    190   \n",
       "2  2016-03-14 12:52:21   9800          suv               2004    auto    163   \n",
       "3  2016-03-17 16:54:04   1500        small               2001  manual     75   \n",
       "4  2016-03-31 17:25:20   3600        small               2008  manual     69   \n",
       "\n",
       "   model  kilometer  registration_month fuel_type       brand repaired  \\\n",
       "0   golf     150000                   0    petrol  volkswagen      NaN   \n",
       "1    NaN     125000                   5  gasoline        audi      yes   \n",
       "2  grand     125000                   8  gasoline        jeep      NaN   \n",
       "3   golf     150000                   6    petrol  volkswagen       no   \n",
       "4  fabia      90000                   7  gasoline       skoda       no   \n",
       "\n",
       "          date_created  number_of_pictures  postal_code            last_seen  \n",
       "0  2016-03-24 00:00:00                   0        70435  2016-04-07 03:16:57  \n",
       "1  2016-03-24 00:00:00                   0        66954  2016-04-07 01:46:50  \n",
       "2  2016-03-14 00:00:00                   0        90480  2016-04-05 12:47:46  \n",
       "3  2016-03-17 00:00:00                   0        91074  2016-03-17 17:40:17  \n",
       "4  2016-03-31 00:00:00                   0        60437  2016-04-06 10:17:21  "
      ]
     },
     "metadata": {},
     "output_type": "display_data"
    },
    {
     "name": "stdout",
     "output_type": "stream",
     "text": [
      "<class 'pandas.core.frame.DataFrame'>\n",
      "RangeIndex: 354369 entries, 0 to 354368\n",
      "Data columns (total 16 columns):\n",
      " #   Column              Non-Null Count   Dtype \n",
      "---  ------              --------------   ----- \n",
      " 0   date_crawled        354369 non-null  object\n",
      " 1   price               354369 non-null  int64 \n",
      " 2   vehicle_type        316879 non-null  object\n",
      " 3   registration_year   354369 non-null  int64 \n",
      " 4   gearbox             334536 non-null  object\n",
      " 5   power               354369 non-null  int64 \n",
      " 6   model               334664 non-null  object\n",
      " 7   kilometer           354369 non-null  int64 \n",
      " 8   registration_month  354369 non-null  int64 \n",
      " 9   fuel_type           321474 non-null  object\n",
      " 10  brand               354369 non-null  object\n",
      " 11  repaired            283215 non-null  object\n",
      " 12  date_created        354369 non-null  object\n",
      " 13  number_of_pictures  354369 non-null  int64 \n",
      " 14  postal_code         354369 non-null  int64 \n",
      " 15  last_seen           354369 non-null  object\n",
      "dtypes: int64(7), object(9)\n",
      "memory usage: 43.3+ MB\n"
     ]
    },
    {
     "data": {
      "text/plain": [
       "None"
      ]
     },
     "metadata": {},
     "output_type": "display_data"
    }
   ],
   "source": [
    "# осмотр данных\n",
    "display(data.head())\n",
    "display(data.info())"
   ]
  },
  {
   "cell_type": "code",
   "execution_count": 7,
   "metadata": {
    "scrolled": true
   },
   "outputs": [
    {
     "data": {
      "text/plain": [
       "date_crawled              0\n",
       "price                     0\n",
       "vehicle_type          37490\n",
       "registration_year         0\n",
       "gearbox               19833\n",
       "power                     0\n",
       "model                 19705\n",
       "kilometer                 0\n",
       "registration_month        0\n",
       "fuel_type             32895\n",
       "brand                     0\n",
       "repaired              71154\n",
       "date_created              0\n",
       "number_of_pictures        0\n",
       "postal_code               0\n",
       "last_seen                 0\n",
       "dtype: int64"
      ]
     },
     "execution_count": 7,
     "metadata": {},
     "output_type": "execute_result"
    }
   ],
   "source": [
    "#посмотрим на количество пропусков\n",
    "data.isnull().sum()"
   ]
  },
  {
   "cell_type": "markdown",
   "metadata": {},
   "source": [
    "Видим, что в отдельных столбцах имеются пропуски. Заполним их позже. А пока посмотрим, имеются ли выбросы и аномалии в числовых столбцах"
   ]
  },
  {
   "cell_type": "code",
   "execution_count": 8,
   "metadata": {},
   "outputs": [
    {
     "data": {
      "image/png": "[encoded data removed]",
      "text/plain": [
       "<Figure size 720x432 with 1 Axes>"
      ]
     },
     "metadata": {
      "needs_background": "light"
     },
     "output_type": "display_data"
    },
    {
     "data": {
      "image/png": "[encoded data removed]",
      "text/plain": [
       "<Figure size 720x432 with 1 Axes>"
      ]
     },
     "metadata": {
      "needs_background": "light"
     },
     "output_type": "display_data"
    },
    {
     "data": {
      "image/png": "[encoded data removed]",
      "text/plain": [
       "<Figure size 720x432 with 1 Axes>"
      ]
     },
     "metadata": {
      "needs_background": "light"
     },
     "output_type": "display_data"
    },
    {
     "data": {
      "image/png": "[encoded data removed]",
      "text/plain": [
       "<Figure size 720x432 with 1 Axes>"
      ]
     },
     "metadata": {
      "needs_background": "light"
     },
     "output_type": "display_data"
    },
    {
     "data": {
      "image/png": "[encoded data removed]",
      "text/plain": [
       "<Figure size 720x432 with 1 Axes>"
      ]
     },
     "metadata": {
      "needs_background": "light"
     },
     "output_type": "display_data"
    },
    {
     "data": {
      "image/png": "[encoded data removed]",
      "text/plain": [
       "<Figure size 720x432 with 1 Axes>"
      ]
     },
     "metadata": {
      "needs_background": "light"
     },
     "output_type": "display_data"
    },
    {
     "data": {
      "image/png": "[encoded data removed]",
      "text/plain": [
       "<Figure size 720x432 with 1 Axes>"
      ]
     },
     "metadata": {
      "needs_background": "light"
     },
     "output_type": "display_data"
    }
   ],
   "source": [
    "# определение числовых столбцов\n",
    "numerical_columns = data.select_dtypes(include=['int64']).columns\n",
    "\n",
    "# построение диаграмм boxplot для каждого числового столбца\n",
    "for column in numerical_columns:\n",
    "    plt.figure(figsize=(10, 6))\n",
    "    sns.boxplot(x=data[column])\n",
    "    plt.title(f'Боксплот для столбца {column}')\n",
    "    plt.xlabel(column)\n",
    "    plt.show()"
   ]
  },
  {
   "cell_type": "markdown",
   "metadata": {},
   "source": [
    "Неверные значения (аномалии) имеются в столбцах года регистрации и мощности. Построим гистограммы и применим метод .describe()"
   ]
  },
  {
   "cell_type": "code",
   "execution_count": 9,
   "metadata": {},
   "outputs": [
    {
     "data": {
      "image/png": "[encoded data removed]",
      "text/plain": [
       "<Figure size 720x432 with 1 Axes>"
      ]
     },
     "metadata": {
      "needs_background": "light"
     },
     "output_type": "display_data"
    },
    {
     "data": {
      "image/png": "[encoded data removed]",
      "text/plain": [
       "<Figure size 720x432 with 1 Axes>"
      ]
     },
     "metadata": {
      "needs_background": "light"
     },
     "output_type": "display_data"
    },
    {
     "data": {
      "image/png": "[encoded data removed]",
      "text/plain": [
       "<Figure size 720x432 with 1 Axes>"
      ]
     },
     "metadata": {
      "needs_background": "light"
     },
     "output_type": "display_data"
    },
    {
     "data": {
      "image/png": "[encoded data removed]",
      "text/plain": [
       "<Figure size 720x432 with 1 Axes>"
      ]
     },
     "metadata": {
      "needs_background": "light"
     },
     "output_type": "display_data"
    },
    {
     "data": {
      "image/png": "[encoded data removed]",
      "text/plain": [
       "<Figure size 720x432 with 1 Axes>"
      ]
     },
     "metadata": {
      "needs_background": "light"
     },
     "output_type": "display_data"
    },
    {
     "name": "stderr",
     "output_type": "stream",
     "text": [
      "/opt/conda/lib/python3.9/site-packages/seaborn/distributions.py:306: UserWarning: Dataset has 0 variance; skipping density estimate.\n",
      "  warnings.warn(msg, UserWarning)\n"
     ]
    },
    {
     "data": {
      "image/png": "[encoded data removed]",
      "text/plain": [
       "<Figure size 720x432 with 1 Axes>"
      ]
     },
     "metadata": {
      "needs_background": "light"
     },
     "output_type": "display_data"
    },
    {
     "data": {
      "image/png": "[encoded data removed]",
      "text/plain": [
       "<Figure size 720x432 with 1 Axes>"
      ]
     },
     "metadata": {
      "needs_background": "light"
     },
     "output_type": "display_data"
    }
   ],
   "source": [
    "# Построение гистограмм\n",
    "for column in numerical_columns:\n",
    "    plt.figure(figsize=(10, 6))\n",
    "    sns.histplot(data[column], kde=True)\n",
    "    plt.title(f'Гистограмма столбца {column}')\n",
    "    plt.xlabel(column)\n",
    "    plt.ylabel('Частота')\n",
    "    plt.show()"
   ]
  },
  {
   "cell_type": "code",
   "execution_count": 10,
   "metadata": {
    "scrolled": true
   },
   "outputs": [
    {
     "data": {
      "text/html": [
       "<div>\n",
       "<style scoped>\n",
       "    .dataframe tbody tr th:only-of-type {\n",
       "        vertical-align: middle;\n",
       "    }\n",
       "\n",
       "    .dataframe tbody tr th {\n",
       "        vertical-align: top;\n",
       "    }\n",
       "\n",
       "    .dataframe thead th {\n",
       "        text-align: right;\n",
       "    }\n",
       "</style>\n",
       "<table border=\"1\" class=\"dataframe\">\n",
       "  <thead>\n",
       "    <tr style=\"text-align: right;\">\n",
       "      <th></th>\n",
       "      <th>price</th>\n",
       "      <th>registration_year</th>\n",
       "      <th>power</th>\n",
       "      <th>kilometer</th>\n",
       "      <th>registration_month</th>\n",
       "      <th>number_of_pictures</th>\n",
       "      <th>postal_code</th>\n",
       "    </tr>\n",
       "  </thead>\n",
       "  <tbody>\n",
       "    <tr>\n",
       "      <th>count</th>\n",
       "      <td>354369.000000</td>\n",
       "      <td>354369.000000</td>\n",
       "      <td>354369.000000</td>\n",
       "      <td>354369.000000</td>\n",
       "      <td>354369.000000</td>\n",
       "      <td>354369.0</td>\n",
       "      <td>354369.000000</td>\n",
       "    </tr>\n",
       "    <tr>\n",
       "      <th>mean</th>\n",
       "      <td>4416.656776</td>\n",
       "      <td>2004.234448</td>\n",
       "      <td>110.094337</td>\n",
       "      <td>128211.172535</td>\n",
       "      <td>5.714645</td>\n",
       "      <td>0.0</td>\n",
       "      <td>50508.689087</td>\n",
       "    </tr>\n",
       "    <tr>\n",
       "      <th>std</th>\n",
       "      <td>4514.158514</td>\n",
       "      <td>90.227958</td>\n",
       "      <td>189.850405</td>\n",
       "      <td>37905.341530</td>\n",
       "      <td>3.726421</td>\n",
       "      <td>0.0</td>\n",
       "      <td>25783.096248</td>\n",
       "    </tr>\n",
       "    <tr>\n",
       "      <th>min</th>\n",
       "      <td>0.000000</td>\n",
       "      <td>1000.000000</td>\n",
       "      <td>0.000000</td>\n",
       "      <td>5000.000000</td>\n",
       "      <td>0.000000</td>\n",
       "      <td>0.0</td>\n",
       "      <td>1067.000000</td>\n",
       "    </tr>\n",
       "    <tr>\n",
       "      <th>25%</th>\n",
       "      <td>1050.000000</td>\n",
       "      <td>1999.000000</td>\n",
       "      <td>69.000000</td>\n",
       "      <td>125000.000000</td>\n",
       "      <td>3.000000</td>\n",
       "      <td>0.0</td>\n",
       "      <td>30165.000000</td>\n",
       "    </tr>\n",
       "    <tr>\n",
       "      <th>50%</th>\n",
       "      <td>2700.000000</td>\n",
       "      <td>2003.000000</td>\n",
       "      <td>105.000000</td>\n",
       "      <td>150000.000000</td>\n",
       "      <td>6.000000</td>\n",
       "      <td>0.0</td>\n",
       "      <td>49413.000000</td>\n",
       "    </tr>\n",
       "    <tr>\n",
       "      <th>75%</th>\n",
       "      <td>6400.000000</td>\n",
       "      <td>2008.000000</td>\n",
       "      <td>143.000000</td>\n",
       "      <td>150000.000000</td>\n",
       "      <td>9.000000</td>\n",
       "      <td>0.0</td>\n",
       "      <td>71083.000000</td>\n",
       "    </tr>\n",
       "    <tr>\n",
       "      <th>max</th>\n",
       "      <td>20000.000000</td>\n",
       "      <td>9999.000000</td>\n",
       "      <td>20000.000000</td>\n",
       "      <td>150000.000000</td>\n",
       "      <td>12.000000</td>\n",
       "      <td>0.0</td>\n",
       "      <td>99998.000000</td>\n",
       "    </tr>\n",
       "  </tbody>\n",
       "</table>\n",
       "</div>"
      ],
      "text/plain": [
       "               price  registration_year          power      kilometer  \\\n",
       "count  354369.000000      354369.000000  354369.000000  354369.000000   \n",
       "mean     4416.656776        2004.234448     110.094337  128211.172535   \n",
       "std      4514.158514          90.227958     189.850405   37905.341530   \n",
       "min         0.000000        1000.000000       0.000000    5000.000000   \n",
       "25%      1050.000000        1999.000000      69.000000  125000.000000   \n",
       "50%      2700.000000        2003.000000     105.000000  150000.000000   \n",
       "75%      6400.000000        2008.000000     143.000000  150000.000000   \n",
       "max     20000.000000        9999.000000   20000.000000  150000.000000   \n",
       "\n",
       "       registration_month  number_of_pictures    postal_code  \n",
       "count       354369.000000            354369.0  354369.000000  \n",
       "mean             5.714645                 0.0   50508.689087  \n",
       "std              3.726421                 0.0   25783.096248  \n",
       "min              0.000000                 0.0    1067.000000  \n",
       "25%              3.000000                 0.0   30165.000000  \n",
       "50%              6.000000                 0.0   49413.000000  \n",
       "75%              9.000000                 0.0   71083.000000  \n",
       "max             12.000000                 0.0   99998.000000  "
      ]
     },
     "execution_count": 10,
     "metadata": {},
     "output_type": "execute_result"
    }
   ],
   "source": [
    "# применение .describe() к числовым столбцам\n",
    "data[numerical_columns].describe()"
   ]
  },
  {
   "cell_type": "markdown",
   "metadata": {},
   "source": [
    "Построим гистограммы покрупнее, чтобы увидеть реальные диапазоны мощности и года регистрации автомобилей"
   ]
  },
  {
   "cell_type": "code",
   "execution_count": 11,
   "metadata": {},
   "outputs": [
    {
     "data": {
      "image/png": "[encoded data removed]",
      "text/plain": [
       "<Figure size 1440x720 with 1 Axes>"
      ]
     },
     "metadata": {
      "needs_background": "light"
     },
     "output_type": "display_data"
    }
   ],
   "source": [
    "plt.figure(figsize=(20, 10))\n",
    "\n",
    "# Построение гистограммы с мощностью\n",
    "sns.histplot(data['power'], kde=True, bins=30)\n",
    "\n",
    "# установка лимитов\n",
    "plt.xlim(0, 700)\n",
    "\n",
    "# Настройка заголовка и подписей осей\n",
    "plt.title('Гистограмма мощности')\n",
    "plt.xlabel('Мощность в л.с.')\n",
    "plt.ylabel('Частота')\n",
    "\n",
    "# Отображение графика\n",
    "plt.show()"
   ]
  },
  {
   "cell_type": "code",
   "execution_count": 12,
   "metadata": {},
   "outputs": [
    {
     "data": {
      "image/png": "[encoded data removed]",
      "text/plain": [
       "<Figure size 720x720 with 1 Axes>"
      ]
     },
     "metadata": {
      "needs_background": "light"
     },
     "output_type": "display_data"
    }
   ],
   "source": [
    "# Гистограмма для года регистрации с лимитами\n",
    "plt.figure(figsize=(10, 10))\n",
    "sns.histplot(data['registration_year'], kde=True, bins=30)\n",
    "plt.xlim(1900, 2024)\n",
    "plt.title('Гистограмма по году регистрации')\n",
    "plt.xlabel('Год регистрации')\n",
    "plt.ylabel('Частота')\n",
    "plt.show()"
   ]
  },
  {
   "cell_type": "markdown",
   "metadata": {},
   "source": [
    "Видим, что годы регистрации автомобилей: 1950-2020 гг., а диапазон мощности - до 700 л.с."
   ]
  },
  {
   "cell_type": "markdown",
   "metadata": {},
   "source": [
    "Посмотрим на уникальные значения категориальных столбцов"
   ]
  },
  {
   "cell_type": "code",
   "execution_count": 13,
   "metadata": {
    "scrolled": true
   },
   "outputs": [
    {
     "data": {
      "text/plain": [
       "array([nan, 'coupe', 'suv', 'small', 'sedan', 'convertible', 'bus',\n",
       "       'wagon', 'other'], dtype=object)"
      ]
     },
     "metadata": {},
     "output_type": "display_data"
    },
    {
     "data": {
      "text/plain": [
       "array(['manual', 'auto', nan], dtype=object)"
      ]
     },
     "metadata": {},
     "output_type": "display_data"
    },
    {
     "data": {
      "text/plain": [
       "array(['petrol', 'gasoline', nan, 'lpg', 'other', 'hybrid', 'cng',\n",
       "       'electric'], dtype=object)"
      ]
     },
     "metadata": {},
     "output_type": "display_data"
    },
    {
     "data": {
      "text/plain": [
       "array(['golf', nan, 'grand', 'fabia', '3er', '2_reihe', 'other', 'c_max',\n",
       "       '3_reihe', 'passat', 'navara', 'ka', 'polo', 'twingo', 'a_klasse',\n",
       "       'scirocco', '5er', 'meriva', 'arosa', 'c4', 'civic', 'transporter',\n",
       "       'punto', 'e_klasse', 'clio', 'kadett', 'kangoo', 'corsa', 'one',\n",
       "       'fortwo', '1er', 'b_klasse', 'signum', 'astra', 'a8', 'jetta',\n",
       "       'fiesta', 'c_klasse', 'micra', 'vito', 'sprinter', '156', 'escort',\n",
       "       'forester', 'xc_reihe', 'scenic', 'a4', 'a1', 'insignia', 'combo',\n",
       "       'focus', 'tt', 'a6', 'jazz', 'omega', 'slk', '7er', '80', '147',\n",
       "       '100', 'z_reihe', 'sportage', 'sorento', 'v40', 'ibiza', 'mustang',\n",
       "       'eos', 'touran', 'getz', 'a3', 'almera', 'megane', 'lupo', 'r19',\n",
       "       'zafira', 'caddy', 'mondeo', 'cordoba', 'colt', 'impreza',\n",
       "       'vectra', 'berlingo', 'tiguan', 'i_reihe', 'espace', 'sharan',\n",
       "       '6_reihe', 'panda', 'up', 'seicento', 'ceed', '5_reihe', 'yeti',\n",
       "       'octavia', 'mii', 'rx_reihe', '6er', 'modus', 'fox', 'matiz',\n",
       "       'beetle', 'c1', 'rio', 'touareg', 'logan', 'spider', 'cuore',\n",
       "       's_max', 'a2', 'galaxy', 'c3', 'viano', 's_klasse', '1_reihe',\n",
       "       'avensis', 'roomster', 'sl', 'kaefer', 'santa', 'cooper', 'leon',\n",
       "       '4_reihe', 'a5', '500', 'laguna', 'ptcruiser', 'clk', 'primera',\n",
       "       'x_reihe', 'exeo', '159', 'transit', 'juke', 'qashqai', 'carisma',\n",
       "       'accord', 'corolla', 'lanos', 'phaeton', 'verso', 'swift', 'rav',\n",
       "       'picanto', 'boxster', 'kalos', 'superb', 'stilo', 'alhambra',\n",
       "       'mx_reihe', 'roadster', 'ypsilon', 'cayenne', 'galant', 'justy',\n",
       "       '90', 'sirion', 'crossfire', 'agila', 'duster', 'cr_reihe', 'v50',\n",
       "       'c_reihe', 'v_klasse', 'm_klasse', 'yaris', 'c5', 'aygo', 'cc',\n",
       "       'carnival', 'fusion', '911', 'bora', 'forfour', 'm_reihe', 'cl',\n",
       "       'tigra', '300c', 'spark', 'v70', 'kuga', 'x_type', 'ducato',\n",
       "       's_type', 'x_trail', 'toledo', 'altea', 'voyager', 'calibra',\n",
       "       'bravo', 'antara', 'tucson', 'citigo', 'jimny', 'wrangler',\n",
       "       'lybra', 'q7', 'lancer', 'captiva', 'c2', 'discovery',\n",
       "       'freelander', 'sandero', 'note', '900', 'cherokee', 'clubman',\n",
       "       'samara', 'defender', '601', 'cx_reihe', 'legacy', 'pajero',\n",
       "       'auris', 'niva', 's60', 'nubira', 'vivaro', 'g_klasse', 'lodgy',\n",
       "       '850', 'range_rover', 'q3', 'serie_2', 'glk', 'charade', 'croma',\n",
       "       'outlander', 'doblo', 'musa', 'move', '9000', 'v60', '145', 'aveo',\n",
       "       '200', 'b_max', 'range_rover_sport', 'terios', 'rangerover', 'q5',\n",
       "       'range_rover_evoque', 'materia', 'delta', 'gl', 'kalina', 'amarok',\n",
       "       'elefantino', 'i3', 'kappa', 'serie_3', 'serie_1'], dtype=object)"
      ]
     },
     "metadata": {},
     "output_type": "display_data"
    },
    {
     "data": {
      "text/plain": [
       "array([nan, 'yes', 'no'], dtype=object)"
      ]
     },
     "metadata": {},
     "output_type": "display_data"
    }
   ],
   "source": [
    "display(data['vehicle_type'].unique())\n",
    "display(data['gearbox'].unique())\n",
    "display(data['fuel_type'].unique())\n",
    "display(data['model'].unique())\n",
    "display(data['repaired'].unique())"
   ]
  },
  {
   "cell_type": "markdown",
   "metadata": {},
   "source": [
    "В английском значения Petrol и Gasoline означают одно и тоже (автомобили с бензиновым двигателем). Наименования отличаются в различных англоязычных странах (США и Великобритания). Заменим одно значение на другое, чтобы было удобнее"
   ]
  },
  {
   "cell_type": "code",
   "execution_count": 14,
   "metadata": {},
   "outputs": [],
   "source": [
    "data['fuel_type'] = data['fuel_type'].replace('petrol', 'gasoline')"
   ]
  },
  {
   "cell_type": "code",
   "execution_count": 15,
   "metadata": {},
   "outputs": [],
   "source": [
    "# Замена значений 'rangerover' на 'range_rover' в столбце 'model'\n",
    "data['model'] = data['model'].replace('rangerover', 'range_rover')"
   ]
  },
  {
   "cell_type": "markdown",
   "metadata": {},
   "source": [
    "Пропуски в категориальных столбцах заменим на \"Other\" (\"Другое\")"
   ]
  },
  {
   "cell_type": "code",
   "execution_count": 16,
   "metadata": {},
   "outputs": [],
   "source": [
    "categorical_columns = ['vehicle_type', 'gearbox', 'fuel_type', 'model', 'repaired']\n",
    "data[categorical_columns] = data[categorical_columns].fillna('other')"
   ]
  },
  {
   "cell_type": "markdown",
   "metadata": {},
   "source": [
    "Заменим аномальные значения в годе регистрации и мощности. Сгруппируем по модели и бренду и сделаем замену. Синхронизируем год регистрации с годом добавления объявления.\n",
    "Также удалим строки с нулевой мощностью и ценой"
   ]
  },
  {
   "cell_type": "code",
   "execution_count": 17,
   "metadata": {},
   "outputs": [
    {
     "data": {
      "text/html": [
       "<div>\n",
       "<style scoped>\n",
       "    .dataframe tbody tr th:only-of-type {\n",
       "        vertical-align: middle;\n",
       "    }\n",
       "\n",
       "    .dataframe tbody tr th {\n",
       "        vertical-align: top;\n",
       "    }\n",
       "\n",
       "    .dataframe thead th {\n",
       "        text-align: right;\n",
       "    }\n",
       "</style>\n",
       "<table border=\"1\" class=\"dataframe\">\n",
       "  <thead>\n",
       "    <tr style=\"text-align: right;\">\n",
       "      <th></th>\n",
       "      <th>registration_year</th>\n",
       "      <th>power</th>\n",
       "    </tr>\n",
       "  </thead>\n",
       "  <tbody>\n",
       "    <tr>\n",
       "      <th>count</th>\n",
       "      <td>289652.000000</td>\n",
       "      <td>289652.000000</td>\n",
       "    </tr>\n",
       "    <tr>\n",
       "      <th>mean</th>\n",
       "      <td>2003.081146</td>\n",
       "      <td>123.028243</td>\n",
       "    </tr>\n",
       "    <tr>\n",
       "      <th>std</th>\n",
       "      <td>6.334147</td>\n",
       "      <td>53.517058</td>\n",
       "    </tr>\n",
       "    <tr>\n",
       "      <th>min</th>\n",
       "      <td>1950.000000</td>\n",
       "      <td>26.000000</td>\n",
       "    </tr>\n",
       "    <tr>\n",
       "      <th>25%</th>\n",
       "      <td>2000.000000</td>\n",
       "      <td>82.000000</td>\n",
       "    </tr>\n",
       "    <tr>\n",
       "      <th>50%</th>\n",
       "      <td>2003.000000</td>\n",
       "      <td>115.000000</td>\n",
       "    </tr>\n",
       "    <tr>\n",
       "      <th>75%</th>\n",
       "      <td>2007.000000</td>\n",
       "      <td>150.000000</td>\n",
       "    </tr>\n",
       "    <tr>\n",
       "      <th>max</th>\n",
       "      <td>2016.000000</td>\n",
       "      <td>700.000000</td>\n",
       "    </tr>\n",
       "  </tbody>\n",
       "</table>\n",
       "</div>"
      ],
      "text/plain": [
       "       registration_year          power\n",
       "count      289652.000000  289652.000000\n",
       "mean         2003.081146     123.028243\n",
       "std             6.334147      53.517058\n",
       "min          1950.000000      26.000000\n",
       "25%          2000.000000      82.000000\n",
       "50%          2003.000000     115.000000\n",
       "75%          2007.000000     150.000000\n",
       "max          2016.000000     700.000000"
      ]
     },
     "metadata": {},
     "output_type": "display_data"
    }
   ],
   "source": [
    "# определение границ для регистрации года и мощности\n",
    "registration_year_min = 1950\n",
    "\n",
    "# преобразование столбца date_crawled в формат datetime\n",
    "data['date_crawled'] = pd.to_datetime(data['date_crawled'], format='%Y-%m-%d %H:%M:%S')\n",
    "\n",
    "# определение максимальной даты выгрузки данных\n",
    "max_crawled_date = data['date_crawled'].max()\n",
    "\n",
    "# установка верхней границы для registration_year на основе года максимальной даты выгрузки\n",
    "registration_year_max = max_crawled_date.year\n",
    "\n",
    "# удаление строк с нулевыми значениями мощности и цены\n",
    "data = data[(data['power'] > 0) & (data['price'] > 0)]\n",
    "\n",
    "# удаление строк с низкими значениями цен (например, менее 500 евро)\n",
    "min_price_threshold = 500\n",
    "data = data[data['price'] >= min_price_threshold]\n",
    "\n",
    "# установка порогов для мощности\n",
    "power_min = 50\n",
    "power_max = 700\n",
    "\n",
    "# Функция замены выбросов на медианное значение\n",
    "def replace_outliers_with_median(group, lower_bound, upper_bound):\n",
    "    median_value = group.median()\n",
    "    return group.apply(lambda x: median_value if x < lower_bound or x > upper_bound else x)\n",
    "\n",
    "# Применение функции к столбцу registration_year\n",
    "data['registration_year'] = data.groupby(['brand', 'model'])['registration_year'].apply(\n",
    "    replace_outliers_with_median, lower_bound=registration_year_min, upper_bound=registration_year_max)\n",
    "\n",
    "# Применение функции к столбцу power\n",
    "data['power'] = data.groupby(['brand', 'model'])['power'].apply(\n",
    "    replace_outliers_with_median, lower_bound=power_min, upper_bound=power_max)\n",
    "\n",
    "# Проверка изменений\n",
    "display(data[['registration_year', 'power']].describe())"
   ]
  },
  {
   "cell_type": "code",
   "execution_count": 18,
   "metadata": {},
   "outputs": [
    {
     "data": {
      "text/plain": [
       "date_crawled          0\n",
       "price                 0\n",
       "vehicle_type          0\n",
       "registration_year     0\n",
       "gearbox               0\n",
       "power                 0\n",
       "model                 0\n",
       "kilometer             0\n",
       "registration_month    0\n",
       "fuel_type             0\n",
       "brand                 0\n",
       "repaired              0\n",
       "date_created          0\n",
       "number_of_pictures    0\n",
       "postal_code           0\n",
       "last_seen             0\n",
       "dtype: int64"
      ]
     },
     "metadata": {},
     "output_type": "display_data"
    }
   ],
   "source": [
    "# Проверка пропущенных значений после обработки\n",
    "display(data.isnull().sum())"
   ]
  },
  {
   "cell_type": "markdown",
   "metadata": {},
   "source": [
    "###### Можно удалить следующие неинформативные столбцы:\n",
    "- 'date_crawled' - дата скачивания анкеты\n",
    "\n",
    "- 'date_created' - дата создания анкеты\n",
    "\n",
    "- 'last_seen' - последняя активность пользователя\n",
    "\n",
    "- 'number_of_pictures' - количество фотографий (везде 0)\n",
    "\n",
    "- 'postal_code' - почтовый индекс\n",
    "\n",
    "- 'registration_month' - месяц регистрации автомобиля"
   ]
  },
  {
   "cell_type": "code",
   "execution_count": 19,
   "metadata": {},
   "outputs": [],
   "source": [
    "# Удаление ненужных столбцов\n",
    "data = data.drop(columns=['date_crawled', 'date_created', 'last_seen', 'number_of_pictures', 'registration_month', 'postal_code'])"
   ]
  },
  {
   "cell_type": "code",
   "execution_count": 20,
   "metadata": {},
   "outputs": [
    {
     "name": "stdout",
     "output_type": "stream",
     "text": [
      "Количество явных дубликатов: 39521\n",
      "Дубликаты удалены.\n"
     ]
    }
   ],
   "source": [
    "# Проверка на наличие явных дубликатов\n",
    "duplicate_rows = data.duplicated()\n",
    "\n",
    "# Вывод количества дубликатов\n",
    "print(f\"Количество явных дубликатов: {duplicate_rows.sum()}\")\n",
    "\n",
    "# Если есть дубликаты, их можно удалить\n",
    "if duplicate_rows.sum() > 0:\n",
    "    data = data.drop_duplicates()\n",
    "    print(\"Дубликаты удалены.\")\n",
    "else:\n",
    "    print(\"Дубликатов не найдено.\")"
   ]
  },
  {
   "cell_type": "code",
   "execution_count": 21,
   "metadata": {},
   "outputs": [
    {
     "data": {
      "text/html": [
       "<div>\n",
       "<style scoped>\n",
       "    .dataframe tbody tr th:only-of-type {\n",
       "        vertical-align: middle;\n",
       "    }\n",
       "\n",
       "    .dataframe tbody tr th {\n",
       "        vertical-align: top;\n",
       "    }\n",
       "\n",
       "    .dataframe thead th {\n",
       "        text-align: right;\n",
       "    }\n",
       "</style>\n",
       "<table border=\"1\" class=\"dataframe\">\n",
       "  <thead>\n",
       "    <tr style=\"text-align: right;\">\n",
       "      <th></th>\n",
       "      <th>price</th>\n",
       "      <th>vehicle_type</th>\n",
       "      <th>registration_year</th>\n",
       "      <th>gearbox</th>\n",
       "      <th>power</th>\n",
       "      <th>model</th>\n",
       "      <th>kilometer</th>\n",
       "      <th>fuel_type</th>\n",
       "      <th>brand</th>\n",
       "      <th>repaired</th>\n",
       "    </tr>\n",
       "  </thead>\n",
       "  <tbody>\n",
       "    <tr>\n",
       "      <th>1</th>\n",
       "      <td>18300</td>\n",
       "      <td>coupe</td>\n",
       "      <td>2011.0</td>\n",
       "      <td>manual</td>\n",
       "      <td>190.0</td>\n",
       "      <td>other</td>\n",
       "      <td>125000</td>\n",
       "      <td>gasoline</td>\n",
       "      <td>audi</td>\n",
       "      <td>yes</td>\n",
       "    </tr>\n",
       "    <tr>\n",
       "      <th>2</th>\n",
       "      <td>9800</td>\n",
       "      <td>suv</td>\n",
       "      <td>2004.0</td>\n",
       "      <td>auto</td>\n",
       "      <td>163.0</td>\n",
       "      <td>grand</td>\n",
       "      <td>125000</td>\n",
       "      <td>gasoline</td>\n",
       "      <td>jeep</td>\n",
       "      <td>other</td>\n",
       "    </tr>\n",
       "    <tr>\n",
       "      <th>3</th>\n",
       "      <td>1500</td>\n",
       "      <td>small</td>\n",
       "      <td>2001.0</td>\n",
       "      <td>manual</td>\n",
       "      <td>75.0</td>\n",
       "      <td>golf</td>\n",
       "      <td>150000</td>\n",
       "      <td>gasoline</td>\n",
       "      <td>volkswagen</td>\n",
       "      <td>no</td>\n",
       "    </tr>\n",
       "    <tr>\n",
       "      <th>4</th>\n",
       "      <td>3600</td>\n",
       "      <td>small</td>\n",
       "      <td>2008.0</td>\n",
       "      <td>manual</td>\n",
       "      <td>69.0</td>\n",
       "      <td>fabia</td>\n",
       "      <td>90000</td>\n",
       "      <td>gasoline</td>\n",
       "      <td>skoda</td>\n",
       "      <td>no</td>\n",
       "    </tr>\n",
       "    <tr>\n",
       "      <th>5</th>\n",
       "      <td>650</td>\n",
       "      <td>sedan</td>\n",
       "      <td>1995.0</td>\n",
       "      <td>manual</td>\n",
       "      <td>102.0</td>\n",
       "      <td>3er</td>\n",
       "      <td>150000</td>\n",
       "      <td>gasoline</td>\n",
       "      <td>bmw</td>\n",
       "      <td>yes</td>\n",
       "    </tr>\n",
       "  </tbody>\n",
       "</table>\n",
       "</div>"
      ],
      "text/plain": [
       "   price vehicle_type  registration_year gearbox  power  model  kilometer  \\\n",
       "1  18300        coupe             2011.0  manual  190.0  other     125000   \n",
       "2   9800          suv             2004.0    auto  163.0  grand     125000   \n",
       "3   1500        small             2001.0  manual   75.0   golf     150000   \n",
       "4   3600        small             2008.0  manual   69.0  fabia      90000   \n",
       "5    650        sedan             1995.0  manual  102.0    3er     150000   \n",
       "\n",
       "  fuel_type       brand repaired  \n",
       "1  gasoline        audi      yes  \n",
       "2  gasoline        jeep    other  \n",
       "3  gasoline  volkswagen       no  \n",
       "4  gasoline       skoda       no  \n",
       "5  gasoline         bmw      yes  "
      ]
     },
     "metadata": {},
     "output_type": "display_data"
    },
    {
     "name": "stdout",
     "output_type": "stream",
     "text": [
      "<class 'pandas.core.frame.DataFrame'>\n",
      "Int64Index: 250131 entries, 1 to 354368\n",
      "Data columns (total 10 columns):\n",
      " #   Column             Non-Null Count   Dtype  \n",
      "---  ------             --------------   -----  \n",
      " 0   price              250131 non-null  int64  \n",
      " 1   vehicle_type       250131 non-null  object \n",
      " 2   registration_year  250131 non-null  float64\n",
      " 3   gearbox            250131 non-null  object \n",
      " 4   power              250131 non-null  float64\n",
      " 5   model              250131 non-null  object \n",
      " 6   kilometer          250131 non-null  int64  \n",
      " 7   fuel_type          250131 non-null  object \n",
      " 8   brand              250131 non-null  object \n",
      " 9   repaired           250131 non-null  object \n",
      "dtypes: float64(2), int64(2), object(6)\n",
      "memory usage: 21.0+ MB\n"
     ]
    },
    {
     "data": {
      "text/plain": [
       "None"
      ]
     },
     "metadata": {},
     "output_type": "display_data"
    },
    {
     "data": {
      "text/html": [
       "<div>\n",
       "<style scoped>\n",
       "    .dataframe tbody tr th:only-of-type {\n",
       "        vertical-align: middle;\n",
       "    }\n",
       "\n",
       "    .dataframe tbody tr th {\n",
       "        vertical-align: top;\n",
       "    }\n",
       "\n",
       "    .dataframe thead th {\n",
       "        text-align: right;\n",
       "    }\n",
       "</style>\n",
       "<table border=\"1\" class=\"dataframe\">\n",
       "  <thead>\n",
       "    <tr style=\"text-align: right;\">\n",
       "      <th></th>\n",
       "      <th>price</th>\n",
       "      <th>registration_year</th>\n",
       "      <th>power</th>\n",
       "      <th>kilometer</th>\n",
       "    </tr>\n",
       "  </thead>\n",
       "  <tbody>\n",
       "    <tr>\n",
       "      <th>count</th>\n",
       "      <td>250131.000000</td>\n",
       "      <td>250131.000000</td>\n",
       "      <td>250131.000000</td>\n",
       "      <td>250131.000000</td>\n",
       "    </tr>\n",
       "    <tr>\n",
       "      <th>mean</th>\n",
       "      <td>5196.671640</td>\n",
       "      <td>2003.152312</td>\n",
       "      <td>124.175882</td>\n",
       "      <td>126686.896066</td>\n",
       "    </tr>\n",
       "    <tr>\n",
       "      <th>std</th>\n",
       "      <td>4632.114199</td>\n",
       "      <td>6.479573</td>\n",
       "      <td>53.825103</td>\n",
       "      <td>37629.903874</td>\n",
       "    </tr>\n",
       "    <tr>\n",
       "      <th>min</th>\n",
       "      <td>500.000000</td>\n",
       "      <td>1950.000000</td>\n",
       "      <td>26.000000</td>\n",
       "      <td>5000.000000</td>\n",
       "    </tr>\n",
       "    <tr>\n",
       "      <th>25%</th>\n",
       "      <td>1600.000000</td>\n",
       "      <td>2000.000000</td>\n",
       "      <td>85.000000</td>\n",
       "      <td>125000.000000</td>\n",
       "    </tr>\n",
       "    <tr>\n",
       "      <th>50%</th>\n",
       "      <td>3500.000000</td>\n",
       "      <td>2004.000000</td>\n",
       "      <td>116.000000</td>\n",
       "      <td>150000.000000</td>\n",
       "    </tr>\n",
       "    <tr>\n",
       "      <th>75%</th>\n",
       "      <td>7499.000000</td>\n",
       "      <td>2007.000000</td>\n",
       "      <td>150.000000</td>\n",
       "      <td>150000.000000</td>\n",
       "    </tr>\n",
       "    <tr>\n",
       "      <th>max</th>\n",
       "      <td>20000.000000</td>\n",
       "      <td>2016.000000</td>\n",
       "      <td>700.000000</td>\n",
       "      <td>150000.000000</td>\n",
       "    </tr>\n",
       "  </tbody>\n",
       "</table>\n",
       "</div>"
      ],
      "text/plain": [
       "               price  registration_year          power      kilometer\n",
       "count  250131.000000      250131.000000  250131.000000  250131.000000\n",
       "mean     5196.671640        2003.152312     124.175882  126686.896066\n",
       "std      4632.114199           6.479573      53.825103   37629.903874\n",
       "min       500.000000        1950.000000      26.000000    5000.000000\n",
       "25%      1600.000000        2000.000000      85.000000  125000.000000\n",
       "50%      3500.000000        2004.000000     116.000000  150000.000000\n",
       "75%      7499.000000        2007.000000     150.000000  150000.000000\n",
       "max     20000.000000        2016.000000     700.000000  150000.000000"
      ]
     },
     "metadata": {},
     "output_type": "display_data"
    }
   ],
   "source": [
    "# осмотр данных после подготовки\n",
    "display(data.head())\n",
    "display(data.info())\n",
    "display(data.describe())"
   ]
  },
  {
   "cell_type": "markdown",
   "metadata": {},
   "source": [
    "###### Корреляционный анализ"
   ]
  },
  {
   "cell_type": "code",
   "execution_count": 22,
   "metadata": {},
   "outputs": [],
   "source": [
    "# Определение числовых и категориальных признаков\n",
    "interval_cols = ['price', 'power']  # Непрерывные признаки\n",
    "categorical_cols = ['vehicle_type', 'gearbox', 'fuel_type', 'model', 'brand', 'repaired']  # Категориальные признаки"
   ]
  },
  {
   "cell_type": "code",
   "execution_count": 23,
   "metadata": {},
   "outputs": [
    {
     "data": {
      "image/png": "[encoded data removed]",
      "text/plain": [
       "<Figure size 864x576 with 2 Axes>"
      ]
     },
     "metadata": {
      "needs_background": "light"
     },
     "output_type": "display_data"
    }
   ],
   "source": [
    "# Вычисление корреляционной матрицы с использованием phik\n",
    "phik_matrix = data.phik_matrix(interval_cols=interval_cols)\n",
    "\n",
    "# Построение тепловой карты для корреляционной матрицы\n",
    "plt.figure(figsize=(12, 8))\n",
    "sns.heatmap(phik_matrix, annot=True, cmap='coolwarm', fmt='.2f', linewidths=0.5)\n",
    "plt.title('Тепловая карта корреляционной матрицы (Phik)')\n",
    "plt.show()"
   ]
  },
  {
   "cell_type": "markdown",
   "metadata": {},
   "source": [
    "У нас есть полная ассоциация между model и brand, что указывает на мультиколлинеарность. В таком случае возможно стоит исключить один из этих признаков, чтобы избежать проблем в модели. Объединим эти признаки в один"
   ]
  },
  {
   "cell_type": "code",
   "execution_count": 24,
   "metadata": {},
   "outputs": [
    {
     "data": {
      "text/html": [
       "<div>\n",
       "<style scoped>\n",
       "    .dataframe tbody tr th:only-of-type {\n",
       "        vertical-align: middle;\n",
       "    }\n",
       "\n",
       "    .dataframe tbody tr th {\n",
       "        vertical-align: top;\n",
       "    }\n",
       "\n",
       "    .dataframe thead th {\n",
       "        text-align: right;\n",
       "    }\n",
       "</style>\n",
       "<table border=\"1\" class=\"dataframe\">\n",
       "  <thead>\n",
       "    <tr style=\"text-align: right;\">\n",
       "      <th></th>\n",
       "      <th>price</th>\n",
       "      <th>vehicle_type</th>\n",
       "      <th>registration_year</th>\n",
       "      <th>gearbox</th>\n",
       "      <th>power</th>\n",
       "      <th>kilometer</th>\n",
       "      <th>fuel_type</th>\n",
       "      <th>repaired</th>\n",
       "      <th>brand_model</th>\n",
       "    </tr>\n",
       "  </thead>\n",
       "  <tbody>\n",
       "    <tr>\n",
       "      <th>1</th>\n",
       "      <td>18300</td>\n",
       "      <td>coupe</td>\n",
       "      <td>2011.0</td>\n",
       "      <td>manual</td>\n",
       "      <td>190.0</td>\n",
       "      <td>125000</td>\n",
       "      <td>gasoline</td>\n",
       "      <td>yes</td>\n",
       "      <td>audi_other</td>\n",
       "    </tr>\n",
       "    <tr>\n",
       "      <th>2</th>\n",
       "      <td>9800</td>\n",
       "      <td>suv</td>\n",
       "      <td>2004.0</td>\n",
       "      <td>auto</td>\n",
       "      <td>163.0</td>\n",
       "      <td>125000</td>\n",
       "      <td>gasoline</td>\n",
       "      <td>other</td>\n",
       "      <td>jeep_grand</td>\n",
       "    </tr>\n",
       "    <tr>\n",
       "      <th>3</th>\n",
       "      <td>1500</td>\n",
       "      <td>small</td>\n",
       "      <td>2001.0</td>\n",
       "      <td>manual</td>\n",
       "      <td>75.0</td>\n",
       "      <td>150000</td>\n",
       "      <td>gasoline</td>\n",
       "      <td>no</td>\n",
       "      <td>volkswagen_golf</td>\n",
       "    </tr>\n",
       "    <tr>\n",
       "      <th>4</th>\n",
       "      <td>3600</td>\n",
       "      <td>small</td>\n",
       "      <td>2008.0</td>\n",
       "      <td>manual</td>\n",
       "      <td>69.0</td>\n",
       "      <td>90000</td>\n",
       "      <td>gasoline</td>\n",
       "      <td>no</td>\n",
       "      <td>skoda_fabia</td>\n",
       "    </tr>\n",
       "    <tr>\n",
       "      <th>5</th>\n",
       "      <td>650</td>\n",
       "      <td>sedan</td>\n",
       "      <td>1995.0</td>\n",
       "      <td>manual</td>\n",
       "      <td>102.0</td>\n",
       "      <td>150000</td>\n",
       "      <td>gasoline</td>\n",
       "      <td>yes</td>\n",
       "      <td>bmw_3er</td>\n",
       "    </tr>\n",
       "    <tr>\n",
       "      <th>6</th>\n",
       "      <td>2200</td>\n",
       "      <td>convertible</td>\n",
       "      <td>2004.0</td>\n",
       "      <td>manual</td>\n",
       "      <td>109.0</td>\n",
       "      <td>150000</td>\n",
       "      <td>gasoline</td>\n",
       "      <td>no</td>\n",
       "      <td>peugeot_2_reihe</td>\n",
       "    </tr>\n",
       "    <tr>\n",
       "      <th>8</th>\n",
       "      <td>14500</td>\n",
       "      <td>bus</td>\n",
       "      <td>2014.0</td>\n",
       "      <td>manual</td>\n",
       "      <td>125.0</td>\n",
       "      <td>30000</td>\n",
       "      <td>gasoline</td>\n",
       "      <td>other</td>\n",
       "      <td>ford_c_max</td>\n",
       "    </tr>\n",
       "    <tr>\n",
       "      <th>9</th>\n",
       "      <td>999</td>\n",
       "      <td>small</td>\n",
       "      <td>1998.0</td>\n",
       "      <td>manual</td>\n",
       "      <td>101.0</td>\n",
       "      <td>150000</td>\n",
       "      <td>other</td>\n",
       "      <td>other</td>\n",
       "      <td>volkswagen_golf</td>\n",
       "    </tr>\n",
       "    <tr>\n",
       "      <th>10</th>\n",
       "      <td>2000</td>\n",
       "      <td>sedan</td>\n",
       "      <td>2004.0</td>\n",
       "      <td>manual</td>\n",
       "      <td>105.0</td>\n",
       "      <td>150000</td>\n",
       "      <td>gasoline</td>\n",
       "      <td>no</td>\n",
       "      <td>mazda_3_reihe</td>\n",
       "    </tr>\n",
       "    <tr>\n",
       "      <th>11</th>\n",
       "      <td>2799</td>\n",
       "      <td>wagon</td>\n",
       "      <td>2005.0</td>\n",
       "      <td>manual</td>\n",
       "      <td>140.0</td>\n",
       "      <td>150000</td>\n",
       "      <td>gasoline</td>\n",
       "      <td>yes</td>\n",
       "      <td>volkswagen_passat</td>\n",
       "    </tr>\n",
       "  </tbody>\n",
       "</table>\n",
       "</div>"
      ],
      "text/plain": [
       "    price vehicle_type  registration_year gearbox  power  kilometer fuel_type  \\\n",
       "1   18300        coupe             2011.0  manual  190.0     125000  gasoline   \n",
       "2    9800          suv             2004.0    auto  163.0     125000  gasoline   \n",
       "3    1500        small             2001.0  manual   75.0     150000  gasoline   \n",
       "4    3600        small             2008.0  manual   69.0      90000  gasoline   \n",
       "5     650        sedan             1995.0  manual  102.0     150000  gasoline   \n",
       "6    2200  convertible             2004.0  manual  109.0     150000  gasoline   \n",
       "8   14500          bus             2014.0  manual  125.0      30000  gasoline   \n",
       "9     999        small             1998.0  manual  101.0     150000     other   \n",
       "10   2000        sedan             2004.0  manual  105.0     150000  gasoline   \n",
       "11   2799        wagon             2005.0  manual  140.0     150000  gasoline   \n",
       "\n",
       "   repaired        brand_model  \n",
       "1       yes         audi_other  \n",
       "2     other         jeep_grand  \n",
       "3        no    volkswagen_golf  \n",
       "4        no        skoda_fabia  \n",
       "5       yes            bmw_3er  \n",
       "6        no    peugeot_2_reihe  \n",
       "8     other         ford_c_max  \n",
       "9     other    volkswagen_golf  \n",
       "10       no      mazda_3_reihe  \n",
       "11      yes  volkswagen_passat  "
      ]
     },
     "metadata": {},
     "output_type": "display_data"
    }
   ],
   "source": [
    "# Создание нового признака путем объединения brand и model\n",
    "data['brand_model'] = data['brand'] + '_' + data['model']\n",
    "\n",
    "# Удаление исходных признаков brand и model\n",
    "data = data.drop(['brand', 'model'], axis=1)\n",
    "\n",
    "# Просмотр обновленного датасета\n",
    "display(data.head(10))"
   ]
  },
  {
   "cell_type": "markdown",
   "metadata": {},
   "source": [
    "###### Выполнено\n",
    "- загружены данные\n",
    "- обработаны пропуски, дубликаты и аномалии\n",
    "- проведен корреляционный анализ"
   ]
  },
  {
   "cell_type": "markdown",
   "metadata": {},
   "source": [
    "## Обучение моделей"
   ]
  },
  {
   "cell_type": "code",
   "execution_count": 25,
   "metadata": {},
   "outputs": [],
   "source": [
    "# Определение X и y\n",
    "X = data.drop('price', axis=1)  # Признаки\n",
    "y = data['price']  # Целевой признак\n",
    "\n",
    "# Определите признаки\n",
    "numerical_features = ['registration_year', 'power', 'kilometer']\n",
    "categorical_features = ['vehicle_type', 'gearbox', 'fuel_type', 'brand_model', 'repaired']\n",
    "\n",
    "# Разделение данных на тренировочную и тестовую выборки\n",
    "X_train, X_test, y_train, y_test = train_test_split(X, y, test_size=0.2, random_state=42)"
   ]
  },
  {
   "cell_type": "code",
   "execution_count": 26,
   "metadata": {},
   "outputs": [],
   "source": [
    "# Создание ColumnTransformer с настройкой OneHotEncoder\n",
    "preprocessor = ColumnTransformer(\n",
    "    transformers=[\n",
    "        ('num', StandardScaler(), numerical_features),\n",
    "        ('cat', OneHotEncoder(drop='first', sparse_output=False, handle_unknown='ignore'), categorical_features)\n",
    "    ]\n",
    ")"
   ]
  },
  {
   "cell_type": "code",
   "execution_count": 27,
   "metadata": {},
   "outputs": [],
   "source": [
    "# Оптимизация гиперпараметров для LGBMRegressor с использованием GridSearchCV\n",
    "model_lgb = lgb.LGBMRegressor(random_state=42)"
   ]
  },
  {
   "cell_type": "code",
   "execution_count": 28,
   "metadata": {},
   "outputs": [
    {
     "name": "stdout",
     "output_type": "stream",
     "text": [
      "Fitting 3 folds for each of 16 candidates, totalling 48 fits\n"
     ]
    }
   ],
   "source": [
    "param_grid = {\n",
    "    'n_estimators': [50, 100],\n",
    "    'learning_rate': [0.01, 0.1],\n",
    "    'num_leaves': [31, 50],\n",
    "    'max_depth': [10, 20]\n",
    "}\n",
    "\n",
    "# Создание и обучение GridSearchCV\n",
    "gs = GridSearchCV(model_lgb, param_grid, cv=3, scoring='neg_mean_squared_error', verbose=1, n_jobs=-1)\n",
    "X_train_processed = preprocessor.fit_transform(X_train)  # Преобразуем X_train\n",
    "gs.fit(X_train_processed, y_train)\n",
    "\n",
    "# Извлечение лучшей модели и вычисление RMSE на кросс-валидации\n",
    "best_lgb = gs.best_estimator_\n",
    "best_score = (-gs.best_score_)**0.5  # Преобразование в RMSE\n",
    "\n",
    "# Замер времени обучения лучшей модели\n",
    "start_time = time.time()\n",
    "best_lgb.fit(X_train_processed, y_train)\n",
    "training_time_lgb = time.time() - start_time\n",
    "\n",
    "# Замер времени предсказания на тренировочных данных\n",
    "start_time = time.time()\n",
    "y_pred_lgb_train = best_lgb.predict(X_train_processed)\n",
    "prediction_time_lgb = time.time() - start_time"
   ]
  },
  {
   "cell_type": "code",
   "execution_count": 29,
   "metadata": {},
   "outputs": [
    {
     "name": "stdout",
     "output_type": "stream",
     "text": [
      "Лучший результат RMSE на кросс-валидации: 1753.89\n",
      "Время предсказания: 2.41\n",
      "Время обучения: 10.60 секунд\n"
     ]
    }
   ],
   "source": [
    "# Вывод результата на кросс-валидации\n",
    "print(f\"Лучший результат RMSE на кросс-валидации: {best_score:.2f}\")\n",
    "print(f\"Время предсказания: {prediction_time_lgb:.2f}\")\n",
    "print(f\"Время обучения: {training_time_lgb:.2f} секунд\")"
   ]
  },
  {
   "cell_type": "code",
   "execution_count": 30,
   "metadata": {
    "scrolled": true
   },
   "outputs": [
    {
     "name": "stderr",
     "output_type": "stream",
     "text": [
      "/opt/conda/lib/python3.9/site-packages/sklearn/metrics/_regression.py:492: FutureWarning: 'squared' is deprecated in version 1.4 and will be removed in 1.6. To calculate the root mean squared error, use the function'root_mean_squared_error'.\n",
      "  warnings.warn(\n",
      "/opt/conda/lib/python3.9/site-packages/sklearn/metrics/_regression.py:492: FutureWarning: 'squared' is deprecated in version 1.4 and will be removed in 1.6. To calculate the root mean squared error, use the function'root_mean_squared_error'.\n",
      "  warnings.warn(\n",
      "/opt/conda/lib/python3.9/site-packages/sklearn/metrics/_regression.py:492: FutureWarning: 'squared' is deprecated in version 1.4 and will be removed in 1.6. To calculate the root mean squared error, use the function'root_mean_squared_error'.\n",
      "  warnings.warn(\n"
     ]
    }
   ],
   "source": [
    "# Создаем функцию для оценки RMSE\n",
    "rmse_scorer = make_scorer(mean_squared_error, squared=False)\n",
    "\n",
    "# Замер времени обучения с кросс-валидацией\n",
    "start_time = time.time()\n",
    "model_lr = LinearRegression()\n",
    "model_lr.fit(X_train_processed, y_train)\n",
    "training_time_lr_cv = time.time() - start_time\n",
    "\n",
    "# Среднее значение RMSE на кросс-валидации\n",
    "cv_scores = cross_val_score(model_lr, X_train_processed, y_train, cv=3, scoring=rmse_scorer)\n",
    "rmse_lr_cv = cv_scores.mean()\n",
    "\n",
    "# Время предсказания для обучающей выборки (после обучения модели)\n",
    "start_time = time.time()\n",
    "y_pred_lr_train = model_lr.predict(X_train_processed)\n",
    "prediction_time_lr = time.time() - start_time"
   ]
  },
  {
   "cell_type": "code",
   "execution_count": 31,
   "metadata": {},
   "outputs": [
    {
     "name": "stdout",
     "output_type": "stream",
     "text": [
      "Линейная регрессия - Среднее RMSE с кросс-валидации: 2709.30\n",
      "Время обучения на train выборке: 58.36 секунд\n",
      "Время предсказания: 0.21 секунд\n"
     ]
    }
   ],
   "source": [
    "# Вывод результатов\n",
    "print(f\"Линейная регрессия - Среднее RMSE с кросс-валидации: {rmse_lr_cv:.2f}\")\n",
    "print(f\"Время обучения на train выборке: {training_time_lr_cv:.2f} секунд\")\n",
    "print(f\"Время предсказания: {prediction_time_lr:.2f} секунд\")"
   ]
  },
  {
   "cell_type": "markdown",
   "metadata": {},
   "source": [
    "###### Выводы\n",
    "- Качество предсказаний: модель градиентного бустинга превосходит линейную регрессию по качеству предсказаний и удовлетворяет требованиям задачи\n",
    "\n",
    "- Время предсказания: линейная регрессия делает предсказания быстрее на 2 секунды, но качество предсказаний не удовлетворяет требованиям задачи\n",
    "\n",
    "- Время обучения: линейная регрессия обучается сильно медленнее, 58 секунд против 10"
   ]
  },
  {
   "cell_type": "markdown",
   "metadata": {},
   "source": [
    "## Анализ моделей"
   ]
  },
  {
   "cell_type": "code",
   "execution_count": 32,
   "metadata": {},
   "outputs": [
    {
     "name": "stdout",
     "output_type": "stream",
     "text": [
      "Сравнение моделей:\n",
      "Линейная регрессия - RMSE: 2709.30, Время обучения: 58.36, Время предсказания: 0.21s\n",
      "Модель градиентного бустинга - RMSE: 1753.89, Время обучения: 10.60, Время предсказания: 2.41s\n"
     ]
    }
   ],
   "source": [
    "print(\"Сравнение моделей:\")\n",
    "print(f\"Линейная регрессия - RMSE: {rmse_lr_cv:.2f}, Время обучения: {training_time_lr_cv:.2f}, Время предсказания: {prediction_time_lr:.2f}s\")\n",
    "print(f\"Модель градиентного бустинга - RMSE: {best_score:.2f}, Время обучения: {training_time_lgb:.2f}, Время предсказания: {prediction_time_lgb:.2f}s\")"
   ]
  },
  {
   "cell_type": "code",
   "execution_count": 33,
   "metadata": {
    "scrolled": true
   },
   "outputs": [
    {
     "data": {
      "text/html": [
       "<div>\n",
       "<style scoped>\n",
       "    .dataframe tbody tr th:only-of-type {\n",
       "        vertical-align: middle;\n",
       "    }\n",
       "\n",
       "    .dataframe tbody tr th {\n",
       "        vertical-align: top;\n",
       "    }\n",
       "\n",
       "    .dataframe thead th {\n",
       "        text-align: right;\n",
       "    }\n",
       "</style>\n",
       "<table border=\"1\" class=\"dataframe\">\n",
       "  <thead>\n",
       "    <tr style=\"text-align: right;\">\n",
       "      <th></th>\n",
       "      <th>Модель</th>\n",
       "      <th>Метрика RMSE</th>\n",
       "      <th>Время обучения (с)</th>\n",
       "      <th>Время предсказания (с)</th>\n",
       "    </tr>\n",
       "  </thead>\n",
       "  <tbody>\n",
       "    <tr>\n",
       "      <th>0</th>\n",
       "      <td>Линейная регрессия</td>\n",
       "      <td>2709.304989</td>\n",
       "      <td>58.357697</td>\n",
       "      <td>0.205686</td>\n",
       "    </tr>\n",
       "    <tr>\n",
       "      <th>1</th>\n",
       "      <td>Модель градиентного бустинга</td>\n",
       "      <td>1753.889006</td>\n",
       "      <td>10.602734</td>\n",
       "      <td>2.408828</td>\n",
       "    </tr>\n",
       "  </tbody>\n",
       "</table>\n",
       "</div>"
      ],
      "text/plain": [
       "                         Модель  Метрика RMSE  Время обучения (с)  \\\n",
       "0            Линейная регрессия   2709.304989           58.357697   \n",
       "1  Модель градиентного бустинга   1753.889006           10.602734   \n",
       "\n",
       "   Время предсказания (с)  \n",
       "0                0.205686  \n",
       "1                2.408828  "
      ]
     },
     "metadata": {},
     "output_type": "display_data"
    }
   ],
   "source": [
    "# Создание таблицы с результатами\n",
    "results = pd.DataFrame({\n",
    "    'Модель': ['Линейная регрессия', 'Модель градиентного бустинга'],\n",
    "    'Метрика RMSE': [rmse_lr_cv, best_score],\n",
    "    'Время обучения (с)': [training_time_lr_cv, training_time_lgb],\n",
    "    'Время предсказания (с)': [prediction_time_lr, prediction_time_lgb]\n",
    "})\n",
    "\n",
    "# Отображение таблицы\n",
    "display(results)"
   ]
  },
  {
   "cell_type": "markdown",
   "metadata": {},
   "source": [
    "## Финальное предсказание на test-выборке и оценка RMSE"
   ]
  },
  {
   "cell_type": "code",
   "execution_count": 34,
   "metadata": {
    "scrolled": true
   },
   "outputs": [
    {
     "name": "stdout",
     "output_type": "stream",
     "text": [
      "Финальное RMSE на тестовой выборке: 1730.58\n"
     ]
    },
    {
     "name": "stderr",
     "output_type": "stream",
     "text": [
      "/opt/conda/lib/python3.9/site-packages/sklearn/metrics/_regression.py:492: FutureWarning: 'squared' is deprecated in version 1.4 and will be removed in 1.6. To calculate the root mean squared error, use the function'root_mean_squared_error'.\n",
      "  warnings.warn(\n"
     ]
    }
   ],
   "source": [
    "# Финальное предсказание на тестовой выборке\n",
    "X_test_processed = preprocessor.transform(X_test)\n",
    "y_pred_lgb_test = best_lgb.predict(X_test_processed)  # Предсказания на тестовой выборке\n",
    "rmse_lgb_test = mean_squared_error(y_test, y_pred_lgb_test, squared=False)\n",
    "print(f\"Финальное RMSE на тестовой выборке: {rmse_lgb_test:.2f}\")"
   ]
  },
  {
   "cell_type": "markdown",
   "metadata": {},
   "source": [
    "###### Выводы\n",
    "Модель градиентного бустинга является предпочтительной моделью для задачи, так как она удовлетворяет требованиям по RMSE. Не смотря на лучшее время предсказания в модели линейной регрессии, разница составляет чуть более 2 секунд, это незначительно быстрее.\n",
    "\n",
    "Скорость обучения модели меньше более чем в 5 раз у модели LightGBM (58 секунд против 10 секунд) \n",
    "\n",
    "Учитывая метрику RMSE, которая на тренировочных и кросс-валидационных данных лучше у модели градиентного бустинга, то модель LightGBM намного предпочтительнее. Линейная регрессия не может быть использована, так как не удовлетворяет установленным требованиям по качеству предсказаний.\n",
    "\n",
    "Финальный результат на тестовой выборке для модели LightGBM составил 1730.6, что менее 2500 и также удовлетворяет условиям задачи."
   ]
  }
 ],
 "metadata": {
  "ExecuteTimeLog": [
   {
    "duration": 2575,
    "start_time": "2024-08-25T19:19:53.807Z"
   },
   {
    "duration": 934,
    "start_time": "2024-08-25T19:20:29.445Z"
   },
   {
    "duration": 2,
    "start_time": "2024-08-25T19:21:35.718Z"
   },
   {
    "duration": 425,
    "start_time": "2024-08-25T19:22:11.783Z"
   },
   {
    "duration": 1080,
    "start_time": "2024-08-25T19:22:12.210Z"
   },
   {
    "duration": 49,
    "start_time": "2024-08-25T19:22:13.291Z"
   },
   {
    "duration": 26,
    "start_time": "2024-08-25T19:22:13.342Z"
   },
   {
    "duration": 719,
    "start_time": "2024-08-25T19:22:13.370Z"
   },
   {
    "duration": 140,
    "start_time": "2024-08-25T19:22:14.090Z"
   },
   {
    "duration": 19,
    "start_time": "2024-08-25T19:22:14.231Z"
   },
   {
    "duration": 37960,
    "start_time": "2024-08-25T19:25:38.251Z"
   },
   {
    "duration": 5,
    "start_time": "2024-08-25T19:27:18.685Z"
   },
   {
    "duration": 6,
    "start_time": "2024-08-25T19:31:25.818Z"
   },
   {
    "duration": 1158,
    "start_time": "2024-08-25T19:34:53.423Z"
   },
   {
    "duration": 806,
    "start_time": "2024-08-25T19:34:54.583Z"
   },
   {
    "duration": 231,
    "start_time": "2024-08-25T19:34:55.391Z"
   },
   {
    "duration": 42,
    "start_time": "2024-08-25T19:34:55.623Z"
   },
   {
    "duration": 98,
    "start_time": "2024-08-25T19:34:55.667Z"
   },
   {
    "duration": 172,
    "start_time": "2024-08-25T19:34:55.766Z"
   },
   {
    "duration": 26,
    "start_time": "2024-08-25T19:46:00.381Z"
   },
   {
    "duration": 6,
    "start_time": "2024-08-25T19:46:31.307Z"
   },
   {
    "duration": 21,
    "start_time": "2024-08-25T19:47:22.281Z"
   },
   {
    "duration": 7,
    "start_time": "2024-08-25T19:47:32.390Z"
   },
   {
    "duration": 22,
    "start_time": "2024-08-25T19:48:47.744Z"
   },
   {
    "duration": 23,
    "start_time": "2024-08-25T19:49:32.842Z"
   },
   {
    "duration": 27,
    "start_time": "2024-08-25T19:49:46.581Z"
   },
   {
    "duration": 5,
    "start_time": "2024-08-25T19:49:57.924Z"
   },
   {
    "duration": 6,
    "start_time": "2024-08-25T19:50:10.081Z"
   },
   {
    "duration": 6,
    "start_time": "2024-08-25T19:50:18.163Z"
   },
   {
    "duration": 6,
    "start_time": "2024-08-25T19:58:44.603Z"
   },
   {
    "duration": 13,
    "start_time": "2024-08-25T19:59:13.411Z"
   },
   {
    "duration": 1235,
    "start_time": "2024-08-26T17:53:14.671Z"
   },
   {
    "duration": 3072,
    "start_time": "2024-08-26T17:53:18.703Z"
   },
   {
    "duration": 268,
    "start_time": "2024-08-26T17:53:24.538Z"
   },
   {
    "duration": 61,
    "start_time": "2024-08-26T17:55:13.017Z"
   },
   {
    "duration": 167,
    "start_time": "2024-08-26T17:59:28.317Z"
   },
   {
    "duration": 181,
    "start_time": "2024-08-26T17:59:42.754Z"
   },
   {
    "duration": 881,
    "start_time": "2024-08-26T18:04:51.076Z"
   },
   {
    "duration": 55,
    "start_time": "2024-08-26T18:12:40.945Z"
   },
   {
    "duration": 1257,
    "start_time": "2024-08-26T18:13:09.373Z"
   },
   {
    "duration": 890,
    "start_time": "2024-08-26T18:13:10.632Z"
   },
   {
    "duration": 58,
    "start_time": "2024-08-26T18:13:11.524Z"
   },
   {
    "duration": 58,
    "start_time": "2024-08-26T18:14:01.739Z"
   },
   {
    "duration": 6,
    "start_time": "2024-08-26T18:14:08.954Z"
   },
   {
    "duration": 246,
    "start_time": "2024-08-26T18:14:56.350Z"
   },
   {
    "duration": 163,
    "start_time": "2024-08-26T18:15:04.133Z"
   },
   {
    "duration": 226,
    "start_time": "2024-08-26T18:16:30.478Z"
   },
   {
    "duration": 19,
    "start_time": "2024-08-26T18:17:25.056Z"
   },
   {
    "duration": 128,
    "start_time": "2024-08-26T18:19:54.803Z"
   },
   {
    "duration": 487,
    "start_time": "2024-08-26T18:20:13.607Z"
   },
   {
    "duration": 1148,
    "start_time": "2024-08-26T18:20:17.432Z"
   },
   {
    "duration": 23,
    "start_time": "2024-08-26T18:23:37.794Z"
   },
   {
    "duration": 12,
    "start_time": "2024-08-26T18:23:56.869Z"
   },
   {
    "duration": 108,
    "start_time": "2024-08-26T18:24:11.007Z"
   },
   {
    "duration": 82485,
    "start_time": "2024-08-26T18:35:52.497Z"
   },
   {
    "duration": 1602,
    "start_time": "2024-08-26T18:39:22.662Z"
   },
   {
    "duration": 1550,
    "start_time": "2024-08-26T18:39:36.837Z"
   },
   {
    "duration": 1633,
    "start_time": "2024-08-26T18:39:47.775Z"
   },
   {
    "duration": 1578,
    "start_time": "2024-08-26T18:41:02.311Z"
   },
   {
    "duration": 1666,
    "start_time": "2024-08-26T18:41:21.463Z"
   },
   {
    "duration": 1704,
    "start_time": "2024-08-26T18:42:32.349Z"
   },
   {
    "duration": 13794,
    "start_time": "2024-08-26T18:49:52.560Z"
   },
   {
    "duration": 1559,
    "start_time": "2024-08-26T18:52:24.048Z"
   },
   {
    "duration": 1782,
    "start_time": "2024-08-26T19:11:56.586Z"
   },
   {
    "duration": 1458,
    "start_time": "2024-08-26T19:12:24.090Z"
   },
   {
    "duration": 1492,
    "start_time": "2024-08-26T19:15:23.444Z"
   },
   {
    "duration": 937,
    "start_time": "2024-08-26T19:15:24.938Z"
   },
   {
    "duration": 5,
    "start_time": "2024-08-26T19:15:25.877Z"
   },
   {
    "duration": 174,
    "start_time": "2024-08-26T19:15:25.884Z"
   },
   {
    "duration": 152,
    "start_time": "2024-08-26T19:15:26.062Z"
   },
   {
    "duration": 1084,
    "start_time": "2024-08-26T19:15:26.216Z"
   },
   {
    "duration": 1457,
    "start_time": "2024-08-26T19:15:43.542Z"
   },
   {
    "duration": 926,
    "start_time": "2024-08-26T19:15:45.002Z"
   },
   {
    "duration": 6,
    "start_time": "2024-08-26T19:15:45.930Z"
   },
   {
    "duration": 181,
    "start_time": "2024-08-26T19:15:45.937Z"
   },
   {
    "duration": 216,
    "start_time": "2024-08-26T19:15:46.121Z"
   },
   {
    "duration": 1112,
    "start_time": "2024-08-26T19:15:46.339Z"
   },
   {
    "duration": 84486,
    "start_time": "2024-08-26T19:15:47.452Z"
   },
   {
    "duration": 121,
    "start_time": "2024-08-26T19:17:11.941Z"
   },
   {
    "duration": 1663,
    "start_time": "2024-08-26T19:17:12.064Z"
   },
   {
    "duration": 1710,
    "start_time": "2024-08-26T19:17:13.728Z"
   },
   {
    "duration": 216,
    "start_time": "2024-08-26T19:17:15.439Z"
   },
   {
    "duration": 0,
    "start_time": "2024-08-26T19:17:15.657Z"
   },
   {
    "duration": 0,
    "start_time": "2024-08-26T19:17:15.661Z"
   },
   {
    "duration": 0,
    "start_time": "2024-08-26T19:17:15.662Z"
   },
   {
    "duration": 12687,
    "start_time": "2024-08-26T19:18:54.541Z"
   },
   {
    "duration": 1468,
    "start_time": "2024-08-26T19:19:44.472Z"
   },
   {
    "duration": 972,
    "start_time": "2024-08-26T19:19:45.942Z"
   },
   {
    "duration": 6,
    "start_time": "2024-08-26T19:19:46.915Z"
   },
   {
    "duration": 194,
    "start_time": "2024-08-26T19:19:46.923Z"
   },
   {
    "duration": 143,
    "start_time": "2024-08-26T19:19:47.119Z"
   },
   {
    "duration": 1099,
    "start_time": "2024-08-26T19:19:47.264Z"
   },
   {
    "duration": 1516,
    "start_time": "2024-08-26T19:20:41.049Z"
   },
   {
    "duration": 883,
    "start_time": "2024-08-26T19:20:42.567Z"
   },
   {
    "duration": 10,
    "start_time": "2024-08-26T19:20:43.452Z"
   },
   {
    "duration": 198,
    "start_time": "2024-08-26T19:20:43.464Z"
   },
   {
    "duration": 172,
    "start_time": "2024-08-26T19:20:43.665Z"
   },
   {
    "duration": 1092,
    "start_time": "2024-08-26T19:20:43.839Z"
   },
   {
    "duration": 83341,
    "start_time": "2024-08-26T19:20:44.933Z"
   },
   {
    "duration": 109,
    "start_time": "2024-08-26T19:22:08.276Z"
   },
   {
    "duration": 1847,
    "start_time": "2024-08-26T19:22:08.387Z"
   },
   {
    "duration": 1788,
    "start_time": "2024-08-26T19:22:10.236Z"
   },
   {
    "duration": 12892,
    "start_time": "2024-08-26T19:22:12.026Z"
   },
   {
    "duration": 1398,
    "start_time": "2024-08-26T19:29:15.390Z"
   },
   {
    "duration": 851,
    "start_time": "2024-08-26T19:29:16.790Z"
   },
   {
    "duration": 6,
    "start_time": "2024-08-26T19:29:17.642Z"
   },
   {
    "duration": 187,
    "start_time": "2024-08-26T19:29:17.662Z"
   },
   {
    "duration": 169,
    "start_time": "2024-08-26T19:29:17.850Z"
   },
   {
    "duration": 1049,
    "start_time": "2024-08-26T19:29:18.020Z"
   },
   {
    "duration": 80571,
    "start_time": "2024-08-26T19:29:19.071Z"
   },
   {
    "duration": 93,
    "start_time": "2024-08-26T19:30:39.644Z"
   },
   {
    "duration": 1778,
    "start_time": "2024-08-26T19:30:39.739Z"
   },
   {
    "duration": 1734,
    "start_time": "2024-08-26T19:30:41.519Z"
   },
   {
    "duration": 86,
    "start_time": "2024-08-26T19:30:43.255Z"
   },
   {
    "duration": 227,
    "start_time": "2024-08-26T19:30:43.343Z"
   },
   {
    "duration": 960,
    "start_time": "2024-08-26T19:32:04.013Z"
   },
   {
    "duration": 135,
    "start_time": "2024-08-26T19:32:33.598Z"
   },
   {
    "duration": 121,
    "start_time": "2024-08-26T19:32:55.408Z"
   },
   {
    "duration": 136,
    "start_time": "2024-08-26T19:32:59.450Z"
   },
   {
    "duration": 36,
    "start_time": "2024-08-26T19:33:35.707Z"
   },
   {
    "duration": 12,
    "start_time": "2024-08-26T19:33:46.304Z"
   },
   {
    "duration": 36,
    "start_time": "2024-08-26T19:34:00.267Z"
   },
   {
    "duration": 11,
    "start_time": "2024-08-26T19:34:13.627Z"
   },
   {
    "duration": 27,
    "start_time": "2024-08-26T19:34:34.593Z"
   },
   {
    "duration": 24,
    "start_time": "2024-08-26T19:35:22.779Z"
   },
   {
    "duration": 19,
    "start_time": "2024-08-26T19:37:13.877Z"
   },
   {
    "duration": 36,
    "start_time": "2024-08-26T19:37:15.617Z"
   },
   {
    "duration": 38,
    "start_time": "2024-08-26T19:37:28.563Z"
   },
   {
    "duration": 22,
    "start_time": "2024-08-26T19:37:40.709Z"
   },
   {
    "duration": 17,
    "start_time": "2024-08-26T19:38:35.524Z"
   },
   {
    "duration": 89,
    "start_time": "2024-08-26T19:38:37.362Z"
   },
   {
    "duration": 184,
    "start_time": "2024-08-26T19:38:42.531Z"
   },
   {
    "duration": 946,
    "start_time": "2024-08-26T19:46:07.390Z"
   },
   {
    "duration": 32,
    "start_time": "2024-08-26T19:48:43.141Z"
   },
   {
    "duration": 1055,
    "start_time": "2024-08-26T19:50:02.314Z"
   },
   {
    "duration": 879,
    "start_time": "2024-08-26T19:51:38.558Z"
   },
   {
    "duration": 946,
    "start_time": "2024-08-26T19:51:45.635Z"
   },
   {
    "duration": 1000,
    "start_time": "2024-08-26T19:52:00.050Z"
   },
   {
    "duration": 1366,
    "start_time": "2024-08-26T19:52:24.413Z"
   },
   {
    "duration": 1024,
    "start_time": "2024-08-26T19:52:28.128Z"
   },
   {
    "duration": 6,
    "start_time": "2024-08-26T19:52:32.560Z"
   },
   {
    "duration": 146,
    "start_time": "2024-08-26T19:52:48.457Z"
   },
   {
    "duration": 133,
    "start_time": "2024-08-26T19:52:53.629Z"
   },
   {
    "duration": 1078,
    "start_time": "2024-08-26T19:53:07.085Z"
   },
   {
    "duration": 1110,
    "start_time": "2024-08-26T19:53:44.554Z"
   },
   {
    "duration": 81381,
    "start_time": "2024-08-26T19:54:13.238Z"
   },
   {
    "duration": 85087,
    "start_time": "2024-08-26T19:55:35.823Z"
   },
   {
    "duration": 962,
    "start_time": "2024-08-26T19:57:00.912Z"
   },
   {
    "duration": 91,
    "start_time": "2024-08-26T19:57:29.487Z"
   },
   {
    "duration": 344,
    "start_time": "2024-08-26T20:00:29.329Z"
   },
   {
    "duration": 1639,
    "start_time": "2024-08-26T20:00:39.248Z"
   },
   {
    "duration": 1640,
    "start_time": "2024-08-26T20:01:20.136Z"
   },
   {
    "duration": 1662,
    "start_time": "2024-08-26T20:01:28.547Z"
   },
   {
    "duration": 113,
    "start_time": "2024-08-26T20:02:19.622Z"
   },
   {
    "duration": 103,
    "start_time": "2024-08-26T20:03:47.386Z"
   },
   {
    "duration": 111,
    "start_time": "2024-08-26T20:04:07.189Z"
   },
   {
    "duration": 22,
    "start_time": "2024-08-26T20:07:15.451Z"
   },
   {
    "duration": 113,
    "start_time": "2024-08-26T20:07:15.818Z"
   },
   {
    "duration": 17,
    "start_time": "2024-08-26T20:07:16.476Z"
   },
   {
    "duration": 1392,
    "start_time": "2024-08-26T20:07:35.117Z"
   },
   {
    "duration": 1100,
    "start_time": "2024-08-26T20:07:36.512Z"
   },
   {
    "duration": 6,
    "start_time": "2024-08-26T20:07:37.614Z"
   },
   {
    "duration": 165,
    "start_time": "2024-08-26T20:07:37.622Z"
   },
   {
    "duration": 147,
    "start_time": "2024-08-26T20:07:37.789Z"
   },
   {
    "duration": 1056,
    "start_time": "2024-08-26T20:07:37.937Z"
   },
   {
    "duration": 81304,
    "start_time": "2024-08-26T20:07:38.995Z"
   },
   {
    "duration": 116,
    "start_time": "2024-08-26T20:09:00.301Z"
   },
   {
    "duration": 1611,
    "start_time": "2024-08-26T20:09:00.419Z"
   },
   {
    "duration": 1692,
    "start_time": "2024-08-26T20:09:02.033Z"
   },
   {
    "duration": 131,
    "start_time": "2024-08-26T20:09:03.727Z"
   },
   {
    "duration": 28,
    "start_time": "2024-08-26T20:09:03.861Z"
   },
   {
    "duration": 215,
    "start_time": "2024-08-26T20:09:03.891Z"
   },
   {
    "duration": 119,
    "start_time": "2024-08-26T20:09:04.108Z"
   },
   {
    "duration": 0,
    "start_time": "2024-08-26T20:09:04.228Z"
   },
   {
    "duration": 0,
    "start_time": "2024-08-26T20:09:04.230Z"
   },
   {
    "duration": 0,
    "start_time": "2024-08-26T20:09:04.231Z"
   },
   {
    "duration": 0,
    "start_time": "2024-08-26T20:09:04.233Z"
   },
   {
    "duration": 916,
    "start_time": "2024-08-26T20:11:17.944Z"
   },
   {
    "duration": 142,
    "start_time": "2024-08-26T20:11:21.170Z"
   },
   {
    "duration": 147,
    "start_time": "2024-08-26T20:11:49.925Z"
   },
   {
    "duration": 658,
    "start_time": "2024-08-26T20:11:54.589Z"
   },
   {
    "duration": 45,
    "start_time": "2024-08-26T20:13:30.700Z"
   },
   {
    "duration": 212,
    "start_time": "2024-08-26T20:13:30.890Z"
   },
   {
    "duration": 12,
    "start_time": "2024-08-26T20:13:40.031Z"
   },
   {
    "duration": 1504,
    "start_time": "2024-08-26T20:17:14.789Z"
   },
   {
    "duration": 1155,
    "start_time": "2024-08-26T20:17:16.297Z"
   },
   {
    "duration": 20,
    "start_time": "2024-08-26T20:17:17.454Z"
   },
   {
    "duration": 177,
    "start_time": "2024-08-26T20:17:17.476Z"
   },
   {
    "duration": 178,
    "start_time": "2024-08-26T20:17:17.655Z"
   },
   {
    "duration": 1206,
    "start_time": "2024-08-26T20:17:17.834Z"
   },
   {
    "duration": 84341,
    "start_time": "2024-08-26T20:17:19.041Z"
   },
   {
    "duration": 106,
    "start_time": "2024-08-26T20:18:43.385Z"
   },
   {
    "duration": 1762,
    "start_time": "2024-08-26T20:18:43.493Z"
   },
   {
    "duration": 1781,
    "start_time": "2024-08-26T20:18:45.257Z"
   },
   {
    "duration": 114,
    "start_time": "2024-08-26T20:18:47.039Z"
   },
   {
    "duration": 24,
    "start_time": "2024-08-26T20:18:47.154Z"
   },
   {
    "duration": 144,
    "start_time": "2024-08-26T20:18:47.179Z"
   },
   {
    "duration": 945,
    "start_time": "2024-08-26T20:18:47.326Z"
   },
   {
    "duration": 145,
    "start_time": "2024-08-26T20:18:48.278Z"
   },
   {
    "duration": 594,
    "start_time": "2024-08-26T20:18:48.425Z"
   },
   {
    "duration": 45,
    "start_time": "2024-08-26T20:18:49.020Z"
   },
   {
    "duration": 202,
    "start_time": "2024-08-26T20:18:49.067Z"
   },
   {
    "duration": 120,
    "start_time": "2024-08-26T20:18:49.279Z"
   },
   {
    "duration": 0,
    "start_time": "2024-08-26T20:18:49.401Z"
   },
   {
    "duration": 0,
    "start_time": "2024-08-26T20:18:49.402Z"
   },
   {
    "duration": 10,
    "start_time": "2024-08-26T20:23:00.445Z"
   },
   {
    "duration": 952,
    "start_time": "2024-08-26T20:24:01.574Z"
   },
   {
    "duration": 1432,
    "start_time": "2024-08-26T20:24:25.071Z"
   },
   {
    "duration": 1033,
    "start_time": "2024-08-26T20:24:26.505Z"
   },
   {
    "duration": 5,
    "start_time": "2024-08-26T20:24:27.540Z"
   },
   {
    "duration": 168,
    "start_time": "2024-08-26T20:24:27.546Z"
   },
   {
    "duration": 206,
    "start_time": "2024-08-26T20:24:27.716Z"
   },
   {
    "duration": 1003,
    "start_time": "2024-08-26T20:24:27.923Z"
   },
   {
    "duration": 80148,
    "start_time": "2024-08-26T20:24:28.928Z"
   },
   {
    "duration": 116,
    "start_time": "2024-08-26T20:25:49.079Z"
   },
   {
    "duration": 1685,
    "start_time": "2024-08-26T20:25:49.197Z"
   },
   {
    "duration": 1783,
    "start_time": "2024-08-26T20:25:50.884Z"
   },
   {
    "duration": 113,
    "start_time": "2024-08-26T20:25:52.671Z"
   },
   {
    "duration": 18,
    "start_time": "2024-08-26T20:25:52.785Z"
   },
   {
    "duration": 121,
    "start_time": "2024-08-26T20:25:52.805Z"
   },
   {
    "duration": 907,
    "start_time": "2024-08-26T20:25:52.929Z"
   },
   {
    "duration": 155,
    "start_time": "2024-08-26T20:25:53.837Z"
   },
   {
    "duration": 632,
    "start_time": "2024-08-26T20:25:53.994Z"
   },
   {
    "duration": 49,
    "start_time": "2024-08-26T20:25:54.627Z"
   },
   {
    "duration": 258,
    "start_time": "2024-08-26T20:25:54.678Z"
   },
   {
    "duration": 1107,
    "start_time": "2024-08-26T20:25:54.938Z"
   },
   {
    "duration": 0,
    "start_time": "2024-08-26T20:25:56.047Z"
   },
   {
    "duration": 0,
    "start_time": "2024-08-26T20:25:56.049Z"
   },
   {
    "duration": 2764,
    "start_time": "2024-08-26T20:28:55.452Z"
   },
   {
    "duration": 190688,
    "start_time": "2024-08-26T20:29:31.377Z"
   },
   {
    "duration": 12,
    "start_time": "2024-08-26T20:32:58.974Z"
   },
   {
    "duration": 66,
    "start_time": "2024-08-26T21:07:06.189Z"
   },
   {
    "duration": 1427,
    "start_time": "2024-08-26T21:20:18.114Z"
   },
   {
    "duration": 1066,
    "start_time": "2024-08-26T21:20:19.543Z"
   },
   {
    "duration": 6,
    "start_time": "2024-08-26T21:20:20.611Z"
   },
   {
    "duration": 182,
    "start_time": "2024-08-26T21:20:20.618Z"
   },
   {
    "duration": 153,
    "start_time": "2024-08-26T21:20:20.803Z"
   },
   {
    "duration": 991,
    "start_time": "2024-08-26T21:20:20.961Z"
   },
   {
    "duration": 77074,
    "start_time": "2024-08-26T21:20:21.954Z"
   },
   {
    "duration": 113,
    "start_time": "2024-08-26T21:21:39.030Z"
   },
   {
    "duration": 1512,
    "start_time": "2024-08-26T21:21:39.145Z"
   },
   {
    "duration": 1560,
    "start_time": "2024-08-26T21:21:40.660Z"
   },
   {
    "duration": 138,
    "start_time": "2024-08-26T21:21:42.223Z"
   },
   {
    "duration": 20,
    "start_time": "2024-08-26T21:21:42.362Z"
   },
   {
    "duration": 117,
    "start_time": "2024-08-26T21:21:42.384Z"
   },
   {
    "duration": 905,
    "start_time": "2024-08-26T21:21:42.504Z"
   },
   {
    "duration": 144,
    "start_time": "2024-08-26T21:21:43.410Z"
   },
   {
    "duration": 589,
    "start_time": "2024-08-26T21:21:43.560Z"
   },
   {
    "duration": 45,
    "start_time": "2024-08-26T21:21:44.151Z"
   },
   {
    "duration": 188,
    "start_time": "2024-08-26T21:21:44.198Z"
   },
   {
    "duration": 2658,
    "start_time": "2024-08-26T21:21:44.388Z"
   },
   {
    "duration": 56,
    "start_time": "2024-08-26T21:21:47.048Z"
   },
   {
    "duration": 0,
    "start_time": "2024-08-26T21:21:47.106Z"
   },
   {
    "duration": 1547,
    "start_time": "2024-08-26T21:25:23.261Z"
   },
   {
    "duration": 1037,
    "start_time": "2024-08-26T21:25:24.810Z"
   },
   {
    "duration": 13,
    "start_time": "2024-08-26T21:25:25.849Z"
   },
   {
    "duration": 192,
    "start_time": "2024-08-26T21:25:25.863Z"
   },
   {
    "duration": 151,
    "start_time": "2024-08-26T21:25:26.061Z"
   },
   {
    "duration": 1004,
    "start_time": "2024-08-26T21:25:26.213Z"
   },
   {
    "duration": 76787,
    "start_time": "2024-08-26T21:25:27.219Z"
   },
   {
    "duration": 97,
    "start_time": "2024-08-26T21:26:44.007Z"
   },
   {
    "duration": 1551,
    "start_time": "2024-08-26T21:26:44.106Z"
   },
   {
    "duration": 1562,
    "start_time": "2024-08-26T21:26:45.659Z"
   },
   {
    "duration": 97,
    "start_time": "2024-08-26T21:26:47.223Z"
   },
   {
    "duration": 18,
    "start_time": "2024-08-26T21:26:47.322Z"
   },
   {
    "duration": 112,
    "start_time": "2024-08-26T21:26:47.341Z"
   },
   {
    "duration": 827,
    "start_time": "2024-08-26T21:26:47.460Z"
   },
   {
    "duration": 139,
    "start_time": "2024-08-26T21:26:48.288Z"
   },
   {
    "duration": 562,
    "start_time": "2024-08-26T21:26:48.429Z"
   },
   {
    "duration": 36,
    "start_time": "2024-08-26T21:26:48.992Z"
   },
   {
    "duration": 179,
    "start_time": "2024-08-26T21:26:49.029Z"
   },
   {
    "duration": 2588,
    "start_time": "2024-08-26T21:26:49.210Z"
   },
   {
    "duration": 37299,
    "start_time": "2024-08-26T21:26:51.800Z"
   },
   {
    "duration": 60,
    "start_time": "2024-08-26T21:27:29.101Z"
   },
   {
    "duration": 68,
    "start_time": "2024-08-27T15:48:13.582Z"
   },
   {
    "duration": 1571,
    "start_time": "2024-08-27T15:51:33.173Z"
   },
   {
    "duration": 1282,
    "start_time": "2024-08-27T15:51:34.746Z"
   },
   {
    "duration": 7,
    "start_time": "2024-08-27T15:51:36.030Z"
   },
   {
    "duration": 175,
    "start_time": "2024-08-27T15:51:36.039Z"
   },
   {
    "duration": 155,
    "start_time": "2024-08-27T15:51:36.217Z"
   },
   {
    "duration": 1056,
    "start_time": "2024-08-27T15:51:36.373Z"
   },
   {
    "duration": 78761,
    "start_time": "2024-08-27T15:51:37.431Z"
   },
   {
    "duration": 98,
    "start_time": "2024-08-27T15:52:56.193Z"
   },
   {
    "duration": 1826,
    "start_time": "2024-08-27T15:52:56.292Z"
   },
   {
    "duration": 1603,
    "start_time": "2024-08-27T15:52:58.119Z"
   },
   {
    "duration": 108,
    "start_time": "2024-08-27T15:52:59.724Z"
   },
   {
    "duration": 19,
    "start_time": "2024-08-27T15:52:59.834Z"
   },
   {
    "duration": 11,
    "start_time": "2024-08-27T15:52:59.854Z"
   },
   {
    "duration": 139,
    "start_time": "2024-08-27T15:52:59.868Z"
   },
   {
    "duration": 6,
    "start_time": "2024-08-27T15:57:40.336Z"
   },
   {
    "duration": 867,
    "start_time": "2024-08-27T16:02:49.394Z"
   },
   {
    "duration": 109,
    "start_time": "2024-08-27T16:07:52.958Z"
   },
   {
    "duration": 3314,
    "start_time": "2024-08-27T16:08:14.413Z"
   },
   {
    "duration": 33,
    "start_time": "2024-08-27T16:08:23.605Z"
   },
   {
    "duration": 1400,
    "start_time": "2024-08-27T16:09:24.499Z"
   },
   {
    "duration": 2411,
    "start_time": "2024-08-27T16:09:25.901Z"
   },
   {
    "duration": 58,
    "start_time": "2024-08-27T16:09:28.314Z"
   },
   {
    "duration": 1306,
    "start_time": "2024-08-27T16:09:28.374Z"
   },
   {
    "duration": 6,
    "start_time": "2024-08-27T16:09:29.682Z"
   },
   {
    "duration": 177,
    "start_time": "2024-08-27T16:09:29.689Z"
   },
   {
    "duration": 156,
    "start_time": "2024-08-27T16:09:29.868Z"
   },
   {
    "duration": 1057,
    "start_time": "2024-08-27T16:09:30.025Z"
   },
   {
    "duration": 80459,
    "start_time": "2024-08-27T16:09:31.084Z"
   },
   {
    "duration": 94,
    "start_time": "2024-08-27T16:10:51.544Z"
   },
   {
    "duration": 1719,
    "start_time": "2024-08-27T16:10:51.640Z"
   },
   {
    "duration": 1749,
    "start_time": "2024-08-27T16:10:53.361Z"
   },
   {
    "duration": 134,
    "start_time": "2024-08-27T16:10:55.112Z"
   },
   {
    "duration": 28,
    "start_time": "2024-08-27T16:10:55.250Z"
   },
   {
    "duration": 35,
    "start_time": "2024-08-27T16:10:55.280Z"
   },
   {
    "duration": 119,
    "start_time": "2024-08-27T16:10:55.317Z"
   },
   {
    "duration": 921,
    "start_time": "2024-08-27T16:10:55.438Z"
   },
   {
    "duration": 119,
    "start_time": "2024-08-27T16:10:56.360Z"
   },
   {
    "duration": 48,
    "start_time": "2024-08-27T16:11:17.729Z"
   },
   {
    "duration": 1427,
    "start_time": "2024-08-27T16:11:25.580Z"
   },
   {
    "duration": 2440,
    "start_time": "2024-08-27T16:11:27.009Z"
   },
   {
    "duration": 51,
    "start_time": "2024-08-27T16:11:29.450Z"
   },
   {
    "duration": 1305,
    "start_time": "2024-08-27T16:11:29.503Z"
   },
   {
    "duration": 6,
    "start_time": "2024-08-27T16:11:30.809Z"
   },
   {
    "duration": 181,
    "start_time": "2024-08-27T16:11:30.816Z"
   },
   {
    "duration": 156,
    "start_time": "2024-08-27T16:11:30.998Z"
   },
   {
    "duration": 1071,
    "start_time": "2024-08-27T16:11:31.155Z"
   },
   {
    "duration": 82038,
    "start_time": "2024-08-27T16:11:32.228Z"
   },
   {
    "duration": 109,
    "start_time": "2024-08-27T16:12:54.269Z"
   },
   {
    "duration": 1793,
    "start_time": "2024-08-27T16:12:54.379Z"
   },
   {
    "duration": 1795,
    "start_time": "2024-08-27T16:12:56.174Z"
   },
   {
    "duration": 110,
    "start_time": "2024-08-27T16:12:57.971Z"
   },
   {
    "duration": 31,
    "start_time": "2024-08-27T16:12:58.083Z"
   },
   {
    "duration": 12,
    "start_time": "2024-08-27T16:12:58.115Z"
   },
   {
    "duration": 118,
    "start_time": "2024-08-27T16:12:58.129Z"
   },
   {
    "duration": 943,
    "start_time": "2024-08-27T16:12:58.248Z"
   },
   {
    "duration": 109,
    "start_time": "2024-08-27T16:12:59.193Z"
   },
   {
    "duration": 2879,
    "start_time": "2024-08-27T16:16:19.069Z"
   },
   {
    "duration": 4565,
    "start_time": "2024-08-27T16:16:21.950Z"
   },
   {
    "duration": 41,
    "start_time": "2024-08-27T16:16:26.517Z"
   },
   {
    "duration": 2018,
    "start_time": "2024-08-27T16:16:26.609Z"
   },
   {
    "duration": 6,
    "start_time": "2024-08-27T16:16:28.628Z"
   },
   {
    "duration": 316,
    "start_time": "2024-08-27T16:16:28.636Z"
   },
   {
    "duration": 242,
    "start_time": "2024-08-27T16:16:29.008Z"
   },
   {
    "duration": 2318,
    "start_time": "2024-08-27T16:16:29.308Z"
   },
   {
    "duration": 2446,
    "start_time": "2024-08-27T16:18:45.406Z"
   },
   {
    "duration": 53,
    "start_time": "2024-08-27T16:18:47.854Z"
   },
   {
    "duration": 31,
    "start_time": "2024-08-27T16:18:47.910Z"
   },
   {
    "duration": 2104,
    "start_time": "2024-08-27T16:18:47.943Z"
   },
   {
    "duration": 59,
    "start_time": "2024-08-27T16:18:50.049Z"
   },
   {
    "duration": 327,
    "start_time": "2024-08-27T16:18:50.110Z"
   },
   {
    "duration": 295,
    "start_time": "2024-08-27T16:18:50.439Z"
   },
   {
    "duration": 2093,
    "start_time": "2024-08-27T16:18:50.736Z"
   },
   {
    "duration": 124125,
    "start_time": "2024-08-27T16:18:52.831Z"
   },
   {
    "duration": 98,
    "start_time": "2024-08-27T16:20:56.960Z"
   },
   {
    "duration": 1591,
    "start_time": "2024-08-27T16:20:57.060Z"
   },
   {
    "duration": 1594,
    "start_time": "2024-08-27T16:20:58.653Z"
   },
   {
    "duration": 115,
    "start_time": "2024-08-27T16:21:00.249Z"
   },
   {
    "duration": 41,
    "start_time": "2024-08-27T16:21:00.366Z"
   },
   {
    "duration": 20,
    "start_time": "2024-08-27T16:21:00.409Z"
   },
   {
    "duration": 137,
    "start_time": "2024-08-27T16:21:00.431Z"
   },
   {
    "duration": 955,
    "start_time": "2024-08-27T16:21:00.570Z"
   },
   {
    "duration": 123,
    "start_time": "2024-08-27T16:21:01.526Z"
   },
   {
    "duration": 1358,
    "start_time": "2024-08-27T16:41:42.537Z"
   },
   {
    "duration": 3,
    "start_time": "2024-08-27T16:41:43.897Z"
   },
   {
    "duration": 66,
    "start_time": "2024-08-27T16:41:43.901Z"
   },
   {
    "duration": 1271,
    "start_time": "2024-08-27T16:41:43.969Z"
   },
   {
    "duration": 6,
    "start_time": "2024-08-27T16:41:45.241Z"
   },
   {
    "duration": 182,
    "start_time": "2024-08-27T16:41:45.249Z"
   },
   {
    "duration": 153,
    "start_time": "2024-08-27T16:41:45.433Z"
   },
   {
    "duration": 1016,
    "start_time": "2024-08-27T16:41:45.588Z"
   },
   {
    "duration": 78004,
    "start_time": "2024-08-27T16:41:46.608Z"
   },
   {
    "duration": 99,
    "start_time": "2024-08-27T16:43:04.615Z"
   },
   {
    "duration": 1597,
    "start_time": "2024-08-27T16:43:04.715Z"
   },
   {
    "duration": 1629,
    "start_time": "2024-08-27T16:43:06.314Z"
   },
   {
    "duration": 115,
    "start_time": "2024-08-27T16:43:07.944Z"
   },
   {
    "duration": 20,
    "start_time": "2024-08-27T16:43:08.061Z"
   },
   {
    "duration": 32,
    "start_time": "2024-08-27T16:43:08.083Z"
   },
   {
    "duration": 124,
    "start_time": "2024-08-27T16:43:08.117Z"
   },
   {
    "duration": 920,
    "start_time": "2024-08-27T16:43:08.242Z"
   },
   {
    "duration": 108,
    "start_time": "2024-08-27T16:43:09.163Z"
   },
   {
    "duration": 2323,
    "start_time": "2024-08-27T16:44:27.127Z"
   },
   {
    "duration": 1169,
    "start_time": "2024-08-27T16:44:32.871Z"
   },
   {
    "duration": 1048,
    "start_time": "2024-08-27T16:44:45.560Z"
   },
   {
    "duration": 1396,
    "start_time": "2024-08-27T16:44:51.361Z"
   },
   {
    "duration": 32,
    "start_time": "2024-08-27T16:44:52.759Z"
   },
   {
    "duration": 1330,
    "start_time": "2024-08-27T16:44:52.792Z"
   },
   {
    "duration": 7,
    "start_time": "2024-08-27T16:44:54.124Z"
   },
   {
    "duration": 212,
    "start_time": "2024-08-27T16:44:54.133Z"
   },
   {
    "duration": 135,
    "start_time": "2024-08-27T16:44:54.346Z"
   },
   {
    "duration": 1050,
    "start_time": "2024-08-27T16:44:54.483Z"
   },
   {
    "duration": 81001,
    "start_time": "2024-08-27T16:44:55.535Z"
   },
   {
    "duration": 106,
    "start_time": "2024-08-27T16:46:16.538Z"
   },
   {
    "duration": 1624,
    "start_time": "2024-08-27T16:46:16.646Z"
   },
   {
    "duration": 1545,
    "start_time": "2024-08-27T16:46:18.272Z"
   },
   {
    "duration": 113,
    "start_time": "2024-08-27T16:46:19.818Z"
   },
   {
    "duration": 19,
    "start_time": "2024-08-27T16:46:19.933Z"
   },
   {
    "duration": 13,
    "start_time": "2024-08-27T16:46:19.954Z"
   },
   {
    "duration": 139,
    "start_time": "2024-08-27T16:46:19.968Z"
   },
   {
    "duration": 922,
    "start_time": "2024-08-27T16:46:20.109Z"
   },
   {
    "duration": 110,
    "start_time": "2024-08-27T16:46:21.032Z"
   },
   {
    "duration": 1636,
    "start_time": "2024-08-28T06:18:48.614Z"
   },
   {
    "duration": 112,
    "start_time": "2024-08-28T06:18:50.252Z"
   },
   {
    "duration": 0,
    "start_time": "2024-08-28T06:18:50.367Z"
   },
   {
    "duration": 0,
    "start_time": "2024-08-28T06:18:50.368Z"
   },
   {
    "duration": 0,
    "start_time": "2024-08-28T06:18:50.369Z"
   },
   {
    "duration": 0,
    "start_time": "2024-08-28T06:18:50.370Z"
   },
   {
    "duration": 0,
    "start_time": "2024-08-28T06:18:50.371Z"
   },
   {
    "duration": 0,
    "start_time": "2024-08-28T06:18:50.372Z"
   },
   {
    "duration": 0,
    "start_time": "2024-08-28T06:18:50.374Z"
   },
   {
    "duration": 0,
    "start_time": "2024-08-28T06:18:50.375Z"
   },
   {
    "duration": 0,
    "start_time": "2024-08-28T06:18:50.376Z"
   },
   {
    "duration": 0,
    "start_time": "2024-08-28T06:18:50.377Z"
   },
   {
    "duration": 0,
    "start_time": "2024-08-28T06:18:50.378Z"
   },
   {
    "duration": 0,
    "start_time": "2024-08-28T06:18:50.379Z"
   },
   {
    "duration": 0,
    "start_time": "2024-08-28T06:18:50.380Z"
   },
   {
    "duration": 0,
    "start_time": "2024-08-28T06:18:50.382Z"
   },
   {
    "duration": 0,
    "start_time": "2024-08-28T06:18:50.383Z"
   },
   {
    "duration": 0,
    "start_time": "2024-08-28T06:18:50.384Z"
   },
   {
    "duration": 0,
    "start_time": "2024-08-28T06:18:50.385Z"
   },
   {
    "duration": 0,
    "start_time": "2024-08-28T06:18:50.386Z"
   },
   {
    "duration": 0,
    "start_time": "2024-08-28T06:18:50.387Z"
   },
   {
    "duration": 0,
    "start_time": "2024-08-28T06:18:50.388Z"
   },
   {
    "duration": 0,
    "start_time": "2024-08-28T06:18:50.389Z"
   },
   {
    "duration": 0,
    "start_time": "2024-08-28T06:18:50.390Z"
   },
   {
    "duration": 1,
    "start_time": "2024-08-28T06:18:50.391Z"
   },
   {
    "duration": 0,
    "start_time": "2024-08-28T06:18:50.392Z"
   },
   {
    "duration": 0,
    "start_time": "2024-08-28T06:18:50.393Z"
   },
   {
    "duration": 3342,
    "start_time": "2024-08-28T06:22:06.166Z"
   },
   {
    "duration": 39,
    "start_time": "2024-08-28T06:22:12.648Z"
   },
   {
    "duration": 1441,
    "start_time": "2024-08-28T06:22:24.719Z"
   },
   {
    "duration": 2402,
    "start_time": "2024-08-28T06:22:26.162Z"
   },
   {
    "duration": 36,
    "start_time": "2024-08-28T06:22:28.566Z"
   },
   {
    "duration": 1350,
    "start_time": "2024-08-28T06:22:28.603Z"
   },
   {
    "duration": 6,
    "start_time": "2024-08-28T06:22:29.955Z"
   },
   {
    "duration": 193,
    "start_time": "2024-08-28T06:22:29.963Z"
   },
   {
    "duration": 154,
    "start_time": "2024-08-28T06:22:30.158Z"
   },
   {
    "duration": 1109,
    "start_time": "2024-08-28T06:22:30.313Z"
   },
   {
    "duration": 81361,
    "start_time": "2024-08-28T06:22:31.424Z"
   },
   {
    "duration": 112,
    "start_time": "2024-08-28T06:23:52.786Z"
   },
   {
    "duration": 1695,
    "start_time": "2024-08-28T06:23:52.900Z"
   },
   {
    "duration": 1609,
    "start_time": "2024-08-28T06:23:54.596Z"
   },
   {
    "duration": 111,
    "start_time": "2024-08-28T06:23:56.207Z"
   },
   {
    "duration": 36,
    "start_time": "2024-08-28T06:23:56.320Z"
   },
   {
    "duration": 13,
    "start_time": "2024-08-28T06:23:56.357Z"
   },
   {
    "duration": 130,
    "start_time": "2024-08-28T06:23:56.371Z"
   },
   {
    "duration": 974,
    "start_time": "2024-08-28T06:23:56.503Z"
   },
   {
    "duration": 114,
    "start_time": "2024-08-28T06:23:57.478Z"
   },
   {
    "duration": 4,
    "start_time": "2024-08-28T14:56:52.475Z"
   },
   {
    "duration": 1703,
    "start_time": "2024-08-28T14:56:57.543Z"
   },
   {
    "duration": 3777,
    "start_time": "2024-08-28T14:56:59.248Z"
   },
   {
    "duration": 35,
    "start_time": "2024-08-28T14:57:03.027Z"
   },
   {
    "duration": 1490,
    "start_time": "2024-08-28T14:57:03.063Z"
   },
   {
    "duration": 7,
    "start_time": "2024-08-28T14:57:04.555Z"
   },
   {
    "duration": 213,
    "start_time": "2024-08-28T14:57:04.563Z"
   },
   {
    "duration": 188,
    "start_time": "2024-08-28T14:57:04.777Z"
   },
   {
    "duration": 1262,
    "start_time": "2024-08-28T14:57:04.966Z"
   },
   {
    "duration": 90024,
    "start_time": "2024-08-28T14:57:06.230Z"
   },
   {
    "duration": 116,
    "start_time": "2024-08-28T14:58:36.256Z"
   },
   {
    "duration": 1992,
    "start_time": "2024-08-28T14:58:36.374Z"
   },
   {
    "duration": 1959,
    "start_time": "2024-08-28T14:58:38.368Z"
   },
   {
    "duration": 158,
    "start_time": "2024-08-28T14:58:40.330Z"
   },
   {
    "duration": 30,
    "start_time": "2024-08-28T14:58:40.492Z"
   },
   {
    "duration": 64,
    "start_time": "2024-08-28T14:58:40.530Z"
   },
   {
    "duration": 153,
    "start_time": "2024-08-28T14:58:40.596Z"
   },
   {
    "duration": 1184,
    "start_time": "2024-08-28T14:58:40.751Z"
   },
   {
    "duration": 128,
    "start_time": "2024-08-28T14:58:41.939Z"
   },
   {
    "duration": 3,
    "start_time": "2024-08-28T14:58:42.069Z"
   },
   {
    "duration": 37,
    "start_time": "2024-08-28T14:58:42.073Z"
   },
   {
    "duration": 208,
    "start_time": "2024-08-28T14:58:42.119Z"
   },
   {
    "duration": 3,
    "start_time": "2024-08-28T14:58:42.329Z"
   },
   {
    "duration": 25,
    "start_time": "2024-08-28T14:58:42.333Z"
   },
   {
    "duration": 1988,
    "start_time": "2024-08-28T14:58:42.360Z"
   },
   {
    "duration": 343,
    "start_time": "2024-08-28T14:58:44.350Z"
   },
   {
    "duration": 58729,
    "start_time": "2024-08-28T14:58:44.695Z"
   },
   {
    "duration": 1540,
    "start_time": "2024-08-28T22:11:58.782Z"
   },
   {
    "duration": 3130,
    "start_time": "2024-08-28T22:12:00.324Z"
   },
   {
    "duration": 67,
    "start_time": "2024-08-28T22:12:03.456Z"
   },
   {
    "duration": 1387,
    "start_time": "2024-08-28T22:12:07.450Z"
   },
   {
    "duration": 2319,
    "start_time": "2024-08-28T22:12:08.839Z"
   },
   {
    "duration": 42,
    "start_time": "2024-08-28T22:12:11.160Z"
   },
   {
    "duration": 2695,
    "start_time": "2024-08-28T22:12:11.204Z"
   },
   {
    "duration": 6,
    "start_time": "2024-08-28T22:12:13.901Z"
   },
   {
    "duration": 165,
    "start_time": "2024-08-28T22:12:13.908Z"
   },
   {
    "duration": 148,
    "start_time": "2024-08-28T22:12:14.075Z"
   },
   {
    "duration": 1020,
    "start_time": "2024-08-28T22:12:14.225Z"
   },
   {
    "duration": 77779,
    "start_time": "2024-08-28T22:12:15.253Z"
   },
   {
    "duration": 86,
    "start_time": "2024-08-28T22:13:33.034Z"
   },
   {
    "duration": 1502,
    "start_time": "2024-08-28T22:13:33.122Z"
   },
   {
    "duration": 1591,
    "start_time": "2024-08-28T22:13:34.626Z"
   },
   {
    "duration": 111,
    "start_time": "2024-08-28T22:13:36.219Z"
   },
   {
    "duration": 35,
    "start_time": "2024-08-28T22:13:36.333Z"
   },
   {
    "duration": 44,
    "start_time": "2024-08-28T22:13:36.370Z"
   },
   {
    "duration": 118,
    "start_time": "2024-08-28T22:13:36.416Z"
   },
   {
    "duration": 955,
    "start_time": "2024-08-28T22:13:36.536Z"
   },
   {
    "duration": 104,
    "start_time": "2024-08-28T22:13:37.493Z"
   },
   {
    "duration": 6504,
    "start_time": "2024-08-28T22:39:05.334Z"
   },
   {
    "duration": 2355,
    "start_time": "2024-08-28T22:39:25.480Z"
   },
   {
    "duration": 1316,
    "start_time": "2024-08-28T22:39:45.048Z"
   },
   {
    "duration": 3016,
    "start_time": "2024-08-28T22:39:49.004Z"
   },
   {
    "duration": 6,
    "start_time": "2024-08-28T22:40:14.108Z"
   },
   {
    "duration": 156,
    "start_time": "2024-08-28T22:40:17.611Z"
   },
   {
    "duration": 144,
    "start_time": "2024-08-28T22:40:23.565Z"
   },
   {
    "duration": 994,
    "start_time": "2024-08-28T22:40:25.719Z"
   },
   {
    "duration": 77024,
    "start_time": "2024-08-28T22:40:31.581Z"
   },
   {
    "duration": 91,
    "start_time": "2024-08-28T22:41:48.607Z"
   },
   {
    "duration": 1530,
    "start_time": "2024-08-28T22:41:48.700Z"
   },
   {
    "duration": 1575,
    "start_time": "2024-08-28T22:41:50.232Z"
   },
   {
    "duration": 105,
    "start_time": "2024-08-28T22:41:51.808Z"
   },
   {
    "duration": 18,
    "start_time": "2024-08-28T22:41:51.915Z"
   },
   {
    "duration": 13,
    "start_time": "2024-08-28T22:42:24.321Z"
   },
   {
    "duration": 105,
    "start_time": "2024-08-28T22:42:25.293Z"
   },
   {
    "duration": 905,
    "start_time": "2024-08-28T22:42:31.398Z"
   },
   {
    "duration": 123,
    "start_time": "2024-08-28T22:42:37.131Z"
   },
   {
    "duration": 1396,
    "start_time": "2024-08-28T22:46:17.147Z"
   },
   {
    "duration": 3035,
    "start_time": "2024-08-28T22:46:41.535Z"
   },
   {
    "duration": 2287,
    "start_time": "2024-08-28T22:46:44.572Z"
   },
   {
    "duration": 1738,
    "start_time": "2024-08-28T22:46:46.861Z"
   },
   {
    "duration": 2960,
    "start_time": "2024-08-28T22:46:48.601Z"
   },
   {
    "duration": 6,
    "start_time": "2024-08-28T22:46:51.563Z"
   },
   {
    "duration": 161,
    "start_time": "2024-08-28T22:46:51.570Z"
   },
   {
    "duration": 130,
    "start_time": "2024-08-28T22:46:51.733Z"
   },
   {
    "duration": 989,
    "start_time": "2024-08-28T22:46:51.864Z"
   },
   {
    "duration": 76662,
    "start_time": "2024-08-28T22:46:52.855Z"
   },
   {
    "duration": 92,
    "start_time": "2024-08-28T22:48:09.518Z"
   },
   {
    "duration": 1530,
    "start_time": "2024-08-28T22:48:09.611Z"
   },
   {
    "duration": 1543,
    "start_time": "2024-08-28T22:48:11.143Z"
   },
   {
    "duration": 107,
    "start_time": "2024-08-28T22:48:12.688Z"
   },
   {
    "duration": 17,
    "start_time": "2024-08-28T22:48:12.798Z"
   },
   {
    "duration": 34,
    "start_time": "2024-08-28T22:48:12.816Z"
   },
   {
    "duration": 106,
    "start_time": "2024-08-28T22:48:12.852Z"
   },
   {
    "duration": 910,
    "start_time": "2024-08-28T22:48:12.960Z"
   },
   {
    "duration": 108,
    "start_time": "2024-08-28T22:48:13.871Z"
   },
   {
    "duration": 46,
    "start_time": "2024-08-28T22:56:58.186Z"
   },
   {
    "duration": 2881,
    "start_time": "2024-08-28T22:57:25.965Z"
   },
   {
    "duration": 2322,
    "start_time": "2024-08-28T22:57:28.848Z"
   },
   {
    "duration": 2268,
    "start_time": "2024-08-28T22:57:31.172Z"
   },
   {
    "duration": 3006,
    "start_time": "2024-08-28T22:57:33.442Z"
   },
   {
    "duration": 5,
    "start_time": "2024-08-28T22:57:36.450Z"
   },
   {
    "duration": 170,
    "start_time": "2024-08-28T22:57:36.457Z"
   },
   {
    "duration": 149,
    "start_time": "2024-08-28T22:57:36.628Z"
   },
   {
    "duration": 1051,
    "start_time": "2024-08-28T22:57:36.779Z"
   },
   {
    "duration": 75909,
    "start_time": "2024-08-28T22:57:37.832Z"
   },
   {
    "duration": 88,
    "start_time": "2024-08-28T22:58:53.744Z"
   },
   {
    "duration": 1516,
    "start_time": "2024-08-28T22:58:53.833Z"
   },
   {
    "duration": 1560,
    "start_time": "2024-08-28T22:58:55.352Z"
   },
   {
    "duration": 100,
    "start_time": "2024-08-28T22:58:56.914Z"
   },
   {
    "duration": 20,
    "start_time": "2024-08-28T22:58:57.016Z"
   },
   {
    "duration": 27,
    "start_time": "2024-08-28T22:58:57.037Z"
   },
   {
    "duration": 117,
    "start_time": "2024-08-28T22:58:57.065Z"
   },
   {
    "duration": 921,
    "start_time": "2024-08-28T22:58:57.184Z"
   },
   {
    "duration": 103,
    "start_time": "2024-08-28T22:58:58.107Z"
   },
   {
    "duration": 23,
    "start_time": "2024-08-28T22:58:58.211Z"
   },
   {
    "duration": 277,
    "start_time": "2024-08-28T22:58:58.236Z"
   },
   {
    "duration": 133,
    "start_time": "2024-08-28T22:58:58.515Z"
   },
   {
    "duration": 169,
    "start_time": "2024-08-28T23:17:52.174Z"
   },
   {
    "duration": 66,
    "start_time": "2024-08-28T23:19:10.706Z"
   },
   {
    "duration": 4,
    "start_time": "2024-08-28T23:20:07.744Z"
   },
   {
    "duration": 2883,
    "start_time": "2024-08-28T23:22:01.061Z"
   },
   {
    "duration": 2326,
    "start_time": "2024-08-28T23:22:03.947Z"
   },
   {
    "duration": 1293,
    "start_time": "2024-08-28T23:22:06.275Z"
   },
   {
    "duration": 1010,
    "start_time": "2024-08-28T23:22:07.570Z"
   },
   {
    "duration": 6,
    "start_time": "2024-08-28T23:22:08.582Z"
   },
   {
    "duration": 170,
    "start_time": "2024-08-28T23:22:08.590Z"
   },
   {
    "duration": 142,
    "start_time": "2024-08-28T23:22:08.761Z"
   },
   {
    "duration": 966,
    "start_time": "2024-08-28T23:22:08.905Z"
   },
   {
    "duration": 75374,
    "start_time": "2024-08-28T23:22:09.872Z"
   },
   {
    "duration": 91,
    "start_time": "2024-08-28T23:23:25.247Z"
   },
   {
    "duration": 1629,
    "start_time": "2024-08-28T23:23:25.339Z"
   },
   {
    "duration": 1554,
    "start_time": "2024-08-28T23:23:26.970Z"
   },
   {
    "duration": 107,
    "start_time": "2024-08-28T23:23:28.525Z"
   },
   {
    "duration": 33,
    "start_time": "2024-08-28T23:23:28.635Z"
   },
   {
    "duration": 55,
    "start_time": "2024-08-28T23:23:28.670Z"
   },
   {
    "duration": 128,
    "start_time": "2024-08-28T23:23:28.727Z"
   },
   {
    "duration": 885,
    "start_time": "2024-08-28T23:23:28.857Z"
   },
   {
    "duration": 103,
    "start_time": "2024-08-28T23:23:29.743Z"
   },
   {
    "duration": 33,
    "start_time": "2024-08-28T23:23:29.847Z"
   },
   {
    "duration": 281,
    "start_time": "2024-08-28T23:23:29.881Z"
   },
   {
    "duration": 141,
    "start_time": "2024-08-28T23:23:30.163Z"
   },
   {
    "duration": 1348,
    "start_time": "2024-08-28T23:23:30.306Z"
   },
   {
    "duration": 0,
    "start_time": "2024-08-28T23:23:31.656Z"
   },
   {
    "duration": 3050,
    "start_time": "2024-08-28T23:59:37.864Z"
   },
   {
    "duration": 2287,
    "start_time": "2024-08-28T23:59:40.916Z"
   },
   {
    "duration": 1262,
    "start_time": "2024-08-28T23:59:43.205Z"
   },
   {
    "duration": 1008,
    "start_time": "2024-08-28T23:59:44.469Z"
   },
   {
    "duration": 6,
    "start_time": "2024-08-28T23:59:45.479Z"
   },
   {
    "duration": 160,
    "start_time": "2024-08-28T23:59:45.486Z"
   },
   {
    "duration": 139,
    "start_time": "2024-08-28T23:59:45.653Z"
   },
   {
    "duration": 973,
    "start_time": "2024-08-28T23:59:45.794Z"
   },
   {
    "duration": 75355,
    "start_time": "2024-08-28T23:59:46.769Z"
   },
   {
    "duration": 90,
    "start_time": "2024-08-29T00:01:02.126Z"
   },
   {
    "duration": 1499,
    "start_time": "2024-08-29T00:01:02.218Z"
   },
   {
    "duration": 1502,
    "start_time": "2024-08-29T00:01:03.718Z"
   },
   {
    "duration": 106,
    "start_time": "2024-08-29T00:01:05.222Z"
   },
   {
    "duration": 28,
    "start_time": "2024-08-29T00:01:05.330Z"
   },
   {
    "duration": 12,
    "start_time": "2024-08-29T00:01:05.359Z"
   },
   {
    "duration": 170,
    "start_time": "2024-08-29T00:01:05.373Z"
   },
   {
    "duration": 931,
    "start_time": "2024-08-29T00:01:05.544Z"
   },
   {
    "duration": 107,
    "start_time": "2024-08-29T00:01:06.477Z"
   },
   {
    "duration": 23,
    "start_time": "2024-08-29T00:01:06.585Z"
   },
   {
    "duration": 267,
    "start_time": "2024-08-29T00:01:06.610Z"
   },
   {
    "duration": 127,
    "start_time": "2024-08-29T00:01:06.878Z"
   },
   {
    "duration": 288551,
    "start_time": "2024-08-29T00:01:07.006Z"
   },
   {
    "duration": 100,
    "start_time": "2024-08-29T00:05:55.559Z"
   },
   {
    "duration": 7,
    "start_time": "2024-08-29T00:22:08.000Z"
   },
   {
    "duration": 11,
    "start_time": "2024-08-29T00:23:31.162Z"
   },
   {
    "duration": 2742,
    "start_time": "2024-08-29T00:32:30.066Z"
   },
   {
    "duration": 2288,
    "start_time": "2024-08-29T00:32:32.810Z"
   },
   {
    "duration": 1253,
    "start_time": "2024-08-29T00:32:35.100Z"
   },
   {
    "duration": 1076,
    "start_time": "2024-08-29T00:32:36.355Z"
   },
   {
    "duration": 5,
    "start_time": "2024-08-29T00:32:37.433Z"
   },
   {
    "duration": 162,
    "start_time": "2024-08-29T00:32:37.439Z"
   },
   {
    "duration": 139,
    "start_time": "2024-08-29T00:32:37.602Z"
   },
   {
    "duration": 974,
    "start_time": "2024-08-29T00:32:37.743Z"
   },
   {
    "duration": 74163,
    "start_time": "2024-08-29T00:32:38.719Z"
   },
   {
    "duration": 112,
    "start_time": "2024-08-29T00:33:52.886Z"
   },
   {
    "duration": 1578,
    "start_time": "2024-08-29T00:33:53.000Z"
   },
   {
    "duration": 1526,
    "start_time": "2024-08-29T00:33:54.580Z"
   },
   {
    "duration": 103,
    "start_time": "2024-08-29T00:33:56.107Z"
   },
   {
    "duration": 18,
    "start_time": "2024-08-29T00:33:56.211Z"
   },
   {
    "duration": 26,
    "start_time": "2024-08-29T00:33:56.231Z"
   },
   {
    "duration": 131,
    "start_time": "2024-08-29T00:33:56.259Z"
   },
   {
    "duration": 890,
    "start_time": "2024-08-29T00:33:56.392Z"
   },
   {
    "duration": 119,
    "start_time": "2024-08-29T00:33:57.283Z"
   },
   {
    "duration": 25,
    "start_time": "2024-08-29T00:33:57.403Z"
   },
   {
    "duration": 262,
    "start_time": "2024-08-29T00:33:57.429Z"
   },
   {
    "duration": 125,
    "start_time": "2024-08-29T00:33:57.693Z"
   },
   {
    "duration": 292235,
    "start_time": "2024-08-29T00:33:57.820Z"
   },
   {
    "duration": 101,
    "start_time": "2024-08-29T00:38:50.057Z"
   },
   {
    "duration": 9,
    "start_time": "2024-08-29T00:38:50.160Z"
   },
   {
    "duration": 7958,
    "start_time": "2024-08-29T17:31:04.089Z"
   },
   {
    "duration": 5546,
    "start_time": "2024-08-29T17:31:12.050Z"
   },
   {
    "duration": 1473,
    "start_time": "2024-08-29T17:31:17.598Z"
   },
   {
    "duration": 3145,
    "start_time": "2024-08-29T17:31:19.073Z"
   },
   {
    "duration": 6,
    "start_time": "2024-08-29T17:31:22.220Z"
   },
   {
    "duration": 186,
    "start_time": "2024-08-29T17:31:22.228Z"
   },
   {
    "duration": 157,
    "start_time": "2024-08-29T17:31:22.416Z"
   },
   {
    "duration": 116,
    "start_time": "2024-08-29T17:31:25.457Z"
   },
   {
    "duration": 1025,
    "start_time": "2024-08-29T17:31:37.980Z"
   },
   {
    "duration": 104,
    "start_time": "2024-08-29T17:31:43.374Z"
   },
   {
    "duration": 1717,
    "start_time": "2024-08-29T17:31:44.992Z"
   },
   {
    "duration": 1586,
    "start_time": "2024-08-29T17:31:53.527Z"
   },
   {
    "duration": 105,
    "start_time": "2024-08-29T17:31:55.115Z"
   },
   {
    "duration": 18,
    "start_time": "2024-08-29T17:31:57.417Z"
   },
   {
    "duration": 12,
    "start_time": "2024-08-29T17:31:59.264Z"
   },
   {
    "duration": 132,
    "start_time": "2024-08-29T17:32:00.635Z"
   },
   {
    "duration": 968,
    "start_time": "2024-08-29T17:32:02.380Z"
   },
   {
    "duration": 119,
    "start_time": "2024-08-29T17:32:07.829Z"
   },
   {
    "duration": 23,
    "start_time": "2024-08-29T17:33:14.627Z"
   },
   {
    "duration": 26,
    "start_time": "2024-08-29T17:33:18.718Z"
   },
   {
    "duration": 5611,
    "start_time": "2024-08-29T17:40:56.441Z"
   },
   {
    "duration": 14,
    "start_time": "2024-08-29T17:44:31.225Z"
   },
   {
    "duration": 251,
    "start_time": "2024-08-29T17:50:32.819Z"
   },
   {
    "duration": 133,
    "start_time": "2024-08-29T17:50:34.705Z"
   },
   {
    "duration": 5060,
    "start_time": "2024-08-29T17:50:39.286Z"
   },
   {
    "duration": 104,
    "start_time": "2024-08-29T17:58:27.217Z"
   },
   {
    "duration": 18,
    "start_time": "2024-08-29T17:58:35.833Z"
   },
   {
    "duration": 3917,
    "start_time": "2024-08-29T17:58:55.828Z"
   },
   {
    "duration": 942,
    "start_time": "2024-08-29T17:59:37.772Z"
   },
   {
    "duration": 980,
    "start_time": "2024-08-29T17:59:47.628Z"
   },
   {
    "duration": 898,
    "start_time": "2024-08-29T18:00:29.600Z"
   },
   {
    "duration": 18,
    "start_time": "2024-08-29T18:42:03.779Z"
   },
   {
    "duration": 68,
    "start_time": "2024-08-29T18:42:16.928Z"
   },
   {
    "duration": 3,
    "start_time": "2024-08-29T18:42:18.750Z"
   },
   {
    "duration": 3,
    "start_time": "2024-08-29T18:42:27.651Z"
   },
   {
    "duration": 410362,
    "start_time": "2024-08-29T18:42:30.311Z"
   },
   {
    "duration": 2949,
    "start_time": "2024-08-29T18:52:56.840Z"
   },
   {
    "duration": 2463,
    "start_time": "2024-08-29T18:52:59.791Z"
   },
   {
    "duration": 1360,
    "start_time": "2024-08-29T18:53:02.256Z"
   },
   {
    "duration": 1098,
    "start_time": "2024-08-29T18:53:03.618Z"
   },
   {
    "duration": 6,
    "start_time": "2024-08-29T18:53:04.718Z"
   },
   {
    "duration": 233,
    "start_time": "2024-08-29T18:53:04.726Z"
   },
   {
    "duration": 150,
    "start_time": "2024-08-29T18:53:04.965Z"
   },
   {
    "duration": 1096,
    "start_time": "2024-08-29T18:53:05.117Z"
   },
   {
    "duration": 82004,
    "start_time": "2024-08-29T18:53:06.214Z"
   },
   {
    "duration": 93,
    "start_time": "2024-08-29T18:54:28.220Z"
   },
   {
    "duration": 1590,
    "start_time": "2024-08-29T18:54:28.315Z"
   },
   {
    "duration": 1640,
    "start_time": "2024-08-29T18:54:29.909Z"
   },
   {
    "duration": 121,
    "start_time": "2024-08-29T18:54:31.551Z"
   },
   {
    "duration": 25,
    "start_time": "2024-08-29T18:54:31.675Z"
   },
   {
    "duration": 28,
    "start_time": "2024-08-29T18:54:31.702Z"
   },
   {
    "duration": 117,
    "start_time": "2024-08-29T18:54:31.731Z"
   },
   {
    "duration": 929,
    "start_time": "2024-08-29T18:54:31.849Z"
   },
   {
    "duration": 114,
    "start_time": "2024-08-29T18:54:32.780Z"
   },
   {
    "duration": 23,
    "start_time": "2024-08-29T18:54:32.896Z"
   },
   {
    "duration": 278,
    "start_time": "2024-08-29T18:54:32.921Z"
   },
   {
    "duration": 166,
    "start_time": "2024-08-29T18:54:33.201Z"
   },
   {
    "duration": 5136,
    "start_time": "2024-08-29T18:54:33.368Z"
   },
   {
    "duration": 129,
    "start_time": "2024-08-29T18:54:38.506Z"
   },
   {
    "duration": 80,
    "start_time": "2024-08-29T18:54:38.636Z"
   },
   {
    "duration": 3,
    "start_time": "2024-08-29T18:54:38.718Z"
   },
   {
    "duration": 82,
    "start_time": "2024-08-29T18:54:38.722Z"
   },
   {
    "duration": 413277,
    "start_time": "2024-08-29T18:54:38.805Z"
   },
   {
    "duration": 151,
    "start_time": "2024-08-29T19:01:32.085Z"
   },
   {
    "duration": 15,
    "start_time": "2024-08-29T19:12:20.488Z"
   },
   {
    "duration": 958,
    "start_time": "2024-08-29T19:12:35.808Z"
   },
   {
    "duration": 3,
    "start_time": "2024-08-29T19:13:15.976Z"
   },
   {
    "duration": 3,
    "start_time": "2024-08-29T19:15:27.274Z"
   },
   {
    "duration": 19215,
    "start_time": "2024-08-29T19:16:59.153Z"
   },
   {
    "duration": 3073,
    "start_time": "2024-08-29T19:34:53.608Z"
   },
   {
    "duration": 2484,
    "start_time": "2024-08-29T19:34:56.683Z"
   },
   {
    "duration": 1339,
    "start_time": "2024-08-29T19:34:59.170Z"
   },
   {
    "duration": 1094,
    "start_time": "2024-08-29T19:35:00.511Z"
   },
   {
    "duration": 6,
    "start_time": "2024-08-29T19:35:01.607Z"
   },
   {
    "duration": 177,
    "start_time": "2024-08-29T19:35:01.615Z"
   },
   {
    "duration": 159,
    "start_time": "2024-08-29T19:35:01.793Z"
   },
   {
    "duration": 1098,
    "start_time": "2024-08-29T19:35:01.953Z"
   },
   {
    "duration": 82222,
    "start_time": "2024-08-29T19:35:03.053Z"
   },
   {
    "duration": 110,
    "start_time": "2024-08-29T19:36:25.277Z"
   },
   {
    "duration": 1690,
    "start_time": "2024-08-29T19:36:25.389Z"
   },
   {
    "duration": 1633,
    "start_time": "2024-08-29T19:36:27.080Z"
   },
   {
    "duration": 112,
    "start_time": "2024-08-29T19:36:28.715Z"
   },
   {
    "duration": 39,
    "start_time": "2024-08-29T19:36:28.828Z"
   },
   {
    "duration": 17,
    "start_time": "2024-08-29T19:36:28.870Z"
   },
   {
    "duration": 129,
    "start_time": "2024-08-29T19:36:28.889Z"
   },
   {
    "duration": 947,
    "start_time": "2024-08-29T19:36:29.020Z"
   },
   {
    "duration": 112,
    "start_time": "2024-08-29T19:36:29.969Z"
   },
   {
    "duration": 41,
    "start_time": "2024-08-29T19:36:30.082Z"
   },
   {
    "duration": 322,
    "start_time": "2024-08-29T19:36:30.125Z"
   },
   {
    "duration": 151,
    "start_time": "2024-08-29T19:36:30.448Z"
   },
   {
    "duration": 5003,
    "start_time": "2024-08-29T19:36:30.601Z"
   },
   {
    "duration": 109,
    "start_time": "2024-08-29T19:36:35.605Z"
   },
   {
    "duration": 79,
    "start_time": "2024-08-29T19:36:35.716Z"
   },
   {
    "duration": 3,
    "start_time": "2024-08-29T19:36:35.797Z"
   },
   {
    "duration": 14,
    "start_time": "2024-08-29T19:36:35.802Z"
   },
   {
    "duration": 412461,
    "start_time": "2024-08-29T19:36:35.818Z"
   },
   {
    "duration": 4,
    "start_time": "2024-08-29T19:47:40.472Z"
   },
   {
    "duration": 20460,
    "start_time": "2024-08-29T19:48:06.912Z"
   },
   {
    "duration": 3,
    "start_time": "2024-08-29T19:49:14.537Z"
   },
   {
    "duration": 940,
    "start_time": "2024-08-29T19:49:56.337Z"
   },
   {
    "duration": 56,
    "start_time": "2024-08-29T19:58:02.363Z"
   },
   {
    "duration": 4,
    "start_time": "2024-08-29T19:58:38.390Z"
   },
   {
    "duration": 9,
    "start_time": "2024-08-29T19:58:47.521Z"
   },
   {
    "duration": 59,
    "start_time": "2024-08-29T19:59:19.701Z"
   },
   {
    "duration": 9,
    "start_time": "2024-08-29T20:00:28.519Z"
   },
   {
    "duration": 3048,
    "start_time": "2024-08-29T20:06:06.620Z"
   },
   {
    "duration": 2459,
    "start_time": "2024-08-29T20:06:09.670Z"
   },
   {
    "duration": 1362,
    "start_time": "2024-08-29T20:06:12.132Z"
   },
   {
    "duration": 1100,
    "start_time": "2024-08-29T20:06:13.496Z"
   },
   {
    "duration": 6,
    "start_time": "2024-08-29T20:06:14.598Z"
   },
   {
    "duration": 247,
    "start_time": "2024-08-29T20:06:14.605Z"
   },
   {
    "duration": 146,
    "start_time": "2024-08-29T20:06:14.853Z"
   },
   {
    "duration": 1096,
    "start_time": "2024-08-29T20:06:15.000Z"
   },
   {
    "duration": 82489,
    "start_time": "2024-08-29T20:06:16.098Z"
   },
   {
    "duration": 93,
    "start_time": "2024-08-29T20:07:38.590Z"
   },
   {
    "duration": 1710,
    "start_time": "2024-08-29T20:07:38.685Z"
   },
   {
    "duration": 1620,
    "start_time": "2024-08-29T20:07:40.397Z"
   },
   {
    "duration": 105,
    "start_time": "2024-08-29T20:07:42.019Z"
   },
   {
    "duration": 20,
    "start_time": "2024-08-29T20:07:42.125Z"
   },
   {
    "duration": 42,
    "start_time": "2024-08-29T20:07:42.146Z"
   },
   {
    "duration": 104,
    "start_time": "2024-08-29T20:07:42.190Z"
   },
   {
    "duration": 919,
    "start_time": "2024-08-29T20:07:42.296Z"
   },
   {
    "duration": 113,
    "start_time": "2024-08-29T20:07:43.217Z"
   },
   {
    "duration": 25,
    "start_time": "2024-08-29T20:07:43.332Z"
   },
   {
    "duration": 263,
    "start_time": "2024-08-29T20:07:43.364Z"
   },
   {
    "duration": 142,
    "start_time": "2024-08-29T20:07:43.629Z"
   },
   {
    "duration": 5012,
    "start_time": "2024-08-29T20:07:43.772Z"
   },
   {
    "duration": 105,
    "start_time": "2024-08-29T20:07:48.785Z"
   },
   {
    "duration": 67,
    "start_time": "2024-08-29T20:07:48.891Z"
   },
   {
    "duration": 6,
    "start_time": "2024-08-29T20:07:48.959Z"
   },
   {
    "duration": 59,
    "start_time": "2024-08-29T20:07:48.967Z"
   },
   {
    "duration": 400245,
    "start_time": "2024-08-29T20:07:49.027Z"
   },
   {
    "duration": 4,
    "start_time": "2024-08-29T20:14:29.276Z"
   },
   {
    "duration": 21586,
    "start_time": "2024-08-29T20:14:29.281Z"
   },
   {
    "duration": 3,
    "start_time": "2024-08-29T20:14:50.869Z"
   },
   {
    "duration": 1009,
    "start_time": "2024-08-29T20:14:50.874Z"
   },
   {
    "duration": 5,
    "start_time": "2024-08-29T20:14:51.885Z"
   },
   {
    "duration": 14,
    "start_time": "2024-08-29T20:14:51.892Z"
   },
   {
    "duration": 6954,
    "start_time": "2024-08-30T19:41:12.577Z"
   },
   {
    "duration": 2865,
    "start_time": "2024-08-30T19:41:19.533Z"
   },
   {
    "duration": 1407,
    "start_time": "2024-08-30T19:41:22.400Z"
   },
   {
    "duration": 3031,
    "start_time": "2024-08-30T19:41:23.810Z"
   },
   {
    "duration": 7,
    "start_time": "2024-08-30T19:41:26.844Z"
   },
   {
    "duration": 167,
    "start_time": "2024-08-30T19:41:26.853Z"
   },
   {
    "duration": 143,
    "start_time": "2024-08-30T19:41:27.021Z"
   },
   {
    "duration": 1015,
    "start_time": "2024-08-30T19:41:27.166Z"
   },
   {
    "duration": 76561,
    "start_time": "2024-08-30T19:41:28.183Z"
   },
   {
    "duration": 90,
    "start_time": "2024-08-30T19:42:44.746Z"
   },
   {
    "duration": 1627,
    "start_time": "2024-08-30T19:42:44.838Z"
   },
   {
    "duration": 1570,
    "start_time": "2024-08-30T19:42:46.467Z"
   },
   {
    "duration": 135,
    "start_time": "2024-08-30T19:42:48.039Z"
   },
   {
    "duration": 18,
    "start_time": "2024-08-30T19:42:48.176Z"
   },
   {
    "duration": 13,
    "start_time": "2024-08-30T19:42:48.195Z"
   },
   {
    "duration": 118,
    "start_time": "2024-08-30T19:42:48.209Z"
   },
   {
    "duration": 901,
    "start_time": "2024-08-30T19:42:48.328Z"
   },
   {
    "duration": 111,
    "start_time": "2024-08-30T19:42:49.230Z"
   },
   {
    "duration": 33,
    "start_time": "2024-08-30T19:42:49.343Z"
   },
   {
    "duration": 268,
    "start_time": "2024-08-30T19:42:49.377Z"
   },
   {
    "duration": 158,
    "start_time": "2024-08-30T19:42:49.647Z"
   },
   {
    "duration": 3,
    "start_time": "2024-08-30T19:42:49.807Z"
   },
   {
    "duration": 5290,
    "start_time": "2024-08-30T19:42:49.812Z"
   },
   {
    "duration": 117,
    "start_time": "2024-08-30T19:42:55.104Z"
   },
   {
    "duration": 72,
    "start_time": "2024-08-30T19:42:55.222Z"
   },
   {
    "duration": 3,
    "start_time": "2024-08-30T19:42:55.296Z"
   },
   {
    "duration": 5,
    "start_time": "2024-08-30T19:42:55.301Z"
   },
   {
    "duration": 398682,
    "start_time": "2024-08-30T19:42:55.309Z"
   },
   {
    "duration": 67,
    "start_time": "2024-08-30T19:49:33.993Z"
   },
   {
    "duration": 123,
    "start_time": "2024-08-30T19:49:34.062Z"
   },
   {
    "duration": 0,
    "start_time": "2024-08-30T19:49:34.187Z"
   },
   {
    "duration": 0,
    "start_time": "2024-08-30T19:49:34.188Z"
   },
   {
    "duration": 0,
    "start_time": "2024-08-30T19:49:34.189Z"
   },
   {
    "duration": 0,
    "start_time": "2024-08-30T19:49:34.190Z"
   },
   {
    "duration": 79551,
    "start_time": "2024-08-30T19:51:04.312Z"
   },
   {
    "duration": 5,
    "start_time": "2024-08-30T19:52:52.018Z"
   },
   {
    "duration": 3,
    "start_time": "2024-08-30T19:52:59.543Z"
   },
   {
    "duration": 69,
    "start_time": "2024-08-30T19:53:06.820Z"
   },
   {
    "duration": 10,
    "start_time": "2024-08-30T19:53:44.836Z"
   },
   {
    "duration": 941,
    "start_time": "2024-08-30T19:53:50.520Z"
   },
   {
    "duration": 2840,
    "start_time": "2024-08-30T19:54:11.304Z"
   },
   {
    "duration": 2349,
    "start_time": "2024-08-30T19:54:14.147Z"
   },
   {
    "duration": 1269,
    "start_time": "2024-08-30T19:54:16.498Z"
   },
   {
    "duration": 988,
    "start_time": "2024-08-30T19:54:17.769Z"
   },
   {
    "duration": 7,
    "start_time": "2024-08-30T19:54:18.759Z"
   },
   {
    "duration": 197,
    "start_time": "2024-08-30T19:54:18.768Z"
   },
   {
    "duration": 141,
    "start_time": "2024-08-30T19:54:18.966Z"
   },
   {
    "duration": 1031,
    "start_time": "2024-08-30T19:54:19.109Z"
   },
   {
    "duration": 78024,
    "start_time": "2024-08-30T19:54:20.142Z"
   },
   {
    "duration": 92,
    "start_time": "2024-08-30T19:55:38.169Z"
   },
   {
    "duration": 1602,
    "start_time": "2024-08-30T19:55:38.263Z"
   },
   {
    "duration": 1549,
    "start_time": "2024-08-30T19:55:39.867Z"
   },
   {
    "duration": 121,
    "start_time": "2024-08-30T19:55:41.418Z"
   },
   {
    "duration": 30,
    "start_time": "2024-08-30T19:55:41.541Z"
   },
   {
    "duration": 25,
    "start_time": "2024-08-30T19:55:41.572Z"
   },
   {
    "duration": 161,
    "start_time": "2024-08-30T19:55:41.599Z"
   },
   {
    "duration": 879,
    "start_time": "2024-08-30T19:55:41.762Z"
   },
   {
    "duration": 104,
    "start_time": "2024-08-30T19:55:42.643Z"
   },
   {
    "duration": 30,
    "start_time": "2024-08-30T19:55:42.748Z"
   },
   {
    "duration": 264,
    "start_time": "2024-08-30T19:55:42.779Z"
   },
   {
    "duration": 137,
    "start_time": "2024-08-30T19:55:43.044Z"
   },
   {
    "duration": 3,
    "start_time": "2024-08-30T19:55:43.182Z"
   },
   {
    "duration": 5183,
    "start_time": "2024-08-30T19:55:43.187Z"
   },
   {
    "duration": 92,
    "start_time": "2024-08-30T19:55:48.372Z"
   },
   {
    "duration": 85,
    "start_time": "2024-08-30T19:55:48.466Z"
   },
   {
    "duration": 3,
    "start_time": "2024-08-30T19:55:48.561Z"
   },
   {
    "duration": 6,
    "start_time": "2024-08-30T19:55:48.566Z"
   },
   {
    "duration": 365107,
    "start_time": "2024-08-30T19:55:48.575Z"
   },
   {
    "duration": 4,
    "start_time": "2024-08-30T20:01:53.684Z"
   },
   {
    "duration": 80071,
    "start_time": "2024-08-30T20:01:53.690Z"
   },
   {
    "duration": 6,
    "start_time": "2024-08-30T20:03:13.764Z"
   },
   {
    "duration": 90,
    "start_time": "2024-08-30T20:03:13.772Z"
   },
   {
    "duration": 14,
    "start_time": "2024-08-30T20:03:13.865Z"
   },
   {
    "duration": 981,
    "start_time": "2024-08-30T20:03:13.881Z"
   }
  ],
  "kernelspec": {
   "display_name": "Python 3 (ipykernel)",
   "language": "python",
   "name": "python3"
  },
  "language_info": {
   "codemirror_mode": {
    "name": "ipython",
    "version": 3
   },
   "file_extension": ".py",
   "mimetype": "text/x-python",
   "name": "python",
   "nbconvert_exporter": "python",
   "pygments_lexer": "ipython3",
   "version": "3.12.4"
  },
  "toc": {
   "base_numbering": 1,
   "nav_menu": {},
   "number_sections": true,
   "sideBar": true,
   "skip_h1_title": true,
   "title_cell": "Table of Contents",
   "title_sidebar": "Contents",
   "toc_cell": false,
   "toc_position": {},
   "toc_section_display": true,
   "toc_window_display": false
  }
 },
 "nbformat": 4,
 "nbformat_minor": 4
}
